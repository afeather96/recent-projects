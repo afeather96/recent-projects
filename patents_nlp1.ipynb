{
 "cells": [
  {
   "cell_type": "code",
   "execution_count": 1,
   "id": "3cde37b3-8c1d-4310-9750-54a1a232676e",
   "metadata": {},
   "outputs": [],
   "source": [
    "import pandas as pd\n",
    "import numpy as np\n",
    "import matplotlib.pyplot as plt\n",
    "import seaborn as sns\n",
    "import os"
   ]
  },
  {
   "cell_type": "code",
   "execution_count": 2,
   "id": "654d08f2-ba6f-4ef8-9576-c7c41e9ce09a",
   "metadata": {},
   "outputs": [
    {
     "data": {
      "text/plain": [
       "['test.csv', 'train.csv', 'sample_submission.csv']"
      ]
     },
     "execution_count": 2,
     "metadata": {},
     "output_type": "execute_result"
    }
   ],
   "source": [
    "os.listdir('/Users/alecclarkfeather/Downloads/patents_kaggle/')"
   ]
  },
  {
   "cell_type": "code",
   "execution_count": 3,
   "id": "d28d989d-4bef-40f8-ab9a-e5284c88c69f",
   "metadata": {},
   "outputs": [
    {
     "data": {
      "text/html": [
       "<div>\n",
       "<style scoped>\n",
       "    .dataframe tbody tr th:only-of-type {\n",
       "        vertical-align: middle;\n",
       "    }\n",
       "\n",
       "    .dataframe tbody tr th {\n",
       "        vertical-align: top;\n",
       "    }\n",
       "\n",
       "    .dataframe thead th {\n",
       "        text-align: right;\n",
       "    }\n",
       "</style>\n",
       "<table border=\"1\" class=\"dataframe\">\n",
       "  <thead>\n",
       "    <tr style=\"text-align: right;\">\n",
       "      <th></th>\n",
       "      <th>id</th>\n",
       "      <th>anchor</th>\n",
       "      <th>target</th>\n",
       "      <th>context</th>\n",
       "      <th>score</th>\n",
       "    </tr>\n",
       "  </thead>\n",
       "  <tbody>\n",
       "    <tr>\n",
       "      <th>0</th>\n",
       "      <td>37d61fd2272659b1</td>\n",
       "      <td>abatement</td>\n",
       "      <td>abatement of pollution</td>\n",
       "      <td>A47</td>\n",
       "      <td>0.50</td>\n",
       "    </tr>\n",
       "    <tr>\n",
       "      <th>1</th>\n",
       "      <td>7b9652b17b68b7a4</td>\n",
       "      <td>abatement</td>\n",
       "      <td>act of abating</td>\n",
       "      <td>A47</td>\n",
       "      <td>0.75</td>\n",
       "    </tr>\n",
       "    <tr>\n",
       "      <th>2</th>\n",
       "      <td>36d72442aefd8232</td>\n",
       "      <td>abatement</td>\n",
       "      <td>active catalyst</td>\n",
       "      <td>A47</td>\n",
       "      <td>0.25</td>\n",
       "    </tr>\n",
       "    <tr>\n",
       "      <th>3</th>\n",
       "      <td>5296b0c19e1ce60e</td>\n",
       "      <td>abatement</td>\n",
       "      <td>eliminating process</td>\n",
       "      <td>A47</td>\n",
       "      <td>0.50</td>\n",
       "    </tr>\n",
       "    <tr>\n",
       "      <th>4</th>\n",
       "      <td>54c1e3b9184cb5b6</td>\n",
       "      <td>abatement</td>\n",
       "      <td>forest region</td>\n",
       "      <td>A47</td>\n",
       "      <td>0.00</td>\n",
       "    </tr>\n",
       "    <tr>\n",
       "      <th>5</th>\n",
       "      <td>067203128142739c</td>\n",
       "      <td>abatement</td>\n",
       "      <td>greenhouse gases</td>\n",
       "      <td>A47</td>\n",
       "      <td>0.25</td>\n",
       "    </tr>\n",
       "    <tr>\n",
       "      <th>6</th>\n",
       "      <td>061d17f04be2d1cf</td>\n",
       "      <td>abatement</td>\n",
       "      <td>increased rate</td>\n",
       "      <td>A47</td>\n",
       "      <td>0.25</td>\n",
       "    </tr>\n",
       "    <tr>\n",
       "      <th>7</th>\n",
       "      <td>e1f44e48399a2027</td>\n",
       "      <td>abatement</td>\n",
       "      <td>measurement level</td>\n",
       "      <td>A47</td>\n",
       "      <td>0.25</td>\n",
       "    </tr>\n",
       "    <tr>\n",
       "      <th>8</th>\n",
       "      <td>0a425937a3e86d10</td>\n",
       "      <td>abatement</td>\n",
       "      <td>minimising sounds</td>\n",
       "      <td>A47</td>\n",
       "      <td>0.50</td>\n",
       "    </tr>\n",
       "    <tr>\n",
       "      <th>9</th>\n",
       "      <td>ef2d4c2e6bbb208d</td>\n",
       "      <td>abatement</td>\n",
       "      <td>mixing core materials</td>\n",
       "      <td>A47</td>\n",
       "      <td>0.25</td>\n",
       "    </tr>\n",
       "    <tr>\n",
       "      <th>10</th>\n",
       "      <td>4c3f2750e7540ab7</td>\n",
       "      <td>abatement</td>\n",
       "      <td>multi pollution abatement device</td>\n",
       "      <td>A47</td>\n",
       "      <td>0.50</td>\n",
       "    </tr>\n",
       "    <tr>\n",
       "      <th>11</th>\n",
       "      <td>84261a11e5d1b68b</td>\n",
       "      <td>abatement</td>\n",
       "      <td>noise reduction</td>\n",
       "      <td>A47</td>\n",
       "      <td>0.50</td>\n",
       "    </tr>\n",
       "    <tr>\n",
       "      <th>12</th>\n",
       "      <td>bfd7270f57530991</td>\n",
       "      <td>abatement</td>\n",
       "      <td>pollution abatement</td>\n",
       "      <td>A47</td>\n",
       "      <td>0.50</td>\n",
       "    </tr>\n",
       "    <tr>\n",
       "      <th>13</th>\n",
       "      <td>b3832eac81b73dfd</td>\n",
       "      <td>abatement</td>\n",
       "      <td>pollution abatement incinerator</td>\n",
       "      <td>A47</td>\n",
       "      <td>0.50</td>\n",
       "    </tr>\n",
       "    <tr>\n",
       "      <th>14</th>\n",
       "      <td>9001756895ec8ca1</td>\n",
       "      <td>abatement</td>\n",
       "      <td>pollution certificate</td>\n",
       "      <td>A47</td>\n",
       "      <td>0.00</td>\n",
       "    </tr>\n",
       "  </tbody>\n",
       "</table>\n",
       "</div>"
      ],
      "text/plain": [
       "                  id     anchor                            target context  \\\n",
       "0   37d61fd2272659b1  abatement            abatement of pollution     A47   \n",
       "1   7b9652b17b68b7a4  abatement                    act of abating     A47   \n",
       "2   36d72442aefd8232  abatement                   active catalyst     A47   \n",
       "3   5296b0c19e1ce60e  abatement               eliminating process     A47   \n",
       "4   54c1e3b9184cb5b6  abatement                     forest region     A47   \n",
       "5   067203128142739c  abatement                  greenhouse gases     A47   \n",
       "6   061d17f04be2d1cf  abatement                    increased rate     A47   \n",
       "7   e1f44e48399a2027  abatement                 measurement level     A47   \n",
       "8   0a425937a3e86d10  abatement                 minimising sounds     A47   \n",
       "9   ef2d4c2e6bbb208d  abatement             mixing core materials     A47   \n",
       "10  4c3f2750e7540ab7  abatement  multi pollution abatement device     A47   \n",
       "11  84261a11e5d1b68b  abatement                   noise reduction     A47   \n",
       "12  bfd7270f57530991  abatement               pollution abatement     A47   \n",
       "13  b3832eac81b73dfd  abatement   pollution abatement incinerator     A47   \n",
       "14  9001756895ec8ca1  abatement             pollution certificate     A47   \n",
       "\n",
       "    score  \n",
       "0    0.50  \n",
       "1    0.75  \n",
       "2    0.25  \n",
       "3    0.50  \n",
       "4    0.00  \n",
       "5    0.25  \n",
       "6    0.25  \n",
       "7    0.25  \n",
       "8    0.50  \n",
       "9    0.25  \n",
       "10   0.50  \n",
       "11   0.50  \n",
       "12   0.50  \n",
       "13   0.50  \n",
       "14   0.00  "
      ]
     },
     "execution_count": 3,
     "metadata": {},
     "output_type": "execute_result"
    }
   ],
   "source": [
    "train_df = pd.read_csv('/Users/alecclarkfeather/Downloads/patents_kaggle/train.csv')\n",
    "train_df.head(15)"
   ]
  },
  {
   "cell_type": "code",
   "execution_count": 4,
   "id": "4ebf8fb0-fd31-4665-a864-e402345eb814",
   "metadata": {},
   "outputs": [
    {
     "data": {
      "text/html": [
       "<div>\n",
       "<style scoped>\n",
       "    .dataframe tbody tr th:only-of-type {\n",
       "        vertical-align: middle;\n",
       "    }\n",
       "\n",
       "    .dataframe tbody tr th {\n",
       "        vertical-align: top;\n",
       "    }\n",
       "\n",
       "    .dataframe thead th {\n",
       "        text-align: right;\n",
       "    }\n",
       "</style>\n",
       "<table border=\"1\" class=\"dataframe\">\n",
       "  <thead>\n",
       "    <tr style=\"text-align: right;\">\n",
       "      <th></th>\n",
       "      <th>id</th>\n",
       "      <th>anchor</th>\n",
       "      <th>target</th>\n",
       "      <th>context</th>\n",
       "    </tr>\n",
       "  </thead>\n",
       "  <tbody>\n",
       "    <tr>\n",
       "      <th>0</th>\n",
       "      <td>4112d61851461f60</td>\n",
       "      <td>opc drum</td>\n",
       "      <td>inorganic photoconductor drum</td>\n",
       "      <td>G02</td>\n",
       "    </tr>\n",
       "    <tr>\n",
       "      <th>1</th>\n",
       "      <td>09e418c93a776564</td>\n",
       "      <td>adjust gas flow</td>\n",
       "      <td>altering gas flow</td>\n",
       "      <td>F23</td>\n",
       "    </tr>\n",
       "    <tr>\n",
       "      <th>2</th>\n",
       "      <td>36baf228038e314b</td>\n",
       "      <td>lower trunnion</td>\n",
       "      <td>lower locating</td>\n",
       "      <td>B60</td>\n",
       "    </tr>\n",
       "    <tr>\n",
       "      <th>3</th>\n",
       "      <td>1f37ead645e7f0c8</td>\n",
       "      <td>cap component</td>\n",
       "      <td>upper portion</td>\n",
       "      <td>D06</td>\n",
       "    </tr>\n",
       "    <tr>\n",
       "      <th>4</th>\n",
       "      <td>71a5b6ad068d531f</td>\n",
       "      <td>neural stimulation</td>\n",
       "      <td>artificial neural network</td>\n",
       "      <td>H04</td>\n",
       "    </tr>\n",
       "    <tr>\n",
       "      <th>5</th>\n",
       "      <td>474c874d0c07bd21</td>\n",
       "      <td>dry corn</td>\n",
       "      <td>dry corn starch</td>\n",
       "      <td>C12</td>\n",
       "    </tr>\n",
       "    <tr>\n",
       "      <th>6</th>\n",
       "      <td>442c114ed5c4e3c9</td>\n",
       "      <td>tunneling capacitor</td>\n",
       "      <td>capacitor housing</td>\n",
       "      <td>G11</td>\n",
       "    </tr>\n",
       "    <tr>\n",
       "      <th>7</th>\n",
       "      <td>b8ae62ea5e1d8bdb</td>\n",
       "      <td>angular contact bearing</td>\n",
       "      <td>contact therapy radiation</td>\n",
       "      <td>B23</td>\n",
       "    </tr>\n",
       "    <tr>\n",
       "      <th>8</th>\n",
       "      <td>faaddaf8fcba8a3f</td>\n",
       "      <td>produce liquid hydrocarbons</td>\n",
       "      <td>produce a treated stream</td>\n",
       "      <td>C10</td>\n",
       "    </tr>\n",
       "    <tr>\n",
       "      <th>9</th>\n",
       "      <td>ae0262c02566d2ce</td>\n",
       "      <td>diesel fuel tank</td>\n",
       "      <td>diesel fuel tanks</td>\n",
       "      <td>F02</td>\n",
       "    </tr>\n",
       "    <tr>\n",
       "      <th>10</th>\n",
       "      <td>a8808e31641e856d</td>\n",
       "      <td>chemical activity</td>\n",
       "      <td>dielectric characteristics</td>\n",
       "      <td>B01</td>\n",
       "    </tr>\n",
       "    <tr>\n",
       "      <th>11</th>\n",
       "      <td>16ae4b99d3601e60</td>\n",
       "      <td>transmit to platform</td>\n",
       "      <td>direct receiving</td>\n",
       "      <td>H04</td>\n",
       "    </tr>\n",
       "    <tr>\n",
       "      <th>12</th>\n",
       "      <td>25c555ca3d5a2092</td>\n",
       "      <td>oil tankers</td>\n",
       "      <td>oil carriers</td>\n",
       "      <td>B63</td>\n",
       "    </tr>\n",
       "    <tr>\n",
       "      <th>13</th>\n",
       "      <td>5203a36c501f1b7c</td>\n",
       "      <td>generate in layer</td>\n",
       "      <td>generate by layer</td>\n",
       "      <td>G02</td>\n",
       "    </tr>\n",
       "    <tr>\n",
       "      <th>14</th>\n",
       "      <td>b9fdc772bb8fd61c</td>\n",
       "      <td>slip segment</td>\n",
       "      <td>slip portion</td>\n",
       "      <td>B22</td>\n",
       "    </tr>\n",
       "  </tbody>\n",
       "</table>\n",
       "</div>"
      ],
      "text/plain": [
       "                  id                       anchor  \\\n",
       "0   4112d61851461f60                     opc drum   \n",
       "1   09e418c93a776564              adjust gas flow   \n",
       "2   36baf228038e314b               lower trunnion   \n",
       "3   1f37ead645e7f0c8                cap component   \n",
       "4   71a5b6ad068d531f           neural stimulation   \n",
       "5   474c874d0c07bd21                     dry corn   \n",
       "6   442c114ed5c4e3c9          tunneling capacitor   \n",
       "7   b8ae62ea5e1d8bdb      angular contact bearing   \n",
       "8   faaddaf8fcba8a3f  produce liquid hydrocarbons   \n",
       "9   ae0262c02566d2ce             diesel fuel tank   \n",
       "10  a8808e31641e856d            chemical activity   \n",
       "11  16ae4b99d3601e60         transmit to platform   \n",
       "12  25c555ca3d5a2092                  oil tankers   \n",
       "13  5203a36c501f1b7c            generate in layer   \n",
       "14  b9fdc772bb8fd61c                 slip segment   \n",
       "\n",
       "                           target context  \n",
       "0   inorganic photoconductor drum     G02  \n",
       "1               altering gas flow     F23  \n",
       "2                  lower locating     B60  \n",
       "3                   upper portion     D06  \n",
       "4       artificial neural network     H04  \n",
       "5                 dry corn starch     C12  \n",
       "6               capacitor housing     G11  \n",
       "7       contact therapy radiation     B23  \n",
       "8        produce a treated stream     C10  \n",
       "9               diesel fuel tanks     F02  \n",
       "10     dielectric characteristics     B01  \n",
       "11               direct receiving     H04  \n",
       "12                   oil carriers     B63  \n",
       "13              generate by layer     G02  \n",
       "14                   slip portion     B22  "
      ]
     },
     "execution_count": 4,
     "metadata": {},
     "output_type": "execute_result"
    }
   ],
   "source": [
    "test_df = pd.read_csv('/Users/alecclarkfeather/Downloads/patents_kaggle/test.csv')\n",
    "test_df.head(15)"
   ]
  },
  {
   "cell_type": "code",
   "execution_count": 5,
   "id": "6171f03b-8ac3-4d5c-bea4-44c597033318",
   "metadata": {},
   "outputs": [
    {
     "data": {
      "text/plain": [
       "(36473, 5)"
      ]
     },
     "execution_count": 5,
     "metadata": {},
     "output_type": "execute_result"
    }
   ],
   "source": [
    "train_df.shape"
   ]
  },
  {
   "cell_type": "code",
   "execution_count": 6,
   "id": "88f33bdb-1cd8-4bba-8b7d-a27d84336fe8",
   "metadata": {},
   "outputs": [
    {
     "data": {
      "text/plain": [
       "(36, 4)"
      ]
     },
     "execution_count": 6,
     "metadata": {},
     "output_type": "execute_result"
    }
   ],
   "source": [
    "test_df.shape"
   ]
  },
  {
   "cell_type": "code",
   "execution_count": 8,
   "id": "d70c3e88-2214-4449-88e8-01e6f86b4e71",
   "metadata": {},
   "outputs": [
    {
     "name": "stdout",
     "output_type": "stream",
     "text": [
      "<class 'pandas.core.frame.DataFrame'>\n",
      "RangeIndex: 36473 entries, 0 to 36472\n",
      "Data columns (total 5 columns):\n",
      " #   Column   Non-Null Count  Dtype  \n",
      "---  ------   --------------  -----  \n",
      " 0   id       36473 non-null  object \n",
      " 1   anchor   36473 non-null  object \n",
      " 2   target   36473 non-null  object \n",
      " 3   context  36473 non-null  object \n",
      " 4   score    36473 non-null  float64\n",
      "dtypes: float64(1), object(4)\n",
      "memory usage: 1.4+ MB\n"
     ]
    }
   ],
   "source": [
    "train_df.info()"
   ]
  },
  {
   "cell_type": "code",
   "execution_count": 9,
   "id": "aa11643e-c33b-478d-ac9b-b58ae15d0fea",
   "metadata": {},
   "outputs": [
    {
     "data": {
      "text/plain": [
       "733"
      ]
     },
     "execution_count": 9,
     "metadata": {},
     "output_type": "execute_result"
    }
   ],
   "source": [
    "train_df['anchor'].nunique()"
   ]
  },
  {
   "cell_type": "code",
   "execution_count": 10,
   "id": "bc8e8558-a8ce-4d0b-aa58-4a0c3e13e1da",
   "metadata": {},
   "outputs": [
    {
     "data": {
      "text/plain": [
       "106"
      ]
     },
     "execution_count": 10,
     "metadata": {},
     "output_type": "execute_result"
    }
   ],
   "source": [
    "train_df['context'].nunique()"
   ]
  },
  {
   "cell_type": "code",
   "execution_count": 11,
   "id": "7dd8a3cb-6135-4bcd-bdf2-d59f0a867388",
   "metadata": {},
   "outputs": [
    {
     "data": {
      "text/plain": [
       "5"
      ]
     },
     "execution_count": 11,
     "metadata": {},
     "output_type": "execute_result"
    }
   ],
   "source": [
    "train_df['score'].nunique()"
   ]
  },
  {
   "cell_type": "code",
   "execution_count": 12,
   "id": "81621dec-b310-41f2-8931-14a877b362cd",
   "metadata": {},
   "outputs": [
    {
     "data": {
      "image/png": "[encoded data removed]",
      "text/plain": [
       "<Figure size 432x288 with 1 Axes>"
      ]
     },
     "metadata": {
      "needs_background": "light"
     },
     "output_type": "display_data"
    }
   ],
   "source": [
    "train_df['score'].value_counts().plot(kind='bar')\n",
    "plt.show()"
   ]
  },
  {
   "cell_type": "code",
   "execution_count": 5,
   "id": "c31b8911-e04c-46eb-ac8f-6075f163785b",
   "metadata": {},
   "outputs": [
    {
     "data": {
      "text/html": [
       "<div>\n",
       "<style scoped>\n",
       "    .dataframe tbody tr th:only-of-type {\n",
       "        vertical-align: middle;\n",
       "    }\n",
       "\n",
       "    .dataframe tbody tr th {\n",
       "        vertical-align: top;\n",
       "    }\n",
       "\n",
       "    .dataframe thead th {\n",
       "        text-align: right;\n",
       "    }\n",
       "</style>\n",
       "<table border=\"1\" class=\"dataframe\">\n",
       "  <thead>\n",
       "    <tr style=\"text-align: right;\">\n",
       "      <th></th>\n",
       "      <th>id</th>\n",
       "      <th>anchor</th>\n",
       "      <th>target</th>\n",
       "      <th>context</th>\n",
       "      <th>score</th>\n",
       "      <th>anchor_len</th>\n",
       "    </tr>\n",
       "  </thead>\n",
       "  <tbody>\n",
       "    <tr>\n",
       "      <th>0</th>\n",
       "      <td>37d61fd2272659b1</td>\n",
       "      <td>abatement</td>\n",
       "      <td>abatement of pollution</td>\n",
       "      <td>A47</td>\n",
       "      <td>0.50</td>\n",
       "      <td>1</td>\n",
       "    </tr>\n",
       "    <tr>\n",
       "      <th>1</th>\n",
       "      <td>7b9652b17b68b7a4</td>\n",
       "      <td>abatement</td>\n",
       "      <td>act of abating</td>\n",
       "      <td>A47</td>\n",
       "      <td>0.75</td>\n",
       "      <td>1</td>\n",
       "    </tr>\n",
       "    <tr>\n",
       "      <th>2</th>\n",
       "      <td>36d72442aefd8232</td>\n",
       "      <td>abatement</td>\n",
       "      <td>active catalyst</td>\n",
       "      <td>A47</td>\n",
       "      <td>0.25</td>\n",
       "      <td>1</td>\n",
       "    </tr>\n",
       "    <tr>\n",
       "      <th>3</th>\n",
       "      <td>5296b0c19e1ce60e</td>\n",
       "      <td>abatement</td>\n",
       "      <td>eliminating process</td>\n",
       "      <td>A47</td>\n",
       "      <td>0.50</td>\n",
       "      <td>1</td>\n",
       "    </tr>\n",
       "    <tr>\n",
       "      <th>4</th>\n",
       "      <td>54c1e3b9184cb5b6</td>\n",
       "      <td>abatement</td>\n",
       "      <td>forest region</td>\n",
       "      <td>A47</td>\n",
       "      <td>0.00</td>\n",
       "      <td>1</td>\n",
       "    </tr>\n",
       "    <tr>\n",
       "      <th>...</th>\n",
       "      <td>...</td>\n",
       "      <td>...</td>\n",
       "      <td>...</td>\n",
       "      <td>...</td>\n",
       "      <td>...</td>\n",
       "      <td>...</td>\n",
       "    </tr>\n",
       "    <tr>\n",
       "      <th>36468</th>\n",
       "      <td>8e1386cbefd7f245</td>\n",
       "      <td>wood article</td>\n",
       "      <td>wooden article</td>\n",
       "      <td>B44</td>\n",
       "      <td>1.00</td>\n",
       "      <td>2</td>\n",
       "    </tr>\n",
       "    <tr>\n",
       "      <th>36469</th>\n",
       "      <td>42d9e032d1cd3242</td>\n",
       "      <td>wood article</td>\n",
       "      <td>wooden box</td>\n",
       "      <td>B44</td>\n",
       "      <td>0.50</td>\n",
       "      <td>2</td>\n",
       "    </tr>\n",
       "    <tr>\n",
       "      <th>36470</th>\n",
       "      <td>208654ccb9e14fa3</td>\n",
       "      <td>wood article</td>\n",
       "      <td>wooden handle</td>\n",
       "      <td>B44</td>\n",
       "      <td>0.50</td>\n",
       "      <td>2</td>\n",
       "    </tr>\n",
       "    <tr>\n",
       "      <th>36471</th>\n",
       "      <td>756ec035e694722b</td>\n",
       "      <td>wood article</td>\n",
       "      <td>wooden material</td>\n",
       "      <td>B44</td>\n",
       "      <td>0.75</td>\n",
       "      <td>2</td>\n",
       "    </tr>\n",
       "    <tr>\n",
       "      <th>36472</th>\n",
       "      <td>8d135da0b55b8c88</td>\n",
       "      <td>wood article</td>\n",
       "      <td>wooden substrate</td>\n",
       "      <td>B44</td>\n",
       "      <td>0.50</td>\n",
       "      <td>2</td>\n",
       "    </tr>\n",
       "  </tbody>\n",
       "</table>\n",
       "<p>36473 rows × 6 columns</p>\n",
       "</div>"
      ],
      "text/plain": [
       "                     id        anchor                  target context  score  \\\n",
       "0      37d61fd2272659b1     abatement  abatement of pollution     A47   0.50   \n",
       "1      7b9652b17b68b7a4     abatement          act of abating     A47   0.75   \n",
       "2      36d72442aefd8232     abatement         active catalyst     A47   0.25   \n",
       "3      5296b0c19e1ce60e     abatement     eliminating process     A47   0.50   \n",
       "4      54c1e3b9184cb5b6     abatement           forest region     A47   0.00   \n",
       "...                 ...           ...                     ...     ...    ...   \n",
       "36468  8e1386cbefd7f245  wood article          wooden article     B44   1.00   \n",
       "36469  42d9e032d1cd3242  wood article              wooden box     B44   0.50   \n",
       "36470  208654ccb9e14fa3  wood article           wooden handle     B44   0.50   \n",
       "36471  756ec035e694722b  wood article         wooden material     B44   0.75   \n",
       "36472  8d135da0b55b8c88  wood article        wooden substrate     B44   0.50   \n",
       "\n",
       "       anchor_len  \n",
       "0               1  \n",
       "1               1  \n",
       "2               1  \n",
       "3               1  \n",
       "4               1  \n",
       "...           ...  \n",
       "36468           2  \n",
       "36469           2  \n",
       "36470           2  \n",
       "36471           2  \n",
       "36472           2  \n",
       "\n",
       "[36473 rows x 6 columns]"
      ]
     },
     "execution_count": 5,
     "metadata": {},
     "output_type": "execute_result"
    }
   ],
   "source": [
    "train_df['anchor_len'] = train_df['anchor'].str.split().apply(len)\n",
    "train_df"
   ]
  },
  {
   "cell_type": "code",
   "execution_count": 6,
   "id": "33f7b9c2-855d-4dc2-9ac6-534febb95ac3",
   "metadata": {},
   "outputs": [
    {
     "data": {
      "text/html": [
       "<div>\n",
       "<style scoped>\n",
       "    .dataframe tbody tr th:only-of-type {\n",
       "        vertical-align: middle;\n",
       "    }\n",
       "\n",
       "    .dataframe tbody tr th {\n",
       "        vertical-align: top;\n",
       "    }\n",
       "\n",
       "    .dataframe thead th {\n",
       "        text-align: right;\n",
       "    }\n",
       "</style>\n",
       "<table border=\"1\" class=\"dataframe\">\n",
       "  <thead>\n",
       "    <tr style=\"text-align: right;\">\n",
       "      <th></th>\n",
       "      <th>id</th>\n",
       "      <th>anchor</th>\n",
       "      <th>target</th>\n",
       "      <th>context</th>\n",
       "      <th>score</th>\n",
       "      <th>anchor_len</th>\n",
       "      <th>target_len</th>\n",
       "    </tr>\n",
       "  </thead>\n",
       "  <tbody>\n",
       "    <tr>\n",
       "      <th>0</th>\n",
       "      <td>37d61fd2272659b1</td>\n",
       "      <td>abatement</td>\n",
       "      <td>abatement of pollution</td>\n",
       "      <td>A47</td>\n",
       "      <td>0.50</td>\n",
       "      <td>1</td>\n",
       "      <td>3</td>\n",
       "    </tr>\n",
       "    <tr>\n",
       "      <th>1</th>\n",
       "      <td>7b9652b17b68b7a4</td>\n",
       "      <td>abatement</td>\n",
       "      <td>act of abating</td>\n",
       "      <td>A47</td>\n",
       "      <td>0.75</td>\n",
       "      <td>1</td>\n",
       "      <td>3</td>\n",
       "    </tr>\n",
       "    <tr>\n",
       "      <th>2</th>\n",
       "      <td>36d72442aefd8232</td>\n",
       "      <td>abatement</td>\n",
       "      <td>active catalyst</td>\n",
       "      <td>A47</td>\n",
       "      <td>0.25</td>\n",
       "      <td>1</td>\n",
       "      <td>2</td>\n",
       "    </tr>\n",
       "    <tr>\n",
       "      <th>3</th>\n",
       "      <td>5296b0c19e1ce60e</td>\n",
       "      <td>abatement</td>\n",
       "      <td>eliminating process</td>\n",
       "      <td>A47</td>\n",
       "      <td>0.50</td>\n",
       "      <td>1</td>\n",
       "      <td>2</td>\n",
       "    </tr>\n",
       "    <tr>\n",
       "      <th>4</th>\n",
       "      <td>54c1e3b9184cb5b6</td>\n",
       "      <td>abatement</td>\n",
       "      <td>forest region</td>\n",
       "      <td>A47</td>\n",
       "      <td>0.00</td>\n",
       "      <td>1</td>\n",
       "      <td>2</td>\n",
       "    </tr>\n",
       "    <tr>\n",
       "      <th>...</th>\n",
       "      <td>...</td>\n",
       "      <td>...</td>\n",
       "      <td>...</td>\n",
       "      <td>...</td>\n",
       "      <td>...</td>\n",
       "      <td>...</td>\n",
       "      <td>...</td>\n",
       "    </tr>\n",
       "    <tr>\n",
       "      <th>36468</th>\n",
       "      <td>8e1386cbefd7f245</td>\n",
       "      <td>wood article</td>\n",
       "      <td>wooden article</td>\n",
       "      <td>B44</td>\n",
       "      <td>1.00</td>\n",
       "      <td>2</td>\n",
       "      <td>2</td>\n",
       "    </tr>\n",
       "    <tr>\n",
       "      <th>36469</th>\n",
       "      <td>42d9e032d1cd3242</td>\n",
       "      <td>wood article</td>\n",
       "      <td>wooden box</td>\n",
       "      <td>B44</td>\n",
       "      <td>0.50</td>\n",
       "      <td>2</td>\n",
       "      <td>2</td>\n",
       "    </tr>\n",
       "    <tr>\n",
       "      <th>36470</th>\n",
       "      <td>208654ccb9e14fa3</td>\n",
       "      <td>wood article</td>\n",
       "      <td>wooden handle</td>\n",
       "      <td>B44</td>\n",
       "      <td>0.50</td>\n",
       "      <td>2</td>\n",
       "      <td>2</td>\n",
       "    </tr>\n",
       "    <tr>\n",
       "      <th>36471</th>\n",
       "      <td>756ec035e694722b</td>\n",
       "      <td>wood article</td>\n",
       "      <td>wooden material</td>\n",
       "      <td>B44</td>\n",
       "      <td>0.75</td>\n",
       "      <td>2</td>\n",
       "      <td>2</td>\n",
       "    </tr>\n",
       "    <tr>\n",
       "      <th>36472</th>\n",
       "      <td>8d135da0b55b8c88</td>\n",
       "      <td>wood article</td>\n",
       "      <td>wooden substrate</td>\n",
       "      <td>B44</td>\n",
       "      <td>0.50</td>\n",
       "      <td>2</td>\n",
       "      <td>2</td>\n",
       "    </tr>\n",
       "  </tbody>\n",
       "</table>\n",
       "<p>36473 rows × 7 columns</p>\n",
       "</div>"
      ],
      "text/plain": [
       "                     id        anchor                  target context  score  \\\n",
       "0      37d61fd2272659b1     abatement  abatement of pollution     A47   0.50   \n",
       "1      7b9652b17b68b7a4     abatement          act of abating     A47   0.75   \n",
       "2      36d72442aefd8232     abatement         active catalyst     A47   0.25   \n",
       "3      5296b0c19e1ce60e     abatement     eliminating process     A47   0.50   \n",
       "4      54c1e3b9184cb5b6     abatement           forest region     A47   0.00   \n",
       "...                 ...           ...                     ...     ...    ...   \n",
       "36468  8e1386cbefd7f245  wood article          wooden article     B44   1.00   \n",
       "36469  42d9e032d1cd3242  wood article              wooden box     B44   0.50   \n",
       "36470  208654ccb9e14fa3  wood article           wooden handle     B44   0.50   \n",
       "36471  756ec035e694722b  wood article         wooden material     B44   0.75   \n",
       "36472  8d135da0b55b8c88  wood article        wooden substrate     B44   0.50   \n",
       "\n",
       "       anchor_len  target_len  \n",
       "0               1           3  \n",
       "1               1           3  \n",
       "2               1           2  \n",
       "3               1           2  \n",
       "4               1           2  \n",
       "...           ...         ...  \n",
       "36468           2           2  \n",
       "36469           2           2  \n",
       "36470           2           2  \n",
       "36471           2           2  \n",
       "36472           2           2  \n",
       "\n",
       "[36473 rows x 7 columns]"
      ]
     },
     "execution_count": 6,
     "metadata": {},
     "output_type": "execute_result"
    }
   ],
   "source": [
    "train_df['target_len'] = train_df['target'].str.split().apply(len)\n",
    "train_df"
   ]
  },
  {
   "cell_type": "code",
   "execution_count": 15,
   "id": "200f4c57-7dcc-4487-a447-241c2844e9c6",
   "metadata": {},
   "outputs": [
    {
     "data": {
      "text/plain": [
       "count    36473.000000\n",
       "mean         2.177885\n",
       "std          0.641176\n",
       "min          1.000000\n",
       "25%          2.000000\n",
       "50%          2.000000\n",
       "75%          2.000000\n",
       "max          5.000000\n",
       "Name: anchor_len, dtype: float64"
      ]
     },
     "execution_count": 15,
     "metadata": {},
     "output_type": "execute_result"
    }
   ],
   "source": [
    "train_df['anchor_len'].describe()"
   ]
  },
  {
   "cell_type": "code",
   "execution_count": 16,
   "id": "c547e2d2-d54d-4287-aec7-f1f677945989",
   "metadata": {},
   "outputs": [
    {
     "data": {
      "text/plain": [
       "count    36473.000000\n",
       "mean         2.171195\n",
       "std          0.849613\n",
       "min          1.000000\n",
       "25%          2.000000\n",
       "50%          2.000000\n",
       "75%          3.000000\n",
       "max         15.000000\n",
       "Name: target_len, dtype: float64"
      ]
     },
     "execution_count": 16,
     "metadata": {},
     "output_type": "execute_result"
    }
   ],
   "source": [
    "train_df['target_len'].describe()"
   ]
  },
  {
   "cell_type": "code",
   "execution_count": 9,
   "id": "f5c54631-502c-4538-9108-f56878546545",
   "metadata": {},
   "outputs": [],
   "source": [
    "from sentence_transformers import SentenceTransformer\n",
    "from sklearn.metrics.pairwise import cosine_similarity\n",
    "from transformers import AutoTokenizer, AutoModel\n",
    "import torch"
   ]
  },
  {
   "cell_type": "code",
   "execution_count": 8,
   "id": "1112fb41-a64f-4793-838c-12d6efed69fc",
   "metadata": {},
   "outputs": [],
   "source": [
    "tokenizer = AutoTokenizer.from_pretrained('sentence-transformers/bert-base-nli-mean-tokens')\n",
    "model = AutoModel.from_pretrained('sentence-transformers/bert-base-nli-mean-tokens')"
   ]
  },
  {
   "cell_type": "code",
   "execution_count": 19,
   "id": "e2ccc457-dd5c-43ad-a414-5a8270b4e6d7",
   "metadata": {},
   "outputs": [
    {
     "data": {
      "text/html": [
       "<div>\n",
       "<style scoped>\n",
       "    .dataframe tbody tr th:only-of-type {\n",
       "        vertical-align: middle;\n",
       "    }\n",
       "\n",
       "    .dataframe tbody tr th {\n",
       "        vertical-align: top;\n",
       "    }\n",
       "\n",
       "    .dataframe thead th {\n",
       "        text-align: right;\n",
       "    }\n",
       "</style>\n",
       "<table border=\"1\" class=\"dataframe\">\n",
       "  <thead>\n",
       "    <tr style=\"text-align: right;\">\n",
       "      <th></th>\n",
       "      <th>anchor</th>\n",
       "      <th>target</th>\n",
       "    </tr>\n",
       "  </thead>\n",
       "  <tbody>\n",
       "    <tr>\n",
       "      <th>0</th>\n",
       "      <td>abatement</td>\n",
       "      <td>abatement of pollution</td>\n",
       "    </tr>\n",
       "    <tr>\n",
       "      <th>1</th>\n",
       "      <td>abatement</td>\n",
       "      <td>act of abating</td>\n",
       "    </tr>\n",
       "    <tr>\n",
       "      <th>2</th>\n",
       "      <td>abatement</td>\n",
       "      <td>active catalyst</td>\n",
       "    </tr>\n",
       "    <tr>\n",
       "      <th>3</th>\n",
       "      <td>abatement</td>\n",
       "      <td>eliminating process</td>\n",
       "    </tr>\n",
       "    <tr>\n",
       "      <th>4</th>\n",
       "      <td>abatement</td>\n",
       "      <td>forest region</td>\n",
       "    </tr>\n",
       "    <tr>\n",
       "      <th>...</th>\n",
       "      <td>...</td>\n",
       "      <td>...</td>\n",
       "    </tr>\n",
       "    <tr>\n",
       "      <th>36468</th>\n",
       "      <td>wood article</td>\n",
       "      <td>wooden article</td>\n",
       "    </tr>\n",
       "    <tr>\n",
       "      <th>36469</th>\n",
       "      <td>wood article</td>\n",
       "      <td>wooden box</td>\n",
       "    </tr>\n",
       "    <tr>\n",
       "      <th>36470</th>\n",
       "      <td>wood article</td>\n",
       "      <td>wooden handle</td>\n",
       "    </tr>\n",
       "    <tr>\n",
       "      <th>36471</th>\n",
       "      <td>wood article</td>\n",
       "      <td>wooden material</td>\n",
       "    </tr>\n",
       "    <tr>\n",
       "      <th>36472</th>\n",
       "      <td>wood article</td>\n",
       "      <td>wooden substrate</td>\n",
       "    </tr>\n",
       "  </tbody>\n",
       "</table>\n",
       "<p>36473 rows × 2 columns</p>\n",
       "</div>"
      ],
      "text/plain": [
       "             anchor                  target\n",
       "0         abatement  abatement of pollution\n",
       "1         abatement          act of abating\n",
       "2         abatement         active catalyst\n",
       "3         abatement     eliminating process\n",
       "4         abatement           forest region\n",
       "...             ...                     ...\n",
       "36468  wood article          wooden article\n",
       "36469  wood article              wooden box\n",
       "36470  wood article           wooden handle\n",
       "36471  wood article         wooden material\n",
       "36472  wood article        wooden substrate\n",
       "\n",
       "[36473 rows x 2 columns]"
      ]
     },
     "execution_count": 19,
     "metadata": {},
     "output_type": "execute_result"
    }
   ],
   "source": [
    "train_sentence_pairings = train_df[['anchor', 'target']]\n",
    "train_sentence_pairings"
   ]
  },
  {
   "cell_type": "code",
   "execution_count": 20,
   "id": "b7e28631-690b-4ac1-b371-b4cda69129e6",
   "metadata": {},
   "outputs": [],
   "source": [
    "sample_anchor = train_sentence_pairings.loc[0, 'anchor']\n",
    "sample_target = train_sentence_pairings.loc[0, 'target']"
   ]
  },
  {
   "cell_type": "code",
   "execution_count": 21,
   "id": "c687a457-c411-422b-8e79-8a118a769e44",
   "metadata": {},
   "outputs": [
    {
     "data": {
      "text/plain": [
       "'abatement'"
      ]
     },
     "execution_count": 21,
     "metadata": {},
     "output_type": "execute_result"
    }
   ],
   "source": [
    "sample_anchor"
   ]
  },
  {
   "cell_type": "code",
   "execution_count": 22,
   "id": "db65c9e5-86ef-4f82-bbee-f1fcc4e9f599",
   "metadata": {},
   "outputs": [
    {
     "data": {
      "text/plain": [
       "'abatement of pollution'"
      ]
     },
     "execution_count": 22,
     "metadata": {},
     "output_type": "execute_result"
    }
   ],
   "source": [
    "sample_target"
   ]
  },
  {
   "cell_type": "code",
   "execution_count": 23,
   "id": "21f74f73-5933-4fc8-81a3-9c5a25fe7342",
   "metadata": {},
   "outputs": [
    {
     "data": {
      "text/plain": [
       "{'input_ids': tensor([[  101, 19557, 18532,  4765,   102,     0,     0,     0,     0,     0,\n",
       "             0,     0,     0,     0,     0]]), 'token_type_ids': tensor([[0, 0, 0, 0, 0, 0, 0, 0, 0, 0, 0, 0, 0, 0, 0]]), 'attention_mask': tensor([[1, 1, 1, 1, 1, 0, 0, 0, 0, 0, 0, 0, 0, 0, 0]])}"
      ]
     },
     "execution_count": 23,
     "metadata": {},
     "output_type": "execute_result"
    }
   ],
   "source": [
    "anchor_tokens = tokenizer.encode_plus(sample_anchor, max_length=15, truncation=True,\n",
    "                                     padding='max_length', return_tensors='pt')\n",
    "anchor_tokens"
   ]
  },
  {
   "cell_type": "code",
   "execution_count": 24,
   "id": "9797033b-99c8-4d29-802a-0584fca30bb6",
   "metadata": {},
   "outputs": [
    {
     "data": {
      "text/plain": [
       "{'input_ids': tensor([[  101, 19557, 18532,  4765,  1997, 10796,   102,     0,     0,     0,\n",
       "             0,     0,     0,     0,     0]]), 'token_type_ids': tensor([[0, 0, 0, 0, 0, 0, 0, 0, 0, 0, 0, 0, 0, 0, 0]]), 'attention_mask': tensor([[1, 1, 1, 1, 1, 1, 1, 0, 0, 0, 0, 0, 0, 0, 0]])}"
      ]
     },
     "execution_count": 24,
     "metadata": {},
     "output_type": "execute_result"
    }
   ],
   "source": [
    "target_tokens = tokenizer.encode_plus(sample_target, max_length=15, truncation=True,\n",
    "                                     padding='max_length', return_tensors='pt')\n",
    "target_tokens"
   ]
  },
  {
   "cell_type": "code",
   "execution_count": 25,
   "id": "f13ef612-9482-47c3-b25d-d9de6209ee53",
   "metadata": {},
   "outputs": [
    {
     "data": {
      "text/plain": [
       "odict_keys(['last_hidden_state', 'pooler_output'])"
      ]
     },
     "execution_count": 25,
     "metadata": {},
     "output_type": "execute_result"
    }
   ],
   "source": [
    "sample_output_anchor = model(anchor_tokens['input_ids'], anchor_tokens['attention_mask'])\n",
    "sample_output_anchor.keys()"
   ]
  },
  {
   "cell_type": "code",
   "execution_count": 26,
   "id": "20147fd1-fe56-4096-99dd-7495dab328a2",
   "metadata": {},
   "outputs": [
    {
     "data": {
      "text/plain": [
       "torch.Size([1, 768])"
      ]
     },
     "execution_count": 26,
     "metadata": {},
     "output_type": "execute_result"
    }
   ],
   "source": [
    "sample_output_anchor['pooler_output'].shape"
   ]
  },
  {
   "cell_type": "code",
   "execution_count": 27,
   "id": "e0dc6967-d0b7-4926-a9f2-d2dc87fd829f",
   "metadata": {},
   "outputs": [
    {
     "data": {
      "text/plain": [
       "torch.Size([1, 15, 768])"
      ]
     },
     "execution_count": 27,
     "metadata": {},
     "output_type": "execute_result"
    }
   ],
   "source": [
    "sample_output_anchor['last_hidden_state'].shape"
   ]
  },
  {
   "cell_type": "code",
   "execution_count": 28,
   "id": "15f71d3b-9687-4aae-8a27-938900e947b5",
   "metadata": {},
   "outputs": [
    {
     "data": {
      "text/plain": [
       "odict_keys(['last_hidden_state', 'pooler_output'])"
      ]
     },
     "execution_count": 28,
     "metadata": {},
     "output_type": "execute_result"
    }
   ],
   "source": [
    "sample_output_target = model(target_tokens['input_ids'], target_tokens['attention_mask'])\n",
    "sample_output_target.keys()"
   ]
  },
  {
   "cell_type": "code",
   "execution_count": 29,
   "id": "33b0ccd6-e056-46b9-9a95-15721b3d7d42",
   "metadata": {},
   "outputs": [],
   "source": [
    "anchor_embeddings = sample_output_anchor.last_hidden_state\n",
    "target_embeddings = sample_output_target.last_hidden_state"
   ]
  },
  {
   "cell_type": "code",
   "execution_count": 30,
   "id": "d9ba18cc-2bdd-48d7-af97-6acd8e952047",
   "metadata": {},
   "outputs": [
    {
     "data": {
      "text/plain": [
       "torch.Size([1, 15, 768])"
      ]
     },
     "execution_count": 30,
     "metadata": {},
     "output_type": "execute_result"
    }
   ],
   "source": [
    "anchor_embeddings.shape"
   ]
  },
  {
   "cell_type": "code",
   "execution_count": 31,
   "id": "528bd48e-a676-4aed-9266-8041268bb636",
   "metadata": {},
   "outputs": [
    {
     "data": {
      "text/plain": [
       "torch.Size([1, 15, 768])"
      ]
     },
     "execution_count": 31,
     "metadata": {},
     "output_type": "execute_result"
    }
   ],
   "source": [
    "target_embeddings.shape"
   ]
  },
  {
   "cell_type": "code",
   "execution_count": 32,
   "id": "83064fae-ad44-4f7f-b87c-60bc0f75ce47",
   "metadata": {},
   "outputs": [],
   "source": [
    "anchor_attention_mask = anchor_tokens['attention_mask']\n",
    "target_attention_mask = target_tokens['attention_mask']\n"
   ]
  },
  {
   "cell_type": "code",
   "execution_count": 33,
   "id": "a5a8b8ad-681e-4d98-b4f1-e4f2a5e6558e",
   "metadata": {},
   "outputs": [
    {
     "data": {
      "text/plain": [
       "torch.Size([1, 15])"
      ]
     },
     "execution_count": 33,
     "metadata": {},
     "output_type": "execute_result"
    }
   ],
   "source": [
    "anchor_attention_mask.shape"
   ]
  },
  {
   "cell_type": "code",
   "execution_count": 34,
   "id": "78b123e5-b0cc-4470-aaf2-66ac323f3a87",
   "metadata": {},
   "outputs": [
    {
     "data": {
      "text/plain": [
       "torch.Size([1, 15])"
      ]
     },
     "execution_count": 34,
     "metadata": {},
     "output_type": "execute_result"
    }
   ],
   "source": [
    "target_attention_mask.shape"
   ]
  },
  {
   "cell_type": "code",
   "execution_count": 35,
   "id": "4784dde2-8b37-4c10-bf8e-0bd242988807",
   "metadata": {},
   "outputs": [],
   "source": [
    "anchor_attention_mask = anchor_attention_mask.unsqueeze(-1).expand(anchor_embeddings.size()).float()\n",
    "target_attention_mask = target_attention_mask.unsqueeze(-1).expand(target_embeddings.size()).float()"
   ]
  },
  {
   "cell_type": "code",
   "execution_count": 36,
   "id": "3c6305a0-a1be-44e6-8445-27f76dd7ca6f",
   "metadata": {},
   "outputs": [
    {
     "data": {
      "text/plain": [
       "torch.Size([1, 15, 768])"
      ]
     },
     "execution_count": 36,
     "metadata": {},
     "output_type": "execute_result"
    }
   ],
   "source": [
    "anchor_attention_mask.shape"
   ]
  },
  {
   "cell_type": "code",
   "execution_count": 37,
   "id": "d7cea223-72c5-4acb-8eee-7765f1ecad8b",
   "metadata": {},
   "outputs": [
    {
     "data": {
      "text/plain": [
       "torch.Size([1, 15, 768])"
      ]
     },
     "execution_count": 37,
     "metadata": {},
     "output_type": "execute_result"
    }
   ],
   "source": [
    "target_attention_mask.shape"
   ]
  },
  {
   "cell_type": "code",
   "execution_count": 38,
   "id": "e42e9ddd-46e8-4962-939f-d551532fe84a",
   "metadata": {},
   "outputs": [],
   "source": [
    "masked_anchor_embeddings = anchor_embeddings * anchor_attention_mask\n",
    "masked_target_embeddings = target_embeddings * target_attention_mask"
   ]
  },
  {
   "cell_type": "code",
   "execution_count": 39,
   "id": "1fe22828-4a50-40da-8503-7c7c06475eb9",
   "metadata": {},
   "outputs": [
    {
     "data": {
      "text/plain": [
       "torch.Size([1, 15, 768])"
      ]
     },
     "execution_count": 39,
     "metadata": {},
     "output_type": "execute_result"
    }
   ],
   "source": [
    "masked_anchor_embeddings.shape"
   ]
  },
  {
   "cell_type": "code",
   "execution_count": 40,
   "id": "4cb13b63-1628-4151-96c0-587c5c1b124a",
   "metadata": {},
   "outputs": [
    {
     "data": {
      "text/plain": [
       "torch.Size([1, 15, 768])"
      ]
     },
     "execution_count": 40,
     "metadata": {},
     "output_type": "execute_result"
    }
   ],
   "source": [
    "masked_target_embeddings.shape"
   ]
  },
  {
   "cell_type": "code",
   "execution_count": 41,
   "id": "2cddcc50-1826-4c6f-8ea4-a33a28f7c070",
   "metadata": {},
   "outputs": [],
   "source": [
    "summed_anchor = torch.sum(masked_anchor_embeddings, 1)\n",
    "summed_target = torch.sum(masked_target_embeddings, 1)"
   ]
  },
  {
   "cell_type": "code",
   "execution_count": 42,
   "id": "72c8f007-c409-4e14-8677-4185d7dabbd5",
   "metadata": {},
   "outputs": [],
   "source": [
    "summed_anchor_mask = torch.clamp(anchor_attention_mask.sum(1), min=1e-9)\n",
    "summed_target_mask = torch.clamp(target_attention_mask.sum(1), min=1e-9)"
   ]
  },
  {
   "cell_type": "code",
   "execution_count": 43,
   "id": "88906cfb-8b16-478e-b442-2cc3dd4e41ff",
   "metadata": {},
   "outputs": [],
   "source": [
    "anchor_mean_pooled = summed_anchor / summed_anchor_mask\n",
    "target_mean_pooled = summed_target / summed_target_mask"
   ]
  },
  {
   "cell_type": "code",
   "execution_count": 44,
   "id": "eb38ff5e-00fb-4b32-84f0-d8b11bb5a3b3",
   "metadata": {},
   "outputs": [
    {
     "data": {
      "text/plain": [
       "torch.Size([1, 768])"
      ]
     },
     "execution_count": 44,
     "metadata": {},
     "output_type": "execute_result"
    }
   ],
   "source": [
    "anchor_mean_pooled.shape"
   ]
  },
  {
   "cell_type": "code",
   "execution_count": 45,
   "id": "412b275b-7743-4c62-ab29-672aae3c3ef7",
   "metadata": {},
   "outputs": [
    {
     "data": {
      "text/plain": [
       "torch.Size([1, 768])"
      ]
     },
     "execution_count": 45,
     "metadata": {},
     "output_type": "execute_result"
    }
   ],
   "source": [
    "target_mean_pooled.shape"
   ]
  },
  {
   "cell_type": "code",
   "execution_count": 46,
   "id": "45455fed-14a3-422a-9afd-8fbd1ed36c7d",
   "metadata": {},
   "outputs": [],
   "source": [
    "anchor_mean_pooled_np = anchor_mean_pooled.detach().numpy()\n",
    "target_mean_pooled_np = target_mean_pooled.detach().numpy()"
   ]
  },
  {
   "cell_type": "code",
   "execution_count": 47,
   "id": "e9b70c43-b807-4ed8-b7a6-7bb0e3c4bfd9",
   "metadata": {},
   "outputs": [
    {
     "data": {
      "text/plain": [
       "0.8052439"
      ]
     },
     "execution_count": 47,
     "metadata": {},
     "output_type": "execute_result"
    }
   ],
   "source": [
    "cosine_similarity(anchor_mean_pooled_np, target_mean_pooled_np)[0][0]"
   ]
  },
  {
   "cell_type": "code",
   "execution_count": 48,
   "id": "94fd142d-0cb1-4c41-8e8e-fa60da4692ac",
   "metadata": {},
   "outputs": [],
   "source": [
    "def sim_calc(anchor, target):\n",
    "    \n",
    "    #anchor = train_sentence_pairings.loc[i, 'anchor']\n",
    "    #target = train_sentence_pairings.loc[i, 'target']\n",
    "    \n",
    "    anchor_tokens = tokenizer.encode_plus(anchor, max_length=15, truncation=True,\n",
    "                                     padding='max_length', return_tensors='pt')\n",
    "    \n",
    "    target_tokens = tokenizer.encode_plus(target, max_length=15, truncation=True,\n",
    "                                     padding='max_length', return_tensors='pt')\n",
    "    \n",
    "    output_anchor = model(anchor_tokens['input_ids'], anchor_tokens['attention_mask'])\n",
    "    \n",
    "    output_target = model(target_tokens['input_ids'], target_tokens['attention_mask'])\n",
    "    \n",
    "    anchor_embeddings = output_anchor.last_hidden_state\n",
    "    target_embeddings = output_target.last_hidden_state\n",
    "    \n",
    "    anchor_attention_mask = anchor_tokens['attention_mask']\n",
    "    target_attention_mask = target_tokens['attention_mask']\n",
    "    \n",
    "    anchor_attention_mask = anchor_attention_mask.unsqueeze(-1).expand(anchor_embeddings.size()).float()\n",
    "    target_attention_mask = target_attention_mask.unsqueeze(-1).expand(target_embeddings.size()).float()\n",
    "    \n",
    "    masked_anchor_embeddings = anchor_embeddings * anchor_attention_mask\n",
    "    masked_target_embeddings = target_embeddings * target_attention_mask\n",
    "    \n",
    "    summed_anchor = torch.sum(masked_anchor_embeddings, 1)\n",
    "    summed_target = torch.sum(masked_target_embeddings, 1)\n",
    "    \n",
    "    summed_anchor_mask = torch.clamp(anchor_attention_mask.sum(1), min=1e-9)\n",
    "    summed_target_mask = torch.clamp(target_attention_mask.sum(1), min=1e-9)\n",
    "    \n",
    "    anchor_mean_pooled = summed_anchor / summed_anchor_mask\n",
    "    target_mean_pooled = summed_target / summed_target_mask\n",
    "    \n",
    "    anchor_mean_pooled_np = anchor_mean_pooled.detach().numpy()\n",
    "    target_mean_pooled_np = target_mean_pooled.detach().numpy()\n",
    "    \n",
    "    similarity = cosine_similarity(anchor_mean_pooled_np, target_mean_pooled_np)[0][0]\n",
    "    \n",
    "    #train_sentence_pairings.loc[i, 'similarity'] = similarity\n",
    "    \n",
    "    return similarity\n",
    "    \n",
    "    "
   ]
  },
  {
   "cell_type": "code",
   "execution_count": 50,
   "id": "5de03bf7-4b10-40c6-a55d-8704398b189f",
   "metadata": {},
   "outputs": [
    {
     "name": "stderr",
     "output_type": "stream",
     "text": [
      "<ipython-input-50-1d4b58daa0d2>:1: SettingWithCopyWarning: \n",
      "A value is trying to be set on a copy of a slice from a DataFrame.\n",
      "Try using .loc[row_indexer,col_indexer] = value instead\n",
      "\n",
      "See the caveats in the documentation: https://pandas.pydata.org/pandas-docs/stable/user_guide/indexing.html#returning-a-view-versus-a-copy\n",
      "  train_sentence_pairings['similarity'] = train_sentence_pairings.apply(lambda x: sim_calc(x['anchor'], x['target']), axis=1)\n"
     ]
    },
    {
     "data": {
      "text/html": [
       "<div>\n",
       "<style scoped>\n",
       "    .dataframe tbody tr th:only-of-type {\n",
       "        vertical-align: middle;\n",
       "    }\n",
       "\n",
       "    .dataframe tbody tr th {\n",
       "        vertical-align: top;\n",
       "    }\n",
       "\n",
       "    .dataframe thead th {\n",
       "        text-align: right;\n",
       "    }\n",
       "</style>\n",
       "<table border=\"1\" class=\"dataframe\">\n",
       "  <thead>\n",
       "    <tr style=\"text-align: right;\">\n",
       "      <th></th>\n",
       "      <th>anchor</th>\n",
       "      <th>target</th>\n",
       "      <th>similarity</th>\n",
       "    </tr>\n",
       "  </thead>\n",
       "  <tbody>\n",
       "    <tr>\n",
       "      <th>0</th>\n",
       "      <td>abatement</td>\n",
       "      <td>abatement of pollution</td>\n",
       "      <td>0.805244</td>\n",
       "    </tr>\n",
       "    <tr>\n",
       "      <th>1</th>\n",
       "      <td>abatement</td>\n",
       "      <td>act of abating</td>\n",
       "      <td>0.912372</td>\n",
       "    </tr>\n",
       "    <tr>\n",
       "      <th>2</th>\n",
       "      <td>abatement</td>\n",
       "      <td>active catalyst</td>\n",
       "      <td>0.653080</td>\n",
       "    </tr>\n",
       "    <tr>\n",
       "      <th>3</th>\n",
       "      <td>abatement</td>\n",
       "      <td>eliminating process</td>\n",
       "      <td>0.795582</td>\n",
       "    </tr>\n",
       "    <tr>\n",
       "      <th>4</th>\n",
       "      <td>abatement</td>\n",
       "      <td>forest region</td>\n",
       "      <td>0.432009</td>\n",
       "    </tr>\n",
       "    <tr>\n",
       "      <th>...</th>\n",
       "      <td>...</td>\n",
       "      <td>...</td>\n",
       "      <td>...</td>\n",
       "    </tr>\n",
       "    <tr>\n",
       "      <th>36468</th>\n",
       "      <td>wood article</td>\n",
       "      <td>wooden article</td>\n",
       "      <td>0.811221</td>\n",
       "    </tr>\n",
       "    <tr>\n",
       "      <th>36469</th>\n",
       "      <td>wood article</td>\n",
       "      <td>wooden box</td>\n",
       "      <td>0.760114</td>\n",
       "    </tr>\n",
       "    <tr>\n",
       "      <th>36470</th>\n",
       "      <td>wood article</td>\n",
       "      <td>wooden handle</td>\n",
       "      <td>0.747953</td>\n",
       "    </tr>\n",
       "    <tr>\n",
       "      <th>36471</th>\n",
       "      <td>wood article</td>\n",
       "      <td>wooden material</td>\n",
       "      <td>0.762685</td>\n",
       "    </tr>\n",
       "    <tr>\n",
       "      <th>36472</th>\n",
       "      <td>wood article</td>\n",
       "      <td>wooden substrate</td>\n",
       "      <td>0.777971</td>\n",
       "    </tr>\n",
       "  </tbody>\n",
       "</table>\n",
       "<p>36473 rows × 3 columns</p>\n",
       "</div>"
      ],
      "text/plain": [
       "             anchor                  target  similarity\n",
       "0         abatement  abatement of pollution    0.805244\n",
       "1         abatement          act of abating    0.912372\n",
       "2         abatement         active catalyst    0.653080\n",
       "3         abatement     eliminating process    0.795582\n",
       "4         abatement           forest region    0.432009\n",
       "...             ...                     ...         ...\n",
       "36468  wood article          wooden article    0.811221\n",
       "36469  wood article              wooden box    0.760114\n",
       "36470  wood article           wooden handle    0.747953\n",
       "36471  wood article         wooden material    0.762685\n",
       "36472  wood article        wooden substrate    0.777971\n",
       "\n",
       "[36473 rows x 3 columns]"
      ]
     },
     "execution_count": 50,
     "metadata": {},
     "output_type": "execute_result"
    }
   ],
   "source": [
    "train_sentence_pairings['similarity'] = train_sentence_pairings.apply(lambda x: sim_calc(x['anchor'], x['target']), axis=1)\n",
    "\n",
    "train_sentence_pairings"
   ]
  },
  {
   "cell_type": "code",
   "execution_count": 7,
   "id": "1aac32e1-3508-4352-a8a9-ce404b124cb6",
   "metadata": {},
   "outputs": [
    {
     "data": {
      "text/html": [
       "<div>\n",
       "<style scoped>\n",
       "    .dataframe tbody tr th:only-of-type {\n",
       "        vertical-align: middle;\n",
       "    }\n",
       "\n",
       "    .dataframe tbody tr th {\n",
       "        vertical-align: top;\n",
       "    }\n",
       "\n",
       "    .dataframe thead th {\n",
       "        text-align: right;\n",
       "    }\n",
       "</style>\n",
       "<table border=\"1\" class=\"dataframe\">\n",
       "  <thead>\n",
       "    <tr style=\"text-align: right;\">\n",
       "      <th></th>\n",
       "      <th>anchor</th>\n",
       "      <th>target</th>\n",
       "      <th>similarity</th>\n",
       "    </tr>\n",
       "  </thead>\n",
       "  <tbody>\n",
       "    <tr>\n",
       "      <th>0</th>\n",
       "      <td>abatement</td>\n",
       "      <td>abatement of pollution</td>\n",
       "      <td>0.805244</td>\n",
       "    </tr>\n",
       "    <tr>\n",
       "      <th>1</th>\n",
       "      <td>abatement</td>\n",
       "      <td>act of abating</td>\n",
       "      <td>0.912372</td>\n",
       "    </tr>\n",
       "    <tr>\n",
       "      <th>2</th>\n",
       "      <td>abatement</td>\n",
       "      <td>active catalyst</td>\n",
       "      <td>0.653080</td>\n",
       "    </tr>\n",
       "    <tr>\n",
       "      <th>3</th>\n",
       "      <td>abatement</td>\n",
       "      <td>eliminating process</td>\n",
       "      <td>0.795582</td>\n",
       "    </tr>\n",
       "    <tr>\n",
       "      <th>4</th>\n",
       "      <td>abatement</td>\n",
       "      <td>forest region</td>\n",
       "      <td>0.432009</td>\n",
       "    </tr>\n",
       "    <tr>\n",
       "      <th>...</th>\n",
       "      <td>...</td>\n",
       "      <td>...</td>\n",
       "      <td>...</td>\n",
       "    </tr>\n",
       "    <tr>\n",
       "      <th>36468</th>\n",
       "      <td>wood article</td>\n",
       "      <td>wooden article</td>\n",
       "      <td>0.811221</td>\n",
       "    </tr>\n",
       "    <tr>\n",
       "      <th>36469</th>\n",
       "      <td>wood article</td>\n",
       "      <td>wooden box</td>\n",
       "      <td>0.760114</td>\n",
       "    </tr>\n",
       "    <tr>\n",
       "      <th>36470</th>\n",
       "      <td>wood article</td>\n",
       "      <td>wooden handle</td>\n",
       "      <td>0.747953</td>\n",
       "    </tr>\n",
       "    <tr>\n",
       "      <th>36471</th>\n",
       "      <td>wood article</td>\n",
       "      <td>wooden material</td>\n",
       "      <td>0.762685</td>\n",
       "    </tr>\n",
       "    <tr>\n",
       "      <th>36472</th>\n",
       "      <td>wood article</td>\n",
       "      <td>wooden substrate</td>\n",
       "      <td>0.777971</td>\n",
       "    </tr>\n",
       "  </tbody>\n",
       "</table>\n",
       "<p>36473 rows × 3 columns</p>\n",
       "</div>"
      ],
      "text/plain": [
       "             anchor                  target  similarity\n",
       "0         abatement  abatement of pollution    0.805244\n",
       "1         abatement          act of abating    0.912372\n",
       "2         abatement         active catalyst    0.653080\n",
       "3         abatement     eliminating process    0.795582\n",
       "4         abatement           forest region    0.432009\n",
       "...             ...                     ...         ...\n",
       "36468  wood article          wooden article    0.811221\n",
       "36469  wood article              wooden box    0.760114\n",
       "36470  wood article           wooden handle    0.747953\n",
       "36471  wood article         wooden material    0.762685\n",
       "36472  wood article        wooden substrate    0.777971\n",
       "\n",
       "[36473 rows x 3 columns]"
      ]
     },
     "execution_count": 7,
     "metadata": {},
     "output_type": "execute_result"
    }
   ],
   "source": [
    "#train_sentence_pairings.to_csv('kernel_died.csv', index=False)\n",
    "\n",
    "train_sentence_pairings = pd.read_csv('kernel_died.csv')\n",
    "train_sentence_pairings"
   ]
  },
  {
   "cell_type": "code",
   "execution_count": 8,
   "id": "a319898a-e78a-4f6d-a674-b43ebd3a0e43",
   "metadata": {},
   "outputs": [
    {
     "data": {
      "text/html": [
       "<div>\n",
       "<style scoped>\n",
       "    .dataframe tbody tr th:only-of-type {\n",
       "        vertical-align: middle;\n",
       "    }\n",
       "\n",
       "    .dataframe tbody tr th {\n",
       "        vertical-align: top;\n",
       "    }\n",
       "\n",
       "    .dataframe thead th {\n",
       "        text-align: right;\n",
       "    }\n",
       "</style>\n",
       "<table border=\"1\" class=\"dataframe\">\n",
       "  <thead>\n",
       "    <tr style=\"text-align: right;\">\n",
       "      <th></th>\n",
       "      <th>similarity</th>\n",
       "      <th>context</th>\n",
       "      <th>score</th>\n",
       "      <th>anchor_len</th>\n",
       "      <th>target_len</th>\n",
       "    </tr>\n",
       "  </thead>\n",
       "  <tbody>\n",
       "    <tr>\n",
       "      <th>0</th>\n",
       "      <td>0.805244</td>\n",
       "      <td>A47</td>\n",
       "      <td>0.50</td>\n",
       "      <td>1</td>\n",
       "      <td>3</td>\n",
       "    </tr>\n",
       "    <tr>\n",
       "      <th>1</th>\n",
       "      <td>0.912372</td>\n",
       "      <td>A47</td>\n",
       "      <td>0.75</td>\n",
       "      <td>1</td>\n",
       "      <td>3</td>\n",
       "    </tr>\n",
       "    <tr>\n",
       "      <th>2</th>\n",
       "      <td>0.653080</td>\n",
       "      <td>A47</td>\n",
       "      <td>0.25</td>\n",
       "      <td>1</td>\n",
       "      <td>2</td>\n",
       "    </tr>\n",
       "    <tr>\n",
       "      <th>3</th>\n",
       "      <td>0.795582</td>\n",
       "      <td>A47</td>\n",
       "      <td>0.50</td>\n",
       "      <td>1</td>\n",
       "      <td>2</td>\n",
       "    </tr>\n",
       "    <tr>\n",
       "      <th>4</th>\n",
       "      <td>0.432009</td>\n",
       "      <td>A47</td>\n",
       "      <td>0.00</td>\n",
       "      <td>1</td>\n",
       "      <td>2</td>\n",
       "    </tr>\n",
       "    <tr>\n",
       "      <th>...</th>\n",
       "      <td>...</td>\n",
       "      <td>...</td>\n",
       "      <td>...</td>\n",
       "      <td>...</td>\n",
       "      <td>...</td>\n",
       "    </tr>\n",
       "    <tr>\n",
       "      <th>36468</th>\n",
       "      <td>0.811221</td>\n",
       "      <td>B44</td>\n",
       "      <td>1.00</td>\n",
       "      <td>2</td>\n",
       "      <td>2</td>\n",
       "    </tr>\n",
       "    <tr>\n",
       "      <th>36469</th>\n",
       "      <td>0.760114</td>\n",
       "      <td>B44</td>\n",
       "      <td>0.50</td>\n",
       "      <td>2</td>\n",
       "      <td>2</td>\n",
       "    </tr>\n",
       "    <tr>\n",
       "      <th>36470</th>\n",
       "      <td>0.747953</td>\n",
       "      <td>B44</td>\n",
       "      <td>0.50</td>\n",
       "      <td>2</td>\n",
       "      <td>2</td>\n",
       "    </tr>\n",
       "    <tr>\n",
       "      <th>36471</th>\n",
       "      <td>0.762685</td>\n",
       "      <td>B44</td>\n",
       "      <td>0.75</td>\n",
       "      <td>2</td>\n",
       "      <td>2</td>\n",
       "    </tr>\n",
       "    <tr>\n",
       "      <th>36472</th>\n",
       "      <td>0.777971</td>\n",
       "      <td>B44</td>\n",
       "      <td>0.50</td>\n",
       "      <td>2</td>\n",
       "      <td>2</td>\n",
       "    </tr>\n",
       "  </tbody>\n",
       "</table>\n",
       "<p>36473 rows × 5 columns</p>\n",
       "</div>"
      ],
      "text/plain": [
       "       similarity context  score  anchor_len  target_len\n",
       "0        0.805244     A47   0.50           1           3\n",
       "1        0.912372     A47   0.75           1           3\n",
       "2        0.653080     A47   0.25           1           2\n",
       "3        0.795582     A47   0.50           1           2\n",
       "4        0.432009     A47   0.00           1           2\n",
       "...           ...     ...    ...         ...         ...\n",
       "36468    0.811221     B44   1.00           2           2\n",
       "36469    0.760114     B44   0.50           2           2\n",
       "36470    0.747953     B44   0.50           2           2\n",
       "36471    0.762685     B44   0.75           2           2\n",
       "36472    0.777971     B44   0.50           2           2\n",
       "\n",
       "[36473 rows x 5 columns]"
      ]
     },
     "execution_count": 8,
     "metadata": {},
     "output_type": "execute_result"
    }
   ],
   "source": [
    "train_df_mod = pd.concat([train_sentence_pairings[['similarity']], \n",
    "                          train_df[['context', 'score', 'anchor_len', 'target_len']]], axis=1)\n",
    "train_df_mod"
   ]
  },
  {
   "cell_type": "code",
   "execution_count": 9,
   "id": "97b92521-161f-4eda-80ef-4e57e9c146a0",
   "metadata": {},
   "outputs": [
    {
     "data": {
      "text/html": [
       "<div>\n",
       "<style scoped>\n",
       "    .dataframe tbody tr th:only-of-type {\n",
       "        vertical-align: middle;\n",
       "    }\n",
       "\n",
       "    .dataframe tbody tr th {\n",
       "        vertical-align: top;\n",
       "    }\n",
       "\n",
       "    .dataframe thead th {\n",
       "        text-align: right;\n",
       "    }\n",
       "</style>\n",
       "<table border=\"1\" class=\"dataframe\">\n",
       "  <thead>\n",
       "    <tr style=\"text-align: right;\">\n",
       "      <th></th>\n",
       "      <th>similarity</th>\n",
       "      <th>context</th>\n",
       "      <th>score</th>\n",
       "      <th>anchor_len</th>\n",
       "      <th>target_len</th>\n",
       "      <th>score_converted</th>\n",
       "    </tr>\n",
       "  </thead>\n",
       "  <tbody>\n",
       "    <tr>\n",
       "      <th>0</th>\n",
       "      <td>0.805244</td>\n",
       "      <td>A47</td>\n",
       "      <td>0.50</td>\n",
       "      <td>1</td>\n",
       "      <td>3</td>\n",
       "      <td>2</td>\n",
       "    </tr>\n",
       "    <tr>\n",
       "      <th>1</th>\n",
       "      <td>0.912372</td>\n",
       "      <td>A47</td>\n",
       "      <td>0.75</td>\n",
       "      <td>1</td>\n",
       "      <td>3</td>\n",
       "      <td>3</td>\n",
       "    </tr>\n",
       "    <tr>\n",
       "      <th>2</th>\n",
       "      <td>0.653080</td>\n",
       "      <td>A47</td>\n",
       "      <td>0.25</td>\n",
       "      <td>1</td>\n",
       "      <td>2</td>\n",
       "      <td>1</td>\n",
       "    </tr>\n",
       "    <tr>\n",
       "      <th>3</th>\n",
       "      <td>0.795582</td>\n",
       "      <td>A47</td>\n",
       "      <td>0.50</td>\n",
       "      <td>1</td>\n",
       "      <td>2</td>\n",
       "      <td>2</td>\n",
       "    </tr>\n",
       "    <tr>\n",
       "      <th>4</th>\n",
       "      <td>0.432009</td>\n",
       "      <td>A47</td>\n",
       "      <td>0.00</td>\n",
       "      <td>1</td>\n",
       "      <td>2</td>\n",
       "      <td>0</td>\n",
       "    </tr>\n",
       "    <tr>\n",
       "      <th>...</th>\n",
       "      <td>...</td>\n",
       "      <td>...</td>\n",
       "      <td>...</td>\n",
       "      <td>...</td>\n",
       "      <td>...</td>\n",
       "      <td>...</td>\n",
       "    </tr>\n",
       "    <tr>\n",
       "      <th>36468</th>\n",
       "      <td>0.811221</td>\n",
       "      <td>B44</td>\n",
       "      <td>1.00</td>\n",
       "      <td>2</td>\n",
       "      <td>2</td>\n",
       "      <td>4</td>\n",
       "    </tr>\n",
       "    <tr>\n",
       "      <th>36469</th>\n",
       "      <td>0.760114</td>\n",
       "      <td>B44</td>\n",
       "      <td>0.50</td>\n",
       "      <td>2</td>\n",
       "      <td>2</td>\n",
       "      <td>2</td>\n",
       "    </tr>\n",
       "    <tr>\n",
       "      <th>36470</th>\n",
       "      <td>0.747953</td>\n",
       "      <td>B44</td>\n",
       "      <td>0.50</td>\n",
       "      <td>2</td>\n",
       "      <td>2</td>\n",
       "      <td>2</td>\n",
       "    </tr>\n",
       "    <tr>\n",
       "      <th>36471</th>\n",
       "      <td>0.762685</td>\n",
       "      <td>B44</td>\n",
       "      <td>0.75</td>\n",
       "      <td>2</td>\n",
       "      <td>2</td>\n",
       "      <td>3</td>\n",
       "    </tr>\n",
       "    <tr>\n",
       "      <th>36472</th>\n",
       "      <td>0.777971</td>\n",
       "      <td>B44</td>\n",
       "      <td>0.50</td>\n",
       "      <td>2</td>\n",
       "      <td>2</td>\n",
       "      <td>2</td>\n",
       "    </tr>\n",
       "  </tbody>\n",
       "</table>\n",
       "<p>36473 rows × 6 columns</p>\n",
       "</div>"
      ],
      "text/plain": [
       "       similarity context  score  anchor_len  target_len  score_converted\n",
       "0        0.805244     A47   0.50           1           3                2\n",
       "1        0.912372     A47   0.75           1           3                3\n",
       "2        0.653080     A47   0.25           1           2                1\n",
       "3        0.795582     A47   0.50           1           2                2\n",
       "4        0.432009     A47   0.00           1           2                0\n",
       "...           ...     ...    ...         ...         ...              ...\n",
       "36468    0.811221     B44   1.00           2           2                4\n",
       "36469    0.760114     B44   0.50           2           2                2\n",
       "36470    0.747953     B44   0.50           2           2                2\n",
       "36471    0.762685     B44   0.75           2           2                3\n",
       "36472    0.777971     B44   0.50           2           2                2\n",
       "\n",
       "[36473 rows x 6 columns]"
      ]
     },
     "execution_count": 9,
     "metadata": {},
     "output_type": "execute_result"
    }
   ],
   "source": [
    "score_mapping = {0.00: 0, 0.25: 1, 0.50: 2, 0.75: 3, 1.00: 4}\n",
    "\n",
    "train_df_mod['score_converted'] = train_df_mod['score'].map(score_mapping)\n",
    "\n",
    "train_df_mod"
   ]
  },
  {
   "cell_type": "code",
   "execution_count": 10,
   "id": "a9dc0d16-4b85-411d-902b-d836529dfd0d",
   "metadata": {},
   "outputs": [
    {
     "data": {
      "text/html": [
       "<div>\n",
       "<style scoped>\n",
       "    .dataframe tbody tr th:only-of-type {\n",
       "        vertical-align: middle;\n",
       "    }\n",
       "\n",
       "    .dataframe tbody tr th {\n",
       "        vertical-align: top;\n",
       "    }\n",
       "\n",
       "    .dataframe thead th {\n",
       "        text-align: right;\n",
       "    }\n",
       "</style>\n",
       "<table border=\"1\" class=\"dataframe\">\n",
       "  <thead>\n",
       "    <tr style=\"text-align: right;\">\n",
       "      <th></th>\n",
       "      <th>similarity</th>\n",
       "      <th>score</th>\n",
       "      <th>anchor_len</th>\n",
       "      <th>target_len</th>\n",
       "      <th>score_converted</th>\n",
       "      <th>context_A21</th>\n",
       "      <th>context_A22</th>\n",
       "      <th>context_A23</th>\n",
       "      <th>context_A24</th>\n",
       "      <th>context_A41</th>\n",
       "      <th>...</th>\n",
       "      <th>context_G09</th>\n",
       "      <th>context_G10</th>\n",
       "      <th>context_G11</th>\n",
       "      <th>context_G16</th>\n",
       "      <th>context_G21</th>\n",
       "      <th>context_H01</th>\n",
       "      <th>context_H02</th>\n",
       "      <th>context_H03</th>\n",
       "      <th>context_H04</th>\n",
       "      <th>context_H05</th>\n",
       "    </tr>\n",
       "  </thead>\n",
       "  <tbody>\n",
       "    <tr>\n",
       "      <th>0</th>\n",
       "      <td>0.805244</td>\n",
       "      <td>0.50</td>\n",
       "      <td>1</td>\n",
       "      <td>3</td>\n",
       "      <td>2</td>\n",
       "      <td>0</td>\n",
       "      <td>0</td>\n",
       "      <td>0</td>\n",
       "      <td>0</td>\n",
       "      <td>0</td>\n",
       "      <td>...</td>\n",
       "      <td>0</td>\n",
       "      <td>0</td>\n",
       "      <td>0</td>\n",
       "      <td>0</td>\n",
       "      <td>0</td>\n",
       "      <td>0</td>\n",
       "      <td>0</td>\n",
       "      <td>0</td>\n",
       "      <td>0</td>\n",
       "      <td>0</td>\n",
       "    </tr>\n",
       "    <tr>\n",
       "      <th>1</th>\n",
       "      <td>0.912372</td>\n",
       "      <td>0.75</td>\n",
       "      <td>1</td>\n",
       "      <td>3</td>\n",
       "      <td>3</td>\n",
       "      <td>0</td>\n",
       "      <td>0</td>\n",
       "      <td>0</td>\n",
       "      <td>0</td>\n",
       "      <td>0</td>\n",
       "      <td>...</td>\n",
       "      <td>0</td>\n",
       "      <td>0</td>\n",
       "      <td>0</td>\n",
       "      <td>0</td>\n",
       "      <td>0</td>\n",
       "      <td>0</td>\n",
       "      <td>0</td>\n",
       "      <td>0</td>\n",
       "      <td>0</td>\n",
       "      <td>0</td>\n",
       "    </tr>\n",
       "    <tr>\n",
       "      <th>2</th>\n",
       "      <td>0.653080</td>\n",
       "      <td>0.25</td>\n",
       "      <td>1</td>\n",
       "      <td>2</td>\n",
       "      <td>1</td>\n",
       "      <td>0</td>\n",
       "      <td>0</td>\n",
       "      <td>0</td>\n",
       "      <td>0</td>\n",
       "      <td>0</td>\n",
       "      <td>...</td>\n",
       "      <td>0</td>\n",
       "      <td>0</td>\n",
       "      <td>0</td>\n",
       "      <td>0</td>\n",
       "      <td>0</td>\n",
       "      <td>0</td>\n",
       "      <td>0</td>\n",
       "      <td>0</td>\n",
       "      <td>0</td>\n",
       "      <td>0</td>\n",
       "    </tr>\n",
       "    <tr>\n",
       "      <th>3</th>\n",
       "      <td>0.795582</td>\n",
       "      <td>0.50</td>\n",
       "      <td>1</td>\n",
       "      <td>2</td>\n",
       "      <td>2</td>\n",
       "      <td>0</td>\n",
       "      <td>0</td>\n",
       "      <td>0</td>\n",
       "      <td>0</td>\n",
       "      <td>0</td>\n",
       "      <td>...</td>\n",
       "      <td>0</td>\n",
       "      <td>0</td>\n",
       "      <td>0</td>\n",
       "      <td>0</td>\n",
       "      <td>0</td>\n",
       "      <td>0</td>\n",
       "      <td>0</td>\n",
       "      <td>0</td>\n",
       "      <td>0</td>\n",
       "      <td>0</td>\n",
       "    </tr>\n",
       "    <tr>\n",
       "      <th>4</th>\n",
       "      <td>0.432009</td>\n",
       "      <td>0.00</td>\n",
       "      <td>1</td>\n",
       "      <td>2</td>\n",
       "      <td>0</td>\n",
       "      <td>0</td>\n",
       "      <td>0</td>\n",
       "      <td>0</td>\n",
       "      <td>0</td>\n",
       "      <td>0</td>\n",
       "      <td>...</td>\n",
       "      <td>0</td>\n",
       "      <td>0</td>\n",
       "      <td>0</td>\n",
       "      <td>0</td>\n",
       "      <td>0</td>\n",
       "      <td>0</td>\n",
       "      <td>0</td>\n",
       "      <td>0</td>\n",
       "      <td>0</td>\n",
       "      <td>0</td>\n",
       "    </tr>\n",
       "    <tr>\n",
       "      <th>...</th>\n",
       "      <td>...</td>\n",
       "      <td>...</td>\n",
       "      <td>...</td>\n",
       "      <td>...</td>\n",
       "      <td>...</td>\n",
       "      <td>...</td>\n",
       "      <td>...</td>\n",
       "      <td>...</td>\n",
       "      <td>...</td>\n",
       "      <td>...</td>\n",
       "      <td>...</td>\n",
       "      <td>...</td>\n",
       "      <td>...</td>\n",
       "      <td>...</td>\n",
       "      <td>...</td>\n",
       "      <td>...</td>\n",
       "      <td>...</td>\n",
       "      <td>...</td>\n",
       "      <td>...</td>\n",
       "      <td>...</td>\n",
       "      <td>...</td>\n",
       "    </tr>\n",
       "    <tr>\n",
       "      <th>36468</th>\n",
       "      <td>0.811221</td>\n",
       "      <td>1.00</td>\n",
       "      <td>2</td>\n",
       "      <td>2</td>\n",
       "      <td>4</td>\n",
       "      <td>0</td>\n",
       "      <td>0</td>\n",
       "      <td>0</td>\n",
       "      <td>0</td>\n",
       "      <td>0</td>\n",
       "      <td>...</td>\n",
       "      <td>0</td>\n",
       "      <td>0</td>\n",
       "      <td>0</td>\n",
       "      <td>0</td>\n",
       "      <td>0</td>\n",
       "      <td>0</td>\n",
       "      <td>0</td>\n",
       "      <td>0</td>\n",
       "      <td>0</td>\n",
       "      <td>0</td>\n",
       "    </tr>\n",
       "    <tr>\n",
       "      <th>36469</th>\n",
       "      <td>0.760114</td>\n",
       "      <td>0.50</td>\n",
       "      <td>2</td>\n",
       "      <td>2</td>\n",
       "      <td>2</td>\n",
       "      <td>0</td>\n",
       "      <td>0</td>\n",
       "      <td>0</td>\n",
       "      <td>0</td>\n",
       "      <td>0</td>\n",
       "      <td>...</td>\n",
       "      <td>0</td>\n",
       "      <td>0</td>\n",
       "      <td>0</td>\n",
       "      <td>0</td>\n",
       "      <td>0</td>\n",
       "      <td>0</td>\n",
       "      <td>0</td>\n",
       "      <td>0</td>\n",
       "      <td>0</td>\n",
       "      <td>0</td>\n",
       "    </tr>\n",
       "    <tr>\n",
       "      <th>36470</th>\n",
       "      <td>0.747953</td>\n",
       "      <td>0.50</td>\n",
       "      <td>2</td>\n",
       "      <td>2</td>\n",
       "      <td>2</td>\n",
       "      <td>0</td>\n",
       "      <td>0</td>\n",
       "      <td>0</td>\n",
       "      <td>0</td>\n",
       "      <td>0</td>\n",
       "      <td>...</td>\n",
       "      <td>0</td>\n",
       "      <td>0</td>\n",
       "      <td>0</td>\n",
       "      <td>0</td>\n",
       "      <td>0</td>\n",
       "      <td>0</td>\n",
       "      <td>0</td>\n",
       "      <td>0</td>\n",
       "      <td>0</td>\n",
       "      <td>0</td>\n",
       "    </tr>\n",
       "    <tr>\n",
       "      <th>36471</th>\n",
       "      <td>0.762685</td>\n",
       "      <td>0.75</td>\n",
       "      <td>2</td>\n",
       "      <td>2</td>\n",
       "      <td>3</td>\n",
       "      <td>0</td>\n",
       "      <td>0</td>\n",
       "      <td>0</td>\n",
       "      <td>0</td>\n",
       "      <td>0</td>\n",
       "      <td>...</td>\n",
       "      <td>0</td>\n",
       "      <td>0</td>\n",
       "      <td>0</td>\n",
       "      <td>0</td>\n",
       "      <td>0</td>\n",
       "      <td>0</td>\n",
       "      <td>0</td>\n",
       "      <td>0</td>\n",
       "      <td>0</td>\n",
       "      <td>0</td>\n",
       "    </tr>\n",
       "    <tr>\n",
       "      <th>36472</th>\n",
       "      <td>0.777971</td>\n",
       "      <td>0.50</td>\n",
       "      <td>2</td>\n",
       "      <td>2</td>\n",
       "      <td>2</td>\n",
       "      <td>0</td>\n",
       "      <td>0</td>\n",
       "      <td>0</td>\n",
       "      <td>0</td>\n",
       "      <td>0</td>\n",
       "      <td>...</td>\n",
       "      <td>0</td>\n",
       "      <td>0</td>\n",
       "      <td>0</td>\n",
       "      <td>0</td>\n",
       "      <td>0</td>\n",
       "      <td>0</td>\n",
       "      <td>0</td>\n",
       "      <td>0</td>\n",
       "      <td>0</td>\n",
       "      <td>0</td>\n",
       "    </tr>\n",
       "  </tbody>\n",
       "</table>\n",
       "<p>36473 rows × 110 columns</p>\n",
       "</div>"
      ],
      "text/plain": [
       "       similarity  score  anchor_len  target_len  score_converted  \\\n",
       "0        0.805244   0.50           1           3                2   \n",
       "1        0.912372   0.75           1           3                3   \n",
       "2        0.653080   0.25           1           2                1   \n",
       "3        0.795582   0.50           1           2                2   \n",
       "4        0.432009   0.00           1           2                0   \n",
       "...           ...    ...         ...         ...              ...   \n",
       "36468    0.811221   1.00           2           2                4   \n",
       "36469    0.760114   0.50           2           2                2   \n",
       "36470    0.747953   0.50           2           2                2   \n",
       "36471    0.762685   0.75           2           2                3   \n",
       "36472    0.777971   0.50           2           2                2   \n",
       "\n",
       "       context_A21  context_A22  context_A23  context_A24  context_A41  ...  \\\n",
       "0                0            0            0            0            0  ...   \n",
       "1                0            0            0            0            0  ...   \n",
       "2                0            0            0            0            0  ...   \n",
       "3                0            0            0            0            0  ...   \n",
       "4                0            0            0            0            0  ...   \n",
       "...            ...          ...          ...          ...          ...  ...   \n",
       "36468            0            0            0            0            0  ...   \n",
       "36469            0            0            0            0            0  ...   \n",
       "36470            0            0            0            0            0  ...   \n",
       "36471            0            0            0            0            0  ...   \n",
       "36472            0            0            0            0            0  ...   \n",
       "\n",
       "       context_G09  context_G10  context_G11  context_G16  context_G21  \\\n",
       "0                0            0            0            0            0   \n",
       "1                0            0            0            0            0   \n",
       "2                0            0            0            0            0   \n",
       "3                0            0            0            0            0   \n",
       "4                0            0            0            0            0   \n",
       "...            ...          ...          ...          ...          ...   \n",
       "36468            0            0            0            0            0   \n",
       "36469            0            0            0            0            0   \n",
       "36470            0            0            0            0            0   \n",
       "36471            0            0            0            0            0   \n",
       "36472            0            0            0            0            0   \n",
       "\n",
       "       context_H01  context_H02  context_H03  context_H04  context_H05  \n",
       "0                0            0            0            0            0  \n",
       "1                0            0            0            0            0  \n",
       "2                0            0            0            0            0  \n",
       "3                0            0            0            0            0  \n",
       "4                0            0            0            0            0  \n",
       "...            ...          ...          ...          ...          ...  \n",
       "36468            0            0            0            0            0  \n",
       "36469            0            0            0            0            0  \n",
       "36470            0            0            0            0            0  \n",
       "36471            0            0            0            0            0  \n",
       "36472            0            0            0            0            0  \n",
       "\n",
       "[36473 rows x 110 columns]"
      ]
     },
     "execution_count": 10,
     "metadata": {},
     "output_type": "execute_result"
    }
   ],
   "source": [
    "train_df_final = pd.get_dummies(train_df_mod, columns=['context'], drop_first=True)\n",
    "train_df_final"
   ]
  },
  {
   "cell_type": "code",
   "execution_count": 11,
   "id": "64d3350a-0f9e-42b9-8142-411e088f805a",
   "metadata": {},
   "outputs": [],
   "source": [
    "X = train_df_final.drop(columns=['score', 'score_converted'], axis=1)\n",
    "y1 = train_df_final['score_converted']\n",
    "y2 = train_df_final['score']"
   ]
  },
  {
   "cell_type": "code",
   "execution_count": 12,
   "id": "86063221-004a-475f-8c3e-3e17d005f1f4",
   "metadata": {},
   "outputs": [],
   "source": [
    "from sklearn.model_selection import train_test_split\n",
    "\n",
    "X_train, X_test, y_train, y_test = train_test_split(X, y1, stratify=y1, test_size=0.2)"
   ]
  },
  {
   "cell_type": "code",
   "execution_count": 13,
   "id": "b7d64a4e-0e8e-4618-9cc9-f4c91ff9f52f",
   "metadata": {},
   "outputs": [],
   "source": [
    "#from xgboost import XGBClassifier\n",
    "#import xgboost as xgb\n",
    "from lightgbm import LGBMClassifier\n",
    "#import lightgbm as lgb"
   ]
  },
  {
   "cell_type": "code",
   "execution_count": 14,
   "id": "2e026b17-493e-459b-848b-c01c31c74fd8",
   "metadata": {},
   "outputs": [
    {
     "data": {
      "text/plain": [
       "LGBMClassifier()"
      ]
     },
     "execution_count": 14,
     "metadata": {},
     "output_type": "execute_result"
    }
   ],
   "source": [
    "#xgb_model1 = XGBClassifier()\n",
    "lgbm_model1 = LGBMClassifier()\n",
    "\n",
    "#xgb_model1.fit(X_train, y_train)\n",
    "lgbm_model1.fit(X_train, y_train)"
   ]
  },
  {
   "cell_type": "code",
   "execution_count": 15,
   "id": "26ca14ca-6353-4a3f-aa5b-1fa8b9d8c943",
   "metadata": {},
   "outputs": [],
   "source": [
    "#xgb_preds = xgb_model1.predict(X_test)\n",
    "lgbm_preds = lgbm_model1.predict(X_test)"
   ]
  },
  {
   "cell_type": "code",
   "execution_count": 16,
   "id": "5c3af609-c35d-468b-8910-d0f1c63d9234",
   "metadata": {},
   "outputs": [
    {
     "name": "stdout",
     "output_type": "stream",
     "text": [
      "0.5070596298834819\n"
     ]
    }
   ],
   "source": [
    "from sklearn import metrics\n",
    "\n",
    "#print(metrics.accuracy_score(y_test, xgb_preds))\n",
    "print(metrics.accuracy_score(y_test, lgbm_preds))"
   ]
  },
  {
   "cell_type": "code",
   "execution_count": 17,
   "id": "783c952f-96bc-4e1e-b2e6-f39de1e7d91d",
   "metadata": {},
   "outputs": [
    {
     "name": "stderr",
     "output_type": "stream",
     "text": [
      "/Users/alecclarkfeather/opt/anaconda3/lib/python3.8/site-packages/xgboost/compat.py:36: FutureWarning: pandas.Int64Index is deprecated and will be removed from pandas in a future version. Use pandas.Index with the appropriate dtype instead.\n",
      "  from pandas import MultiIndex, Int64Index\n"
     ]
    }
   ],
   "source": [
    "from xgboost import XGBClassifier"
   ]
  },
  {
   "cell_type": "code",
   "execution_count": 18,
   "id": "3d2aebce-1fc2-40b7-9939-54e96c4b06cc",
   "metadata": {},
   "outputs": [
    {
     "name": "stderr",
     "output_type": "stream",
     "text": [
      "/Users/alecclarkfeather/opt/anaconda3/lib/python3.8/site-packages/xgboost/sklearn.py:1224: UserWarning: The use of label encoder in XGBClassifier is deprecated and will be removed in a future release. To remove this warning, do the following: 1) Pass option use_label_encoder=False when constructing XGBClassifier object; and 2) Encode your labels (y) as integers starting with 0, i.e. 0, 1, 2, ..., [num_class - 1].\n",
      "  warnings.warn(label_encoder_deprecation_msg, UserWarning)\n",
      "/Users/alecclarkfeather/opt/anaconda3/lib/python3.8/site-packages/xgboost/data.py:262: FutureWarning: pandas.Int64Index is deprecated and will be removed from pandas in a future version. Use pandas.Index with the appropriate dtype instead.\n",
      "  elif isinstance(data.columns, (pd.Int64Index, pd.RangeIndex)):\n"
     ]
    },
    {
     "name": "stdout",
     "output_type": "stream",
     "text": [
      "[16:57:12] WARNING: /Users/runner/work/xgboost/xgboost/src/learner.cc:1115: Starting in XGBoost 1.3.0, the default evaluation metric used with the objective 'multi:softprob' was changed from 'merror' to 'mlogloss'. Explicitly set eval_metric if you'd like to restore the old behavior.\n"
     ]
    },
    {
     "data": {
      "text/plain": [
       "XGBClassifier(base_score=0.5, booster='gbtree', colsample_bylevel=1,\n",
       "              colsample_bynode=1, colsample_bytree=1, enable_categorical=False,\n",
       "              gamma=0, gpu_id=-1, importance_type=None,\n",
       "              interaction_constraints='', learning_rate=0.300000012,\n",
       "              max_delta_step=0, max_depth=6, min_child_weight=1, missing=nan,\n",
       "              monotone_constraints='()', n_estimators=100, n_jobs=4,\n",
       "              num_parallel_tree=1, objective='multi:softprob', predictor='auto',\n",
       "              random_state=0, reg_alpha=0, reg_lambda=1, scale_pos_weight=None,\n",
       "              subsample=1, tree_method='exact', validate_parameters=1,\n",
       "              verbosity=None)"
      ]
     },
     "execution_count": 18,
     "metadata": {},
     "output_type": "execute_result"
    }
   ],
   "source": [
    "xgb_model1 = XGBClassifier()\n",
    "\n",
    "xgb_model1.fit(X_train, y_train)\n"
   ]
  },
  {
   "cell_type": "code",
   "execution_count": 20,
   "id": "32c2348c-39e0-461e-aeb5-1184ad84eff5",
   "metadata": {},
   "outputs": [
    {
     "name": "stdout",
     "output_type": "stream",
     "text": [
      "0.5063742289239205\n"
     ]
    }
   ],
   "source": [
    "xgb_preds = xgb_model1.predict(X_test)\n",
    "\n",
    "print(metrics.accuracy_score(y_test, xgb_preds))"
   ]
  },
  {
   "cell_type": "code",
   "execution_count": 22,
   "id": "dfc972e9-0cf9-45ad-bd07-797b7da1952a",
   "metadata": {},
   "outputs": [],
   "source": [
    "import optuna\n",
    "import lightgbm as lgb"
   ]
  },
  {
   "cell_type": "code",
   "execution_count": 41,
   "id": "da710026-b6fe-4aa1-a0c3-d6739ec0fe92",
   "metadata": {},
   "outputs": [],
   "source": [
    "def objective(trial):\n",
    "    \n",
    "    #dtrain = lgb.Dataset(X_train, label=y_train)\n",
    "    \n",
    "    param = {\n",
    "        \"objective\": \"multiclass\",\n",
    "        \"metric\": \"softmax\",\n",
    "        \"num_class\": 5,\n",
    "        \"verbosity\": -1,\n",
    "        \"boosting_type\": \"gbdt\",\n",
    "        \"lambda_l1\": trial.suggest_float(\"lambda_l1\", 1e-8, 10.0, log=True),\n",
    "        \"lambda_l2\": trial.suggest_float(\"lambda_l2\", 1e-8, 10.0, log=True),\n",
    "        \"num_leaves\": trial.suggest_int(\"num_leaves\", 2, 256),\n",
    "        \"feature_fraction\": trial.suggest_float(\"feature_fraction\", 0.4, 1.0),\n",
    "        \"bagging_fraction\": trial.suggest_float(\"bagging_fraction\", 0.4, 1.0),\n",
    "        \"bagging_freq\": trial.suggest_int(\"bagging_freq\", 1, 7),\n",
    "        \"min_child_samples\": trial.suggest_int(\"min_child_samples\", 5, 100),\n",
    "    }\n",
    "    \n",
    "    gbm = LGBMClassifier(**param)\n",
    "    \n",
    "    gbm.fit(X_train, y_train)\n",
    "    \n",
    "    preds = gbm.predict(X_test)\n",
    "    \n",
    "    #pred_labels = np.rint(preds)\n",
    "    \n",
    "    accuracy = metrics.accuracy_score(y_test, preds)\n",
    "    \n",
    "    return accuracy"
   ]
  },
  {
   "cell_type": "code",
   "execution_count": 42,
   "id": "c2e2d8f6-9f48-48ac-b387-4a594ac156b1",
   "metadata": {},
   "outputs": [
    {
     "name": "stderr",
     "output_type": "stream",
     "text": [
      "\u001b[32m[I 2023-02-01 17:15:08,807]\u001b[0m A new study created in memory with name: no-name-a253ef07-5cd1-47ca-a17e-aac180f46b88\u001b[0m\n"
     ]
    },
    {
     "name": "stdout",
     "output_type": "stream",
     "text": [
      "[LightGBM] [Warning] feature_fraction is set=0.8245951732372507, colsample_bytree=1.0 will be ignored. Current value: feature_fraction=0.8245951732372507\n",
      "[LightGBM] [Warning] lambda_l1 is set=2.8529230137668207, reg_alpha=0.0 will be ignored. Current value: lambda_l1=2.8529230137668207\n",
      "[LightGBM] [Warning] bagging_fraction is set=0.6413215962349789, subsample=1.0 will be ignored. Current value: bagging_fraction=0.6413215962349789\n",
      "[LightGBM] [Warning] lambda_l2 is set=0.004451457719065518, reg_lambda=0.0 will be ignored. Current value: lambda_l2=0.004451457719065518\n",
      "[LightGBM] [Warning] bagging_freq is set=6, subsample_freq=0 will be ignored. Current value: bagging_freq=6\n"
     ]
    },
    {
     "name": "stderr",
     "output_type": "stream",
     "text": [
      "\u001b[32m[I 2023-02-01 17:15:11,038]\u001b[0m Trial 0 finished with value: 0.5017135023989033 and parameters: {'lambda_l1': 2.8529230137668207, 'lambda_l2': 0.004451457719065518, 'num_leaves': 225, 'feature_fraction': 0.8245951732372507, 'bagging_fraction': 0.6413215962349789, 'bagging_freq': 6, 'min_child_samples': 70}. Best is trial 0 with value: 0.5017135023989033.\u001b[0m\n"
     ]
    },
    {
     "name": "stdout",
     "output_type": "stream",
     "text": [
      "[LightGBM] [Warning] feature_fraction is set=0.8454445075380859, colsample_bytree=1.0 will be ignored. Current value: feature_fraction=0.8454445075380859\n",
      "[LightGBM] [Warning] lambda_l1 is set=4.2984257779049e-05, reg_alpha=0.0 will be ignored. Current value: lambda_l1=4.2984257779049e-05\n",
      "[LightGBM] [Warning] bagging_fraction is set=0.8265979176113306, subsample=1.0 will be ignored. Current value: bagging_fraction=0.8265979176113306\n",
      "[LightGBM] [Warning] lambda_l2 is set=4.356374418670888e-07, reg_lambda=0.0 will be ignored. Current value: lambda_l2=4.356374418670888e-07\n",
      "[LightGBM] [Warning] bagging_freq is set=4, subsample_freq=0 will be ignored. Current value: bagging_freq=4\n"
     ]
    },
    {
     "name": "stderr",
     "output_type": "stream",
     "text": [
      "\u001b[32m[I 2023-02-01 17:15:15,267]\u001b[0m Trial 1 finished with value: 0.4959561343385881 and parameters: {'lambda_l1': 4.2984257779049e-05, 'lambda_l2': 4.356374418670888e-07, 'num_leaves': 142, 'feature_fraction': 0.8454445075380859, 'bagging_fraction': 0.8265979176113306, 'bagging_freq': 4, 'min_child_samples': 86}. Best is trial 0 with value: 0.5017135023989033.\u001b[0m\n"
     ]
    },
    {
     "name": "stdout",
     "output_type": "stream",
     "text": [
      "[LightGBM] [Warning] feature_fraction is set=0.6634143791724785, colsample_bytree=1.0 will be ignored. Current value: feature_fraction=0.6634143791724785\n",
      "[LightGBM] [Warning] lambda_l1 is set=4.370967888287832e-05, reg_alpha=0.0 will be ignored. Current value: lambda_l1=4.370967888287832e-05\n",
      "[LightGBM] [Warning] bagging_fraction is set=0.58608668308876, subsample=1.0 will be ignored. Current value: bagging_fraction=0.58608668308876\n",
      "[LightGBM] [Warning] lambda_l2 is set=5.983259744945898e-05, reg_lambda=0.0 will be ignored. Current value: lambda_l2=5.983259744945898e-05\n",
      "[LightGBM] [Warning] bagging_freq is set=7, subsample_freq=0 will be ignored. Current value: bagging_freq=7\n"
     ]
    },
    {
     "name": "stderr",
     "output_type": "stream",
     "text": [
      "\u001b[32m[I 2023-02-01 17:15:18,173]\u001b[0m Trial 2 finished with value: 0.49485949280328995 and parameters: {'lambda_l1': 4.370967888287832e-05, 'lambda_l2': 5.983259744945898e-05, 'num_leaves': 94, 'feature_fraction': 0.6634143791724785, 'bagging_fraction': 0.58608668308876, 'bagging_freq': 7, 'min_child_samples': 68}. Best is trial 0 with value: 0.5017135023989033.\u001b[0m\n"
     ]
    },
    {
     "name": "stdout",
     "output_type": "stream",
     "text": [
      "[LightGBM] [Warning] feature_fraction is set=0.5754289768620641, colsample_bytree=1.0 will be ignored. Current value: feature_fraction=0.5754289768620641\n",
      "[LightGBM] [Warning] lambda_l1 is set=9.169445514633868e-06, reg_alpha=0.0 will be ignored. Current value: lambda_l1=9.169445514633868e-06\n",
      "[LightGBM] [Warning] bagging_fraction is set=0.5673565286255325, subsample=1.0 will be ignored. Current value: bagging_fraction=0.5673565286255325\n",
      "[LightGBM] [Warning] lambda_l2 is set=0.015228448442890563, reg_lambda=0.0 will be ignored. Current value: lambda_l2=0.015228448442890563\n",
      "[LightGBM] [Warning] bagging_freq is set=5, subsample_freq=0 will be ignored. Current value: bagging_freq=5\n"
     ]
    },
    {
     "name": "stderr",
     "output_type": "stream",
     "text": [
      "\u001b[32m[I 2023-02-01 17:15:21,212]\u001b[0m Trial 3 finished with value: 0.4976010966415353 and parameters: {'lambda_l1': 9.169445514633868e-06, 'lambda_l2': 0.015228448442890563, 'num_leaves': 121, 'feature_fraction': 0.5754289768620641, 'bagging_fraction': 0.5673565286255325, 'bagging_freq': 5, 'min_child_samples': 71}. Best is trial 0 with value: 0.5017135023989033.\u001b[0m\n"
     ]
    },
    {
     "name": "stdout",
     "output_type": "stream",
     "text": [
      "[LightGBM] [Warning] feature_fraction is set=0.5153814806288765, colsample_bytree=1.0 will be ignored. Current value: feature_fraction=0.5153814806288765\n",
      "[LightGBM] [Warning] lambda_l1 is set=0.0004605191653358321, reg_alpha=0.0 will be ignored. Current value: lambda_l1=0.0004605191653358321\n",
      "[LightGBM] [Warning] bagging_fraction is set=0.6333540800755486, subsample=1.0 will be ignored. Current value: bagging_fraction=0.6333540800755486\n",
      "[LightGBM] [Warning] lambda_l2 is set=1.5662986043339122, reg_lambda=0.0 will be ignored. Current value: lambda_l2=1.5662986043339122\n",
      "[LightGBM] [Warning] bagging_freq is set=6, subsample_freq=0 will be ignored. Current value: bagging_freq=6\n"
     ]
    },
    {
     "name": "stderr",
     "output_type": "stream",
     "text": [
      "\u001b[32m[I 2023-02-01 17:15:25,005]\u001b[0m Trial 4 finished with value: 0.49431117203564084 and parameters: {'lambda_l1': 0.0004605191653358321, 'lambda_l2': 1.5662986043339122, 'num_leaves': 256, 'feature_fraction': 0.5153814806288765, 'bagging_fraction': 0.6333540800755486, 'bagging_freq': 6, 'min_child_samples': 32}. Best is trial 0 with value: 0.5017135023989033.\u001b[0m\n"
     ]
    },
    {
     "name": "stdout",
     "output_type": "stream",
     "text": [
      "[LightGBM] [Warning] feature_fraction is set=0.6112049384421538, colsample_bytree=1.0 will be ignored. Current value: feature_fraction=0.6112049384421538\n",
      "[LightGBM] [Warning] lambda_l1 is set=3.530511690841754e-07, reg_alpha=0.0 will be ignored. Current value: lambda_l1=3.530511690841754e-07\n",
      "[LightGBM] [Warning] bagging_fraction is set=0.8950699094041932, subsample=1.0 will be ignored. Current value: bagging_fraction=0.8950699094041932\n",
      "[LightGBM] [Warning] lambda_l2 is set=2.7177832471022527, reg_lambda=0.0 will be ignored. Current value: lambda_l2=2.7177832471022527\n",
      "[LightGBM] [Warning] bagging_freq is set=3, subsample_freq=0 will be ignored. Current value: bagging_freq=3\n"
     ]
    },
    {
     "name": "stderr",
     "output_type": "stream",
     "text": [
      "\u001b[32m[I 2023-02-01 17:15:27,844]\u001b[0m Trial 5 finished with value: 0.5058259081562714 and parameters: {'lambda_l1': 3.530511690841754e-07, 'lambda_l2': 2.7177832471022527, 'num_leaves': 71, 'feature_fraction': 0.6112049384421538, 'bagging_fraction': 0.8950699094041932, 'bagging_freq': 3, 'min_child_samples': 8}. Best is trial 5 with value: 0.5058259081562714.\u001b[0m\n"
     ]
    },
    {
     "name": "stdout",
     "output_type": "stream",
     "text": [
      "[LightGBM] [Warning] feature_fraction is set=0.49606516759833746, colsample_bytree=1.0 will be ignored. Current value: feature_fraction=0.49606516759833746\n",
      "[LightGBM] [Warning] lambda_l1 is set=5.9298804518087987e-05, reg_alpha=0.0 will be ignored. Current value: lambda_l1=5.9298804518087987e-05\n",
      "[LightGBM] [Warning] bagging_fraction is set=0.9950079213870419, subsample=1.0 will be ignored. Current value: bagging_fraction=0.9950079213870419\n",
      "[LightGBM] [Warning] lambda_l2 is set=0.0016557241370576494, reg_lambda=0.0 will be ignored. Current value: lambda_l2=0.0016557241370576494\n",
      "[LightGBM] [Warning] bagging_freq is set=5, subsample_freq=0 will be ignored. Current value: bagging_freq=5\n"
     ]
    },
    {
     "name": "stderr",
     "output_type": "stream",
     "text": [
      "\u001b[32m[I 2023-02-01 17:15:31,171]\u001b[0m Trial 6 finished with value: 0.5000685400959561 and parameters: {'lambda_l1': 5.9298804518087987e-05, 'lambda_l2': 0.0016557241370576494, 'num_leaves': 143, 'feature_fraction': 0.49606516759833746, 'bagging_fraction': 0.9950079213870419, 'bagging_freq': 5, 'min_child_samples': 93}. Best is trial 5 with value: 0.5058259081562714.\u001b[0m\n"
     ]
    },
    {
     "name": "stdout",
     "output_type": "stream",
     "text": [
      "[LightGBM] [Warning] feature_fraction is set=0.8338982805767352, colsample_bytree=1.0 will be ignored. Current value: feature_fraction=0.8338982805767352\n",
      "[LightGBM] [Warning] lambda_l1 is set=0.017833524883538333, reg_alpha=0.0 will be ignored. Current value: lambda_l1=0.017833524883538333\n",
      "[LightGBM] [Warning] bagging_fraction is set=0.9031336229521943, subsample=1.0 will be ignored. Current value: bagging_fraction=0.9031336229521943\n",
      "[LightGBM] [Warning] lambda_l2 is set=3.219588677065916e-08, reg_lambda=0.0 will be ignored. Current value: lambda_l2=3.219588677065916e-08\n",
      "[LightGBM] [Warning] bagging_freq is set=5, subsample_freq=0 will be ignored. Current value: bagging_freq=5\n"
     ]
    },
    {
     "name": "stderr",
     "output_type": "stream",
     "text": [
      "\u001b[32m[I 2023-02-01 17:15:34,861]\u001b[0m Trial 7 finished with value: 0.49554489376285127 and parameters: {'lambda_l1': 0.017833524883538333, 'lambda_l2': 3.219588677065916e-08, 'num_leaves': 169, 'feature_fraction': 0.8338982805767352, 'bagging_fraction': 0.9031336229521943, 'bagging_freq': 5, 'min_child_samples': 88}. Best is trial 5 with value: 0.5058259081562714.\u001b[0m\n"
     ]
    },
    {
     "name": "stdout",
     "output_type": "stream",
     "text": [
      "[LightGBM] [Warning] feature_fraction is set=0.41286160638310393, colsample_bytree=1.0 will be ignored. Current value: feature_fraction=0.41286160638310393\n",
      "[LightGBM] [Warning] lambda_l1 is set=0.13009214846996112, reg_alpha=0.0 will be ignored. Current value: lambda_l1=0.13009214846996112\n",
      "[LightGBM] [Warning] bagging_fraction is set=0.6150553299177586, subsample=1.0 will be ignored. Current value: bagging_fraction=0.6150553299177586\n",
      "[LightGBM] [Warning] lambda_l2 is set=6.110099322033585e-05, reg_lambda=0.0 will be ignored. Current value: lambda_l2=6.110099322033585e-05\n",
      "[LightGBM] [Warning] bagging_freq is set=7, subsample_freq=0 will be ignored. Current value: bagging_freq=7\n"
     ]
    },
    {
     "name": "stderr",
     "output_type": "stream",
     "text": [
      "\u001b[32m[I 2023-02-01 17:15:37,112]\u001b[0m Trial 8 finished with value: 0.500479780671693 and parameters: {'lambda_l1': 0.13009214846996112, 'lambda_l2': 6.110099322033585e-05, 'num_leaves': 149, 'feature_fraction': 0.41286160638310393, 'bagging_fraction': 0.6150553299177586, 'bagging_freq': 7, 'min_child_samples': 63}. Best is trial 5 with value: 0.5058259081562714.\u001b[0m\n"
     ]
    },
    {
     "name": "stdout",
     "output_type": "stream",
     "text": [
      "[LightGBM] [Warning] feature_fraction is set=0.9341321764810433, colsample_bytree=1.0 will be ignored. Current value: feature_fraction=0.9341321764810433\n",
      "[LightGBM] [Warning] lambda_l1 is set=0.24013291761804495, reg_alpha=0.0 will be ignored. Current value: lambda_l1=0.24013291761804495\n",
      "[LightGBM] [Warning] bagging_fraction is set=0.5494394281833652, subsample=1.0 will be ignored. Current value: bagging_fraction=0.5494394281833652\n",
      "[LightGBM] [Warning] lambda_l2 is set=5.887959349125933e-07, reg_lambda=0.0 will be ignored. Current value: lambda_l2=5.887959349125933e-07\n",
      "[LightGBM] [Warning] bagging_freq is set=1, subsample_freq=0 will be ignored. Current value: bagging_freq=1\n"
     ]
    },
    {
     "name": "stderr",
     "output_type": "stream",
     "text": [
      "\u001b[32m[I 2023-02-01 17:15:39,081]\u001b[0m Trial 9 finished with value: 0.49650445510623714 and parameters: {'lambda_l1': 0.24013291761804495, 'lambda_l2': 5.887959349125933e-07, 'num_leaves': 78, 'feature_fraction': 0.9341321764810433, 'bagging_fraction': 0.5494394281833652, 'bagging_freq': 1, 'min_child_samples': 18}. Best is trial 5 with value: 0.5058259081562714.\u001b[0m\n"
     ]
    },
    {
     "name": "stdout",
     "output_type": "stream",
     "text": [
      "[LightGBM] [Warning] feature_fraction is set=0.6732594029024838, colsample_bytree=1.0 will be ignored. Current value: feature_fraction=0.6732594029024838\n",
      "[LightGBM] [Warning] lambda_l1 is set=3.2073996598304527e-08, reg_alpha=0.0 will be ignored. Current value: lambda_l1=3.2073996598304527e-08\n",
      "[LightGBM] [Warning] bagging_fraction is set=0.7765789308179152, subsample=1.0 will be ignored. Current value: bagging_fraction=0.7765789308179152\n",
      "[LightGBM] [Warning] lambda_l2 is set=8.004511957854437, reg_lambda=0.0 will be ignored. Current value: lambda_l2=8.004511957854437\n",
      "[LightGBM] [Warning] bagging_freq is set=2, subsample_freq=0 will be ignored. Current value: bagging_freq=2\n"
     ]
    },
    {
     "name": "stderr",
     "output_type": "stream",
     "text": [
      "\u001b[32m[I 2023-02-01 17:15:39,700]\u001b[0m Trial 10 finished with value: 0.4901987662782728 and parameters: {'lambda_l1': 3.2073996598304527e-08, 'lambda_l2': 8.004511957854437, 'num_leaves': 4, 'feature_fraction': 0.6732594029024838, 'bagging_fraction': 0.7765789308179152, 'bagging_freq': 2, 'min_child_samples': 5}. Best is trial 5 with value: 0.5058259081562714.\u001b[0m\n"
     ]
    },
    {
     "name": "stdout",
     "output_type": "stream",
     "text": [
      "[LightGBM] [Warning] feature_fraction is set=0.75719146148267, colsample_bytree=1.0 will be ignored. Current value: feature_fraction=0.75719146148267\n",
      "[LightGBM] [Warning] lambda_l1 is set=5.363590750246367, reg_alpha=0.0 will be ignored. Current value: lambda_l1=5.363590750246367\n",
      "[LightGBM] [Warning] bagging_fraction is set=0.7180360263585133, subsample=1.0 will be ignored. Current value: bagging_fraction=0.7180360263585133\n",
      "[LightGBM] [Warning] lambda_l2 is set=0.1835971944878024, reg_lambda=0.0 will be ignored. Current value: lambda_l2=0.1835971944878024\n",
      "[LightGBM] [Warning] bagging_freq is set=3, subsample_freq=0 will be ignored. Current value: bagging_freq=3\n"
     ]
    },
    {
     "name": "stderr",
     "output_type": "stream",
     "text": [
      "\u001b[32m[I 2023-02-01 17:15:41,441]\u001b[0m Trial 11 finished with value: 0.5043180260452365 and parameters: {'lambda_l1': 5.363590750246367, 'lambda_l2': 0.1835971944878024, 'num_leaves': 241, 'feature_fraction': 0.75719146148267, 'bagging_fraction': 0.7180360263585133, 'bagging_freq': 3, 'min_child_samples': 43}. Best is trial 5 with value: 0.5058259081562714.\u001b[0m\n"
     ]
    },
    {
     "name": "stdout",
     "output_type": "stream",
     "text": [
      "[LightGBM] [Warning] feature_fraction is set=0.7293691215103003, colsample_bytree=1.0 will be ignored. Current value: feature_fraction=0.7293691215103003\n",
      "[LightGBM] [Warning] lambda_l1 is set=4.570503214636184, reg_alpha=0.0 will be ignored. Current value: lambda_l1=4.570503214636184\n",
      "[LightGBM] [Warning] bagging_fraction is set=0.4493002392184403, subsample=1.0 will be ignored. Current value: bagging_fraction=0.4493002392184403\n",
      "[LightGBM] [Warning] lambda_l2 is set=0.12561749757295956, reg_lambda=0.0 will be ignored. Current value: lambda_l2=0.12561749757295956\n",
      "[LightGBM] [Warning] bagging_freq is set=3, subsample_freq=0 will be ignored. Current value: bagging_freq=3\n"
     ]
    },
    {
     "name": "stderr",
     "output_type": "stream",
     "text": [
      "\u001b[32m[I 2023-02-01 17:15:42,788]\u001b[0m Trial 12 finished with value: 0.5062371487320082 and parameters: {'lambda_l1': 4.570503214636184, 'lambda_l2': 0.12561749757295956, 'num_leaves': 30, 'feature_fraction': 0.7293691215103003, 'bagging_fraction': 0.4493002392184403, 'bagging_freq': 3, 'min_child_samples': 40}. Best is trial 12 with value: 0.5062371487320082.\u001b[0m\n"
     ]
    },
    {
     "name": "stdout",
     "output_type": "stream",
     "text": [
      "[LightGBM] [Warning] feature_fraction is set=0.6307361642215272, colsample_bytree=1.0 will be ignored. Current value: feature_fraction=0.6307361642215272\n",
      "[LightGBM] [Warning] lambda_l1 is set=2.7446611996621027e-07, reg_alpha=0.0 will be ignored. Current value: lambda_l1=2.7446611996621027e-07\n",
      "[LightGBM] [Warning] bagging_fraction is set=0.4551272503438308, subsample=1.0 will be ignored. Current value: bagging_fraction=0.4551272503438308\n",
      "[LightGBM] [Warning] lambda_l2 is set=0.5610498485290677, reg_lambda=0.0 will be ignored. Current value: lambda_l2=0.5610498485290677\n",
      "[LightGBM] [Warning] bagging_freq is set=3, subsample_freq=0 will be ignored. Current value: bagging_freq=3\n"
     ]
    },
    {
     "name": "stderr",
     "output_type": "stream",
     "text": [
      "\u001b[32m[I 2023-02-01 17:15:44,335]\u001b[0m Trial 13 finished with value: 0.5056888279643591 and parameters: {'lambda_l1': 2.7446611996621027e-07, 'lambda_l2': 0.5610498485290677, 'num_leaves': 26, 'feature_fraction': 0.6307361642215272, 'bagging_fraction': 0.4551272503438308, 'bagging_freq': 3, 'min_child_samples': 29}. Best is trial 12 with value: 0.5062371487320082.\u001b[0m\n"
     ]
    },
    {
     "name": "stdout",
     "output_type": "stream",
     "text": [
      "[LightGBM] [Warning] feature_fraction is set=0.7490242551884421, colsample_bytree=1.0 will be ignored. Current value: feature_fraction=0.7490242551884421\n",
      "[LightGBM] [Warning] lambda_l1 is set=0.0011926142416983786, reg_alpha=0.0 will be ignored. Current value: lambda_l1=0.0011926142416983786\n",
      "[LightGBM] [Warning] bagging_fraction is set=0.42623462115152566, subsample=1.0 will be ignored. Current value: bagging_fraction=0.42623462115152566\n",
      "[LightGBM] [Warning] lambda_l2 is set=0.12801570143934426, reg_lambda=0.0 will be ignored. Current value: lambda_l2=0.12801570143934426\n",
      "[LightGBM] [Warning] bagging_freq is set=3, subsample_freq=0 will be ignored. Current value: bagging_freq=3\n"
     ]
    },
    {
     "name": "stderr",
     "output_type": "stream",
     "text": [
      "\u001b[32m[I 2023-02-01 17:15:46,524]\u001b[0m Trial 14 finished with value: 0.49568197395476354 and parameters: {'lambda_l1': 0.0011926142416983786, 'lambda_l2': 0.12801570143934426, 'num_leaves': 61, 'feature_fraction': 0.7490242551884421, 'bagging_fraction': 0.42623462115152566, 'bagging_freq': 3, 'min_child_samples': 48}. Best is trial 12 with value: 0.5062371487320082.\u001b[0m\n"
     ]
    },
    {
     "name": "stdout",
     "output_type": "stream",
     "text": [
      "[LightGBM] [Warning] feature_fraction is set=0.595778800931154, colsample_bytree=1.0 will be ignored. Current value: feature_fraction=0.595778800931154\n",
      "[LightGBM] [Warning] lambda_l1 is set=6.108209074782724e-07, reg_alpha=0.0 will be ignored. Current value: lambda_l1=6.108209074782724e-07\n",
      "[LightGBM] [Warning] bagging_fraction is set=0.40169144779824445, subsample=1.0 will be ignored. Current value: bagging_fraction=0.40169144779824445\n",
      "[LightGBM] [Warning] lambda_l2 is set=5.903318193622589, reg_lambda=0.0 will be ignored. Current value: lambda_l2=5.903318193622589\n",
      "[LightGBM] [Warning] bagging_freq is set=1, subsample_freq=0 will be ignored. Current value: bagging_freq=1\n"
     ]
    },
    {
     "name": "stderr",
     "output_type": "stream",
     "text": [
      "\u001b[32m[I 2023-02-01 17:15:48,300]\u001b[0m Trial 15 finished with value: 0.5000685400959561 and parameters: {'lambda_l1': 6.108209074782724e-07, 'lambda_l2': 5.903318193622589, 'num_leaves': 39, 'feature_fraction': 0.595778800931154, 'bagging_fraction': 0.40169144779824445, 'bagging_freq': 1, 'min_child_samples': 7}. Best is trial 12 with value: 0.5062371487320082.\u001b[0m\n"
     ]
    },
    {
     "name": "stdout",
     "output_type": "stream",
     "text": [
      "[LightGBM] [Warning] feature_fraction is set=0.713278047553408, colsample_bytree=1.0 will be ignored. Current value: feature_fraction=0.713278047553408\n",
      "[LightGBM] [Warning] lambda_l1 is set=0.004019886321829267, reg_alpha=0.0 will be ignored. Current value: lambda_l1=0.004019886321829267\n",
      "[LightGBM] [Warning] bagging_fraction is set=0.4949918755067086, subsample=1.0 will be ignored. Current value: bagging_fraction=0.4949918755067086\n",
      "[LightGBM] [Warning] lambda_l2 is set=0.06784080307711371, reg_lambda=0.0 will be ignored. Current value: lambda_l2=0.06784080307711371\n",
      "[LightGBM] [Warning] bagging_freq is set=2, subsample_freq=0 will be ignored. Current value: bagging_freq=2\n"
     ]
    },
    {
     "name": "stderr",
     "output_type": "stream",
     "text": [
      "\u001b[32m[I 2023-02-01 17:15:50,465]\u001b[0m Trial 16 finished with value: 0.5011651816312542 and parameters: {'lambda_l1': 0.004019886321829267, 'lambda_l2': 0.06784080307711371, 'num_leaves': 51, 'feature_fraction': 0.713278047553408, 'bagging_fraction': 0.4949918755067086, 'bagging_freq': 2, 'min_child_samples': 24}. Best is trial 12 with value: 0.5062371487320082.\u001b[0m\n"
     ]
    },
    {
     "name": "stdout",
     "output_type": "stream",
     "text": [
      "[LightGBM] [Warning] feature_fraction is set=0.7009047648321044, colsample_bytree=1.0 will be ignored. Current value: feature_fraction=0.7009047648321044\n",
      "[LightGBM] [Warning] lambda_l1 is set=2.1254203528070184e-06, reg_alpha=0.0 will be ignored. Current value: lambda_l1=2.1254203528070184e-06\n",
      "[LightGBM] [Warning] bagging_fraction is set=0.7253053642201248, subsample=1.0 will be ignored. Current value: bagging_fraction=0.7253053642201248\n",
      "[LightGBM] [Warning] lambda_l2 is set=1.1115483126946712, reg_lambda=0.0 will be ignored. Current value: lambda_l2=1.1115483126946712\n",
      "[LightGBM] [Warning] bagging_freq is set=4, subsample_freq=0 will be ignored. Current value: bagging_freq=4\n"
     ]
    },
    {
     "name": "stderr",
     "output_type": "stream",
     "text": [
      "\u001b[32m[I 2023-02-01 17:15:53,544]\u001b[0m Trial 17 finished with value: 0.4988348183687457 and parameters: {'lambda_l1': 2.1254203528070184e-06, 'lambda_l2': 1.1115483126946712, 'num_leaves': 100, 'feature_fraction': 0.7009047648321044, 'bagging_fraction': 0.7253053642201248, 'bagging_freq': 4, 'min_child_samples': 41}. Best is trial 12 with value: 0.5062371487320082.\u001b[0m\n"
     ]
    },
    {
     "name": "stdout",
     "output_type": "stream",
     "text": [
      "[LightGBM] [Warning] feature_fraction is set=0.9741671516529375, colsample_bytree=1.0 will be ignored. Current value: feature_fraction=0.9741671516529375\n",
      "[LightGBM] [Warning] lambda_l1 is set=3.3805369063164755e-08, reg_alpha=0.0 will be ignored. Current value: lambda_l1=3.3805369063164755e-08\n",
      "[LightGBM] [Warning] bagging_fraction is set=0.5054995335793327, subsample=1.0 will be ignored. Current value: bagging_fraction=0.5054995335793327\n",
      "[LightGBM] [Warning] lambda_l2 is set=0.030776103776559992, reg_lambda=0.0 will be ignored. Current value: lambda_l2=0.030776103776559992\n",
      "[LightGBM] [Warning] bagging_freq is set=2, subsample_freq=0 will be ignored. Current value: bagging_freq=2\n"
     ]
    },
    {
     "name": "stderr",
     "output_type": "stream",
     "text": [
      "\u001b[32m[I 2023-02-01 17:15:54,395]\u001b[0m Trial 18 finished with value: 0.5065113091158328 and parameters: {'lambda_l1': 3.3805369063164755e-08, 'lambda_l2': 0.030776103776559992, 'num_leaves': 10, 'feature_fraction': 0.9741671516529375, 'bagging_fraction': 0.5054995335793327, 'bagging_freq': 2, 'min_child_samples': 14}. Best is trial 18 with value: 0.5065113091158328.\u001b[0m\n"
     ]
    },
    {
     "name": "stdout",
     "output_type": "stream",
     "text": [
      "[LightGBM] [Warning] feature_fraction is set=0.9869035265396594, colsample_bytree=1.0 will be ignored. Current value: feature_fraction=0.9869035265396594\n",
      "[LightGBM] [Warning] lambda_l1 is set=2.5577796867816747e-08, reg_alpha=0.0 will be ignored. Current value: lambda_l1=2.5577796867816747e-08\n",
      "[LightGBM] [Warning] bagging_fraction is set=0.5015456533467323, subsample=1.0 will be ignored. Current value: bagging_fraction=0.5015456533467323\n",
      "[LightGBM] [Warning] lambda_l2 is set=0.03115145543812197, reg_lambda=0.0 will be ignored. Current value: lambda_l2=0.03115145543812197\n",
      "[LightGBM] [Warning] bagging_freq is set=2, subsample_freq=0 will be ignored. Current value: bagging_freq=2\n"
     ]
    },
    {
     "name": "stderr",
     "output_type": "stream",
     "text": [
      "\u001b[32m[I 2023-02-01 17:15:55,296]\u001b[0m Trial 19 finished with value: 0.507607950651131 and parameters: {'lambda_l1': 2.5577796867816747e-08, 'lambda_l2': 0.03115145543812197, 'num_leaves': 11, 'feature_fraction': 0.9869035265396594, 'bagging_fraction': 0.5015456533467323, 'bagging_freq': 2, 'min_child_samples': 59}. Best is trial 19 with value: 0.507607950651131.\u001b[0m\n"
     ]
    },
    {
     "name": "stdout",
     "output_type": "stream",
     "text": [
      "[LightGBM] [Warning] feature_fraction is set=0.9737737685541448, colsample_bytree=1.0 will be ignored. Current value: feature_fraction=0.9737737685541448\n",
      "[LightGBM] [Warning] lambda_l1 is set=1.0155415977557064e-08, reg_alpha=0.0 will be ignored. Current value: lambda_l1=1.0155415977557064e-08\n",
      "[LightGBM] [Warning] bagging_fraction is set=0.519011746557195, subsample=1.0 will be ignored. Current value: bagging_fraction=0.519011746557195\n",
      "[LightGBM] [Warning] lambda_l2 is set=0.01293806407081325, reg_lambda=0.0 will be ignored. Current value: lambda_l2=0.01293806407081325\n",
      "[LightGBM] [Warning] bagging_freq is set=2, subsample_freq=0 will be ignored. Current value: bagging_freq=2\n"
     ]
    },
    {
     "name": "stderr",
     "output_type": "stream",
     "text": [
      "\u001b[32m[I 2023-02-01 17:15:55,752]\u001b[0m Trial 20 finished with value: 0.48498971898560655 and parameters: {'lambda_l1': 1.0155415977557064e-08, 'lambda_l2': 0.01293806407081325, 'num_leaves': 2, 'feature_fraction': 0.9737737685541448, 'bagging_fraction': 0.519011746557195, 'bagging_freq': 2, 'min_child_samples': 57}. Best is trial 19 with value: 0.507607950651131.\u001b[0m\n"
     ]
    },
    {
     "name": "stdout",
     "output_type": "stream",
     "text": [
      "[LightGBM] [Warning] feature_fraction is set=0.9859768872003353, colsample_bytree=1.0 will be ignored. Current value: feature_fraction=0.9859768872003353\n",
      "[LightGBM] [Warning] lambda_l1 is set=5.626958237361852e-08, reg_alpha=0.0 will be ignored. Current value: lambda_l1=5.626958237361852e-08\n",
      "[LightGBM] [Warning] bagging_fraction is set=0.4845137632122444, subsample=1.0 will be ignored. Current value: bagging_fraction=0.4845137632122444\n",
      "[LightGBM] [Warning] lambda_l2 is set=0.045842857616471944, reg_lambda=0.0 will be ignored. Current value: lambda_l2=0.045842857616471944\n",
      "[LightGBM] [Warning] bagging_freq is set=2, subsample_freq=0 will be ignored. Current value: bagging_freq=2\n"
     ]
    },
    {
     "name": "stderr",
     "output_type": "stream",
     "text": [
      "\u001b[32m[I 2023-02-01 17:15:57,230]\u001b[0m Trial 21 finished with value: 0.5058259081562714 and parameters: {'lambda_l1': 5.626958237361852e-08, 'lambda_l2': 0.045842857616471944, 'num_leaves': 25, 'feature_fraction': 0.9859768872003353, 'bagging_fraction': 0.4845137632122444, 'bagging_freq': 2, 'min_child_samples': 35}. Best is trial 19 with value: 0.507607950651131.\u001b[0m\n"
     ]
    },
    {
     "name": "stdout",
     "output_type": "stream",
     "text": [
      "[LightGBM] [Warning] feature_fraction is set=0.9178021990325391, colsample_bytree=1.0 will be ignored. Current value: feature_fraction=0.9178021990325391\n",
      "[LightGBM] [Warning] lambda_l1 is set=3.217445649576491e-06, reg_alpha=0.0 will be ignored. Current value: lambda_l1=3.217445649576491e-06\n",
      "[LightGBM] [Warning] bagging_fraction is set=0.4616360278545266, subsample=1.0 will be ignored. Current value: bagging_fraction=0.4616360278545266\n",
      "[LightGBM] [Warning] lambda_l2 is set=0.0005566130478980802, reg_lambda=0.0 will be ignored. Current value: lambda_l2=0.0005566130478980802\n",
      "[LightGBM] [Warning] bagging_freq is set=1, subsample_freq=0 will be ignored. Current value: bagging_freq=1\n"
     ]
    },
    {
     "name": "stderr",
     "output_type": "stream",
     "text": [
      "\u001b[32m[I 2023-02-01 17:15:58,603]\u001b[0m Trial 22 finished with value: 0.5052775873886224 and parameters: {'lambda_l1': 3.217445649576491e-06, 'lambda_l2': 0.0005566130478980802, 'num_leaves': 23, 'feature_fraction': 0.9178021990325391, 'bagging_fraction': 0.4616360278545266, 'bagging_freq': 1, 'min_child_samples': 53}. Best is trial 19 with value: 0.507607950651131.\u001b[0m\n"
     ]
    },
    {
     "name": "stdout",
     "output_type": "stream",
     "text": [
      "[LightGBM] [Warning] feature_fraction is set=0.9963289708648431, colsample_bytree=1.0 will be ignored. Current value: feature_fraction=0.9963289708648431\n",
      "[LightGBM] [Warning] lambda_l1 is set=1.0574846075437329e-07, reg_alpha=0.0 will be ignored. Current value: lambda_l1=1.0574846075437329e-07\n",
      "[LightGBM] [Warning] bagging_fraction is set=0.5243344669907535, subsample=1.0 will be ignored. Current value: bagging_fraction=0.5243344669907535\n",
      "[LightGBM] [Warning] lambda_l2 is set=0.3491315666470322, reg_lambda=0.0 will be ignored. Current value: lambda_l2=0.3491315666470322\n",
      "[LightGBM] [Warning] bagging_freq is set=4, subsample_freq=0 will be ignored. Current value: bagging_freq=4\n"
     ]
    },
    {
     "name": "stderr",
     "output_type": "stream",
     "text": [
      "\u001b[32m[I 2023-02-01 17:15:59,069]\u001b[0m Trial 23 finished with value: 0.4810143934201508 and parameters: {'lambda_l1': 1.0574846075437329e-07, 'lambda_l2': 0.3491315666470322, 'num_leaves': 2, 'feature_fraction': 0.9963289708648431, 'bagging_fraction': 0.5243344669907535, 'bagging_freq': 4, 'min_child_samples': 16}. Best is trial 19 with value: 0.507607950651131.\u001b[0m\n"
     ]
    },
    {
     "name": "stdout",
     "output_type": "stream",
     "text": [
      "[LightGBM] [Warning] feature_fraction is set=0.9014846672479004, colsample_bytree=1.0 will be ignored. Current value: feature_fraction=0.9014846672479004\n",
      "[LightGBM] [Warning] lambda_l1 is set=1.0455094460213893e-08, reg_alpha=0.0 will be ignored. Current value: lambda_l1=1.0455094460213893e-08\n",
      "[LightGBM] [Warning] bagging_fraction is set=0.4093040452445219, subsample=1.0 will be ignored. Current value: bagging_fraction=0.4093040452445219\n",
      "[LightGBM] [Warning] lambda_l2 is set=0.023540834105468592, reg_lambda=0.0 will be ignored. Current value: lambda_l2=0.023540834105468592\n",
      "[LightGBM] [Warning] bagging_freq is set=2, subsample_freq=0 will be ignored. Current value: bagging_freq=2\n"
     ]
    },
    {
     "name": "stderr",
     "output_type": "stream",
     "text": [
      "\u001b[32m[I 2023-02-01 17:16:00,926]\u001b[0m Trial 24 finished with value: 0.49856065798492116 and parameters: {'lambda_l1': 1.0455094460213893e-08, 'lambda_l2': 0.023540834105468592, 'num_leaves': 45, 'feature_fraction': 0.9014846672479004, 'bagging_fraction': 0.4093040452445219, 'bagging_freq': 2, 'min_child_samples': 59}. Best is trial 19 with value: 0.507607950651131.\u001b[0m\n"
     ]
    },
    {
     "name": "stdout",
     "output_type": "stream",
     "text": [
      "[LightGBM] [Warning] feature_fraction is set=0.8746510208694664, colsample_bytree=1.0 will be ignored. Current value: feature_fraction=0.8746510208694664\n",
      "[LightGBM] [Warning] lambda_l1 is set=1.1268085222372891e-07, reg_alpha=0.0 will be ignored. Current value: lambda_l1=1.1268085222372891e-07\n",
      "[LightGBM] [Warning] bagging_fraction is set=0.4663123132693122, subsample=1.0 will be ignored. Current value: bagging_fraction=0.4663123132693122\n",
      "[LightGBM] [Warning] lambda_l2 is set=0.2947237844982505, reg_lambda=0.0 will be ignored. Current value: lambda_l2=0.2947237844982505\n",
      "[LightGBM] [Warning] bagging_freq is set=3, subsample_freq=0 will be ignored. Current value: bagging_freq=3\n"
     ]
    },
    {
     "name": "stderr",
     "output_type": "stream",
     "text": [
      "\u001b[32m[I 2023-02-01 17:16:04,548]\u001b[0m Trial 25 finished with value: 0.4884167237834133 and parameters: {'lambda_l1': 1.1268085222372891e-07, 'lambda_l2': 0.2947237844982505, 'num_leaves': 185, 'feature_fraction': 0.8746510208694664, 'bagging_fraction': 0.4663123132693122, 'bagging_freq': 3, 'min_child_samples': 39}. Best is trial 19 with value: 0.507607950651131.\u001b[0m\n"
     ]
    },
    {
     "name": "stdout",
     "output_type": "stream",
     "text": [
      "[LightGBM] [Warning] feature_fraction is set=0.9461801147219353, colsample_bytree=1.0 will be ignored. Current value: feature_fraction=0.9461801147219353\n",
      "[LightGBM] [Warning] lambda_l1 is set=1.1961570567522654e-06, reg_alpha=0.0 will be ignored. Current value: lambda_l1=1.1961570567522654e-06\n",
      "[LightGBM] [Warning] bagging_fraction is set=0.5246783522293351, subsample=1.0 will be ignored. Current value: bagging_fraction=0.5246783522293351\n",
      "[LightGBM] [Warning] lambda_l2 is set=0.0041784546510256594, reg_lambda=0.0 will be ignored. Current value: lambda_l2=0.0041784546510256594\n",
      "[LightGBM] [Warning] bagging_freq is set=1, subsample_freq=0 will be ignored. Current value: bagging_freq=1\n"
     ]
    },
    {
     "name": "stderr",
     "output_type": "stream",
     "text": [
      "\u001b[32m[I 2023-02-01 17:16:05,824]\u001b[0m Trial 26 finished with value: 0.5003427004797807 and parameters: {'lambda_l1': 1.1961570567522654e-06, 'lambda_l2': 0.0041784546510256594, 'num_leaves': 31, 'feature_fraction': 0.9461801147219353, 'bagging_fraction': 0.5246783522293351, 'bagging_freq': 1, 'min_child_samples': 80}. Best is trial 19 with value: 0.507607950651131.\u001b[0m\n"
     ]
    },
    {
     "name": "stdout",
     "output_type": "stream",
     "text": [
      "[LightGBM] [Warning] feature_fraction is set=0.8891956323331335, colsample_bytree=1.0 will be ignored. Current value: feature_fraction=0.8891956323331335\n",
      "[LightGBM] [Warning] lambda_l1 is set=8.065323422811595e-06, reg_alpha=0.0 will be ignored. Current value: lambda_l1=8.065323422811595e-06\n",
      "[LightGBM] [Warning] bagging_fraction is set=0.5844037020703671, subsample=1.0 will be ignored. Current value: bagging_fraction=0.5844037020703671\n",
      "[LightGBM] [Warning] lambda_l2 is set=0.060897748252449486, reg_lambda=0.0 will be ignored. Current value: lambda_l2=0.060897748252449486\n",
      "[LightGBM] [Warning] bagging_freq is set=2, subsample_freq=0 will be ignored. Current value: bagging_freq=2\n"
     ]
    },
    {
     "name": "stderr",
     "output_type": "stream",
     "text": [
      "\u001b[32m[I 2023-02-01 17:16:08,517]\u001b[0m Trial 27 finished with value: 0.49773817683344757 and parameters: {'lambda_l1': 8.065323422811595e-06, 'lambda_l2': 0.060897748252449486, 'num_leaves': 85, 'feature_fraction': 0.8891956323331335, 'bagging_fraction': 0.5844037020703671, 'bagging_freq': 2, 'min_child_samples': 24}. Best is trial 19 with value: 0.507607950651131.\u001b[0m\n"
     ]
    },
    {
     "name": "stdout",
     "output_type": "stream",
     "text": [
      "[LightGBM] [Warning] feature_fraction is set=0.9568678592258716, colsample_bytree=1.0 will be ignored. Current value: feature_fraction=0.9568678592258716\n",
      "[LightGBM] [Warning] lambda_l1 is set=4.829209522052479e-07, reg_alpha=0.0 will be ignored. Current value: lambda_l1=4.829209522052479e-07\n",
      "[LightGBM] [Warning] bagging_fraction is set=0.44318803234389414, subsample=1.0 will be ignored. Current value: bagging_fraction=0.44318803234389414\n",
      "[LightGBM] [Warning] lambda_l2 is set=0.8216722644452498, reg_lambda=0.0 will be ignored. Current value: lambda_l2=0.8216722644452498\n",
      "[LightGBM] [Warning] bagging_freq is set=4, subsample_freq=0 will be ignored. Current value: bagging_freq=4\n"
     ]
    },
    {
     "name": "stderr",
     "output_type": "stream",
     "text": [
      "\u001b[32m[I 2023-02-01 17:16:11,368]\u001b[0m Trial 28 finished with value: 0.4937628512679918 and parameters: {'lambda_l1': 4.829209522052479e-07, 'lambda_l2': 0.8216722644452498, 'num_leaves': 112, 'feature_fraction': 0.9568678592258716, 'bagging_fraction': 0.44318803234389414, 'bagging_freq': 4, 'min_child_samples': 49}. Best is trial 19 with value: 0.507607950651131.\u001b[0m\n"
     ]
    },
    {
     "name": "stdout",
     "output_type": "stream",
     "text": [
      "[LightGBM] [Warning] feature_fraction is set=0.8102954319269232, colsample_bytree=1.0 will be ignored. Current value: feature_fraction=0.8102954319269232\n",
      "[LightGBM] [Warning] lambda_l1 is set=2.5864733740656374, reg_alpha=0.0 will be ignored. Current value: lambda_l1=2.5864733740656374\n",
      "[LightGBM] [Warning] bagging_fraction is set=0.6446135555760086, subsample=1.0 will be ignored. Current value: bagging_fraction=0.6446135555760086\n",
      "[LightGBM] [Warning] lambda_l2 is set=0.006479783304006462, reg_lambda=0.0 will be ignored. Current value: lambda_l2=0.006479783304006462\n",
      "[LightGBM] [Warning] bagging_freq is set=3, subsample_freq=0 will be ignored. Current value: bagging_freq=3\n"
     ]
    },
    {
     "name": "stderr",
     "output_type": "stream",
     "text": [
      "\u001b[32m[I 2023-02-01 17:16:13,584]\u001b[0m Trial 29 finished with value: 0.5055517477724469 and parameters: {'lambda_l1': 2.5864733740656374, 'lambda_l2': 0.006479783304006462, 'num_leaves': 60, 'feature_fraction': 0.8102954319269232, 'bagging_fraction': 0.6446135555760086, 'bagging_freq': 3, 'min_child_samples': 15}. Best is trial 19 with value: 0.507607950651131.\u001b[0m\n"
     ]
    },
    {
     "name": "stdout",
     "output_type": "stream",
     "text": [
      "[LightGBM] [Warning] feature_fraction is set=0.7981215558121928, colsample_bytree=1.0 will be ignored. Current value: feature_fraction=0.7981215558121928\n",
      "[LightGBM] [Warning] lambda_l1 is set=0.00014786080020120644, reg_alpha=0.0 will be ignored. Current value: lambda_l1=0.00014786080020120644\n",
      "[LightGBM] [Warning] bagging_fraction is set=0.500278161381437, subsample=1.0 will be ignored. Current value: bagging_fraction=0.500278161381437\n",
      "[LightGBM] [Warning] lambda_l2 is set=0.03408280028444716, reg_lambda=0.0 will be ignored. Current value: lambda_l2=0.03408280028444716\n",
      "[LightGBM] [Warning] bagging_freq is set=1, subsample_freq=0 will be ignored. Current value: bagging_freq=1\n"
     ]
    },
    {
     "name": "stderr",
     "output_type": "stream",
     "text": [
      "\u001b[32m[I 2023-02-01 17:16:16,060]\u001b[0m Trial 30 finished with value: 0.49828649760109667 and parameters: {'lambda_l1': 0.00014786080020120644, 'lambda_l2': 0.03408280028444716, 'num_leaves': 210, 'feature_fraction': 0.7981215558121928, 'bagging_fraction': 0.500278161381437, 'bagging_freq': 1, 'min_child_samples': 70}. Best is trial 19 with value: 0.507607950651131.\u001b[0m\n"
     ]
    },
    {
     "name": "stdout",
     "output_type": "stream",
     "text": [
      "[LightGBM] [Warning] feature_fraction is set=0.9979001662126564, colsample_bytree=1.0 will be ignored. Current value: feature_fraction=0.9979001662126564\n",
      "[LightGBM] [Warning] lambda_l1 is set=2.2478016864180256e-07, reg_alpha=0.0 will be ignored. Current value: lambda_l1=2.2478016864180256e-07\n",
      "[LightGBM] [Warning] bagging_fraction is set=0.6705565419631845, subsample=1.0 will be ignored. Current value: bagging_fraction=0.6705565419631845\n",
      "[LightGBM] [Warning] lambda_l2 is set=2.373143549705576, reg_lambda=0.0 will be ignored. Current value: lambda_l2=2.373143549705576\n",
      "[LightGBM] [Warning] bagging_freq is set=3, subsample_freq=0 will be ignored. Current value: bagging_freq=3\n"
     ]
    },
    {
     "name": "stderr",
     "output_type": "stream",
     "text": [
      "\u001b[32m[I 2023-02-01 17:16:17,370]\u001b[0m Trial 31 finished with value: 0.5008910212474298 and parameters: {'lambda_l1': 2.2478016864180256e-07, 'lambda_l2': 2.373143549705576, 'num_leaves': 21, 'feature_fraction': 0.9979001662126564, 'bagging_fraction': 0.6705565419631845, 'bagging_freq': 3, 'min_child_samples': 10}. Best is trial 19 with value: 0.507607950651131.\u001b[0m\n"
     ]
    },
    {
     "name": "stdout",
     "output_type": "stream",
     "text": [
      "[LightGBM] [Warning] feature_fraction is set=0.8869880990814423, colsample_bytree=1.0 will be ignored. Current value: feature_fraction=0.8869880990814423\n",
      "[LightGBM] [Warning] lambda_l1 is set=3.915738753433581e-08, reg_alpha=0.0 will be ignored. Current value: lambda_l1=3.915738753433581e-08\n",
      "[LightGBM] [Warning] bagging_fraction is set=0.5450638376037559, subsample=1.0 will be ignored. Current value: bagging_fraction=0.5450638376037559\n",
      "[LightGBM] [Warning] lambda_l2 is set=9.284842254764591, reg_lambda=0.0 will be ignored. Current value: lambda_l2=9.284842254764591\n",
      "[LightGBM] [Warning] bagging_freq is set=2, subsample_freq=0 will be ignored. Current value: bagging_freq=2\n"
     ]
    },
    {
     "name": "stderr",
     "output_type": "stream",
     "text": [
      "\u001b[32m[I 2023-02-01 17:16:19,662]\u001b[0m Trial 32 finished with value: 0.4996572995202193 and parameters: {'lambda_l1': 3.915738753433581e-08, 'lambda_l2': 9.284842254764591, 'num_leaves': 66, 'feature_fraction': 0.8869880990814423, 'bagging_fraction': 0.5450638376037559, 'bagging_freq': 2, 'min_child_samples': 22}. Best is trial 19 with value: 0.507607950651131.\u001b[0m\n"
     ]
    },
    {
     "name": "stdout",
     "output_type": "stream",
     "text": [
      "[LightGBM] [Warning] feature_fraction is set=0.8555903508070889, colsample_bytree=1.0 will be ignored. Current value: feature_fraction=0.8555903508070889\n",
      "[LightGBM] [Warning] lambda_l1 is set=3.279025753119076e-07, reg_alpha=0.0 will be ignored. Current value: lambda_l1=3.279025753119076e-07\n",
      "[LightGBM] [Warning] bagging_fraction is set=0.5973473381685762, subsample=1.0 will be ignored. Current value: bagging_fraction=0.5973473381685762\n",
      "[LightGBM] [Warning] lambda_l2 is set=0.2695960386689185, reg_lambda=0.0 will be ignored. Current value: lambda_l2=0.2695960386689185\n",
      "[LightGBM] [Warning] bagging_freq is set=4, subsample_freq=0 will be ignored. Current value: bagging_freq=4\n"
     ]
    },
    {
     "name": "stderr",
     "output_type": "stream",
     "text": [
      "\u001b[32m[I 2023-02-01 17:16:20,729]\u001b[0m Trial 33 finished with value: 0.5051405071967101 and parameters: {'lambda_l1': 3.279025753119076e-07, 'lambda_l2': 0.2695960386689185, 'num_leaves': 15, 'feature_fraction': 0.8555903508070889, 'bagging_fraction': 0.5973473381685762, 'bagging_freq': 4, 'min_child_samples': 11}. Best is trial 19 with value: 0.507607950651131.\u001b[0m\n"
     ]
    },
    {
     "name": "stdout",
     "output_type": "stream",
     "text": [
      "[LightGBM] [Warning] feature_fraction is set=0.926013149870943, colsample_bytree=1.0 will be ignored. Current value: feature_fraction=0.926013149870943\n",
      "[LightGBM] [Warning] lambda_l1 is set=1.8430730542629535e-05, reg_alpha=0.0 will be ignored. Current value: lambda_l1=1.8430730542629535e-05\n",
      "[LightGBM] [Warning] bagging_fraction is set=0.5540829125928421, subsample=1.0 will be ignored. Current value: bagging_fraction=0.5540829125928421\n",
      "[LightGBM] [Warning] lambda_l2 is set=0.07935657028469151, reg_lambda=0.0 will be ignored. Current value: lambda_l2=0.07935657028469151\n",
      "[LightGBM] [Warning] bagging_freq is set=3, subsample_freq=0 will be ignored. Current value: bagging_freq=3\n"
     ]
    },
    {
     "name": "stderr",
     "output_type": "stream",
     "text": [
      "\u001b[32m[I 2023-02-01 17:16:22,614]\u001b[0m Trial 34 finished with value: 0.5010281014393421 and parameters: {'lambda_l1': 1.8430730542629535e-05, 'lambda_l2': 0.07935657028469151, 'num_leaves': 43, 'feature_fraction': 0.926013149870943, 'bagging_fraction': 0.5540829125928421, 'bagging_freq': 3, 'min_child_samples': 80}. Best is trial 19 with value: 0.507607950651131.\u001b[0m\n"
     ]
    },
    {
     "name": "stdout",
     "output_type": "stream",
     "text": [
      "[LightGBM] [Warning] feature_fraction is set=0.95506167641678, colsample_bytree=1.0 will be ignored. Current value: feature_fraction=0.95506167641678\n",
      "[LightGBM] [Warning] lambda_l1 is set=9.221057056658175e-07, reg_alpha=0.0 will be ignored. Current value: lambda_l1=9.221057056658175e-07\n",
      "[LightGBM] [Warning] bagging_fraction is set=0.4426194304986032, subsample=1.0 will be ignored. Current value: bagging_fraction=0.4426194304986032\n",
      "[LightGBM] [Warning] lambda_l2 is set=2.125725155655764, reg_lambda=0.0 will be ignored. Current value: lambda_l2=2.125725155655764\n",
      "[LightGBM] [Warning] bagging_freq is set=2, subsample_freq=0 will be ignored. Current value: bagging_freq=2\n"
     ]
    },
    {
     "name": "stderr",
     "output_type": "stream",
     "text": [
      "\u001b[32m[I 2023-02-01 17:16:25,016]\u001b[0m Trial 35 finished with value: 0.5002056202878684 and parameters: {'lambda_l1': 9.221057056658175e-07, 'lambda_l2': 2.125725155655764, 'num_leaves': 69, 'feature_fraction': 0.95506167641678, 'bagging_fraction': 0.4426194304986032, 'bagging_freq': 2, 'min_child_samples': 20}. Best is trial 19 with value: 0.507607950651131.\u001b[0m\n"
     ]
    },
    {
     "name": "stdout",
     "output_type": "stream",
     "text": [
      "[LightGBM] [Warning] feature_fraction is set=0.8546319755687095, colsample_bytree=1.0 will be ignored. Current value: feature_fraction=0.8546319755687095\n",
      "[LightGBM] [Warning] lambda_l1 is set=2.6623719453811504e-08, reg_alpha=0.0 will be ignored. Current value: lambda_l1=2.6623719453811504e-08\n",
      "[LightGBM] [Warning] bagging_fraction is set=0.4846203825046309, subsample=1.0 will be ignored. Current value: bagging_fraction=0.4846203825046309\n",
      "[LightGBM] [Warning] lambda_l2 is set=0.011654463141434205, reg_lambda=0.0 will be ignored. Current value: lambda_l2=0.011654463141434205\n",
      "[LightGBM] [Warning] bagging_freq is set=4, subsample_freq=0 will be ignored. Current value: bagging_freq=4\n"
     ]
    },
    {
     "name": "stderr",
     "output_type": "stream",
     "text": [
      "\u001b[32m[I 2023-02-01 17:16:26,038]\u001b[0m Trial 36 finished with value: 0.5019876627827279 and parameters: {'lambda_l1': 2.6623719453811504e-08, 'lambda_l2': 0.011654463141434205, 'num_leaves': 13, 'feature_fraction': 0.8546319755687095, 'bagging_fraction': 0.4846203825046309, 'bagging_freq': 4, 'min_child_samples': 29}. Best is trial 19 with value: 0.507607950651131.\u001b[0m\n"
     ]
    },
    {
     "name": "stdout",
     "output_type": "stream",
     "text": [
      "[LightGBM] [Warning] feature_fraction is set=0.785016881985946, colsample_bytree=1.0 will be ignored. Current value: feature_fraction=0.785016881985946\n",
      "[LightGBM] [Warning] lambda_l1 is set=5.412614281999591e-06, reg_alpha=0.0 will be ignored. Current value: lambda_l1=5.412614281999591e-06\n",
      "[LightGBM] [Warning] bagging_fraction is set=0.5723580112667729, subsample=1.0 will be ignored. Current value: bagging_fraction=0.5723580112667729\n",
      "[LightGBM] [Warning] lambda_l2 is set=0.0022697453161289695, reg_lambda=0.0 will be ignored. Current value: lambda_l2=0.0022697453161289695\n",
      "[LightGBM] [Warning] bagging_freq is set=3, subsample_freq=0 will be ignored. Current value: bagging_freq=3\n"
     ]
    },
    {
     "name": "stderr",
     "output_type": "stream",
     "text": [
      "\u001b[32m[I 2023-02-01 17:16:27,912]\u001b[0m Trial 37 finished with value: 0.500479780671693 and parameters: {'lambda_l1': 5.412614281999591e-06, 'lambda_l2': 0.0022697453161289695, 'num_leaves': 38, 'feature_fraction': 0.785016881985946, 'bagging_fraction': 0.5723580112667729, 'bagging_freq': 3, 'min_child_samples': 65}. Best is trial 19 with value: 0.507607950651131.\u001b[0m\n"
     ]
    },
    {
     "name": "stdout",
     "output_type": "stream",
     "text": [
      "[LightGBM] [Warning] feature_fraction is set=0.8372814076794718, colsample_bytree=1.0 will be ignored. Current value: feature_fraction=0.8372814076794718\n",
      "[LightGBM] [Warning] lambda_l1 is set=2.6858612162386384e-05, reg_alpha=0.0 will be ignored. Current value: lambda_l1=2.6858612162386384e-05\n",
      "[LightGBM] [Warning] bagging_fraction is set=0.4007229896104833, subsample=1.0 will be ignored. Current value: bagging_fraction=0.4007229896104833\n",
      "[LightGBM] [Warning] lambda_l2 is set=0.6911844301693545, reg_lambda=0.0 will be ignored. Current value: lambda_l2=0.6911844301693545\n",
      "[LightGBM] [Warning] bagging_freq is set=2, subsample_freq=0 will be ignored. Current value: bagging_freq=2\n"
     ]
    },
    {
     "name": "stderr",
     "output_type": "stream",
     "text": [
      "\u001b[32m[I 2023-02-01 17:16:30,198]\u001b[0m Trial 38 finished with value: 0.4966415352981494 and parameters: {'lambda_l1': 2.6858612162386384e-05, 'lambda_l2': 0.6911844301693545, 'num_leaves': 93, 'feature_fraction': 0.8372814076794718, 'bagging_fraction': 0.4007229896104833, 'bagging_freq': 2, 'min_child_samples': 76}. Best is trial 19 with value: 0.507607950651131.\u001b[0m\n"
     ]
    },
    {
     "name": "stdout",
     "output_type": "stream",
     "text": [
      "[LightGBM] [Warning] feature_fraction is set=0.6470612451419966, colsample_bytree=1.0 will be ignored. Current value: feature_fraction=0.6470612451419966\n",
      "[LightGBM] [Warning] lambda_l1 is set=2.1646658180639553e-06, reg_alpha=0.0 will be ignored. Current value: lambda_l1=2.1646658180639553e-06\n",
      "[LightGBM] [Warning] bagging_fraction is set=0.8270822708696053, subsample=1.0 will be ignored. Current value: bagging_fraction=0.8270822708696053\n",
      "[LightGBM] [Warning] lambda_l2 is set=0.02131192822190315, reg_lambda=0.0 will be ignored. Current value: lambda_l2=0.02131192822190315\n",
      "[LightGBM] [Warning] bagging_freq is set=5, subsample_freq=0 will be ignored. Current value: bagging_freq=5\n"
     ]
    },
    {
     "name": "stderr",
     "output_type": "stream",
     "text": [
      "\u001b[32m[I 2023-02-01 17:16:32,791]\u001b[0m Trial 39 finished with value: 0.4993831391363948 and parameters: {'lambda_l1': 2.1646658180639553e-06, 'lambda_l2': 0.02131192822190315, 'num_leaves': 77, 'feature_fraction': 0.6470612451419966, 'bagging_fraction': 0.8270822708696053, 'bagging_freq': 5, 'min_child_samples': 12}. Best is trial 19 with value: 0.507607950651131.\u001b[0m\n"
     ]
    },
    {
     "name": "stdout",
     "output_type": "stream",
     "text": [
      "[LightGBM] [Warning] feature_fraction is set=0.9105583169065348, colsample_bytree=1.0 will be ignored. Current value: feature_fraction=0.9105583169065348\n",
      "[LightGBM] [Warning] lambda_l1 is set=1.220017388473313e-07, reg_alpha=0.0 will be ignored. Current value: lambda_l1=1.220017388473313e-07\n",
      "[LightGBM] [Warning] bagging_fraction is set=0.615589637091221, subsample=1.0 will be ignored. Current value: bagging_fraction=0.615589637091221\n",
      "[LightGBM] [Warning] lambda_l2 is set=2.7329392327318587, reg_lambda=0.0 will be ignored. Current value: lambda_l2=2.7329392327318587\n",
      "[LightGBM] [Warning] bagging_freq is set=3, subsample_freq=0 will be ignored. Current value: bagging_freq=3\n"
     ]
    },
    {
     "name": "stderr",
     "output_type": "stream",
     "text": [
      "\u001b[32m[I 2023-02-01 17:16:33,898]\u001b[0m Trial 40 finished with value: 0.5023989033584647 and parameters: {'lambda_l1': 1.220017388473313e-07, 'lambda_l2': 2.7329392327318587, 'num_leaves': 14, 'feature_fraction': 0.9105583169065348, 'bagging_fraction': 0.615589637091221, 'bagging_freq': 3, 'min_child_samples': 98}. Best is trial 19 with value: 0.507607950651131.\u001b[0m\n"
     ]
    },
    {
     "name": "stdout",
     "output_type": "stream",
     "text": [
      "[LightGBM] [Warning] feature_fraction is set=0.969851375994353, colsample_bytree=1.0 will be ignored. Current value: feature_fraction=0.969851375994353\n",
      "[LightGBM] [Warning] lambda_l1 is set=8.80690729323384e-08, reg_alpha=0.0 will be ignored. Current value: lambda_l1=8.80690729323384e-08\n",
      "[LightGBM] [Warning] bagging_fraction is set=0.48858314041849915, subsample=1.0 will be ignored. Current value: bagging_fraction=0.48858314041849915\n",
      "[LightGBM] [Warning] lambda_l2 is set=0.11166941930020537, reg_lambda=0.0 will be ignored. Current value: lambda_l2=0.11166941930020537\n",
      "[LightGBM] [Warning] bagging_freq is set=2, subsample_freq=0 will be ignored. Current value: bagging_freq=2\n"
     ]
    },
    {
     "name": "stderr",
     "output_type": "stream",
     "text": [
      "\u001b[32m[I 2023-02-01 17:16:35,490]\u001b[0m Trial 41 finished with value: 0.5030843043180261 and parameters: {'lambda_l1': 8.80690729323384e-08, 'lambda_l2': 0.11166941930020537, 'num_leaves': 32, 'feature_fraction': 0.969851375994353, 'bagging_fraction': 0.48858314041849915, 'bagging_freq': 2, 'min_child_samples': 30}. Best is trial 19 with value: 0.507607950651131.\u001b[0m\n"
     ]
    },
    {
     "name": "stdout",
     "output_type": "stream",
     "text": [
      "[LightGBM] [Warning] feature_fraction is set=0.9925726076545265, colsample_bytree=1.0 will be ignored. Current value: feature_fraction=0.9925726076545265\n",
      "[LightGBM] [Warning] lambda_l1 is set=3.897778079194462e-08, reg_alpha=0.0 will be ignored. Current value: lambda_l1=3.897778079194462e-08\n",
      "[LightGBM] [Warning] bagging_fraction is set=0.4670847583543355, subsample=1.0 will be ignored. Current value: bagging_fraction=0.4670847583543355\n",
      "[LightGBM] [Warning] lambda_l2 is set=0.03233853318686194, reg_lambda=0.0 will be ignored. Current value: lambda_l2=0.03233853318686194\n",
      "[LightGBM] [Warning] bagging_freq is set=2, subsample_freq=0 will be ignored. Current value: bagging_freq=2\n"
     ]
    },
    {
     "name": "stderr",
     "output_type": "stream",
     "text": [
      "\u001b[32m[I 2023-02-01 17:16:37,606]\u001b[0m Trial 42 finished with value: 0.4996572995202193 and parameters: {'lambda_l1': 3.897778079194462e-08, 'lambda_l2': 0.03233853318686194, 'num_leaves': 54, 'feature_fraction': 0.9925726076545265, 'bagging_fraction': 0.4670847583543355, 'bagging_freq': 2, 'min_child_samples': 36}. Best is trial 19 with value: 0.507607950651131.\u001b[0m\n"
     ]
    },
    {
     "name": "stdout",
     "output_type": "stream",
     "text": [
      "[LightGBM] [Warning] feature_fraction is set=0.936663491414133, colsample_bytree=1.0 will be ignored. Current value: feature_fraction=0.936663491414133\n",
      "[LightGBM] [Warning] lambda_l1 is set=0.00010527207411919046, reg_alpha=0.0 will be ignored. Current value: lambda_l1=0.00010527207411919046\n",
      "[LightGBM] [Warning] bagging_fraction is set=0.5108856070754182, subsample=1.0 will be ignored. Current value: bagging_fraction=0.5108856070754182\n",
      "[LightGBM] [Warning] lambda_l2 is set=0.19853289317760175, reg_lambda=0.0 will be ignored. Current value: lambda_l2=0.19853289317760175\n",
      "[LightGBM] [Warning] bagging_freq is set=1, subsample_freq=0 will be ignored. Current value: bagging_freq=1\n"
     ]
    },
    {
     "name": "stderr",
     "output_type": "stream",
     "text": [
      "\u001b[32m[I 2023-02-01 17:16:38,757]\u001b[0m Trial 43 finished with value: 0.5048663468128856 and parameters: {'lambda_l1': 0.00010527207411919046, 'lambda_l2': 0.19853289317760175, 'num_leaves': 24, 'feature_fraction': 0.936663491414133, 'bagging_fraction': 0.5108856070754182, 'bagging_freq': 1, 'min_child_samples': 45}. Best is trial 19 with value: 0.507607950651131.\u001b[0m\n"
     ]
    },
    {
     "name": "stdout",
     "output_type": "stream",
     "text": [
      "[LightGBM] [Warning] feature_fraction is set=0.9672544701502367, colsample_bytree=1.0 will be ignored. Current value: feature_fraction=0.9672544701502367\n",
      "[LightGBM] [Warning] lambda_l1 is set=1.7113685677822448e-08, reg_alpha=0.0 will be ignored. Current value: lambda_l1=1.7113685677822448e-08\n",
      "[LightGBM] [Warning] bagging_fraction is set=0.42830752408069506, subsample=1.0 will be ignored. Current value: bagging_fraction=0.42830752408069506\n",
      "[LightGBM] [Warning] lambda_l2 is set=0.008812218716088985, reg_lambda=0.0 will be ignored. Current value: lambda_l2=0.008812218716088985\n",
      "[LightGBM] [Warning] bagging_freq is set=6, subsample_freq=0 will be ignored. Current value: bagging_freq=6\n"
     ]
    },
    {
     "name": "stderr",
     "output_type": "stream",
     "text": [
      "\u001b[32m[I 2023-02-01 17:16:40,719]\u001b[0m Trial 44 finished with value: 0.49485949280328995 and parameters: {'lambda_l1': 1.7113685677822448e-08, 'lambda_l2': 0.008812218716088985, 'num_leaves': 49, 'feature_fraction': 0.9672544701502367, 'bagging_fraction': 0.42830752408069506, 'bagging_freq': 6, 'min_child_samples': 35}. Best is trial 19 with value: 0.507607950651131.\u001b[0m\n"
     ]
    },
    {
     "name": "stdout",
     "output_type": "stream",
     "text": [
      "[LightGBM] [Warning] feature_fraction is set=0.5574901507408412, colsample_bytree=1.0 will be ignored. Current value: feature_fraction=0.5574901507408412\n",
      "[LightGBM] [Warning] lambda_l1 is set=3.982962278542628e-08, reg_alpha=0.0 will be ignored. Current value: lambda_l1=3.982962278542628e-08\n",
      "[LightGBM] [Warning] bagging_fraction is set=0.5377025661667274, subsample=1.0 will be ignored. Current value: bagging_fraction=0.5377025661667274\n",
      "[LightGBM] [Warning] lambda_l2 is set=0.0011011168180515686, reg_lambda=0.0 will be ignored. Current value: lambda_l2=0.0011011168180515686\n",
      "[LightGBM] [Warning] bagging_freq is set=3, subsample_freq=0 will be ignored. Current value: bagging_freq=3\n"
     ]
    },
    {
     "name": "stderr",
     "output_type": "stream",
     "text": [
      "\u001b[32m[I 2023-02-01 17:16:43,495]\u001b[0m Trial 45 finished with value: 0.4993831391363948 and parameters: {'lambda_l1': 3.982962278542628e-08, 'lambda_l2': 0.0011011168180515686, 'num_leaves': 125, 'feature_fraction': 0.5574901507408412, 'bagging_fraction': 0.5377025661667274, 'bagging_freq': 3, 'min_child_samples': 55}. Best is trial 19 with value: 0.507607950651131.\u001b[0m\n"
     ]
    },
    {
     "name": "stdout",
     "output_type": "stream",
     "text": [
      "[LightGBM] [Warning] feature_fraction is set=0.9208832535287024, colsample_bytree=1.0 will be ignored. Current value: feature_fraction=0.9208832535287024\n",
      "[LightGBM] [Warning] lambda_l1 is set=3.227021396000038e-07, reg_alpha=0.0 will be ignored. Current value: lambda_l1=3.227021396000038e-07\n",
      "[LightGBM] [Warning] bagging_fraction is set=0.950661392265763, subsample=1.0 will be ignored. Current value: bagging_fraction=0.950661392265763\n",
      "[LightGBM] [Warning] lambda_l2 is set=0.05367275582358302, reg_lambda=0.0 will be ignored. Current value: lambda_l2=0.05367275582358302\n",
      "[LightGBM] [Warning] bagging_freq is set=2, subsample_freq=0 will be ignored. Current value: bagging_freq=2\n"
     ]
    },
    {
     "name": "stderr",
     "output_type": "stream",
     "text": [
      "\u001b[32m[I 2023-02-01 17:16:44,477]\u001b[0m Trial 46 finished with value: 0.5043180260452365 and parameters: {'lambda_l1': 3.227021396000038e-07, 'lambda_l2': 0.05367275582358302, 'num_leaves': 11, 'feature_fraction': 0.9208832535287024, 'bagging_fraction': 0.950661392265763, 'bagging_freq': 2, 'min_child_samples': 61}. Best is trial 19 with value: 0.507607950651131.\u001b[0m\n"
     ]
    },
    {
     "name": "stdout",
     "output_type": "stream",
     "text": [
      "[LightGBM] [Warning] feature_fraction is set=0.6815451251374876, colsample_bytree=1.0 will be ignored. Current value: feature_fraction=0.6815451251374876\n",
      "[LightGBM] [Warning] lambda_l1 is set=9.434669036708306e-07, reg_alpha=0.0 will be ignored. Current value: lambda_l1=9.434669036708306e-07\n",
      "[LightGBM] [Warning] bagging_fraction is set=0.5644318465783223, subsample=1.0 will be ignored. Current value: bagging_fraction=0.5644318465783223\n",
      "[LightGBM] [Warning] lambda_l2 is set=0.0036540505350244903, reg_lambda=0.0 will be ignored. Current value: lambda_l2=0.0036540505350244903\n",
      "[LightGBM] [Warning] bagging_freq is set=1, subsample_freq=0 will be ignored. Current value: bagging_freq=1\n"
     ]
    },
    {
     "name": "stderr",
     "output_type": "stream",
     "text": [
      "\u001b[32m[I 2023-02-01 17:16:45,912]\u001b[0m Trial 47 finished with value: 0.5036326250856751 and parameters: {'lambda_l1': 9.434669036708306e-07, 'lambda_l2': 0.0036540505350244903, 'num_leaves': 35, 'feature_fraction': 0.6815451251374876, 'bagging_fraction': 0.5644318465783223, 'bagging_freq': 1, 'min_child_samples': 48}. Best is trial 19 with value: 0.507607950651131.\u001b[0m\n"
     ]
    },
    {
     "name": "stdout",
     "output_type": "stream",
     "text": [
      "[LightGBM] [Warning] feature_fraction is set=0.8207145264524907, colsample_bytree=1.0 will be ignored. Current value: feature_fraction=0.8207145264524907\n",
      "[LightGBM] [Warning] lambda_l1 is set=0.0004646379705708033, reg_alpha=0.0 will be ignored. Current value: lambda_l1=0.0004646379705708033\n",
      "[LightGBM] [Warning] bagging_fraction is set=0.43888111918778977, subsample=1.0 will be ignored. Current value: bagging_fraction=0.43888111918778977\n",
      "[LightGBM] [Warning] lambda_l2 is set=0.41959761967228804, reg_lambda=0.0 will be ignored. Current value: lambda_l2=0.41959761967228804\n",
      "[LightGBM] [Warning] bagging_freq is set=2, subsample_freq=0 will be ignored. Current value: bagging_freq=2\n"
     ]
    },
    {
     "name": "stderr",
     "output_type": "stream",
     "text": [
      "\u001b[32m[I 2023-02-01 17:16:47,299]\u001b[0m Trial 48 finished with value: 0.5073337902673064 and parameters: {'lambda_l1': 0.0004646379705708033, 'lambda_l2': 0.41959761967228804, 'num_leaves': 26, 'feature_fraction': 0.8207145264524907, 'bagging_fraction': 0.43888111918778977, 'bagging_freq': 2, 'min_child_samples': 5}. Best is trial 19 with value: 0.507607950651131.\u001b[0m\n"
     ]
    },
    {
     "name": "stdout",
     "output_type": "stream",
     "text": [
      "[LightGBM] [Warning] feature_fraction is set=0.7063526138456881, colsample_bytree=1.0 will be ignored. Current value: feature_fraction=0.7063526138456881\n",
      "[LightGBM] [Warning] lambda_l1 is set=0.00064897605997628, reg_alpha=0.0 will be ignored. Current value: lambda_l1=0.00064897605997628\n",
      "[LightGBM] [Warning] bagging_fraction is set=0.43382954051752576, subsample=1.0 will be ignored. Current value: bagging_fraction=0.43382954051752576\n",
      "[LightGBM] [Warning] lambda_l2 is set=0.5725091867655933, reg_lambda=0.0 will be ignored. Current value: lambda_l2=0.5725091867655933\n",
      "[LightGBM] [Warning] bagging_freq is set=7, subsample_freq=0 will be ignored. Current value: bagging_freq=7\n"
     ]
    },
    {
     "name": "stderr",
     "output_type": "stream",
     "text": [
      "\u001b[32m[I 2023-02-01 17:16:50,861]\u001b[0m Trial 49 finished with value: 0.49266620973269365 and parameters: {'lambda_l1': 0.00064897605997628, 'lambda_l2': 0.5725091867655933, 'num_leaves': 142, 'feature_fraction': 0.7063526138456881, 'bagging_fraction': 0.43382954051752576, 'bagging_freq': 7, 'min_child_samples': 5}. Best is trial 19 with value: 0.507607950651131.\u001b[0m\n"
     ]
    },
    {
     "name": "stdout",
     "output_type": "stream",
     "text": [
      "[LightGBM] [Warning] feature_fraction is set=0.7501743221131976, colsample_bytree=1.0 will be ignored. Current value: feature_fraction=0.7501743221131976\n",
      "[LightGBM] [Warning] lambda_l1 is set=0.006604298833207826, reg_alpha=0.0 will be ignored. Current value: lambda_l1=0.006604298833207826\n",
      "[LightGBM] [Warning] bagging_fraction is set=0.4666836015113973, subsample=1.0 will be ignored. Current value: bagging_fraction=0.4666836015113973\n",
      "[LightGBM] [Warning] lambda_l2 is set=3.48971156637447, reg_lambda=0.0 will be ignored. Current value: lambda_l2=3.48971156637447\n",
      "[LightGBM] [Warning] bagging_freq is set=3, subsample_freq=0 will be ignored. Current value: bagging_freq=3\n"
     ]
    },
    {
     "name": "stderr",
     "output_type": "stream",
     "text": [
      "\u001b[32m[I 2023-02-01 17:16:53,912]\u001b[0m Trial 50 finished with value: 0.5022618231665524 and parameters: {'lambda_l1': 0.006604298833207826, 'lambda_l2': 3.48971156637447, 'num_leaves': 109, 'feature_fraction': 0.7501743221131976, 'bagging_fraction': 0.4666836015113973, 'bagging_freq': 3, 'min_child_samples': 8}. Best is trial 19 with value: 0.507607950651131.\u001b[0m\n"
     ]
    },
    {
     "name": "stdout",
     "output_type": "stream",
     "text": [
      "[LightGBM] [Warning] feature_fraction is set=0.8192413674633805, colsample_bytree=1.0 will be ignored. Current value: feature_fraction=0.8192413674633805\n",
      "[LightGBM] [Warning] lambda_l1 is set=0.00022376390240433215, reg_alpha=0.0 will be ignored. Current value: lambda_l1=0.00022376390240433215\n",
      "[LightGBM] [Warning] bagging_fraction is set=0.4965763318871504, subsample=1.0 will be ignored. Current value: bagging_fraction=0.4965763318871504\n",
      "[LightGBM] [Warning] lambda_l2 is set=0.1281538448065683, reg_lambda=0.0 will be ignored. Current value: lambda_l2=0.1281538448065683\n",
      "[LightGBM] [Warning] bagging_freq is set=2, subsample_freq=0 will be ignored. Current value: bagging_freq=2\n"
     ]
    },
    {
     "name": "stderr",
     "output_type": "stream",
     "text": [
      "\u001b[32m[I 2023-02-01 17:16:55,174]\u001b[0m Trial 51 finished with value: 0.5071967100753941 and parameters: {'lambda_l1': 0.00022376390240433215, 'lambda_l2': 0.1281538448065683, 'num_leaves': 21, 'feature_fraction': 0.8192413674633805, 'bagging_fraction': 0.4965763318871504, 'bagging_freq': 2, 'min_child_samples': 16}. Best is trial 19 with value: 0.507607950651131.\u001b[0m\n"
     ]
    },
    {
     "name": "stdout",
     "output_type": "stream",
     "text": [
      "[LightGBM] [Warning] feature_fraction is set=0.866568952749031, colsample_bytree=1.0 will be ignored. Current value: feature_fraction=0.866568952749031\n",
      "[LightGBM] [Warning] lambda_l1 is set=0.05854113539368814, reg_alpha=0.0 will be ignored. Current value: lambda_l1=0.05854113539368814\n",
      "[LightGBM] [Warning] bagging_fraction is set=0.5019181996295926, subsample=1.0 will be ignored. Current value: bagging_fraction=0.5019181996295926\n",
      "[LightGBM] [Warning] lambda_l2 is set=1.3726862435301073, reg_lambda=0.0 will be ignored. Current value: lambda_l2=1.3726862435301073\n",
      "[LightGBM] [Warning] bagging_freq is set=2, subsample_freq=0 will be ignored. Current value: bagging_freq=2\n"
     ]
    },
    {
     "name": "stderr",
     "output_type": "stream",
     "text": [
      "\u001b[32m[I 2023-02-01 17:16:55,984]\u001b[0m Trial 52 finished with value: 0.5037697052775874 and parameters: {'lambda_l1': 0.05854113539368814, 'lambda_l2': 1.3726862435301073, 'num_leaves': 8, 'feature_fraction': 0.866568952749031, 'bagging_fraction': 0.5019181996295926, 'bagging_freq': 2, 'min_child_samples': 14}. Best is trial 19 with value: 0.507607950651131.\u001b[0m\n"
     ]
    },
    {
     "name": "stdout",
     "output_type": "stream",
     "text": [
      "[LightGBM] [Warning] feature_fraction is set=0.8268964357746329, colsample_bytree=1.0 will be ignored. Current value: feature_fraction=0.8268964357746329\n",
      "[LightGBM] [Warning] lambda_l1 is set=0.00020399036452092687, reg_alpha=0.0 will be ignored. Current value: lambda_l1=0.00020399036452092687\n",
      "[LightGBM] [Warning] bagging_fraction is set=0.533127200383072, subsample=1.0 will be ignored. Current value: bagging_fraction=0.533127200383072\n",
      "[LightGBM] [Warning] lambda_l2 is set=0.12195707056831129, reg_lambda=0.0 will be ignored. Current value: lambda_l2=0.12195707056831129\n",
      "[LightGBM] [Warning] bagging_freq is set=2, subsample_freq=0 will be ignored. Current value: bagging_freq=2\n"
     ]
    },
    {
     "name": "stderr",
     "output_type": "stream",
     "text": [
      "\u001b[32m[I 2023-02-01 17:16:57,178]\u001b[0m Trial 53 finished with value: 0.5034955448937628 and parameters: {'lambda_l1': 0.00020399036452092687, 'lambda_l2': 0.12195707056831129, 'num_leaves': 19, 'feature_fraction': 0.8268964357746329, 'bagging_fraction': 0.533127200383072, 'bagging_freq': 2, 'min_child_samples': 18}. Best is trial 19 with value: 0.507607950651131.\u001b[0m\n"
     ]
    },
    {
     "name": "stdout",
     "output_type": "stream",
     "text": [
      "[LightGBM] [Warning] feature_fraction is set=0.8198585427178868, colsample_bytree=1.0 will be ignored. Current value: feature_fraction=0.8198585427178868\n",
      "[LightGBM] [Warning] lambda_l1 is set=6.439449144610138e-05, reg_alpha=0.0 will be ignored. Current value: lambda_l1=6.439449144610138e-05\n",
      "[LightGBM] [Warning] bagging_fraction is set=0.45074599296664336, subsample=1.0 will be ignored. Current value: bagging_fraction=0.45074599296664336\n",
      "[LightGBM] [Warning] lambda_l2 is set=0.4029420327136068, reg_lambda=0.0 will be ignored. Current value: lambda_l2=0.4029420327136068\n",
      "[LightGBM] [Warning] bagging_freq is set=1, subsample_freq=0 will be ignored. Current value: bagging_freq=1\n"
     ]
    },
    {
     "name": "stderr",
     "output_type": "stream",
     "text": [
      "\u001b[32m[I 2023-02-01 17:16:59,303]\u001b[0m Trial 54 finished with value: 0.4997943797121316 and parameters: {'lambda_l1': 6.439449144610138e-05, 'lambda_l2': 0.4029420327136068, 'num_leaves': 54, 'feature_fraction': 0.8198585427178868, 'bagging_fraction': 0.45074599296664336, 'bagging_freq': 1, 'min_child_samples': 26}. Best is trial 19 with value: 0.507607950651131.\u001b[0m\n"
     ]
    },
    {
     "name": "stdout",
     "output_type": "stream",
     "text": [
      "[LightGBM] [Warning] feature_fraction is set=0.7714346217690666, colsample_bytree=1.0 will be ignored. Current value: feature_fraction=0.7714346217690666\n",
      "[LightGBM] [Warning] lambda_l1 is set=0.0004430763433628092, reg_alpha=0.0 will be ignored. Current value: lambda_l1=0.0004430763433628092\n",
      "[LightGBM] [Warning] bagging_fraction is set=0.42335326351394165, subsample=1.0 will be ignored. Current value: bagging_fraction=0.42335326351394165\n",
      "[LightGBM] [Warning] lambda_l2 is set=0.17761504059189653, reg_lambda=0.0 will be ignored. Current value: lambda_l2=0.17761504059189653\n",
      "[LightGBM] [Warning] bagging_freq is set=3, subsample_freq=0 will be ignored. Current value: bagging_freq=3\n"
     ]
    },
    {
     "name": "stderr",
     "output_type": "stream",
     "text": [
      "\u001b[32m[I 2023-02-01 17:16:59,754]\u001b[0m Trial 55 finished with value: 0.48128855380397534 and parameters: {'lambda_l1': 0.0004430763433628092, 'lambda_l2': 0.17761504059189653, 'num_leaves': 2, 'feature_fraction': 0.7714346217690666, 'bagging_fraction': 0.42335326351394165, 'bagging_freq': 3, 'min_child_samples': 5}. Best is trial 19 with value: 0.507607950651131.\u001b[0m\n"
     ]
    },
    {
     "name": "stdout",
     "output_type": "stream",
     "text": [
      "[LightGBM] [Warning] feature_fraction is set=0.7272648639301226, colsample_bytree=1.0 will be ignored. Current value: feature_fraction=0.7272648639301226\n",
      "[LightGBM] [Warning] lambda_l1 is set=0.002247930415887999, reg_alpha=0.0 will be ignored. Current value: lambda_l1=0.002247930415887999\n",
      "[LightGBM] [Warning] bagging_fraction is set=0.47102525072424906, subsample=1.0 will be ignored. Current value: bagging_fraction=0.47102525072424906\n",
      "[LightGBM] [Warning] lambda_l2 is set=1.0319223778952025, reg_lambda=0.0 will be ignored. Current value: lambda_l2=1.0319223778952025\n",
      "[LightGBM] [Warning] bagging_freq is set=2, subsample_freq=0 will be ignored. Current value: bagging_freq=2\n"
     ]
    },
    {
     "name": "stderr",
     "output_type": "stream",
     "text": [
      "\u001b[32m[I 2023-02-01 17:17:01,323]\u001b[0m Trial 56 finished with value: 0.508704592186429 and parameters: {'lambda_l1': 0.002247930415887999, 'lambda_l2': 1.0319223778952025, 'num_leaves': 31, 'feature_fraction': 0.7272648639301226, 'bagging_fraction': 0.47102525072424906, 'bagging_freq': 2, 'min_child_samples': 9}. Best is trial 56 with value: 0.508704592186429.\u001b[0m\n"
     ]
    },
    {
     "name": "stdout",
     "output_type": "stream",
     "text": [
      "[LightGBM] [Warning] feature_fraction is set=0.7490512494642313, colsample_bytree=1.0 will be ignored. Current value: feature_fraction=0.7490512494642313\n",
      "[LightGBM] [Warning] lambda_l1 is set=0.0014892968201754308, reg_alpha=0.0 will be ignored. Current value: lambda_l1=0.0014892968201754308\n",
      "[LightGBM] [Warning] bagging_fraction is set=0.48089177724822474, subsample=1.0 will be ignored. Current value: bagging_fraction=0.48089177724822474\n",
      "[LightGBM] [Warning] lambda_l2 is set=0.8929413940759027, reg_lambda=0.0 will be ignored. Current value: lambda_l2=0.8929413940759027\n",
      "[LightGBM] [Warning] bagging_freq is set=1, subsample_freq=0 will be ignored. Current value: bagging_freq=1\n"
     ]
    },
    {
     "name": "stderr",
     "output_type": "stream",
     "text": [
      "\u001b[32m[I 2023-02-01 17:17:02,975]\u001b[0m Trial 57 finished with value: 0.5059629883481837 and parameters: {'lambda_l1': 0.0014892968201754308, 'lambda_l2': 0.8929413940759027, 'num_leaves': 33, 'feature_fraction': 0.7490512494642313, 'bagging_fraction': 0.48089177724822474, 'bagging_freq': 1, 'min_child_samples': 19}. Best is trial 56 with value: 0.508704592186429.\u001b[0m\n"
     ]
    },
    {
     "name": "stdout",
     "output_type": "stream",
     "text": [
      "[LightGBM] [Warning] feature_fraction is set=0.7368009781150626, colsample_bytree=1.0 will be ignored. Current value: feature_fraction=0.7368009781150626\n",
      "[LightGBM] [Warning] lambda_l1 is set=1.2527722762289245e-05, reg_alpha=0.0 will be ignored. Current value: lambda_l1=1.2527722762289245e-05\n",
      "[LightGBM] [Warning] bagging_fraction is set=0.5115214701258196, subsample=1.0 will be ignored. Current value: bagging_fraction=0.5115214701258196\n",
      "[LightGBM] [Warning] lambda_l2 is set=0.01548641573672829, reg_lambda=0.0 will be ignored. Current value: lambda_l2=0.01548641573672829\n",
      "[LightGBM] [Warning] bagging_freq is set=2, subsample_freq=0 will be ignored. Current value: bagging_freq=2\n"
     ]
    },
    {
     "name": "stderr",
     "output_type": "stream",
     "text": [
      "\u001b[32m[I 2023-02-01 17:17:04,748]\u001b[0m Trial 58 finished with value: 0.5085675119945168 and parameters: {'lambda_l1': 1.2527722762289245e-05, 'lambda_l2': 0.01548641573672829, 'num_leaves': 43, 'feature_fraction': 0.7368009781150626, 'bagging_fraction': 0.5115214701258196, 'bagging_freq': 2, 'min_child_samples': 9}. Best is trial 56 with value: 0.508704592186429.\u001b[0m\n"
     ]
    },
    {
     "name": "stdout",
     "output_type": "stream",
     "text": [
      "[LightGBM] [Warning] feature_fraction is set=0.7846226009338888, colsample_bytree=1.0 will be ignored. Current value: feature_fraction=0.7846226009338888\n",
      "[LightGBM] [Warning] lambda_l1 is set=3.949526435410443e-05, reg_alpha=0.0 will be ignored. Current value: lambda_l1=3.949526435410443e-05\n",
      "[LightGBM] [Warning] bagging_fraction is set=0.515330056891354, subsample=1.0 will be ignored. Current value: bagging_fraction=0.515330056891354\n",
      "[LightGBM] [Warning] lambda_l2 is set=0.0066614170004490195, reg_lambda=0.0 will be ignored. Current value: lambda_l2=0.0066614170004490195\n",
      "[LightGBM] [Warning] bagging_freq is set=2, subsample_freq=0 will be ignored. Current value: bagging_freq=2\n"
     ]
    },
    {
     "name": "stderr",
     "output_type": "stream",
     "text": [
      "\u001b[32m[I 2023-02-01 17:17:06,531]\u001b[0m Trial 59 finished with value: 0.5088416723783413 and parameters: {'lambda_l1': 3.949526435410443e-05, 'lambda_l2': 0.0066614170004490195, 'num_leaves': 43, 'feature_fraction': 0.7846226009338888, 'bagging_fraction': 0.515330056891354, 'bagging_freq': 2, 'min_child_samples': 10}. Best is trial 59 with value: 0.5088416723783413.\u001b[0m\n"
     ]
    },
    {
     "name": "stdout",
     "output_type": "stream",
     "text": [
      "[LightGBM] [Warning] feature_fraction is set=0.7282953150947783, colsample_bytree=1.0 will be ignored. Current value: feature_fraction=0.7282953150947783\n",
      "[LightGBM] [Warning] lambda_l1 is set=3.509489117873194e-05, reg_alpha=0.0 will be ignored. Current value: lambda_l1=3.509489117873194e-05\n",
      "[LightGBM] [Warning] bagging_fraction is set=0.5293556154846281, subsample=1.0 will be ignored. Current value: bagging_fraction=0.5293556154846281\n",
      "[LightGBM] [Warning] lambda_l2 is set=0.019324182875286373, reg_lambda=0.0 will be ignored. Current value: lambda_l2=0.019324182875286373\n",
      "[LightGBM] [Warning] bagging_freq is set=2, subsample_freq=0 will be ignored. Current value: bagging_freq=2\n"
     ]
    },
    {
     "name": "stderr",
     "output_type": "stream",
     "text": [
      "\u001b[32m[I 2023-02-01 17:17:08,328]\u001b[0m Trial 60 finished with value: 0.5043180260452365 and parameters: {'lambda_l1': 3.509489117873194e-05, 'lambda_l2': 0.019324182875286373, 'num_leaves': 44, 'feature_fraction': 0.7282953150947783, 'bagging_fraction': 0.5293556154846281, 'bagging_freq': 2, 'min_child_samples': 9}. Best is trial 59 with value: 0.5088416723783413.\u001b[0m\n"
     ]
    },
    {
     "name": "stdout",
     "output_type": "stream",
     "text": [
      "[LightGBM] [Warning] feature_fraction is set=0.7854176380717639, colsample_bytree=1.0 will be ignored. Current value: feature_fraction=0.7854176380717639\n",
      "[LightGBM] [Warning] lambda_l1 is set=1.2459505528676253e-05, reg_alpha=0.0 will be ignored. Current value: lambda_l1=1.2459505528676253e-05\n",
      "[LightGBM] [Warning] bagging_fraction is set=0.5073373652880347, subsample=1.0 will be ignored. Current value: bagging_fraction=0.5073373652880347\n",
      "[LightGBM] [Warning] lambda_l2 is set=0.008440394136557918, reg_lambda=0.0 will be ignored. Current value: lambda_l2=0.008440394136557918\n",
      "[LightGBM] [Warning] bagging_freq is set=2, subsample_freq=0 will be ignored. Current value: bagging_freq=2\n"
     ]
    },
    {
     "name": "stderr",
     "output_type": "stream",
     "text": [
      "\u001b[32m[I 2023-02-01 17:17:09,723]\u001b[0m Trial 61 finished with value: 0.5048663468128856 and parameters: {'lambda_l1': 1.2459505528676253e-05, 'lambda_l2': 0.008440394136557918, 'num_leaves': 26, 'feature_fraction': 0.7854176380717639, 'bagging_fraction': 0.5073373652880347, 'bagging_freq': 2, 'min_child_samples': 13}. Best is trial 59 with value: 0.5088416723783413.\u001b[0m\n"
     ]
    },
    {
     "name": "stdout",
     "output_type": "stream",
     "text": [
      "[LightGBM] [Warning] feature_fraction is set=0.8067360456154727, colsample_bytree=1.0 will be ignored. Current value: feature_fraction=0.8067360456154727\n",
      "[LightGBM] [Warning] lambda_l1 is set=0.00023135643994268328, reg_alpha=0.0 will be ignored. Current value: lambda_l1=0.00023135643994268328\n",
      "[LightGBM] [Warning] bagging_fraction is set=0.47668453497126717, subsample=1.0 will be ignored. Current value: bagging_fraction=0.47668453497126717\n",
      "[LightGBM] [Warning] lambda_l2 is set=0.04442102995580438, reg_lambda=0.0 will be ignored. Current value: lambda_l2=0.04442102995580438\n",
      "[LightGBM] [Warning] bagging_freq is set=2, subsample_freq=0 will be ignored. Current value: bagging_freq=2\n"
     ]
    },
    {
     "name": "stderr",
     "output_type": "stream",
     "text": [
      "\u001b[32m[I 2023-02-01 17:17:11,945]\u001b[0m Trial 62 finished with value: 0.49856065798492116 and parameters: {'lambda_l1': 0.00023135643994268328, 'lambda_l2': 0.04442102995580438, 'num_leaves': 61, 'feature_fraction': 0.8067360456154727, 'bagging_fraction': 0.47668453497126717, 'bagging_freq': 2, 'min_child_samples': 17}. Best is trial 59 with value: 0.5088416723783413.\u001b[0m\n"
     ]
    },
    {
     "name": "stdout",
     "output_type": "stream",
     "text": [
      "[LightGBM] [Warning] feature_fraction is set=0.7321506395349753, colsample_bytree=1.0 will be ignored. Current value: feature_fraction=0.7321506395349753\n",
      "[LightGBM] [Warning] lambda_l1 is set=0.00010900053757508715, reg_alpha=0.0 will be ignored. Current value: lambda_l1=0.00010900053757508715\n",
      "[LightGBM] [Warning] bagging_fraction is set=0.5055467680564452, subsample=1.0 will be ignored. Current value: bagging_fraction=0.5055467680564452\n",
      "[LightGBM] [Warning] lambda_l2 is set=0.01903207472486348, reg_lambda=0.0 will be ignored. Current value: lambda_l2=0.01903207472486348\n",
      "[LightGBM] [Warning] bagging_freq is set=2, subsample_freq=0 will be ignored. Current value: bagging_freq=2\n"
     ]
    },
    {
     "name": "stderr",
     "output_type": "stream",
     "text": [
      "\u001b[32m[I 2023-02-01 17:17:13,166]\u001b[0m Trial 63 finished with value: 0.5080191912268677 and parameters: {'lambda_l1': 0.00010900053757508715, 'lambda_l2': 0.01903207472486348, 'num_leaves': 19, 'feature_fraction': 0.7321506395349753, 'bagging_fraction': 0.5055467680564452, 'bagging_freq': 2, 'min_child_samples': 9}. Best is trial 59 with value: 0.5088416723783413.\u001b[0m\n"
     ]
    },
    {
     "name": "stdout",
     "output_type": "stream",
     "text": [
      "[LightGBM] [Warning] feature_fraction is set=0.7282797456828133, colsample_bytree=1.0 will be ignored. Current value: feature_fraction=0.7282797456828133\n",
      "[LightGBM] [Warning] lambda_l1 is set=7.991768583631566e-05, reg_alpha=0.0 will be ignored. Current value: lambda_l1=7.991768583631566e-05\n",
      "[LightGBM] [Warning] bagging_fraction is set=0.558438722107754, subsample=1.0 will be ignored. Current value: bagging_fraction=0.558438722107754\n",
      "[LightGBM] [Warning] lambda_l2 is set=0.011733685314182256, reg_lambda=0.0 will be ignored. Current value: lambda_l2=0.011733685314182256\n",
      "[LightGBM] [Warning] bagging_freq is set=1, subsample_freq=0 will be ignored. Current value: bagging_freq=1\n"
     ]
    },
    {
     "name": "stderr",
     "output_type": "stream",
     "text": [
      "\u001b[32m[I 2023-02-01 17:17:14,548]\u001b[0m Trial 64 finished with value: 0.5059629883481837 and parameters: {'lambda_l1': 7.991768583631566e-05, 'lambda_l2': 0.011733685314182256, 'num_leaves': 38, 'feature_fraction': 0.7282797456828133, 'bagging_fraction': 0.558438722107754, 'bagging_freq': 1, 'min_child_samples': 11}. Best is trial 59 with value: 0.5088416723783413.\u001b[0m\n"
     ]
    },
    {
     "name": "stdout",
     "output_type": "stream",
     "text": [
      "[LightGBM] [Warning] feature_fraction is set=0.7729231498108216, colsample_bytree=1.0 will be ignored. Current value: feature_fraction=0.7729231498108216\n",
      "[LightGBM] [Warning] lambda_l1 is set=4.406645355535974e-05, reg_alpha=0.0 will be ignored. Current value: lambda_l1=4.406645355535974e-05\n",
      "[LightGBM] [Warning] bagging_fraction is set=0.45141382073564484, subsample=1.0 will be ignored. Current value: bagging_fraction=0.45141382073564484\n",
      "[LightGBM] [Warning] lambda_l2 is set=0.005006962334592441, reg_lambda=0.0 will be ignored. Current value: lambda_l2=0.005006962334592441\n",
      "[LightGBM] [Warning] bagging_freq is set=2, subsample_freq=0 will be ignored. Current value: bagging_freq=2\n"
     ]
    },
    {
     "name": "stderr",
     "output_type": "stream",
     "text": [
      "\u001b[32m[I 2023-02-01 17:17:15,736]\u001b[0m Trial 65 finished with value: 0.5056888279643591 and parameters: {'lambda_l1': 4.406645355535974e-05, 'lambda_l2': 0.005006962334592441, 'num_leaves': 21, 'feature_fraction': 0.7729231498108216, 'bagging_fraction': 0.45141382073564484, 'bagging_freq': 2, 'min_child_samples': 7}. Best is trial 59 with value: 0.5088416723783413.\u001b[0m\n"
     ]
    },
    {
     "name": "stdout",
     "output_type": "stream",
     "text": [
      "[LightGBM] [Warning] feature_fraction is set=0.676421164353029, colsample_bytree=1.0 will be ignored. Current value: feature_fraction=0.676421164353029\n",
      "[LightGBM] [Warning] lambda_l1 is set=0.00011393952186869895, reg_alpha=0.0 will be ignored. Current value: lambda_l1=0.00011393952186869895\n",
      "[LightGBM] [Warning] bagging_fraction is set=0.5159593122380038, subsample=1.0 will be ignored. Current value: bagging_fraction=0.5159593122380038\n",
      "[LightGBM] [Warning] lambda_l2 is set=0.27590788660015764, reg_lambda=0.0 will be ignored. Current value: lambda_l2=0.27590788660015764\n",
      "[LightGBM] [Warning] bagging_freq is set=1, subsample_freq=0 will be ignored. Current value: bagging_freq=1\n"
     ]
    },
    {
     "name": "stderr",
     "output_type": "stream",
     "text": [
      "\u001b[32m[I 2023-02-01 17:17:17,335]\u001b[0m Trial 66 finished with value: 0.5052775873886224 and parameters: {'lambda_l1': 0.00011393952186869895, 'lambda_l2': 0.27590788660015764, 'num_leaves': 49, 'feature_fraction': 0.676421164353029, 'bagging_fraction': 0.5159593122380038, 'bagging_freq': 1, 'min_child_samples': 8}. Best is trial 59 with value: 0.5088416723783413.\u001b[0m\n"
     ]
    },
    {
     "name": "stdout",
     "output_type": "stream",
     "text": [
      "[LightGBM] [Warning] feature_fraction is set=0.8424525156455718, colsample_bytree=1.0 will be ignored. Current value: feature_fraction=0.8424525156455718\n",
      "[LightGBM] [Warning] lambda_l1 is set=0.0002993042968846077, reg_alpha=0.0 will be ignored. Current value: lambda_l1=0.0002993042968846077\n",
      "[LightGBM] [Warning] bagging_fraction is set=0.49379724434207367, subsample=1.0 will be ignored. Current value: bagging_fraction=0.49379724434207367\n",
      "[LightGBM] [Warning] lambda_l2 is set=0.09346550647095193, reg_lambda=0.0 will be ignored. Current value: lambda_l2=0.09346550647095193\n",
      "[LightGBM] [Warning] bagging_freq is set=2, subsample_freq=0 will be ignored. Current value: bagging_freq=2\n"
     ]
    },
    {
     "name": "stderr",
     "output_type": "stream",
     "text": [
      "\u001b[32m[I 2023-02-01 17:17:21,477]\u001b[0m Trial 67 finished with value: 0.48690884167237836 and parameters: {'lambda_l1': 0.0002993042968846077, 'lambda_l2': 0.09346550647095193, 'num_leaves': 180, 'feature_fraction': 0.8424525156455718, 'bagging_fraction': 0.49379724434207367, 'bagging_freq': 2, 'min_child_samples': 21}. Best is trial 59 with value: 0.5088416723783413.\u001b[0m\n"
     ]
    },
    {
     "name": "stdout",
     "output_type": "stream",
     "text": [
      "[LightGBM] [Warning] feature_fraction is set=0.6923622242190028, colsample_bytree=1.0 will be ignored. Current value: feature_fraction=0.6923622242190028\n",
      "[LightGBM] [Warning] lambda_l1 is set=0.000923128479212944, reg_alpha=0.0 will be ignored. Current value: lambda_l1=0.000923128479212944\n",
      "[LightGBM] [Warning] bagging_fraction is set=0.41449245232987203, subsample=1.0 will be ignored. Current value: bagging_fraction=0.41449245232987203\n",
      "[LightGBM] [Warning] lambda_l2 is set=0.018371813583598764, reg_lambda=0.0 will be ignored. Current value: lambda_l2=0.018371813583598764\n",
      "[LightGBM] [Warning] bagging_freq is set=2, subsample_freq=0 will be ignored. Current value: bagging_freq=2\n"
     ]
    },
    {
     "name": "stderr",
     "output_type": "stream",
     "text": [
      "\u001b[32m[I 2023-02-01 17:17:25,273]\u001b[0m Trial 68 finished with value: 0.4962302947224126 and parameters: {'lambda_l1': 0.000923128479212944, 'lambda_l2': 0.018371813583598764, 'num_leaves': 151, 'feature_fraction': 0.6923622242190028, 'bagging_fraction': 0.41449245232987203, 'bagging_freq': 2, 'min_child_samples': 16}. Best is trial 59 with value: 0.5088416723783413.\u001b[0m\n"
     ]
    },
    {
     "name": "stdout",
     "output_type": "stream",
     "text": [
      "[LightGBM] [Warning] feature_fraction is set=0.7195204448762745, colsample_bytree=1.0 will be ignored. Current value: feature_fraction=0.7195204448762745\n",
      "[LightGBM] [Warning] lambda_l1 is set=0.00040479496224730727, reg_alpha=0.0 will be ignored. Current value: lambda_l1=0.00040479496224730727\n",
      "[LightGBM] [Warning] bagging_fraction is set=0.5426173155766764, subsample=1.0 will be ignored. Current value: bagging_fraction=0.5426173155766764\n",
      "[LightGBM] [Warning] lambda_l2 is set=0.05489743088315294, reg_lambda=0.0 will be ignored. Current value: lambda_l2=0.05489743088315294\n",
      "[LightGBM] [Warning] bagging_freq is set=1, subsample_freq=0 will be ignored. Current value: bagging_freq=1\n"
     ]
    },
    {
     "name": "stderr",
     "output_type": "stream",
     "text": [
      "\u001b[32m[I 2023-02-01 17:17:26,433]\u001b[0m Trial 69 finished with value: 0.504592186429061 and parameters: {'lambda_l1': 0.00040479496224730727, 'lambda_l2': 0.05489743088315294, 'num_leaves': 28, 'feature_fraction': 0.7195204448762745, 'bagging_fraction': 0.5426173155766764, 'bagging_freq': 1, 'min_child_samples': 5}. Best is trial 59 with value: 0.5088416723783413.\u001b[0m\n"
     ]
    },
    {
     "name": "stdout",
     "output_type": "stream",
     "text": [
      "[LightGBM] [Warning] feature_fraction is set=0.7624817958267273, colsample_bytree=1.0 will be ignored. Current value: feature_fraction=0.7624817958267273\n",
      "[LightGBM] [Warning] lambda_l1 is set=1.3076164826697025e-05, reg_alpha=0.0 will be ignored. Current value: lambda_l1=1.3076164826697025e-05\n",
      "[LightGBM] [Warning] bagging_fraction is set=0.4596530538204763, subsample=1.0 will be ignored. Current value: bagging_fraction=0.4596530538204763\n",
      "[LightGBM] [Warning] lambda_l2 is set=0.0024342928620820926, reg_lambda=0.0 will be ignored. Current value: lambda_l2=0.0024342928620820926\n",
      "[LightGBM] [Warning] bagging_freq is set=3, subsample_freq=0 will be ignored. Current value: bagging_freq=3\n"
     ]
    },
    {
     "name": "stderr",
     "output_type": "stream",
     "text": [
      "\u001b[32m[I 2023-02-01 17:17:27,541]\u001b[0m Trial 70 finished with value: 0.5074708704592187 and parameters: {'lambda_l1': 1.3076164826697025e-05, 'lambda_l2': 0.0024342928620820926, 'num_leaves': 17, 'feature_fraction': 0.7624817958267273, 'bagging_fraction': 0.4596530538204763, 'bagging_freq': 3, 'min_child_samples': 12}. Best is trial 59 with value: 0.5088416723783413.\u001b[0m\n"
     ]
    },
    {
     "name": "stdout",
     "output_type": "stream",
     "text": [
      "[LightGBM] [Warning] feature_fraction is set=0.763172924105726, colsample_bytree=1.0 will be ignored. Current value: feature_fraction=0.763172924105726\n",
      "[LightGBM] [Warning] lambda_l1 is set=2.1541979159953807e-05, reg_alpha=0.0 will be ignored. Current value: lambda_l1=2.1541979159953807e-05\n",
      "[LightGBM] [Warning] bagging_fraction is set=0.4652443109184839, subsample=1.0 will be ignored. Current value: bagging_fraction=0.4652443109184839\n",
      "[LightGBM] [Warning] lambda_l2 is set=0.001999905015324454, reg_lambda=0.0 will be ignored. Current value: lambda_l2=0.001999905015324454\n",
      "[LightGBM] [Warning] bagging_freq is set=3, subsample_freq=0 will be ignored. Current value: bagging_freq=3\n"
     ]
    },
    {
     "name": "stderr",
     "output_type": "stream",
     "text": [
      "\u001b[32m[I 2023-02-01 17:17:28,724]\u001b[0m Trial 71 finished with value: 0.5055517477724469 and parameters: {'lambda_l1': 2.1541979159953807e-05, 'lambda_l2': 0.001999905015324454, 'num_leaves': 19, 'feature_fraction': 0.763172924105726, 'bagging_fraction': 0.4652443109184839, 'bagging_freq': 3, 'min_child_samples': 12}. Best is trial 59 with value: 0.5088416723783413.\u001b[0m\n"
     ]
    },
    {
     "name": "stdout",
     "output_type": "stream",
     "text": [
      "[LightGBM] [Warning] feature_fraction is set=0.7391422071873528, colsample_bytree=1.0 will be ignored. Current value: feature_fraction=0.7391422071873528\n",
      "[LightGBM] [Warning] lambda_l1 is set=5.3000277089750085e-05, reg_alpha=0.0 will be ignored. Current value: lambda_l1=5.3000277089750085e-05\n",
      "[LightGBM] [Warning] bagging_fraction is set=0.4382300388967658, subsample=1.0 will be ignored. Current value: bagging_fraction=0.4382300388967658\n",
      "[LightGBM] [Warning] lambda_l2 is set=0.0007878846366862547, reg_lambda=0.0 will be ignored. Current value: lambda_l2=0.0007878846366862547\n",
      "[LightGBM] [Warning] bagging_freq is set=2, subsample_freq=0 will be ignored. Current value: bagging_freq=2\n"
     ]
    },
    {
     "name": "stderr",
     "output_type": "stream",
     "text": [
      "\u001b[32m[I 2023-02-01 17:17:29,584]\u001b[0m Trial 72 finished with value: 0.5043180260452365 and parameters: {'lambda_l1': 5.3000277089750085e-05, 'lambda_l2': 0.0007878846366862547, 'num_leaves': 10, 'feature_fraction': 0.7391422071873528, 'bagging_fraction': 0.4382300388967658, 'bagging_freq': 2, 'min_child_samples': 9}. Best is trial 59 with value: 0.5088416723783413.\u001b[0m\n"
     ]
    },
    {
     "name": "stdout",
     "output_type": "stream",
     "text": [
      "[LightGBM] [Warning] feature_fraction is set=0.8019666492123794, colsample_bytree=1.0 will be ignored. Current value: feature_fraction=0.8019666492123794\n",
      "[LightGBM] [Warning] lambda_l1 is set=4.33483202956733e-06, reg_alpha=0.0 will be ignored. Current value: lambda_l1=4.33483202956733e-06\n",
      "[LightGBM] [Warning] bagging_fraction is set=0.5184931008384269, subsample=1.0 will be ignored. Current value: bagging_fraction=0.5184931008384269\n",
      "[LightGBM] [Warning] lambda_l2 is set=0.0038381432971637784, reg_lambda=0.0 will be ignored. Current value: lambda_l2=0.0038381432971637784\n",
      "[LightGBM] [Warning] bagging_freq is set=2, subsample_freq=0 will be ignored. Current value: bagging_freq=2\n"
     ]
    },
    {
     "name": "stderr",
     "output_type": "stream",
     "text": [
      "\u001b[32m[I 2023-02-01 17:17:31,344]\u001b[0m Trial 73 finished with value: 0.5089787525702536 and parameters: {'lambda_l1': 4.33483202956733e-06, 'lambda_l2': 0.0038381432971637784, 'num_leaves': 41, 'feature_fraction': 0.8019666492123794, 'bagging_fraction': 0.5184931008384269, 'bagging_freq': 2, 'min_child_samples': 15}. Best is trial 73 with value: 0.5089787525702536.\u001b[0m\n"
     ]
    },
    {
     "name": "stdout",
     "output_type": "stream",
     "text": [
      "[LightGBM] [Warning] feature_fraction is set=0.7944044944564098, colsample_bytree=1.0 will be ignored. Current value: feature_fraction=0.7944044944564098\n",
      "[LightGBM] [Warning] lambda_l1 is set=5.97106188690649e-06, reg_alpha=0.0 will be ignored. Current value: lambda_l1=5.97106188690649e-06\n",
      "[LightGBM] [Warning] bagging_fraction is set=0.5154572265888648, subsample=1.0 will be ignored. Current value: bagging_fraction=0.5154572265888648\n",
      "[LightGBM] [Warning] lambda_l2 is set=0.003052283206744044, reg_lambda=0.0 will be ignored. Current value: lambda_l2=0.003052283206744044\n",
      "[LightGBM] [Warning] bagging_freq is set=2, subsample_freq=0 will be ignored. Current value: bagging_freq=2\n"
     ]
    },
    {
     "name": "stderr",
     "output_type": "stream",
     "text": [
      "\u001b[32m[I 2023-02-01 17:17:33,173]\u001b[0m Trial 74 finished with value: 0.5043180260452365 and parameters: {'lambda_l1': 5.97106188690649e-06, 'lambda_l2': 0.003052283206744044, 'num_leaves': 40, 'feature_fraction': 0.7944044944564098, 'bagging_fraction': 0.5154572265888648, 'bagging_freq': 2, 'min_child_samples': 22}. Best is trial 73 with value: 0.5089787525702536.\u001b[0m\n"
     ]
    },
    {
     "name": "stdout",
     "output_type": "stream",
     "text": [
      "[LightGBM] [Warning] feature_fraction is set=0.7426636978765521, colsample_bytree=1.0 will be ignored. Current value: feature_fraction=0.7426636978765521\n",
      "[LightGBM] [Warning] lambda_l1 is set=4.497824254576244e-06, reg_alpha=0.0 will be ignored. Current value: lambda_l1=4.497824254576244e-06\n",
      "[LightGBM] [Warning] bagging_fraction is set=0.4703030995150578, subsample=1.0 will be ignored. Current value: bagging_fraction=0.4703030995150578\n",
      "[LightGBM] [Warning] lambda_l2 is set=0.0014561870139970438, reg_lambda=0.0 will be ignored. Current value: lambda_l2=0.0014561870139970438\n",
      "[LightGBM] [Warning] bagging_freq is set=3, subsample_freq=0 will be ignored. Current value: bagging_freq=3\n"
     ]
    },
    {
     "name": "stderr",
     "output_type": "stream",
     "text": [
      "\u001b[32m[I 2023-02-01 17:17:35,668]\u001b[0m Trial 75 finished with value: 0.49691569568197397 and parameters: {'lambda_l1': 4.497824254576244e-06, 'lambda_l2': 0.0014561870139970438, 'num_leaves': 74, 'feature_fraction': 0.7426636978765521, 'bagging_fraction': 0.4703030995150578, 'bagging_freq': 3, 'min_child_samples': 13}. Best is trial 73 with value: 0.5089787525702536.\u001b[0m\n"
     ]
    },
    {
     "name": "stdout",
     "output_type": "stream",
     "text": [
      "[LightGBM] [Warning] feature_fraction is set=0.7622138732792936, colsample_bytree=1.0 will be ignored. Current value: feature_fraction=0.7622138732792936\n",
      "[LightGBM] [Warning] lambda_l1 is set=1.3659722021919108e-05, reg_alpha=0.0 will be ignored. Current value: lambda_l1=1.3659722021919108e-05\n",
      "[LightGBM] [Warning] bagging_fraction is set=0.48253755618771843, subsample=1.0 will be ignored. Current value: bagging_fraction=0.48253755618771843\n",
      "[LightGBM] [Warning] lambda_l2 is set=0.005727465989512397, reg_lambda=0.0 will be ignored. Current value: lambda_l2=0.005727465989512397\n",
      "[LightGBM] [Warning] bagging_freq is set=2, subsample_freq=0 will be ignored. Current value: bagging_freq=2\n"
     ]
    },
    {
     "name": "stderr",
     "output_type": "stream",
     "text": [
      "\u001b[32m[I 2023-02-01 17:17:38,501]\u001b[0m Trial 76 finished with value: 0.5015764222069911 and parameters: {'lambda_l1': 1.3659722021919108e-05, 'lambda_l2': 0.005727465989512397, 'num_leaves': 59, 'feature_fraction': 0.7622138732792936, 'bagging_fraction': 0.48253755618771843, 'bagging_freq': 2, 'min_child_samples': 26}. Best is trial 73 with value: 0.5089787525702536.\u001b[0m\n"
     ]
    },
    {
     "name": "stdout",
     "output_type": "stream",
     "text": [
      "[LightGBM] [Warning] feature_fraction is set=0.7131042999596559, colsample_bytree=1.0 will be ignored. Current value: feature_fraction=0.7131042999596559\n",
      "[LightGBM] [Warning] lambda_l1 is set=8.370820050753187e-06, reg_alpha=0.0 will be ignored. Current value: lambda_l1=8.370820050753187e-06\n",
      "[LightGBM] [Warning] bagging_fraction is set=0.45220381616105415, subsample=1.0 will be ignored. Current value: bagging_fraction=0.45220381616105415\n",
      "[LightGBM] [Warning] lambda_l2 is set=0.0032281839739704394, reg_lambda=0.0 will be ignored. Current value: lambda_l2=0.0032281839739704394\n",
      "[LightGBM] [Warning] bagging_freq is set=3, subsample_freq=0 will be ignored. Current value: bagging_freq=3\n"
     ]
    },
    {
     "name": "stderr",
     "output_type": "stream",
     "text": [
      "\u001b[32m[I 2023-02-01 17:17:42,218]\u001b[0m Trial 77 finished with value: 0.4997943797121316 and parameters: {'lambda_l1': 8.370820050753187e-06, 'lambda_l2': 0.0032281839739704394, 'num_leaves': 85, 'feature_fraction': 0.7131042999596559, 'bagging_fraction': 0.45220381616105415, 'bagging_freq': 3, 'min_child_samples': 10}. Best is trial 73 with value: 0.5089787525702536.\u001b[0m\n"
     ]
    },
    {
     "name": "stdout",
     "output_type": "stream",
     "text": [
      "[LightGBM] [Warning] feature_fraction is set=0.7836566432146139, colsample_bytree=1.0 will be ignored. Current value: feature_fraction=0.7836566432146139\n",
      "[LightGBM] [Warning] lambda_l1 is set=2.882432877761761e-05, reg_alpha=0.0 will be ignored. Current value: lambda_l1=2.882432877761761e-05\n",
      "[LightGBM] [Warning] bagging_fraction is set=0.4252562762488642, subsample=1.0 will be ignored. Current value: bagging_fraction=0.4252562762488642\n",
      "[LightGBM] [Warning] lambda_l2 is set=0.00021710824405349755, reg_lambda=0.0 will be ignored. Current value: lambda_l2=0.00021710824405349755\n",
      "[LightGBM] [Warning] bagging_freq is set=2, subsample_freq=0 will be ignored. Current value: bagging_freq=2\n"
     ]
    },
    {
     "name": "stderr",
     "output_type": "stream",
     "text": [
      "\u001b[32m[I 2023-02-01 17:17:43,995]\u001b[0m Trial 78 finished with value: 0.5067854694996573 and parameters: {'lambda_l1': 2.882432877761761e-05, 'lambda_l2': 0.00021710824405349755, 'num_leaves': 29, 'feature_fraction': 0.7836566432146139, 'bagging_fraction': 0.4252562762488642, 'bagging_freq': 2, 'min_child_samples': 6}. Best is trial 73 with value: 0.5089787525702536.\u001b[0m\n"
     ]
    },
    {
     "name": "stdout",
     "output_type": "stream",
     "text": [
      "[LightGBM] [Warning] feature_fraction is set=0.7960059677040943, colsample_bytree=1.0 will be ignored. Current value: feature_fraction=0.7960059677040943\n",
      "[LightGBM] [Warning] lambda_l1 is set=1.0473416114984056e-05, reg_alpha=0.0 will be ignored. Current value: lambda_l1=1.0473416114984056e-05\n",
      "[LightGBM] [Warning] bagging_fraction is set=0.5737811456706446, subsample=1.0 will be ignored. Current value: bagging_fraction=0.5737811456706446\n",
      "[LightGBM] [Warning] lambda_l2 is set=0.013427584629853566, reg_lambda=0.0 will be ignored. Current value: lambda_l2=0.013427584629853566\n",
      "[LightGBM] [Warning] bagging_freq is set=1, subsample_freq=0 will be ignored. Current value: bagging_freq=1\n"
     ]
    },
    {
     "name": "stderr",
     "output_type": "stream",
     "text": [
      "\u001b[32m[I 2023-02-01 17:17:46,012]\u001b[0m Trial 79 finished with value: 0.5006168608636052 and parameters: {'lambda_l1': 1.0473416114984056e-05, 'lambda_l2': 0.013427584629853566, 'num_leaves': 44, 'feature_fraction': 0.7960059677040943, 'bagging_fraction': 0.5737811456706446, 'bagging_freq': 1, 'min_child_samples': 67}. Best is trial 73 with value: 0.5089787525702536.\u001b[0m\n"
     ]
    },
    {
     "name": "stdout",
     "output_type": "stream",
     "text": [
      "[LightGBM] [Warning] feature_fraction is set=0.6982005031310295, colsample_bytree=1.0 will be ignored. Current value: feature_fraction=0.6982005031310295\n",
      "[LightGBM] [Warning] lambda_l1 is set=3.0344790813941475e-06, reg_alpha=0.0 will be ignored. Current value: lambda_l1=3.0344790813941475e-06\n",
      "[LightGBM] [Warning] bagging_fraction is set=0.5494087237747423, subsample=1.0 will be ignored. Current value: bagging_fraction=0.5494087237747423\n",
      "[LightGBM] [Warning] lambda_l2 is set=0.028751949486119234, reg_lambda=0.0 will be ignored. Current value: lambda_l2=0.028751949486119234\n",
      "[LightGBM] [Warning] bagging_freq is set=3, subsample_freq=0 will be ignored. Current value: bagging_freq=3\n"
     ]
    },
    {
     "name": "stderr",
     "output_type": "stream",
     "text": [
      "\u001b[32m[I 2023-02-01 17:17:46,916]\u001b[0m Trial 80 finished with value: 0.5014393420150788 and parameters: {'lambda_l1': 3.0344790813941475e-06, 'lambda_l2': 0.028751949486119234, 'num_leaves': 7, 'feature_fraction': 0.6982005031310295, 'bagging_fraction': 0.5494087237747423, 'bagging_freq': 3, 'min_child_samples': 14}. Best is trial 73 with value: 0.5089787525702536.\u001b[0m\n"
     ]
    },
    {
     "name": "stdout",
     "output_type": "stream",
     "text": [
      "[LightGBM] [Warning] feature_fraction is set=0.818292212396985, colsample_bytree=1.0 will be ignored. Current value: feature_fraction=0.818292212396985\n",
      "[LightGBM] [Warning] lambda_l1 is set=0.00017124994203713761, reg_alpha=0.0 will be ignored. Current value: lambda_l1=0.00017124994203713761\n",
      "[LightGBM] [Warning] bagging_fraction is set=0.5294350445382684, subsample=1.0 will be ignored. Current value: bagging_fraction=0.5294350445382684\n",
      "[LightGBM] [Warning] lambda_l2 is set=0.00927715817301622, reg_lambda=0.0 will be ignored. Current value: lambda_l2=0.00927715817301622\n",
      "[LightGBM] [Warning] bagging_freq is set=2, subsample_freq=0 will be ignored. Current value: bagging_freq=2\n"
     ]
    },
    {
     "name": "stderr",
     "output_type": "stream",
     "text": [
      "\u001b[32m[I 2023-02-01 17:17:48,220]\u001b[0m Trial 81 finished with value: 0.5074708704592187 and parameters: {'lambda_l1': 0.00017124994203713761, 'lambda_l2': 0.00927715817301622, 'num_leaves': 17, 'feature_fraction': 0.818292212396985, 'bagging_fraction': 0.5294350445382684, 'bagging_freq': 2, 'min_child_samples': 16}. Best is trial 73 with value: 0.5089787525702536.\u001b[0m\n"
     ]
    },
    {
     "name": "stdout",
     "output_type": "stream",
     "text": [
      "[LightGBM] [Warning] feature_fraction is set=0.8088256544051219, colsample_bytree=1.0 will be ignored. Current value: feature_fraction=0.8088256544051219\n",
      "[LightGBM] [Warning] lambda_l1 is set=0.0001358033686963372, reg_alpha=0.0 will be ignored. Current value: lambda_l1=0.0001358033686963372\n",
      "[LightGBM] [Warning] bagging_fraction is set=0.5201822280774182, subsample=1.0 will be ignored. Current value: bagging_fraction=0.5201822280774182\n",
      "[LightGBM] [Warning] lambda_l2 is set=0.00880121511739106, reg_lambda=0.0 will be ignored. Current value: lambda_l2=0.00880121511739106\n",
      "[LightGBM] [Warning] bagging_freq is set=2, subsample_freq=0 will be ignored. Current value: bagging_freq=2\n"
     ]
    },
    {
     "name": "stderr",
     "output_type": "stream",
     "text": [
      "\u001b[32m[I 2023-02-01 17:17:49,501]\u001b[0m Trial 82 finished with value: 0.5099383139136395 and parameters: {'lambda_l1': 0.0001358033686963372, 'lambda_l2': 0.00880121511739106, 'num_leaves': 16, 'feature_fraction': 0.8088256544051219, 'bagging_fraction': 0.5201822280774182, 'bagging_freq': 2, 'min_child_samples': 10}. Best is trial 82 with value: 0.5099383139136395.\u001b[0m\n"
     ]
    },
    {
     "name": "stdout",
     "output_type": "stream",
     "text": [
      "[LightGBM] [Warning] feature_fraction is set=0.7735281456247479, colsample_bytree=1.0 will be ignored. Current value: feature_fraction=0.7735281456247479\n",
      "[LightGBM] [Warning] lambda_l1 is set=7.797422143103293e-05, reg_alpha=0.0 will be ignored. Current value: lambda_l1=7.797422143103293e-05\n",
      "[LightGBM] [Warning] bagging_fraction is set=0.518613990704335, subsample=1.0 will be ignored. Current value: bagging_fraction=0.518613990704335\n",
      "[LightGBM] [Warning] lambda_l2 is set=0.0076051317719551, reg_lambda=0.0 will be ignored. Current value: lambda_l2=0.0076051317719551\n",
      "[LightGBM] [Warning] bagging_freq is set=2, subsample_freq=0 will be ignored. Current value: bagging_freq=2\n"
     ]
    },
    {
     "name": "stderr",
     "output_type": "stream",
     "text": [
      "\u001b[32m[I 2023-02-01 17:17:50,691]\u001b[0m Trial 83 finished with value: 0.5062371487320082 and parameters: {'lambda_l1': 7.797422143103293e-05, 'lambda_l2': 0.0076051317719551, 'num_leaves': 13, 'feature_fraction': 0.7735281456247479, 'bagging_fraction': 0.518613990704335, 'bagging_freq': 2, 'min_child_samples': 19}. Best is trial 82 with value: 0.5099383139136395.\u001b[0m\n"
     ]
    },
    {
     "name": "stdout",
     "output_type": "stream",
     "text": [
      "[LightGBM] [Warning] feature_fraction is set=0.8079034522455447, colsample_bytree=1.0 will be ignored. Current value: feature_fraction=0.8079034522455447\n",
      "[LightGBM] [Warning] lambda_l1 is set=1.9547683598848705e-05, reg_alpha=0.0 will be ignored. Current value: lambda_l1=1.9547683598848705e-05\n",
      "[LightGBM] [Warning] bagging_fraction is set=0.5264732958204134, subsample=1.0 will be ignored. Current value: bagging_fraction=0.5264732958204134\n",
      "[LightGBM] [Warning] lambda_l2 is set=0.005535153915290781, reg_lambda=0.0 will be ignored. Current value: lambda_l2=0.005535153915290781\n",
      "[LightGBM] [Warning] bagging_freq is set=2, subsample_freq=0 will be ignored. Current value: bagging_freq=2\n"
     ]
    },
    {
     "name": "stderr",
     "output_type": "stream",
     "text": [
      "\u001b[32m[I 2023-02-01 17:17:52,748]\u001b[0m Trial 84 finished with value: 0.506648389307745 and parameters: {'lambda_l1': 1.9547683598848705e-05, 'lambda_l2': 0.005535153915290781, 'num_leaves': 35, 'feature_fraction': 0.8079034522455447, 'bagging_fraction': 0.5264732958204134, 'bagging_freq': 2, 'min_child_samples': 11}. Best is trial 82 with value: 0.5099383139136395.\u001b[0m\n"
     ]
    },
    {
     "name": "stdout",
     "output_type": "stream",
     "text": [
      "[LightGBM] [Warning] feature_fraction is set=0.7346874757752276, colsample_bytree=1.0 will be ignored. Current value: feature_fraction=0.7346874757752276\n",
      "[LightGBM] [Warning] lambda_l1 is set=3.6859066357922264e-05, reg_alpha=0.0 will be ignored. Current value: lambda_l1=3.6859066357922264e-05\n",
      "[LightGBM] [Warning] bagging_fraction is set=0.49261187528941497, subsample=1.0 will be ignored. Current value: bagging_fraction=0.49261187528941497\n",
      "[LightGBM] [Warning] lambda_l2 is set=0.0025786232445543272, reg_lambda=0.0 will be ignored. Current value: lambda_l2=0.0025786232445543272\n",
      "[LightGBM] [Warning] bagging_freq is set=2, subsample_freq=0 will be ignored. Current value: bagging_freq=2\n"
     ]
    },
    {
     "name": "stderr",
     "output_type": "stream",
     "text": [
      "\u001b[32m[I 2023-02-01 17:17:54,193]\u001b[0m Trial 85 finished with value: 0.5067854694996573 and parameters: {'lambda_l1': 3.6859066357922264e-05, 'lambda_l2': 0.0025786232445543272, 'num_leaves': 17, 'feature_fraction': 0.7346874757752276, 'bagging_fraction': 0.49261187528941497, 'bagging_freq': 2, 'min_child_samples': 25}. Best is trial 82 with value: 0.5099383139136395.\u001b[0m\n"
     ]
    },
    {
     "name": "stdout",
     "output_type": "stream",
     "text": [
      "[LightGBM] [Warning] feature_fraction is set=0.8510787197749956, colsample_bytree=1.0 will be ignored. Current value: feature_fraction=0.8510787197749956\n",
      "[LightGBM] [Warning] lambda_l1 is set=0.0001663887184738696, reg_alpha=0.0 will be ignored. Current value: lambda_l1=0.0001663887184738696\n",
      "[LightGBM] [Warning] bagging_fraction is set=0.5423263119839891, subsample=1.0 will be ignored. Current value: bagging_fraction=0.5423263119839891\n",
      "[LightGBM] [Warning] lambda_l2 is set=0.014457831545134123, reg_lambda=0.0 will be ignored. Current value: lambda_l2=0.014457831545134123\n",
      "[LightGBM] [Warning] bagging_freq is set=2, subsample_freq=0 will be ignored. Current value: bagging_freq=2\n"
     ]
    },
    {
     "name": "stderr",
     "output_type": "stream",
     "text": [
      "\u001b[32m[I 2023-02-01 17:17:54,759]\u001b[0m Trial 86 finished with value: 0.48252227553118576 and parameters: {'lambda_l1': 0.0001663887184738696, 'lambda_l2': 0.014457831545134123, 'num_leaves': 2, 'feature_fraction': 0.8510787197749956, 'bagging_fraction': 0.5423263119839891, 'bagging_freq': 2, 'min_child_samples': 15}. Best is trial 82 with value: 0.5099383139136395.\u001b[0m\n"
     ]
    },
    {
     "name": "stdout",
     "output_type": "stream",
     "text": [
      "[LightGBM] [Warning] feature_fraction is set=0.7542670544611038, colsample_bytree=1.0 will be ignored. Current value: feature_fraction=0.7542670544611038\n",
      "[LightGBM] [Warning] lambda_l1 is set=1.5662804685397504e-06, reg_alpha=0.0 will be ignored. Current value: lambda_l1=1.5662804685397504e-06\n",
      "[LightGBM] [Warning] bagging_fraction is set=0.5928520729819523, subsample=1.0 will be ignored. Current value: bagging_fraction=0.5928520729819523\n",
      "[LightGBM] [Warning] lambda_l2 is set=0.02718793126404761, reg_lambda=0.0 will be ignored. Current value: lambda_l2=0.02718793126404761\n",
      "[LightGBM] [Warning] bagging_freq is set=5, subsample_freq=0 will be ignored. Current value: bagging_freq=5\n"
     ]
    },
    {
     "name": "stderr",
     "output_type": "stream",
     "text": [
      "\u001b[32m[I 2023-02-01 17:18:00,650]\u001b[0m Trial 87 finished with value: 0.48293351610692253 and parameters: {'lambda_l1': 1.5662804685397504e-06, 'lambda_l2': 0.02718793126404761, 'num_leaves': 217, 'feature_fraction': 0.7542670544611038, 'bagging_fraction': 0.5928520729819523, 'bagging_freq': 5, 'min_child_samples': 8}. Best is trial 82 with value: 0.5099383139136395.\u001b[0m\n"
     ]
    },
    {
     "name": "stdout",
     "output_type": "stream",
     "text": [
      "[LightGBM] [Warning] feature_fraction is set=0.8378332431958636, colsample_bytree=1.0 will be ignored. Current value: feature_fraction=0.8378332431958636\n",
      "[LightGBM] [Warning] lambda_l1 is set=0.00012792496179674797, reg_alpha=0.0 will be ignored. Current value: lambda_l1=0.00012792496179674797\n",
      "[LightGBM] [Warning] bagging_fraction is set=0.5117862670957847, subsample=1.0 will be ignored. Current value: bagging_fraction=0.5117862670957847\n",
      "[LightGBM] [Warning] lambda_l2 is set=0.001747068321293739, reg_lambda=0.0 will be ignored. Current value: lambda_l2=0.001747068321293739\n",
      "[LightGBM] [Warning] bagging_freq is set=3, subsample_freq=0 will be ignored. Current value: bagging_freq=3\n"
     ]
    },
    {
     "name": "stderr",
     "output_type": "stream",
     "text": [
      "\u001b[32m[I 2023-02-01 17:18:04,575]\u001b[0m Trial 88 finished with value: 0.4967786154900617 and parameters: {'lambda_l1': 0.00012792496179674797, 'lambda_l2': 0.001747068321293739, 'num_leaves': 250, 'feature_fraction': 0.8378332431958636, 'bagging_fraction': 0.5117862670957847, 'bagging_freq': 3, 'min_child_samples': 74}. Best is trial 82 with value: 0.5099383139136395.\u001b[0m\n"
     ]
    },
    {
     "name": "stdout",
     "output_type": "stream",
     "text": [
      "[LightGBM] [Warning] feature_fraction is set=0.8759522310045748, colsample_bytree=1.0 will be ignored. Current value: feature_fraction=0.8759522310045748\n",
      "[LightGBM] [Warning] lambda_l1 is set=2.0463330971249197e-05, reg_alpha=0.0 will be ignored. Current value: lambda_l1=2.0463330971249197e-05\n",
      "[LightGBM] [Warning] bagging_fraction is set=0.5526123632487395, subsample=1.0 will be ignored. Current value: bagging_fraction=0.5526123632487395\n",
      "[LightGBM] [Warning] lambda_l2 is set=0.008450949956675183, reg_lambda=0.0 will be ignored. Current value: lambda_l2=0.008450949956675183\n",
      "[LightGBM] [Warning] bagging_freq is set=1, subsample_freq=0 will be ignored. Current value: bagging_freq=1\n"
     ]
    },
    {
     "name": "stderr",
     "output_type": "stream",
     "text": [
      "\u001b[32m[I 2023-02-01 17:18:06,627]\u001b[0m Trial 89 finished with value: 0.4993831391363948 and parameters: {'lambda_l1': 2.0463330971249197e-05, 'lambda_l2': 0.008450949956675183, 'num_leaves': 49, 'feature_fraction': 0.8759522310045748, 'bagging_fraction': 0.5526123632487395, 'bagging_freq': 1, 'min_child_samples': 17}. Best is trial 82 with value: 0.5099383139136395.\u001b[0m\n"
     ]
    },
    {
     "name": "stdout",
     "output_type": "stream",
     "text": [
      "[LightGBM] [Warning] feature_fraction is set=0.7232403137487987, colsample_bytree=1.0 will be ignored. Current value: feature_fraction=0.7232403137487987\n",
      "[LightGBM] [Warning] lambda_l1 is set=5.177439499923877e-05, reg_alpha=0.0 will be ignored. Current value: lambda_l1=5.177439499923877e-05\n",
      "[LightGBM] [Warning] bagging_fraction is set=0.5328771402264423, subsample=1.0 will be ignored. Current value: bagging_fraction=0.5328771402264423\n",
      "[LightGBM] [Warning] lambda_l2 is set=0.003619186595733649, reg_lambda=0.0 will be ignored. Current value: lambda_l2=0.003619186595733649\n",
      "[LightGBM] [Warning] bagging_freq is set=6, subsample_freq=0 will be ignored. Current value: bagging_freq=6\n"
     ]
    },
    {
     "name": "stderr",
     "output_type": "stream",
     "text": [
      "\u001b[32m[I 2023-02-01 17:18:08,718]\u001b[0m Trial 90 finished with value: 0.5032213845099384 and parameters: {'lambda_l1': 5.177439499923877e-05, 'lambda_l2': 0.003619186595733649, 'num_leaves': 33, 'feature_fraction': 0.7232403137487987, 'bagging_fraction': 0.5328771402264423, 'bagging_freq': 6, 'min_child_samples': 51}. Best is trial 82 with value: 0.5099383139136395.\u001b[0m\n"
     ]
    },
    {
     "name": "stdout",
     "output_type": "stream",
     "text": [
      "[LightGBM] [Warning] feature_fraction is set=0.8353905787243294, colsample_bytree=1.0 will be ignored. Current value: feature_fraction=0.8353905787243294\n",
      "[LightGBM] [Warning] lambda_l1 is set=8.592127065496358e-05, reg_alpha=0.0 will be ignored. Current value: lambda_l1=8.592127065496358e-05\n",
      "[LightGBM] [Warning] bagging_fraction is set=0.47666538815225507, subsample=1.0 will be ignored. Current value: bagging_fraction=0.47666538815225507\n",
      "[LightGBM] [Warning] lambda_l2 is set=0.04109079797305683, reg_lambda=0.0 will be ignored. Current value: lambda_l2=0.04109079797305683\n",
      "[LightGBM] [Warning] bagging_freq is set=2, subsample_freq=0 will be ignored. Current value: bagging_freq=2\n"
     ]
    },
    {
     "name": "stderr",
     "output_type": "stream",
     "text": [
      "\u001b[32m[I 2023-02-01 17:18:09,972]\u001b[0m Trial 91 finished with value: 0.5067854694996573 and parameters: {'lambda_l1': 8.592127065496358e-05, 'lambda_l2': 0.04109079797305683, 'num_leaves': 15, 'feature_fraction': 0.8353905787243294, 'bagging_fraction': 0.47666538815225507, 'bagging_freq': 2, 'min_child_samples': 10}. Best is trial 82 with value: 0.5099383139136395.\u001b[0m\n"
     ]
    },
    {
     "name": "stdout",
     "output_type": "stream",
     "text": [
      "[LightGBM] [Warning] feature_fraction is set=0.8216508982232545, colsample_bytree=1.0 will be ignored. Current value: feature_fraction=0.8216508982232545\n",
      "[LightGBM] [Warning] lambda_l1 is set=0.0004553059863820555, reg_alpha=0.0 will be ignored. Current value: lambda_l1=0.0004553059863820555\n",
      "[LightGBM] [Warning] bagging_fraction is set=0.5003205488836723, subsample=1.0 will be ignored. Current value: bagging_fraction=0.5003205488836723\n",
      "[LightGBM] [Warning] lambda_l2 is set=0.0748008259509658, reg_lambda=0.0 will be ignored. Current value: lambda_l2=0.0748008259509658\n",
      "[LightGBM] [Warning] bagging_freq is set=2, subsample_freq=0 will be ignored. Current value: bagging_freq=2\n"
     ]
    },
    {
     "name": "stderr",
     "output_type": "stream",
     "text": [
      "\u001b[32m[I 2023-02-01 17:18:11,617]\u001b[0m Trial 92 finished with value: 0.5051405071967101 and parameters: {'lambda_l1': 0.0004553059863820555, 'lambda_l2': 0.0748008259509658, 'num_leaves': 28, 'feature_fraction': 0.8216508982232545, 'bagging_fraction': 0.5003205488836723, 'bagging_freq': 2, 'min_child_samples': 7}. Best is trial 82 with value: 0.5099383139136395.\u001b[0m\n"
     ]
    },
    {
     "name": "stdout",
     "output_type": "stream",
     "text": [
      "[LightGBM] [Warning] feature_fraction is set=0.8060770606065137, colsample_bytree=1.0 will be ignored. Current value: feature_fraction=0.8060770606065137\n",
      "[LightGBM] [Warning] lambda_l1 is set=0.00014574377164172823, reg_alpha=0.0 will be ignored. Current value: lambda_l1=0.00014574377164172823\n",
      "[LightGBM] [Warning] bagging_fraction is set=0.4570070324773882, subsample=1.0 will be ignored. Current value: bagging_fraction=0.4570070324773882\n",
      "[LightGBM] [Warning] lambda_l2 is set=0.019403503768443808, reg_lambda=0.0 will be ignored. Current value: lambda_l2=0.019403503768443808\n",
      "[LightGBM] [Warning] bagging_freq is set=2, subsample_freq=0 will be ignored. Current value: bagging_freq=2\n"
     ]
    },
    {
     "name": "stderr",
     "output_type": "stream",
     "text": [
      "\u001b[32m[I 2023-02-01 17:18:13,435]\u001b[0m Trial 93 finished with value: 0.5000685400959561 and parameters: {'lambda_l1': 0.00014574377164172823, 'lambda_l2': 0.019403503768443808, 'num_leaves': 22, 'feature_fraction': 0.8060770606065137, 'bagging_fraction': 0.4570070324773882, 'bagging_freq': 2, 'min_child_samples': 59}. Best is trial 82 with value: 0.5099383139136395.\u001b[0m\n"
     ]
    },
    {
     "name": "stdout",
     "output_type": "stream",
     "text": [
      "[LightGBM] [Warning] feature_fraction is set=0.7862742483357315, colsample_bytree=1.0 will be ignored. Current value: feature_fraction=0.7862742483357315\n",
      "[LightGBM] [Warning] lambda_l1 is set=0.0017128588701729372, reg_alpha=0.0 will be ignored. Current value: lambda_l1=0.0017128588701729372\n",
      "[LightGBM] [Warning] bagging_fraction is set=0.48729625026600526, subsample=1.0 will be ignored. Current value: bagging_fraction=0.48729625026600526\n",
      "[LightGBM] [Warning] lambda_l2 is set=0.010602456684848896, reg_lambda=0.0 will be ignored. Current value: lambda_l2=0.010602456684848896\n",
      "[LightGBM] [Warning] bagging_freq is set=2, subsample_freq=0 will be ignored. Current value: bagging_freq=2\n"
     ]
    },
    {
     "name": "stderr",
     "output_type": "stream",
     "text": [
      "\u001b[32m[I 2023-02-01 17:18:15,177]\u001b[0m Trial 94 finished with value: 0.5039067854694996 and parameters: {'lambda_l1': 0.0017128588701729372, 'lambda_l2': 0.010602456684848896, 'num_leaves': 40, 'feature_fraction': 0.7862742483357315, 'bagging_fraction': 0.48729625026600526, 'bagging_freq': 2, 'min_child_samples': 13}. Best is trial 82 with value: 0.5099383139136395.\u001b[0m\n"
     ]
    },
    {
     "name": "stdout",
     "output_type": "stream",
     "text": [
      "[LightGBM] [Warning] feature_fraction is set=0.7589618814921043, colsample_bytree=1.0 will be ignored. Current value: feature_fraction=0.7589618814921043\n",
      "[LightGBM] [Warning] lambda_l1 is set=0.0007970952985586192, reg_alpha=0.0 will be ignored. Current value: lambda_l1=0.0007970952985586192\n",
      "[LightGBM] [Warning] bagging_fraction is set=0.43742516547548205, subsample=1.0 will be ignored. Current value: bagging_fraction=0.43742516547548205\n",
      "[LightGBM] [Warning] lambda_l2 is set=0.005358774315374836, reg_lambda=0.0 will be ignored. Current value: lambda_l2=0.005358774315374836\n",
      "[LightGBM] [Warning] bagging_freq is set=2, subsample_freq=0 will be ignored. Current value: bagging_freq=2\n"
     ]
    },
    {
     "name": "stderr",
     "output_type": "stream",
     "text": [
      "\u001b[32m[I 2023-02-01 17:18:15,987]\u001b[0m Trial 95 finished with value: 0.5050034270047978 and parameters: {'lambda_l1': 0.0007970952985586192, 'lambda_l2': 0.005358774315374836, 'num_leaves': 9, 'feature_fraction': 0.7589618814921043, 'bagging_fraction': 0.43742516547548205, 'bagging_freq': 2, 'min_child_samples': 5}. Best is trial 82 with value: 0.5099383139136395.\u001b[0m\n"
     ]
    },
    {
     "name": "stdout",
     "output_type": "stream",
     "text": [
      "[LightGBM] [Warning] feature_fraction is set=0.899080595612709, colsample_bytree=1.0 will be ignored. Current value: feature_fraction=0.899080595612709\n",
      "[LightGBM] [Warning] lambda_l1 is set=0.0002607118582745905, reg_alpha=0.0 will be ignored. Current value: lambda_l1=0.0002607118582745905\n",
      "[LightGBM] [Warning] bagging_fraction is set=0.505907626700079, subsample=1.0 will be ignored. Current value: bagging_fraction=0.505907626700079\n",
      "[LightGBM] [Warning] lambda_l2 is set=0.029809264575228978, reg_lambda=0.0 will be ignored. Current value: lambda_l2=0.029809264575228978\n",
      "[LightGBM] [Warning] bagging_freq is set=2, subsample_freq=0 will be ignored. Current value: bagging_freq=2\n"
     ]
    },
    {
     "name": "stderr",
     "output_type": "stream",
     "text": [
      "\u001b[32m[I 2023-02-01 17:18:17,823]\u001b[0m Trial 96 finished with value: 0.5067854694996573 and parameters: {'lambda_l1': 0.0002607118582745905, 'lambda_l2': 0.029809264575228978, 'num_leaves': 26, 'feature_fraction': 0.899080595612709, 'bagging_fraction': 0.505907626700079, 'bagging_freq': 2, 'min_child_samples': 23}. Best is trial 82 with value: 0.5099383139136395.\u001b[0m\n"
     ]
    },
    {
     "name": "stdout",
     "output_type": "stream",
     "text": [
      "[LightGBM] [Warning] feature_fraction is set=0.7408626206942281, colsample_bytree=1.0 will be ignored. Current value: feature_fraction=0.7408626206942281\n",
      "[LightGBM] [Warning] lambda_l1 is set=3.835767857610613e-05, reg_alpha=0.0 will be ignored. Current value: lambda_l1=3.835767857610613e-05\n",
      "[LightGBM] [Warning] bagging_fraction is set=0.4650188942407631, subsample=1.0 will be ignored. Current value: bagging_fraction=0.4650188942407631\n",
      "[LightGBM] [Warning] lambda_l2 is set=0.0009312084182728813, reg_lambda=0.0 will be ignored. Current value: lambda_l2=0.0009312084182728813\n",
      "[LightGBM] [Warning] bagging_freq is set=2, subsample_freq=0 will be ignored. Current value: bagging_freq=2\n"
     ]
    },
    {
     "name": "stderr",
     "output_type": "stream",
     "text": [
      "\u001b[32m[I 2023-02-01 17:18:20,558]\u001b[0m Trial 97 finished with value: 0.49924605894448254 and parameters: {'lambda_l1': 3.835767857610613e-05, 'lambda_l2': 0.0009312084182728813, 'num_leaves': 55, 'feature_fraction': 0.7408626206942281, 'bagging_fraction': 0.4650188942407631, 'bagging_freq': 2, 'min_child_samples': 20}. Best is trial 82 with value: 0.5099383139136395.\u001b[0m\n"
     ]
    },
    {
     "name": "stdout",
     "output_type": "stream",
     "text": [
      "[LightGBM] [Warning] feature_fraction is set=0.8270692451290347, colsample_bytree=1.0 will be ignored. Current value: feature_fraction=0.8270692451290347\n",
      "[LightGBM] [Warning] lambda_l1 is set=1.328747091099663e-05, reg_alpha=0.0 will be ignored. Current value: lambda_l1=1.328747091099663e-05\n",
      "[LightGBM] [Warning] bagging_fraction is set=0.526456423610158, subsample=1.0 will be ignored. Current value: bagging_fraction=0.526456423610158\n",
      "[LightGBM] [Warning] lambda_l2 is set=0.013674767091489612, reg_lambda=0.0 will be ignored. Current value: lambda_l2=0.013674767091489612\n",
      "[LightGBM] [Warning] bagging_freq is set=3, subsample_freq=0 will be ignored. Current value: bagging_freq=3\n"
     ]
    },
    {
     "name": "stderr",
     "output_type": "stream",
     "text": [
      "\u001b[32m[I 2023-02-01 17:18:21,437]\u001b[0m Trial 98 finished with value: 0.5010281014393421 and parameters: {'lambda_l1': 1.328747091099663e-05, 'lambda_l2': 0.013674767091489612, 'num_leaves': 7, 'feature_fraction': 0.8270692451290347, 'bagging_fraction': 0.526456423610158, 'bagging_freq': 3, 'min_child_samples': 11}. Best is trial 82 with value: 0.5099383139136395.\u001b[0m\n"
     ]
    },
    {
     "name": "stdout",
     "output_type": "stream",
     "text": [
      "[LightGBM] [Warning] feature_fraction is set=0.7727317531836306, colsample_bytree=1.0 will be ignored. Current value: feature_fraction=0.7727317531836306\n",
      "[LightGBM] [Warning] lambda_l1 is set=0.00032847117724379884, reg_alpha=0.0 will be ignored. Current value: lambda_l1=0.00032847117724379884\n",
      "[LightGBM] [Warning] bagging_fraction is set=0.411568453111432, subsample=1.0 will be ignored. Current value: bagging_fraction=0.411568453111432\n",
      "[LightGBM] [Warning] lambda_l2 is set=0.007956984421188881, reg_lambda=0.0 will be ignored. Current value: lambda_l2=0.007956984421188881\n",
      "[LightGBM] [Warning] bagging_freq is set=1, subsample_freq=0 will be ignored. Current value: bagging_freq=1\n"
     ]
    },
    {
     "name": "stderr",
     "output_type": "stream",
     "text": [
      "\u001b[32m[I 2023-02-01 17:18:24,397]\u001b[0m Trial 99 finished with value: 0.5013022618231665 and parameters: {'lambda_l1': 0.00032847117724379884, 'lambda_l2': 0.007956984421188881, 'num_leaves': 68, 'feature_fraction': 0.7727317531836306, 'bagging_fraction': 0.411568453111432, 'bagging_freq': 1, 'min_child_samples': 8}. Best is trial 82 with value: 0.5099383139136395.\u001b[0m\n"
     ]
    },
    {
     "name": "stdout",
     "output_type": "stream",
     "text": [
      "FrozenTrial(number=82, state=TrialState.COMPLETE, values=[0.5099383139136395], datetime_start=datetime.datetime(2023, 2, 1, 17, 17, 48, 221437), datetime_complete=datetime.datetime(2023, 2, 1, 17, 17, 49, 500720), params={'lambda_l1': 0.0001358033686963372, 'lambda_l2': 0.00880121511739106, 'num_leaves': 16, 'feature_fraction': 0.8088256544051219, 'bagging_fraction': 0.5201822280774182, 'bagging_freq': 2, 'min_child_samples': 10}, user_attrs={}, system_attrs={}, intermediate_values={}, distributions={'lambda_l1': FloatDistribution(high=10.0, log=True, low=1e-08, step=None), 'lambda_l2': FloatDistribution(high=10.0, log=True, low=1e-08, step=None), 'num_leaves': IntDistribution(high=256, log=False, low=2, step=1), 'feature_fraction': FloatDistribution(high=1.0, log=False, low=0.4, step=None), 'bagging_fraction': FloatDistribution(high=1.0, log=False, low=0.4, step=None), 'bagging_freq': IntDistribution(high=7, log=False, low=1, step=1), 'min_child_samples': IntDistribution(high=100, log=False, low=5, step=1)}, trial_id=82, value=None)\n"
     ]
    }
   ],
   "source": [
    "study = optuna.create_study(direction='maximize')\n",
    "study.optimize(objective, n_trials=100)\n",
    "trial = study.best_trial\n",
    "print(trial)"
   ]
  },
  {
   "cell_type": "code",
   "execution_count": 43,
   "id": "ae090389-f63a-4db7-9213-b37fc47a4850",
   "metadata": {},
   "outputs": [
    {
     "name": "stdout",
     "output_type": "stream",
     "text": [
      "[LightGBM] [Warning] bagging_freq is set=2, subsample_freq=0 will be ignored. Current value: bagging_freq=2\n",
      "[LightGBM] [Warning] lambda_l1 is set=0.0001358033686963372, reg_alpha=0.0 will be ignored. Current value: lambda_l1=0.0001358033686963372\n",
      "[LightGBM] [Warning] feature_fraction is set=0.8088256544051219, colsample_bytree=1.0 will be ignored. Current value: feature_fraction=0.8088256544051219\n",
      "[LightGBM] [Warning] bagging_fraction is set=0.5201822280774182, subsample=1.0 will be ignored. Current value: bagging_fraction=0.5201822280774182\n",
      "[LightGBM] [Warning] lambda_l2 is set=0.00880121511739106, reg_lambda=0.0 will be ignored. Current value: lambda_l2=0.00880121511739106\n"
     ]
    },
    {
     "data": {
      "text/plain": [
       "array([2, 2, 2, ..., 0, 0, 2])"
      ]
     },
     "execution_count": 43,
     "metadata": {},
     "output_type": "execute_result"
    }
   ],
   "source": [
    "params={'lambda_l1': 0.0001358033686963372, \n",
    "        'lambda_l2': 0.00880121511739106,\n",
    "        'num_leaves': 16, \n",
    "        'feature_fraction': 0.8088256544051219, \n",
    "        'bagging_fraction': 0.5201822280774182,\n",
    "        'bagging_freq': 2,\n",
    "        'min_child_samples': 10}\n",
    "\n",
    "lgbm_model = LGBMClassifier(**params)\n",
    "\n",
    "lgbm_model.fit(X_train, y_train)\n",
    "\n",
    "preds = lgbm_model.predict(X_test)\n",
    "\n",
    "preds"
   ]
  },
  {
   "cell_type": "code",
   "execution_count": 45,
   "id": "fc1ec781-e1ab-4c29-9173-cbb8c920bbe1",
   "metadata": {},
   "outputs": [],
   "source": [
    "preds_list = list(preds)\n",
    "#preds_list"
   ]
  },
  {
   "cell_type": "code",
   "execution_count": 46,
   "id": "7544afbc-57e6-4d25-b09f-b2ebcb0ba4e6",
   "metadata": {},
   "outputs": [],
   "source": [
    "#score_mapping = {0.00: 0, 0.25: 1, 0.50: 2, 0.75: 3, 1.00: 4}"
   ]
  },
  {
   "cell_type": "code",
   "execution_count": 47,
   "id": "e216f082-89b8-4be7-bd46-a7d36abf6e55",
   "metadata": {},
   "outputs": [
    {
     "data": {
      "text/plain": [
       "{0: 0.0, 1: 0.25, 2: 0.5, 3: 0.75, 4: 1.0}"
      ]
     },
     "execution_count": 47,
     "metadata": {},
     "output_type": "execute_result"
    }
   ],
   "source": [
    "reverse_score_mapping = {val: key for key, val in score_mapping.items()}\n",
    "reverse_score_mapping"
   ]
  },
  {
   "cell_type": "code",
   "execution_count": 49,
   "id": "ccd1ad4a-138c-431d-8d2f-7a4e48f1f2ee",
   "metadata": {},
   "outputs": [],
   "source": [
    "preds_converted = [reverse_score_mapping[pred] for pred in preds_list]\n",
    "#preds_converted"
   ]
  },
  {
   "cell_type": "code",
   "execution_count": 50,
   "id": "10a4b5e7-97ad-4fa0-a1a6-54ab24897a34",
   "metadata": {},
   "outputs": [],
   "source": [
    "preds_conv_arr = np.array(preds_converted)"
   ]
  },
  {
   "cell_type": "code",
   "execution_count": 53,
   "id": "2141e854-e6b8-486f-bda0-80e70c633ccc",
   "metadata": {},
   "outputs": [
    {
     "data": {
      "text/plain": [
       "array([0.75, 0.25, 0.  , ..., 0.  , 0.25, 0.5 ])"
      ]
     },
     "execution_count": 53,
     "metadata": {},
     "output_type": "execute_result"
    }
   ],
   "source": [
    "y_test_conv = y_test.map(reverse_score_mapping)\n",
    "y_test_conv.values"
   ]
  },
  {
   "cell_type": "code",
   "execution_count": 57,
   "id": "5ef05040-b820-42f5-8eda-651f78db31a8",
   "metadata": {},
   "outputs": [
    {
     "data": {
      "text/plain": [
       "array([0.5, 0.5, 0.5, ..., 0. , 0. , 0.5])"
      ]
     },
     "execution_count": 57,
     "metadata": {},
     "output_type": "execute_result"
    }
   ],
   "source": [
    "preds_conv_arr"
   ]
  },
  {
   "cell_type": "code",
   "execution_count": 56,
   "id": "34ce3a6c-5735-4992-8a28-1834f2ff3a75",
   "metadata": {},
   "outputs": [
    {
     "data": {
      "text/plain": [
       "0.5068905574442989"
      ]
     },
     "execution_count": 56,
     "metadata": {},
     "output_type": "execute_result"
    }
   ],
   "source": [
    "np.corrcoef(preds_converted, y_test_conv.values)[1, 0]"
   ]
  },
  {
   "cell_type": "code",
   "execution_count": 58,
   "id": "06337172-cbf8-4ee6-9408-5fcaf6e41320",
   "metadata": {},
   "outputs": [
    {
     "data": {
      "text/plain": [
       "(0.5068905574442999, 0.0)"
      ]
     },
     "execution_count": 58,
     "metadata": {},
     "output_type": "execute_result"
    }
   ],
   "source": [
    "from scipy import stats\n",
    "\n",
    "stats.pearsonr(preds_conv_arr, y_test_conv.values)"
   ]
  },
  {
   "cell_type": "code",
   "execution_count": 59,
   "id": "5e514f2b-a9da-4836-bf41-de862594de2e",
   "metadata": {},
   "outputs": [],
   "source": [
    "X_train, X_test, y_train, y_test = train_test_split(X, y2, stratify=y2, test_size=0.2)"
   ]
  },
  {
   "cell_type": "code",
   "execution_count": 60,
   "id": "b25ae4a6-76a6-41fc-993a-d63e250a773b",
   "metadata": {},
   "outputs": [],
   "source": [
    "from xgboost import XGBRegressor\n",
    "from lightgbm import LGBMRegressor"
   ]
  },
  {
   "cell_type": "code",
   "execution_count": 61,
   "id": "be037880-1a48-4e6a-a0e2-1eb640d5282a",
   "metadata": {},
   "outputs": [
    {
     "name": "stderr",
     "output_type": "stream",
     "text": [
      "/Users/alecclarkfeather/opt/anaconda3/lib/python3.8/site-packages/xgboost/data.py:262: FutureWarning: pandas.Int64Index is deprecated and will be removed from pandas in a future version. Use pandas.Index with the appropriate dtype instead.\n",
      "  elif isinstance(data.columns, (pd.Int64Index, pd.RangeIndex)):\n"
     ]
    },
    {
     "data": {
      "text/plain": [
       "array([0.31455556, 0.26397276, 0.2354748 , ..., 0.25342202, 0.21441744,\n",
       "       0.6008081 ], dtype=float32)"
      ]
     },
     "execution_count": 61,
     "metadata": {},
     "output_type": "execute_result"
    }
   ],
   "source": [
    "xgb_reg = XGBRegressor()\n",
    "\n",
    "xgb_reg.fit(X_train, y_train)\n",
    "\n",
    "xgb_preds = xgb_reg.predict(X_test)\n",
    "\n",
    "xgb_preds"
   ]
  },
  {
   "cell_type": "code",
   "execution_count": 62,
   "id": "0f0d4de4-349c-4da0-b8f2-2e945f0c0342",
   "metadata": {},
   "outputs": [
    {
     "data": {
      "text/plain": [
       "(0.59861266456386, 0.0)"
      ]
     },
     "execution_count": 62,
     "metadata": {},
     "output_type": "execute_result"
    }
   ],
   "source": [
    "stats.pearsonr(xgb_preds, y_test.values)"
   ]
  },
  {
   "cell_type": "code",
   "execution_count": 63,
   "id": "ea16929d-0c1f-47de-952a-a790d7203ab7",
   "metadata": {},
   "outputs": [
    {
     "data": {
      "text/plain": [
       "array([0.31411632, 0.26318948, 0.22310777, ..., 0.19266209, 0.22990908,\n",
       "       0.59356222])"
      ]
     },
     "execution_count": 63,
     "metadata": {},
     "output_type": "execute_result"
    }
   ],
   "source": [
    "lgbm_reg = LGBMRegressor()\n",
    "\n",
    "lgbm_reg.fit(X_train, y_train)\n",
    "\n",
    "lgbm_preds = lgbm_reg.predict(X_test)\n",
    "\n",
    "lgbm_preds"
   ]
  },
  {
   "cell_type": "code",
   "execution_count": 64,
   "id": "83a26051-f94c-4a9d-a057-48ae7ec32224",
   "metadata": {},
   "outputs": [
    {
     "data": {
      "text/plain": [
       "(0.6019245270908031, 0.0)"
      ]
     },
     "execution_count": 64,
     "metadata": {},
     "output_type": "execute_result"
    }
   ],
   "source": [
    "stats.pearsonr(lgbm_preds, y_test.values)"
   ]
  },
  {
   "cell_type": "code",
   "execution_count": 65,
   "id": "8ae475d6-d60b-4ac7-a6df-6918185e63fe",
   "metadata": {},
   "outputs": [],
   "source": [
    "def objective(trial):\n",
    "    \n",
    "    #dtrain = lgb.Dataset(X_train, label=y_train)\n",
    "    \n",
    "    param = {\n",
    "        #\"objective\": \"multiclass\",\n",
    "        \"metric\": \"rmse\",\n",
    "        \"verbosity\": -1,\n",
    "        \"boosting_type\": \"gbdt\",\n",
    "        \"lambda_l1\": trial.suggest_float(\"lambda_l1\", 1e-8, 10.0, log=True),\n",
    "        \"lambda_l2\": trial.suggest_float(\"lambda_l2\", 1e-8, 10.0, log=True),\n",
    "        \"num_leaves\": trial.suggest_int(\"num_leaves\", 2, 256),\n",
    "        \"feature_fraction\": trial.suggest_float(\"feature_fraction\", 0.4, 1.0),\n",
    "        \"bagging_fraction\": trial.suggest_float(\"bagging_fraction\", 0.4, 1.0),\n",
    "        \"bagging_freq\": trial.suggest_int(\"bagging_freq\", 1, 7),\n",
    "        \"min_child_samples\": trial.suggest_int(\"min_child_samples\", 5, 100),\n",
    "    }\n",
    "    \n",
    "    gbm = LGBMRegressor(**param)\n",
    "    \n",
    "    gbm.fit(X_train, y_train)\n",
    "    \n",
    "    preds = gbm.predict(X_test)\n",
    "    \n",
    "    #pred_labels = np.rint(preds)\n",
    "    \n",
    "    corr = metrics.r2_score(y_test, preds)\n",
    "    \n",
    "    return corr"
   ]
  },
  {
   "cell_type": "code",
   "execution_count": 66,
   "id": "7b1cff0d-8acc-41a8-b300-276d7395e76b",
   "metadata": {},
   "outputs": [
    {
     "name": "stderr",
     "output_type": "stream",
     "text": [
      "\u001b[32m[I 2023-02-01 17:35:17,225]\u001b[0m A new study created in memory with name: no-name-3011ab9b-52bc-473c-a308-ff46fe17c623\u001b[0m\n",
      "\u001b[32m[I 2023-02-01 17:35:17,452]\u001b[0m Trial 0 finished with value: 0.3378684675580552 and parameters: {'lambda_l1': 6.879149998607284e-06, 'lambda_l2': 0.000612443133385853, 'num_leaves': 3, 'feature_fraction': 0.49177898585420676, 'bagging_fraction': 0.8944637936212552, 'bagging_freq': 1, 'min_child_samples': 6}. Best is trial 0 with value: 0.3378684675580552.\u001b[0m\n"
     ]
    },
    {
     "name": "stdout",
     "output_type": "stream",
     "text": [
      "[LightGBM] [Warning] feature_fraction is set=0.49177898585420676, colsample_bytree=1.0 will be ignored. Current value: feature_fraction=0.49177898585420676\n",
      "[LightGBM] [Warning] bagging_freq is set=1, subsample_freq=0 will be ignored. Current value: bagging_freq=1\n",
      "[LightGBM] [Warning] bagging_fraction is set=0.8944637936212552, subsample=1.0 will be ignored. Current value: bagging_fraction=0.8944637936212552\n",
      "[LightGBM] [Warning] lambda_l2 is set=0.000612443133385853, reg_lambda=0.0 will be ignored. Current value: lambda_l2=0.000612443133385853\n",
      "[LightGBM] [Warning] lambda_l1 is set=6.879149998607284e-06, reg_alpha=0.0 will be ignored. Current value: lambda_l1=6.879149998607284e-06\n",
      "[LightGBM] [Warning] feature_fraction is set=0.8400725521795276, colsample_bytree=1.0 will be ignored. Current value: feature_fraction=0.8400725521795276\n",
      "[LightGBM] [Warning] bagging_freq is set=6, subsample_freq=0 will be ignored. Current value: bagging_freq=6\n",
      "[LightGBM] [Warning] bagging_fraction is set=0.9444237984126401, subsample=1.0 will be ignored. Current value: bagging_fraction=0.9444237984126401\n",
      "[LightGBM] [Warning] lambda_l2 is set=0.04262059374153042, reg_lambda=0.0 will be ignored. Current value: lambda_l2=0.04262059374153042\n",
      "[LightGBM] [Warning] lambda_l1 is set=0.0003163289884320856, reg_alpha=0.0 will be ignored. Current value: lambda_l1=0.0003163289884320856\n"
     ]
    },
    {
     "name": "stderr",
     "output_type": "stream",
     "text": [
      "\u001b[32m[I 2023-02-01 17:35:18,243]\u001b[0m Trial 1 finished with value: 0.3578736240605431 and parameters: {'lambda_l1': 0.0003163289884320856, 'lambda_l2': 0.04262059374153042, 'num_leaves': 75, 'feature_fraction': 0.8400725521795276, 'bagging_fraction': 0.9444237984126401, 'bagging_freq': 6, 'min_child_samples': 90}. Best is trial 1 with value: 0.3578736240605431.\u001b[0m\n"
     ]
    },
    {
     "name": "stdout",
     "output_type": "stream",
     "text": [
      "[LightGBM] [Warning] feature_fraction is set=0.5678942876672265, colsample_bytree=1.0 will be ignored. Current value: feature_fraction=0.5678942876672265\n",
      "[LightGBM] [Warning] bagging_freq is set=5, subsample_freq=0 will be ignored. Current value: bagging_freq=5\n",
      "[LightGBM] [Warning] bagging_fraction is set=0.7225372074199721, subsample=1.0 will be ignored. Current value: bagging_fraction=0.7225372074199721\n",
      "[LightGBM] [Warning] lambda_l2 is set=2.068955575713033e-06, reg_lambda=0.0 will be ignored. Current value: lambda_l2=2.068955575713033e-06\n",
      "[LightGBM] [Warning] lambda_l1 is set=0.8149536034199684, reg_alpha=0.0 will be ignored. Current value: lambda_l1=0.8149536034199684\n"
     ]
    },
    {
     "name": "stderr",
     "output_type": "stream",
     "text": [
      "\u001b[32m[I 2023-02-01 17:35:18,837]\u001b[0m Trial 2 finished with value: 0.3572221733998868 and parameters: {'lambda_l1': 0.8149536034199684, 'lambda_l2': 2.068955575713033e-06, 'num_leaves': 44, 'feature_fraction': 0.5678942876672265, 'bagging_fraction': 0.7225372074199721, 'bagging_freq': 5, 'min_child_samples': 56}. Best is trial 1 with value: 0.3578736240605431.\u001b[0m\n"
     ]
    },
    {
     "name": "stdout",
     "output_type": "stream",
     "text": [
      "[LightGBM] [Warning] feature_fraction is set=0.5427616469011769, colsample_bytree=1.0 will be ignored. Current value: feature_fraction=0.5427616469011769\n",
      "[LightGBM] [Warning] bagging_freq is set=5, subsample_freq=0 will be ignored. Current value: bagging_freq=5\n",
      "[LightGBM] [Warning] bagging_fraction is set=0.5658288998202462, subsample=1.0 will be ignored. Current value: bagging_fraction=0.5658288998202462\n",
      "[LightGBM] [Warning] lambda_l2 is set=0.031113620996174575, reg_lambda=0.0 will be ignored. Current value: lambda_l2=0.031113620996174575\n",
      "[LightGBM] [Warning] lambda_l1 is set=3.376411200044761e-05, reg_alpha=0.0 will be ignored. Current value: lambda_l1=3.376411200044761e-05\n"
     ]
    },
    {
     "name": "stderr",
     "output_type": "stream",
     "text": [
      "\u001b[32m[I 2023-02-01 17:35:19,392]\u001b[0m Trial 3 finished with value: 0.3536078346270969 and parameters: {'lambda_l1': 3.376411200044761e-05, 'lambda_l2': 0.031113620996174575, 'num_leaves': 62, 'feature_fraction': 0.5427616469011769, 'bagging_fraction': 0.5658288998202462, 'bagging_freq': 5, 'min_child_samples': 79}. Best is trial 1 with value: 0.3578736240605431.\u001b[0m\n"
     ]
    },
    {
     "name": "stdout",
     "output_type": "stream",
     "text": [
      "[LightGBM] [Warning] feature_fraction is set=0.543396443275794, colsample_bytree=1.0 will be ignored. Current value: feature_fraction=0.543396443275794\n",
      "[LightGBM] [Warning] bagging_freq is set=1, subsample_freq=0 will be ignored. Current value: bagging_freq=1\n",
      "[LightGBM] [Warning] bagging_fraction is set=0.8634608202059214, subsample=1.0 will be ignored. Current value: bagging_fraction=0.8634608202059214\n",
      "[LightGBM] [Warning] lambda_l2 is set=5.142829022733574e-05, reg_lambda=0.0 will be ignored. Current value: lambda_l2=5.142829022733574e-05\n",
      "[LightGBM] [Warning] lambda_l1 is set=1.8629636614346465e-05, reg_alpha=0.0 will be ignored. Current value: lambda_l1=1.8629636614346465e-05\n"
     ]
    },
    {
     "name": "stderr",
     "output_type": "stream",
     "text": [
      "\u001b[32m[I 2023-02-01 17:35:20,146]\u001b[0m Trial 4 finished with value: 0.35484917770860125 and parameters: {'lambda_l1': 1.8629636614346465e-05, 'lambda_l2': 5.142829022733574e-05, 'num_leaves': 211, 'feature_fraction': 0.543396443275794, 'bagging_fraction': 0.8634608202059214, 'bagging_freq': 1, 'min_child_samples': 92}. Best is trial 1 with value: 0.3578736240605431.\u001b[0m\n"
     ]
    },
    {
     "name": "stdout",
     "output_type": "stream",
     "text": [
      "[LightGBM] [Warning] feature_fraction is set=0.44162981607014096, colsample_bytree=1.0 will be ignored. Current value: feature_fraction=0.44162981607014096\n",
      "[LightGBM] [Warning] bagging_freq is set=1, subsample_freq=0 will be ignored. Current value: bagging_freq=1\n",
      "[LightGBM] [Warning] bagging_fraction is set=0.5294345015698755, subsample=1.0 will be ignored. Current value: bagging_fraction=0.5294345015698755\n",
      "[LightGBM] [Warning] lambda_l2 is set=0.002212259955622924, reg_lambda=0.0 will be ignored. Current value: lambda_l2=0.002212259955622924\n",
      "[LightGBM] [Warning] lambda_l1 is set=0.0001565290873423336, reg_alpha=0.0 will be ignored. Current value: lambda_l1=0.0001565290873423336\n"
     ]
    },
    {
     "name": "stderr",
     "output_type": "stream",
     "text": [
      "\u001b[32m[I 2023-02-01 17:35:20,712]\u001b[0m Trial 5 finished with value: 0.35146149416770156 and parameters: {'lambda_l1': 0.0001565290873423336, 'lambda_l2': 0.002212259955622924, 'num_leaves': 122, 'feature_fraction': 0.44162981607014096, 'bagging_fraction': 0.5294345015698755, 'bagging_freq': 1, 'min_child_samples': 75}. Best is trial 1 with value: 0.3578736240605431.\u001b[0m\n"
     ]
    },
    {
     "name": "stdout",
     "output_type": "stream",
     "text": [
      "[LightGBM] [Warning] feature_fraction is set=0.8249086833565371, colsample_bytree=1.0 will be ignored. Current value: feature_fraction=0.8249086833565371\n",
      "[LightGBM] [Warning] bagging_freq is set=4, subsample_freq=0 will be ignored. Current value: bagging_freq=4\n",
      "[LightGBM] [Warning] bagging_fraction is set=0.41813583297696594, subsample=1.0 will be ignored. Current value: bagging_fraction=0.41813583297696594\n",
      "[LightGBM] [Warning] lambda_l2 is set=8.869442580383486, reg_lambda=0.0 will be ignored. Current value: lambda_l2=8.869442580383486\n",
      "[LightGBM] [Warning] lambda_l1 is set=5.921870464378431e-07, reg_alpha=0.0 will be ignored. Current value: lambda_l1=5.921870464378431e-07\n"
     ]
    },
    {
     "name": "stderr",
     "output_type": "stream",
     "text": [
      "\u001b[32m[I 2023-02-01 17:35:21,275]\u001b[0m Trial 6 finished with value: 0.3511945219198961 and parameters: {'lambda_l1': 5.921870464378431e-07, 'lambda_l2': 8.869442580383486, 'num_leaves': 46, 'feature_fraction': 0.8249086833565371, 'bagging_fraction': 0.41813583297696594, 'bagging_freq': 4, 'min_child_samples': 94}. Best is trial 1 with value: 0.3578736240605431.\u001b[0m\n"
     ]
    },
    {
     "name": "stdout",
     "output_type": "stream",
     "text": [
      "[LightGBM] [Warning] feature_fraction is set=0.4102807775033977, colsample_bytree=1.0 will be ignored. Current value: feature_fraction=0.4102807775033977\n",
      "[LightGBM] [Warning] bagging_freq is set=7, subsample_freq=0 will be ignored. Current value: bagging_freq=7\n",
      "[LightGBM] [Warning] bagging_fraction is set=0.8045171909807444, subsample=1.0 will be ignored. Current value: bagging_fraction=0.8045171909807444\n",
      "[LightGBM] [Warning] lambda_l2 is set=1.0028129534489693e-08, reg_lambda=0.0 will be ignored. Current value: lambda_l2=1.0028129534489693e-08\n",
      "[LightGBM] [Warning] lambda_l1 is set=0.019245579376316407, reg_alpha=0.0 will be ignored. Current value: lambda_l1=0.019245579376316407\n"
     ]
    },
    {
     "name": "stderr",
     "output_type": "stream",
     "text": [
      "\u001b[32m[I 2023-02-01 17:35:21,916]\u001b[0m Trial 7 finished with value: 0.3569667401128269 and parameters: {'lambda_l1': 0.019245579376316407, 'lambda_l2': 1.0028129534489693e-08, 'num_leaves': 48, 'feature_fraction': 0.4102807775033977, 'bagging_fraction': 0.8045171909807444, 'bagging_freq': 7, 'min_child_samples': 45}. Best is trial 1 with value: 0.3578736240605431.\u001b[0m\n"
     ]
    },
    {
     "name": "stdout",
     "output_type": "stream",
     "text": [
      "[LightGBM] [Warning] feature_fraction is set=0.5103770586846932, colsample_bytree=1.0 will be ignored. Current value: feature_fraction=0.5103770586846932\n",
      "[LightGBM] [Warning] bagging_freq is set=5, subsample_freq=0 will be ignored. Current value: bagging_freq=5\n",
      "[LightGBM] [Warning] bagging_fraction is set=0.6787542314478723, subsample=1.0 will be ignored. Current value: bagging_fraction=0.6787542314478723\n",
      "[LightGBM] [Warning] lambda_l2 is set=8.012115004680993e-08, reg_lambda=0.0 will be ignored. Current value: lambda_l2=8.012115004680993e-08\n",
      "[LightGBM] [Warning] lambda_l1 is set=3.193580847540767, reg_alpha=0.0 will be ignored. Current value: lambda_l1=3.193580847540767\n"
     ]
    },
    {
     "name": "stderr",
     "output_type": "stream",
     "text": [
      "\u001b[32m[I 2023-02-01 17:35:22,456]\u001b[0m Trial 8 finished with value: 0.3559738673451097 and parameters: {'lambda_l1': 3.193580847540767, 'lambda_l2': 8.012115004680993e-08, 'num_leaves': 80, 'feature_fraction': 0.5103770586846932, 'bagging_fraction': 0.6787542314478723, 'bagging_freq': 5, 'min_child_samples': 5}. Best is trial 1 with value: 0.3578736240605431.\u001b[0m\n"
     ]
    },
    {
     "name": "stdout",
     "output_type": "stream",
     "text": [
      "[LightGBM] [Warning] feature_fraction is set=0.42401867619869166, colsample_bytree=1.0 will be ignored. Current value: feature_fraction=0.42401867619869166\n",
      "[LightGBM] [Warning] bagging_freq is set=2, subsample_freq=0 will be ignored. Current value: bagging_freq=2\n",
      "[LightGBM] [Warning] bagging_fraction is set=0.5277904530318844, subsample=1.0 will be ignored. Current value: bagging_fraction=0.5277904530318844\n",
      "[LightGBM] [Warning] lambda_l2 is set=1.9313640147336645e-05, reg_lambda=0.0 will be ignored. Current value: lambda_l2=1.9313640147336645e-05\n",
      "[LightGBM] [Warning] lambda_l1 is set=1.231700161634724, reg_alpha=0.0 will be ignored. Current value: lambda_l1=1.231700161634724\n"
     ]
    },
    {
     "name": "stderr",
     "output_type": "stream",
     "text": [
      "\u001b[32m[I 2023-02-01 17:35:22,975]\u001b[0m Trial 9 finished with value: 0.35152060261128837 and parameters: {'lambda_l1': 1.231700161634724, 'lambda_l2': 1.9313640147336645e-05, 'num_leaves': 123, 'feature_fraction': 0.42401867619869166, 'bagging_fraction': 0.5277904530318844, 'bagging_freq': 2, 'min_child_samples': 61}. Best is trial 1 with value: 0.3578736240605431.\u001b[0m\n"
     ]
    },
    {
     "name": "stdout",
     "output_type": "stream",
     "text": [
      "[LightGBM] [Warning] feature_fraction is set=0.9992221640377631, colsample_bytree=1.0 will be ignored. Current value: feature_fraction=0.9992221640377631\n",
      "[LightGBM] [Warning] bagging_freq is set=7, subsample_freq=0 will be ignored. Current value: bagging_freq=7\n",
      "[LightGBM] [Warning] bagging_fraction is set=0.992930034445024, subsample=1.0 will be ignored. Current value: bagging_fraction=0.992930034445024\n",
      "[LightGBM] [Warning] lambda_l2 is set=0.2119719746367127, reg_lambda=0.0 will be ignored. Current value: lambda_l2=0.2119719746367127\n",
      "[LightGBM] [Warning] lambda_l1 is set=1.3610783282731753e-08, reg_alpha=0.0 will be ignored. Current value: lambda_l1=1.3610783282731753e-08\n"
     ]
    },
    {
     "name": "stderr",
     "output_type": "stream",
     "text": [
      "\u001b[32m[I 2023-02-01 17:35:24,400]\u001b[0m Trial 10 finished with value: 0.3491104394485731 and parameters: {'lambda_l1': 1.3610783282731753e-08, 'lambda_l2': 0.2119719746367127, 'num_leaves': 202, 'feature_fraction': 0.9992221640377631, 'bagging_fraction': 0.992930034445024, 'bagging_freq': 7, 'min_child_samples': 31}. Best is trial 1 with value: 0.3578736240605431.\u001b[0m\n",
      "\u001b[32m[I 2023-02-01 17:35:24,671]\u001b[0m Trial 11 finished with value: 0.3309377271830246 and parameters: {'lambda_l1': 0.008184812185834105, 'lambda_l2': 2.0243861456646397e-06, 'num_leaves': 2, 'feature_fraction': 0.7104140965890899, 'bagging_fraction': 0.7194213225014093, 'bagging_freq': 5, 'min_child_samples': 54}. Best is trial 1 with value: 0.3578736240605431.\u001b[0m\n"
     ]
    },
    {
     "name": "stdout",
     "output_type": "stream",
     "text": [
      "[LightGBM] [Warning] feature_fraction is set=0.7104140965890899, colsample_bytree=1.0 will be ignored. Current value: feature_fraction=0.7104140965890899\n",
      "[LightGBM] [Warning] bagging_freq is set=5, subsample_freq=0 will be ignored. Current value: bagging_freq=5\n",
      "[LightGBM] [Warning] bagging_fraction is set=0.7194213225014093, subsample=1.0 will be ignored. Current value: bagging_fraction=0.7194213225014093\n",
      "[LightGBM] [Warning] lambda_l2 is set=2.0243861456646397e-06, reg_lambda=0.0 will be ignored. Current value: lambda_l2=2.0243861456646397e-06\n",
      "[LightGBM] [Warning] lambda_l1 is set=0.008184812185834105, reg_alpha=0.0 will be ignored. Current value: lambda_l1=0.008184812185834105\n",
      "[LightGBM] [Warning] feature_fraction is set=0.6696031724249673, colsample_bytree=1.0 will be ignored. Current value: feature_fraction=0.6696031724249673\n",
      "[LightGBM] [Warning] bagging_freq is set=6, subsample_freq=0 will be ignored. Current value: bagging_freq=6\n",
      "[LightGBM] [Warning] bagging_fraction is set=0.9510480569114869, subsample=1.0 will be ignored. Current value: bagging_fraction=0.9510480569114869\n",
      "[LightGBM] [Warning] lambda_l2 is set=1.62829456966607e-06, reg_lambda=0.0 will be ignored. Current value: lambda_l2=1.62829456966607e-06\n",
      "[LightGBM] [Warning] lambda_l1 is set=0.02313397603167761, reg_alpha=0.0 will be ignored. Current value: lambda_l1=0.02313397603167761\n"
     ]
    },
    {
     "name": "stderr",
     "output_type": "stream",
     "text": [
      "\u001b[32m[I 2023-02-01 17:35:25,593]\u001b[0m Trial 12 finished with value: 0.35904400623084 and parameters: {'lambda_l1': 0.02313397603167761, 'lambda_l2': 1.62829456966607e-06, 'num_leaves': 96, 'feature_fraction': 0.6696031724249673, 'bagging_fraction': 0.9510480569114869, 'bagging_freq': 6, 'min_child_samples': 34}. Best is trial 12 with value: 0.35904400623084.\u001b[0m\n"
     ]
    },
    {
     "name": "stdout",
     "output_type": "stream",
     "text": [
      "[LightGBM] [Warning] feature_fraction is set=0.7249476841938879, colsample_bytree=1.0 will be ignored. Current value: feature_fraction=0.7249476841938879\n",
      "[LightGBM] [Warning] bagging_freq is set=6, subsample_freq=0 will be ignored. Current value: bagging_freq=6\n",
      "[LightGBM] [Warning] bagging_fraction is set=0.9910266698872064, subsample=1.0 will be ignored. Current value: bagging_fraction=0.9910266698872064\n",
      "[LightGBM] [Warning] lambda_l2 is set=0.005801676011537086, reg_lambda=0.0 will be ignored. Current value: lambda_l2=0.005801676011537086\n",
      "[LightGBM] [Warning] lambda_l1 is set=0.0039019905643087175, reg_alpha=0.0 will be ignored. Current value: lambda_l1=0.0039019905643087175\n"
     ]
    },
    {
     "name": "stderr",
     "output_type": "stream",
     "text": [
      "\u001b[32m[I 2023-02-01 17:35:26,874]\u001b[0m Trial 13 finished with value: 0.354819665469158 and parameters: {'lambda_l1': 0.0039019905643087175, 'lambda_l2': 0.005801676011537086, 'num_leaves': 177, 'feature_fraction': 0.7249476841938879, 'bagging_fraction': 0.9910266698872064, 'bagging_freq': 6, 'min_child_samples': 27}. Best is trial 12 with value: 0.35904400623084.\u001b[0m\n"
     ]
    },
    {
     "name": "stdout",
     "output_type": "stream",
     "text": [
      "[LightGBM] [Warning] feature_fraction is set=0.8228228832198101, colsample_bytree=1.0 will be ignored. Current value: feature_fraction=0.8228228832198101\n",
      "[LightGBM] [Warning] bagging_freq is set=3, subsample_freq=0 will be ignored. Current value: bagging_freq=3\n",
      "[LightGBM] [Warning] bagging_fraction is set=0.9249694621808704, subsample=1.0 will be ignored. Current value: bagging_fraction=0.9249694621808704\n",
      "[LightGBM] [Warning] lambda_l2 is set=0.0003494882254176204, reg_lambda=0.0 will be ignored. Current value: lambda_l2=0.0003494882254176204\n",
      "[LightGBM] [Warning] lambda_l1 is set=0.0015084032545748336, reg_alpha=0.0 will be ignored. Current value: lambda_l1=0.0015084032545748336\n"
     ]
    },
    {
     "name": "stderr",
     "output_type": "stream",
     "text": [
      "\u001b[32m[I 2023-02-01 17:35:27,821]\u001b[0m Trial 14 finished with value: 0.3604412524537546 and parameters: {'lambda_l1': 0.0015084032545748336, 'lambda_l2': 0.0003494882254176204, 'num_leaves': 97, 'feature_fraction': 0.8228228832198101, 'bagging_fraction': 0.9249694621808704, 'bagging_freq': 3, 'min_child_samples': 31}. Best is trial 14 with value: 0.3604412524537546.\u001b[0m\n"
     ]
    },
    {
     "name": "stdout",
     "output_type": "stream",
     "text": [
      "[LightGBM] [Warning] feature_fraction is set=0.6334913144296169, colsample_bytree=1.0 will be ignored. Current value: feature_fraction=0.6334913144296169\n",
      "[LightGBM] [Warning] bagging_freq is set=3, subsample_freq=0 will be ignored. Current value: bagging_freq=3\n",
      "[LightGBM] [Warning] bagging_fraction is set=0.8861027311610568, subsample=1.0 will be ignored. Current value: bagging_fraction=0.8861027311610568\n",
      "[LightGBM] [Warning] lambda_l2 is set=7.165574173991019e-05, reg_lambda=0.0 will be ignored. Current value: lambda_l2=7.165574173991019e-05\n",
      "[LightGBM] [Warning] lambda_l1 is set=0.09197929604815272, reg_alpha=0.0 will be ignored. Current value: lambda_l1=0.09197929604815272\n"
     ]
    },
    {
     "name": "stderr",
     "output_type": "stream",
     "text": [
      "\u001b[32m[I 2023-02-01 17:35:28,987]\u001b[0m Trial 15 finished with value: 0.35547730383202114 and parameters: {'lambda_l1': 0.09197929604815272, 'lambda_l2': 7.165574173991019e-05, 'num_leaves': 159, 'feature_fraction': 0.6334913144296169, 'bagging_fraction': 0.8861027311610568, 'bagging_freq': 3, 'min_child_samples': 25}. Best is trial 14 with value: 0.3604412524537546.\u001b[0m\n"
     ]
    },
    {
     "name": "stdout",
     "output_type": "stream",
     "text": [
      "[LightGBM] [Warning] feature_fraction is set=0.6307541086486826, colsample_bytree=1.0 will be ignored. Current value: feature_fraction=0.6307541086486826\n",
      "[LightGBM] [Warning] bagging_freq is set=3, subsample_freq=0 will be ignored. Current value: bagging_freq=3\n",
      "[LightGBM] [Warning] bagging_fraction is set=0.8211772585592656, subsample=1.0 will be ignored. Current value: bagging_fraction=0.8211772585592656\n",
      "[LightGBM] [Warning] lambda_l2 is set=0.0002907400185373968, reg_lambda=0.0 will be ignored. Current value: lambda_l2=0.0002907400185373968\n",
      "[LightGBM] [Warning] lambda_l1 is set=0.001805107405255871, reg_alpha=0.0 will be ignored. Current value: lambda_l1=0.001805107405255871\n"
     ]
    },
    {
     "name": "stderr",
     "output_type": "stream",
     "text": [
      "\u001b[32m[I 2023-02-01 17:35:29,978]\u001b[0m Trial 16 finished with value: 0.3575031139156024 and parameters: {'lambda_l1': 0.001805107405255871, 'lambda_l2': 0.0002907400185373968, 'num_leaves': 100, 'feature_fraction': 0.6307541086486826, 'bagging_fraction': 0.8211772585592656, 'bagging_freq': 3, 'min_child_samples': 40}. Best is trial 14 with value: 0.3604412524537546.\u001b[0m\n"
     ]
    },
    {
     "name": "stdout",
     "output_type": "stream",
     "text": [
      "[LightGBM] [Warning] feature_fraction is set=0.7792673458322092, colsample_bytree=1.0 will be ignored. Current value: feature_fraction=0.7792673458322092\n",
      "[LightGBM] [Warning] bagging_freq is set=3, subsample_freq=0 will be ignored. Current value: bagging_freq=3\n",
      "[LightGBM] [Warning] bagging_fraction is set=0.9334154365048279, subsample=1.0 will be ignored. Current value: bagging_fraction=0.9334154365048279\n",
      "[LightGBM] [Warning] lambda_l2 is set=4.713298823651713e-06, reg_lambda=0.0 will be ignored. Current value: lambda_l2=4.713298823651713e-06\n",
      "[LightGBM] [Warning] lambda_l1 is set=0.11875630279652805, reg_alpha=0.0 will be ignored. Current value: lambda_l1=0.11875630279652805\n"
     ]
    },
    {
     "name": "stderr",
     "output_type": "stream",
     "text": [
      "\u001b[32m[I 2023-02-01 17:35:31,424]\u001b[0m Trial 17 finished with value: 0.3467179461002775 and parameters: {'lambda_l1': 0.11875630279652805, 'lambda_l2': 4.713298823651713e-06, 'num_leaves': 253, 'feature_fraction': 0.7792673458322092, 'bagging_fraction': 0.9334154365048279, 'bagging_freq': 3, 'min_child_samples': 18}. Best is trial 14 with value: 0.3604412524537546.\u001b[0m\n"
     ]
    },
    {
     "name": "stdout",
     "output_type": "stream",
     "text": [
      "[LightGBM] [Warning] feature_fraction is set=0.9234387841467453, colsample_bytree=1.0 will be ignored. Current value: feature_fraction=0.9234387841467453\n",
      "[LightGBM] [Warning] bagging_freq is set=4, subsample_freq=0 will be ignored. Current value: bagging_freq=4\n",
      "[LightGBM] [Warning] bagging_fraction is set=0.9917666541253376, subsample=1.0 will be ignored. Current value: bagging_fraction=0.9917666541253376\n",
      "[LightGBM] [Warning] lambda_l2 is set=4.4949126576525585e-07, reg_lambda=0.0 will be ignored. Current value: lambda_l2=4.4949126576525585e-07\n",
      "[LightGBM] [Warning] lambda_l1 is set=0.0005267828000026423, reg_alpha=0.0 will be ignored. Current value: lambda_l1=0.0005267828000026423\n"
     ]
    },
    {
     "name": "stderr",
     "output_type": "stream",
     "text": [
      "\u001b[32m[I 2023-02-01 17:35:32,697]\u001b[0m Trial 18 finished with value: 0.35424637434048045 and parameters: {'lambda_l1': 0.0005267828000026423, 'lambda_l2': 4.4949126576525585e-07, 'num_leaves': 153, 'feature_fraction': 0.9234387841467453, 'bagging_fraction': 0.9917666541253376, 'bagging_freq': 4, 'min_child_samples': 38}. Best is trial 14 with value: 0.3604412524537546.\u001b[0m\n"
     ]
    },
    {
     "name": "stdout",
     "output_type": "stream",
     "text": [
      "[LightGBM] [Warning] feature_fraction is set=0.6461966543674045, colsample_bytree=1.0 will be ignored. Current value: feature_fraction=0.6461966543674045\n",
      "[LightGBM] [Warning] bagging_freq is set=4, subsample_freq=0 will be ignored. Current value: bagging_freq=4\n",
      "[LightGBM] [Warning] bagging_fraction is set=0.8061773301650696, subsample=1.0 will be ignored. Current value: bagging_fraction=0.8061773301650696\n",
      "[LightGBM] [Warning] lambda_l2 is set=2.6924296864991247e-05, reg_lambda=0.0 will be ignored. Current value: lambda_l2=2.6924296864991247e-05\n",
      "[LightGBM] [Warning] lambda_l1 is set=0.02695567718632986, reg_alpha=0.0 will be ignored. Current value: lambda_l1=0.02695567718632986\n"
     ]
    },
    {
     "name": "stderr",
     "output_type": "stream",
     "text": [
      "\u001b[32m[I 2023-02-01 17:35:33,598]\u001b[0m Trial 19 finished with value: 0.3578210305248585 and parameters: {'lambda_l1': 0.02695567718632986, 'lambda_l2': 2.6924296864991247e-05, 'num_leaves': 101, 'feature_fraction': 0.6461966543674045, 'bagging_fraction': 0.8061773301650696, 'bagging_freq': 4, 'min_child_samples': 63}. Best is trial 14 with value: 0.3604412524537546.\u001b[0m\n"
     ]
    },
    {
     "name": "stdout",
     "output_type": "stream",
     "text": [
      "[LightGBM] [Warning] feature_fraction is set=0.762534580931071, colsample_bytree=1.0 will be ignored. Current value: feature_fraction=0.762534580931071\n",
      "[LightGBM] [Warning] bagging_freq is set=2, subsample_freq=0 will be ignored. Current value: bagging_freq=2\n",
      "[LightGBM] [Warning] bagging_fraction is set=0.9291829857418406, subsample=1.0 will be ignored. Current value: bagging_fraction=0.9291829857418406\n",
      "[LightGBM] [Warning] lambda_l2 is set=2.583603371709687e-07, reg_lambda=0.0 will be ignored. Current value: lambda_l2=2.583603371709687e-07\n",
      "[LightGBM] [Warning] lambda_l1 is set=7.024896180845747, reg_alpha=0.0 will be ignored. Current value: lambda_l1=7.024896180845747\n"
     ]
    },
    {
     "name": "stderr",
     "output_type": "stream",
     "text": [
      "\u001b[32m[I 2023-02-01 17:35:34,153]\u001b[0m Trial 20 finished with value: 0.3525113224572327 and parameters: {'lambda_l1': 7.024896180845747, 'lambda_l2': 2.583603371709687e-07, 'num_leaves': 143, 'feature_fraction': 0.762534580931071, 'bagging_fraction': 0.9291829857418406, 'bagging_freq': 2, 'min_child_samples': 14}. Best is trial 14 with value: 0.3604412524537546.\u001b[0m\n"
     ]
    },
    {
     "name": "stdout",
     "output_type": "stream",
     "text": [
      "[LightGBM] [Warning] feature_fraction is set=0.8343040076441012, colsample_bytree=1.0 will be ignored. Current value: feature_fraction=0.8343040076441012\n",
      "[LightGBM] [Warning] bagging_freq is set=6, subsample_freq=0 will be ignored. Current value: bagging_freq=6\n",
      "[LightGBM] [Warning] bagging_fraction is set=0.9276935577774001, subsample=1.0 will be ignored. Current value: bagging_fraction=0.9276935577774001\n",
      "[LightGBM] [Warning] lambda_l2 is set=0.0004348585952436239, reg_lambda=0.0 will be ignored. Current value: lambda_l2=0.0004348585952436239\n",
      "[LightGBM] [Warning] lambda_l1 is set=0.00044623386105015314, reg_alpha=0.0 will be ignored. Current value: lambda_l1=0.00044623386105015314\n"
     ]
    },
    {
     "name": "stderr",
     "output_type": "stream",
     "text": [
      "\u001b[32m[I 2023-02-01 17:35:35,067]\u001b[0m Trial 21 finished with value: 0.35911977138543083 and parameters: {'lambda_l1': 0.00044623386105015314, 'lambda_l2': 0.0004348585952436239, 'num_leaves': 89, 'feature_fraction': 0.8343040076441012, 'bagging_fraction': 0.9276935577774001, 'bagging_freq': 6, 'min_child_samples': 46}. Best is trial 14 with value: 0.3604412524537546.\u001b[0m\n"
     ]
    },
    {
     "name": "stdout",
     "output_type": "stream",
     "text": [
      "[LightGBM] [Warning] feature_fraction is set=0.8687797958362656, colsample_bytree=1.0 will be ignored. Current value: feature_fraction=0.8687797958362656\n",
      "[LightGBM] [Warning] bagging_freq is set=6, subsample_freq=0 will be ignored. Current value: bagging_freq=6\n",
      "[LightGBM] [Warning] bagging_fraction is set=0.8582390728319503, subsample=1.0 will be ignored. Current value: bagging_fraction=0.8582390728319503\n",
      "[LightGBM] [Warning] lambda_l2 is set=0.00020958443652576504, reg_lambda=0.0 will be ignored. Current value: lambda_l2=0.00020958443652576504\n",
      "[LightGBM] [Warning] lambda_l1 is set=0.0010757243135428266, reg_alpha=0.0 will be ignored. Current value: lambda_l1=0.0010757243135428266\n"
     ]
    },
    {
     "name": "stderr",
     "output_type": "stream",
     "text": [
      "\u001b[32m[I 2023-02-01 17:35:36,102]\u001b[0m Trial 22 finished with value: 0.35703346637364486 and parameters: {'lambda_l1': 0.0010757243135428266, 'lambda_l2': 0.00020958443652576504, 'num_leaves': 99, 'feature_fraction': 0.8687797958362656, 'bagging_fraction': 0.8582390728319503, 'bagging_freq': 6, 'min_child_samples': 45}. Best is trial 14 with value: 0.3604412524537546.\u001b[0m\n"
     ]
    },
    {
     "name": "stdout",
     "output_type": "stream",
     "text": [
      "[LightGBM] [Warning] feature_fraction is set=0.7786391781680656, colsample_bytree=1.0 will be ignored. Current value: feature_fraction=0.7786391781680656\n",
      "[LightGBM] [Warning] bagging_freq is set=7, subsample_freq=0 will be ignored. Current value: bagging_freq=7\n",
      "[LightGBM] [Warning] bagging_fraction is set=0.9437327216488679, subsample=1.0 will be ignored. Current value: bagging_fraction=0.9437327216488679\n",
      "[LightGBM] [Warning] lambda_l2 is set=0.000759484324908526, reg_lambda=0.0 will be ignored. Current value: lambda_l2=0.000759484324908526\n",
      "[LightGBM] [Warning] lambda_l1 is set=0.004864698839435849, reg_alpha=0.0 will be ignored. Current value: lambda_l1=0.004864698839435849\n"
     ]
    },
    {
     "name": "stderr",
     "output_type": "stream",
     "text": [
      "\u001b[32m[I 2023-02-01 17:35:36,684]\u001b[0m Trial 23 finished with value: 0.35969174808746673 and parameters: {'lambda_l1': 0.004864698839435849, 'lambda_l2': 0.000759484324908526, 'num_leaves': 28, 'feature_fraction': 0.7786391781680656, 'bagging_fraction': 0.9437327216488679, 'bagging_freq': 7, 'min_child_samples': 33}. Best is trial 14 with value: 0.3604412524537546.\u001b[0m\n"
     ]
    },
    {
     "name": "stdout",
     "output_type": "stream",
     "text": [
      "[LightGBM] [Warning] feature_fraction is set=0.7886984954636765, colsample_bytree=1.0 will be ignored. Current value: feature_fraction=0.7886984954636765\n",
      "[LightGBM] [Warning] bagging_freq is set=7, subsample_freq=0 will be ignored. Current value: bagging_freq=7\n",
      "[LightGBM] [Warning] bagging_fraction is set=0.906254316779084, subsample=1.0 will be ignored. Current value: bagging_fraction=0.906254316779084\n",
      "[LightGBM] [Warning] lambda_l2 is set=0.001203730658488821, reg_lambda=0.0 will be ignored. Current value: lambda_l2=0.001203730658488821\n",
      "[LightGBM] [Warning] lambda_l1 is set=0.0028939174055275904, reg_alpha=0.0 will be ignored. Current value: lambda_l1=0.0028939174055275904\n"
     ]
    },
    {
     "name": "stderr",
     "output_type": "stream",
     "text": [
      "\u001b[32m[I 2023-02-01 17:35:37,158]\u001b[0m Trial 24 finished with value: 0.36120642027223204 and parameters: {'lambda_l1': 0.0028939174055275904, 'lambda_l2': 0.001203730658488821, 'num_leaves': 30, 'feature_fraction': 0.7886984954636765, 'bagging_fraction': 0.906254316779084, 'bagging_freq': 7, 'min_child_samples': 47}. Best is trial 24 with value: 0.36120642027223204.\u001b[0m\n"
     ]
    },
    {
     "name": "stdout",
     "output_type": "stream",
     "text": [
      "[LightGBM] [Warning] feature_fraction is set=0.7821136730657634, colsample_bytree=1.0 will be ignored. Current value: feature_fraction=0.7821136730657634\n",
      "[LightGBM] [Warning] bagging_freq is set=7, subsample_freq=0 will be ignored. Current value: bagging_freq=7\n",
      "[LightGBM] [Warning] bagging_fraction is set=0.8471295451192388, subsample=1.0 will be ignored. Current value: bagging_fraction=0.8471295451192388\n",
      "[LightGBM] [Warning] lambda_l2 is set=0.0019216563551114046, reg_lambda=0.0 will be ignored. Current value: lambda_l2=0.0019216563551114046\n",
      "[LightGBM] [Warning] lambda_l1 is set=0.0012295851368891357, reg_alpha=0.0 will be ignored. Current value: lambda_l1=0.0012295851368891357\n"
     ]
    },
    {
     "name": "stderr",
     "output_type": "stream",
     "text": [
      "\u001b[32m[I 2023-02-01 17:35:37,706]\u001b[0m Trial 25 finished with value: 0.3598343311862221 and parameters: {'lambda_l1': 0.0012295851368891357, 'lambda_l2': 0.0019216563551114046, 'num_leaves': 28, 'feature_fraction': 0.7821136730657634, 'bagging_fraction': 0.8471295451192388, 'bagging_freq': 7, 'min_child_samples': 21}. Best is trial 24 with value: 0.36120642027223204.\u001b[0m\n"
     ]
    },
    {
     "name": "stdout",
     "output_type": "stream",
     "text": [
      "[LightGBM] [Warning] feature_fraction is set=0.7430382611250715, colsample_bytree=1.0 will be ignored. Current value: feature_fraction=0.7430382611250715\n",
      "[LightGBM] [Warning] bagging_freq is set=7, subsample_freq=0 will be ignored. Current value: bagging_freq=7\n",
      "[LightGBM] [Warning] bagging_fraction is set=0.8369133571127699, subsample=1.0 will be ignored. Current value: bagging_fraction=0.8369133571127699\n",
      "[LightGBM] [Warning] lambda_l2 is set=0.002769623486127927, reg_lambda=0.0 will be ignored. Current value: lambda_l2=0.002769623486127927\n",
      "[LightGBM] [Warning] lambda_l1 is set=0.0017710381857267425, reg_alpha=0.0 will be ignored. Current value: lambda_l1=0.0017710381857267425\n"
     ]
    },
    {
     "name": "stderr",
     "output_type": "stream",
     "text": [
      "\u001b[32m[I 2023-02-01 17:35:38,128]\u001b[0m Trial 26 finished with value: 0.3595195745648325 and parameters: {'lambda_l1': 0.0017710381857267425, 'lambda_l2': 0.002769623486127927, 'num_leaves': 22, 'feature_fraction': 0.7430382611250715, 'bagging_fraction': 0.8369133571127699, 'bagging_freq': 7, 'min_child_samples': 17}. Best is trial 24 with value: 0.36120642027223204.\u001b[0m\n"
     ]
    },
    {
     "name": "stdout",
     "output_type": "stream",
     "text": [
      "[LightGBM] [Warning] feature_fraction is set=0.7890533282650352, colsample_bytree=1.0 will be ignored. Current value: feature_fraction=0.7890533282650352\n",
      "[LightGBM] [Warning] bagging_freq is set=2, subsample_freq=0 will be ignored. Current value: bagging_freq=2\n",
      "[LightGBM] [Warning] bagging_fraction is set=0.7843322877235186, subsample=1.0 will be ignored. Current value: bagging_fraction=0.7843322877235186\n",
      "[LightGBM] [Warning] lambda_l2 is set=0.00011538393728416053, reg_lambda=0.0 will be ignored. Current value: lambda_l2=0.00011538393728416053\n",
      "[LightGBM] [Warning] lambda_l1 is set=9.907901358267287e-05, reg_alpha=0.0 will be ignored. Current value: lambda_l1=9.907901358267287e-05\n"
     ]
    },
    {
     "name": "stderr",
     "output_type": "stream",
     "text": [
      "\u001b[32m[I 2023-02-01 17:35:38,610]\u001b[0m Trial 27 finished with value: 0.3589260108249229 and parameters: {'lambda_l1': 9.907901358267287e-05, 'lambda_l2': 0.00011538393728416053, 'num_leaves': 23, 'feature_fraction': 0.7890533282650352, 'bagging_fraction': 0.7843322877235186, 'bagging_freq': 2, 'min_child_samples': 23}. Best is trial 24 with value: 0.36120642027223204.\u001b[0m\n"
     ]
    },
    {
     "name": "stdout",
     "output_type": "stream",
     "text": [
      "[LightGBM] [Warning] feature_fraction is set=0.9002963249294573, colsample_bytree=1.0 will be ignored. Current value: feature_fraction=0.9002963249294573\n",
      "[LightGBM] [Warning] bagging_freq is set=7, subsample_freq=0 will be ignored. Current value: bagging_freq=7\n",
      "[LightGBM] [Warning] bagging_fraction is set=0.8853495121748907, subsample=1.0 will be ignored. Current value: bagging_fraction=0.8853495121748907\n",
      "[LightGBM] [Warning] lambda_l2 is set=0.007675998631936763, reg_lambda=0.0 will be ignored. Current value: lambda_l2=0.007675998631936763\n",
      "[LightGBM] [Warning] lambda_l1 is set=0.0019320453222056665, reg_alpha=0.0 will be ignored. Current value: lambda_l1=0.0019320453222056665\n"
     ]
    },
    {
     "name": "stderr",
     "output_type": "stream",
     "text": [
      "\u001b[32m[I 2023-02-01 17:35:39,356]\u001b[0m Trial 28 finished with value: 0.3634602475279517 and parameters: {'lambda_l1': 0.0019320453222056665, 'lambda_l2': 0.007675998631936763, 'num_leaves': 68, 'feature_fraction': 0.9002963249294573, 'bagging_fraction': 0.8853495121748907, 'bagging_freq': 7, 'min_child_samples': 13}. Best is trial 28 with value: 0.3634602475279517.\u001b[0m\n"
     ]
    },
    {
     "name": "stdout",
     "output_type": "stream",
     "text": [
      "[LightGBM] [Warning] feature_fraction is set=0.8828288856456586, colsample_bytree=1.0 will be ignored. Current value: feature_fraction=0.8828288856456586\n",
      "[LightGBM] [Warning] bagging_freq is set=4, subsample_freq=0 will be ignored. Current value: bagging_freq=4\n",
      "[LightGBM] [Warning] bagging_fraction is set=0.8715478404187944, subsample=1.0 will be ignored. Current value: bagging_fraction=0.8715478404187944\n",
      "[LightGBM] [Warning] lambda_l2 is set=0.01294241691765229, reg_lambda=0.0 will be ignored. Current value: lambda_l2=0.01294241691765229\n",
      "[LightGBM] [Warning] lambda_l1 is set=6.468263763483251e-05, reg_alpha=0.0 will be ignored. Current value: lambda_l1=6.468263763483251e-05\n"
     ]
    },
    {
     "name": "stderr",
     "output_type": "stream",
     "text": [
      "\u001b[32m[I 2023-02-01 17:35:40,022]\u001b[0m Trial 29 finished with value: 0.3663637912864012 and parameters: {'lambda_l1': 6.468263763483251e-05, 'lambda_l2': 0.01294241691765229, 'num_leaves': 64, 'feature_fraction': 0.8828288856456586, 'bagging_fraction': 0.8715478404187944, 'bagging_freq': 4, 'min_child_samples': 12}. Best is trial 29 with value: 0.3663637912864012.\u001b[0m\n"
     ]
    },
    {
     "name": "stdout",
     "output_type": "stream",
     "text": [
      "[LightGBM] [Warning] feature_fraction is set=0.9063195795671911, colsample_bytree=1.0 will be ignored. Current value: feature_fraction=0.9063195795671911\n",
      "[LightGBM] [Warning] bagging_freq is set=4, subsample_freq=0 will be ignored. Current value: bagging_freq=4\n",
      "[LightGBM] [Warning] bagging_fraction is set=0.8962379190814006, subsample=1.0 will be ignored. Current value: bagging_fraction=0.8962379190814006\n",
      "[LightGBM] [Warning] lambda_l2 is set=0.06791491563373171, reg_lambda=0.0 will be ignored. Current value: lambda_l2=0.06791491563373171\n",
      "[LightGBM] [Warning] lambda_l1 is set=2.497857531265889e-06, reg_alpha=0.0 will be ignored. Current value: lambda_l1=2.497857531265889e-06\n"
     ]
    },
    {
     "name": "stderr",
     "output_type": "stream",
     "text": [
      "\u001b[32m[I 2023-02-01 17:35:40,686]\u001b[0m Trial 30 finished with value: 0.36557925870719576 and parameters: {'lambda_l1': 2.497857531265889e-06, 'lambda_l2': 0.06791491563373171, 'num_leaves': 62, 'feature_fraction': 0.9063195795671911, 'bagging_fraction': 0.8962379190814006, 'bagging_freq': 4, 'min_child_samples': 12}. Best is trial 29 with value: 0.3663637912864012.\u001b[0m\n"
     ]
    },
    {
     "name": "stdout",
     "output_type": "stream",
     "text": [
      "[LightGBM] [Warning] feature_fraction is set=0.905948803681531, colsample_bytree=1.0 will be ignored. Current value: feature_fraction=0.905948803681531\n",
      "[LightGBM] [Warning] bagging_freq is set=4, subsample_freq=0 will be ignored. Current value: bagging_freq=4\n",
      "[LightGBM] [Warning] bagging_fraction is set=0.8850184473470496, subsample=1.0 will be ignored. Current value: bagging_fraction=0.8850184473470496\n",
      "[LightGBM] [Warning] lambda_l2 is set=0.013121068666175505, reg_lambda=0.0 will be ignored. Current value: lambda_l2=0.013121068666175505\n",
      "[LightGBM] [Warning] lambda_l1 is set=2.8702194273296533e-06, reg_alpha=0.0 will be ignored. Current value: lambda_l1=2.8702194273296533e-06\n"
     ]
    },
    {
     "name": "stderr",
     "output_type": "stream",
     "text": [
      "\u001b[32m[I 2023-02-01 17:35:41,387]\u001b[0m Trial 31 finished with value: 0.3655238110903537 and parameters: {'lambda_l1': 2.8702194273296533e-06, 'lambda_l2': 0.013121068666175505, 'num_leaves': 61, 'feature_fraction': 0.905948803681531, 'bagging_fraction': 0.8850184473470496, 'bagging_freq': 4, 'min_child_samples': 10}. Best is trial 29 with value: 0.3663637912864012.\u001b[0m\n"
     ]
    },
    {
     "name": "stdout",
     "output_type": "stream",
     "text": [
      "[LightGBM] [Warning] feature_fraction is set=0.918171381563825, colsample_bytree=1.0 will be ignored. Current value: feature_fraction=0.918171381563825\n",
      "[LightGBM] [Warning] bagging_freq is set=4, subsample_freq=0 will be ignored. Current value: bagging_freq=4\n",
      "[LightGBM] [Warning] bagging_fraction is set=0.8849057223123192, subsample=1.0 will be ignored. Current value: bagging_fraction=0.8849057223123192\n",
      "[LightGBM] [Warning] lambda_l2 is set=0.012872264016080397, reg_lambda=0.0 will be ignored. Current value: lambda_l2=0.012872264016080397\n",
      "[LightGBM] [Warning] lambda_l1 is set=3.1803156000464785e-06, reg_alpha=0.0 will be ignored. Current value: lambda_l1=3.1803156000464785e-06\n"
     ]
    },
    {
     "name": "stderr",
     "output_type": "stream",
     "text": [
      "\u001b[32m[I 2023-02-01 17:35:42,121]\u001b[0m Trial 32 finished with value: 0.36553746782539176 and parameters: {'lambda_l1': 3.1803156000464785e-06, 'lambda_l2': 0.012872264016080397, 'num_leaves': 70, 'feature_fraction': 0.918171381563825, 'bagging_fraction': 0.8849057223123192, 'bagging_freq': 4, 'min_child_samples': 11}. Best is trial 29 with value: 0.3663637912864012.\u001b[0m\n"
     ]
    },
    {
     "name": "stdout",
     "output_type": "stream",
     "text": [
      "[LightGBM] [Warning] feature_fraction is set=0.9321708633395681, colsample_bytree=1.0 will be ignored. Current value: feature_fraction=0.9321708633395681\n",
      "[LightGBM] [Warning] bagging_freq is set=4, subsample_freq=0 will be ignored. Current value: bagging_freq=4\n",
      "[LightGBM] [Warning] bagging_fraction is set=0.7631427044449288, subsample=1.0 will be ignored. Current value: bagging_fraction=0.7631427044449288\n",
      "[LightGBM] [Warning] lambda_l2 is set=0.07753050905497633, reg_lambda=0.0 will be ignored. Current value: lambda_l2=0.07753050905497633\n",
      "[LightGBM] [Warning] lambda_l1 is set=3.73370943675741e-06, reg_alpha=0.0 will be ignored. Current value: lambda_l1=3.73370943675741e-06\n"
     ]
    },
    {
     "name": "stderr",
     "output_type": "stream",
     "text": [
      "\u001b[32m[I 2023-02-01 17:35:42,810]\u001b[0m Trial 33 finished with value: 0.36258694026998095 and parameters: {'lambda_l1': 3.73370943675741e-06, 'lambda_l2': 0.07753050905497633, 'num_leaves': 70, 'feature_fraction': 0.9321708633395681, 'bagging_fraction': 0.7631427044449288, 'bagging_freq': 4, 'min_child_samples': 9}. Best is trial 29 with value: 0.3663637912864012.\u001b[0m\n"
     ]
    },
    {
     "name": "stdout",
     "output_type": "stream",
     "text": [
      "[LightGBM] [Warning] feature_fraction is set=0.9679450959057702, colsample_bytree=1.0 will be ignored. Current value: feature_fraction=0.9679450959057702\n",
      "[LightGBM] [Warning] bagging_freq is set=5, subsample_freq=0 will be ignored. Current value: bagging_freq=5\n",
      "[LightGBM] [Warning] bagging_fraction is set=0.8738871395012228, subsample=1.0 will be ignored. Current value: bagging_fraction=0.8738871395012228\n",
      "[LightGBM] [Warning] lambda_l2 is set=0.03125036515386775, reg_lambda=0.0 will be ignored. Current value: lambda_l2=0.03125036515386775\n",
      "[LightGBM] [Warning] lambda_l1 is set=2.3335631882158175e-06, reg_alpha=0.0 will be ignored. Current value: lambda_l1=2.3335631882158175e-06\n"
     ]
    },
    {
     "name": "stderr",
     "output_type": "stream",
     "text": [
      "\u001b[32m[I 2023-02-01 17:35:43,379]\u001b[0m Trial 34 finished with value: 0.36317279629257027 and parameters: {'lambda_l1': 2.3335631882158175e-06, 'lambda_l2': 0.03125036515386775, 'num_leaves': 57, 'feature_fraction': 0.9679450959057702, 'bagging_fraction': 0.8738871395012228, 'bagging_freq': 5, 'min_child_samples': 9}. Best is trial 29 with value: 0.3663637912864012.\u001b[0m\n"
     ]
    },
    {
     "name": "stdout",
     "output_type": "stream",
     "text": [
      "[LightGBM] [Warning] feature_fraction is set=0.8784936944758867, colsample_bytree=1.0 will be ignored. Current value: feature_fraction=0.8784936944758867\n",
      "[LightGBM] [Warning] bagging_freq is set=4, subsample_freq=0 will be ignored. Current value: bagging_freq=4\n",
      "[LightGBM] [Warning] bagging_fraction is set=0.8891203031602556, subsample=1.0 will be ignored. Current value: bagging_fraction=0.8891203031602556\n",
      "[LightGBM] [Warning] lambda_l2 is set=0.01033733531137965, reg_lambda=0.0 will be ignored. Current value: lambda_l2=0.01033733531137965\n",
      "[LightGBM] [Warning] lambda_l1 is set=1.0025469768389166e-05, reg_alpha=0.0 will be ignored. Current value: lambda_l1=1.0025469768389166e-05\n"
     ]
    },
    {
     "name": "stderr",
     "output_type": "stream",
     "text": [
      "\u001b[32m[I 2023-02-01 17:35:44,384]\u001b[0m Trial 35 finished with value: 0.3606565483215942 and parameters: {'lambda_l1': 1.0025469768389166e-05, 'lambda_l2': 0.01033733531137965, 'num_leaves': 113, 'feature_fraction': 0.8784936944758867, 'bagging_fraction': 0.8891203031602556, 'bagging_freq': 4, 'min_child_samples': 11}. Best is trial 29 with value: 0.3663637912864012.\u001b[0m\n"
     ]
    },
    {
     "name": "stdout",
     "output_type": "stream",
     "text": [
      "[LightGBM] [Warning] feature_fraction is set=0.9445032984597498, colsample_bytree=1.0 will be ignored. Current value: feature_fraction=0.9445032984597498\n",
      "[LightGBM] [Warning] bagging_freq is set=5, subsample_freq=0 will be ignored. Current value: bagging_freq=5\n",
      "[LightGBM] [Warning] bagging_fraction is set=0.8437085359163403, subsample=1.0 will be ignored. Current value: bagging_fraction=0.8437085359163403\n",
      "[LightGBM] [Warning] lambda_l2 is set=0.22278204231010879, reg_lambda=0.0 will be ignored. Current value: lambda_l2=0.22278204231010879\n",
      "[LightGBM] [Warning] lambda_l1 is set=4.889840691865664e-05, reg_alpha=0.0 will be ignored. Current value: lambda_l1=4.889840691865664e-05\n"
     ]
    },
    {
     "name": "stderr",
     "output_type": "stream",
     "text": [
      "\u001b[32m[I 2023-02-01 17:35:45,072]\u001b[0m Trial 36 finished with value: 0.36293077968001275 and parameters: {'lambda_l1': 4.889840691865664e-05, 'lambda_l2': 0.22278204231010879, 'num_leaves': 82, 'feature_fraction': 0.9445032984597498, 'bagging_fraction': 0.8437085359163403, 'bagging_freq': 5, 'min_child_samples': 6}. Best is trial 29 with value: 0.3663637912864012.\u001b[0m\n"
     ]
    },
    {
     "name": "stdout",
     "output_type": "stream",
     "text": [
      "[LightGBM] [Warning] feature_fraction is set=0.8881686499376228, colsample_bytree=1.0 will be ignored. Current value: feature_fraction=0.8881686499376228\n",
      "[LightGBM] [Warning] bagging_freq is set=3, subsample_freq=0 will be ignored. Current value: bagging_freq=3\n",
      "[LightGBM] [Warning] bagging_fraction is set=0.7635856905241263, subsample=1.0 will be ignored. Current value: bagging_fraction=0.7635856905241263\n",
      "[LightGBM] [Warning] lambda_l2 is set=0.02412378019894644, reg_lambda=0.0 will be ignored. Current value: lambda_l2=0.02412378019894644\n",
      "[LightGBM] [Warning] lambda_l1 is set=1.0444578445319071e-06, reg_alpha=0.0 will be ignored. Current value: lambda_l1=1.0444578445319071e-06\n"
     ]
    },
    {
     "name": "stderr",
     "output_type": "stream",
     "text": [
      "\u001b[32m[I 2023-02-01 17:35:45,760]\u001b[0m Trial 37 finished with value: 0.36009462032547 and parameters: {'lambda_l1': 1.0444578445319071e-06, 'lambda_l2': 0.02412378019894644, 'num_leaves': 56, 'feature_fraction': 0.8881686499376228, 'bagging_fraction': 0.7635856905241263, 'bagging_freq': 3, 'min_child_samples': 18}. Best is trial 29 with value: 0.3663637912864012.\u001b[0m\n"
     ]
    },
    {
     "name": "stdout",
     "output_type": "stream",
     "text": [
      "[LightGBM] [Warning] feature_fraction is set=0.8550389902636449, colsample_bytree=1.0 will be ignored. Current value: feature_fraction=0.8550389902636449\n",
      "[LightGBM] [Warning] bagging_freq is set=4, subsample_freq=0 will be ignored. Current value: bagging_freq=4\n",
      "[LightGBM] [Warning] bagging_fraction is set=0.9596335302656451, subsample=1.0 will be ignored. Current value: bagging_fraction=0.9596335302656451\n",
      "[LightGBM] [Warning] lambda_l2 is set=0.09751416937210292, reg_lambda=0.0 will be ignored. Current value: lambda_l2=0.09751416937210292\n",
      "[LightGBM] [Warning] lambda_l1 is set=2.6775037699417315e-05, reg_alpha=0.0 will be ignored. Current value: lambda_l1=2.6775037699417315e-05\n"
     ]
    },
    {
     "name": "stderr",
     "output_type": "stream",
     "text": [
      "\u001b[32m[I 2023-02-01 17:35:46,414]\u001b[0m Trial 38 finished with value: 0.362411149999079 and parameters: {'lambda_l1': 2.6775037699417315e-05, 'lambda_l2': 0.09751416937210292, 'num_leaves': 40, 'feature_fraction': 0.8550389902636449, 'bagging_fraction': 0.9596335302656451, 'bagging_freq': 4, 'min_child_samples': 13}. Best is trial 29 with value: 0.3663637912864012.\u001b[0m\n"
     ]
    },
    {
     "name": "stdout",
     "output_type": "stream",
     "text": [
      "[LightGBM] [Warning] feature_fraction is set=0.9043573224472217, colsample_bytree=1.0 will be ignored. Current value: feature_fraction=0.9043573224472217\n",
      "[LightGBM] [Warning] bagging_freq is set=5, subsample_freq=0 will be ignored. Current value: bagging_freq=5\n",
      "[LightGBM] [Warning] bagging_fraction is set=0.9020553564377316, subsample=1.0 will be ignored. Current value: bagging_fraction=0.9020553564377316\n",
      "[LightGBM] [Warning] lambda_l2 is set=1.202369764968096, reg_lambda=0.0 will be ignored. Current value: lambda_l2=1.202369764968096\n",
      "[LightGBM] [Warning] lambda_l1 is set=5.8745964918542655e-06, reg_alpha=0.0 will be ignored. Current value: lambda_l1=5.8745964918542655e-06\n"
     ]
    },
    {
     "name": "stderr",
     "output_type": "stream",
     "text": [
      "\u001b[32m[I 2023-02-01 17:35:46,787]\u001b[0m Trial 39 finished with value: 0.35505140307871164 and parameters: {'lambda_l1': 5.8745964918542655e-06, 'lambda_l2': 1.202369764968096, 'num_leaves': 13, 'feature_fraction': 0.9043573224472217, 'bagging_fraction': 0.9020553564377316, 'bagging_freq': 5, 'min_child_samples': 100}. Best is trial 29 with value: 0.3663637912864012.\u001b[0m\n"
     ]
    },
    {
     "name": "stdout",
     "output_type": "stream",
     "text": [
      "[LightGBM] [Warning] feature_fraction is set=0.9533578899528822, colsample_bytree=1.0 will be ignored. Current value: feature_fraction=0.9533578899528822\n",
      "[LightGBM] [Warning] bagging_freq is set=4, subsample_freq=0 will be ignored. Current value: bagging_freq=4\n",
      "[LightGBM] [Warning] bagging_fraction is set=0.824886051319332, subsample=1.0 will be ignored. Current value: bagging_fraction=0.824886051319332\n",
      "[LightGBM] [Warning] lambda_l2 is set=0.017713752618443653, reg_lambda=0.0 will be ignored. Current value: lambda_l2=0.017713752618443653\n",
      "[LightGBM] [Warning] lambda_l1 is set=3.7328081840255793e-07, reg_alpha=0.0 will be ignored. Current value: lambda_l1=3.7328081840255793e-07\n"
     ]
    },
    {
     "name": "stderr",
     "output_type": "stream",
     "text": [
      "\u001b[32m[I 2023-02-01 17:35:47,306]\u001b[0m Trial 40 finished with value: 0.36571132625425695 and parameters: {'lambda_l1': 3.7328081840255793e-07, 'lambda_l2': 0.017713752618443653, 'num_leaves': 44, 'feature_fraction': 0.9533578899528822, 'bagging_fraction': 0.824886051319332, 'bagging_freq': 4, 'min_child_samples': 5}. Best is trial 29 with value: 0.3663637912864012.\u001b[0m\n"
     ]
    },
    {
     "name": "stdout",
     "output_type": "stream",
     "text": [
      "[LightGBM] [Warning] feature_fraction is set=0.9611227941998947, colsample_bytree=1.0 will be ignored. Current value: feature_fraction=0.9611227941998947\n",
      "[LightGBM] [Warning] bagging_freq is set=4, subsample_freq=0 will be ignored. Current value: bagging_freq=4\n",
      "[LightGBM] [Warning] bagging_fraction is set=0.8692448037667732, subsample=1.0 will be ignored. Current value: bagging_fraction=0.8692448037667732\n",
      "[LightGBM] [Warning] lambda_l2 is set=0.016657210552883595, reg_lambda=0.0 will be ignored. Current value: lambda_l2=0.016657210552883595\n",
      "[LightGBM] [Warning] lambda_l1 is set=5.472291003535257e-07, reg_alpha=0.0 will be ignored. Current value: lambda_l1=5.472291003535257e-07\n"
     ]
    },
    {
     "name": "stderr",
     "output_type": "stream",
     "text": [
      "\u001b[32m[I 2023-02-01 17:35:47,901]\u001b[0m Trial 41 finished with value: 0.3651547539975196 and parameters: {'lambda_l1': 5.472291003535257e-07, 'lambda_l2': 0.016657210552883595, 'num_leaves': 42, 'feature_fraction': 0.9611227941998947, 'bagging_fraction': 0.8692448037667732, 'bagging_freq': 4, 'min_child_samples': 7}. Best is trial 29 with value: 0.3663637912864012.\u001b[0m\n"
     ]
    },
    {
     "name": "stdout",
     "output_type": "stream",
     "text": [
      "[LightGBM] [Warning] feature_fraction is set=0.995776334117585, colsample_bytree=1.0 will be ignored. Current value: feature_fraction=0.995776334117585\n",
      "[LightGBM] [Warning] bagging_freq is set=4, subsample_freq=0 will be ignored. Current value: bagging_freq=4\n",
      "[LightGBM] [Warning] bagging_fraction is set=0.8552864323466038, subsample=1.0 will be ignored. Current value: bagging_fraction=0.8552864323466038\n",
      "[LightGBM] [Warning] lambda_l2 is set=0.005591877808509964, reg_lambda=0.0 will be ignored. Current value: lambda_l2=0.005591877808509964\n",
      "[LightGBM] [Warning] lambda_l1 is set=1.9782001891818651e-07, reg_alpha=0.0 will be ignored. Current value: lambda_l1=1.9782001891818651e-07\n"
     ]
    },
    {
     "name": "stderr",
     "output_type": "stream",
     "text": [
      "\u001b[32m[I 2023-02-01 17:35:48,492]\u001b[0m Trial 42 finished with value: 0.3616377839717849 and parameters: {'lambda_l1': 1.9782001891818651e-07, 'lambda_l2': 0.005591877808509964, 'num_leaves': 58, 'feature_fraction': 0.995776334117585, 'bagging_fraction': 0.8552864323466038, 'bagging_freq': 4, 'min_child_samples': 17}. Best is trial 29 with value: 0.3663637912864012.\u001b[0m\n"
     ]
    },
    {
     "name": "stdout",
     "output_type": "stream",
     "text": [
      "[LightGBM] [Warning] feature_fraction is set=0.9154214267264607, colsample_bytree=1.0 will be ignored. Current value: feature_fraction=0.9154214267264607\n",
      "[LightGBM] [Warning] bagging_freq is set=3, subsample_freq=0 will be ignored. Current value: bagging_freq=3\n",
      "[LightGBM] [Warning] bagging_fraction is set=0.8223336341435291, subsample=1.0 will be ignored. Current value: bagging_fraction=0.8223336341435291\n",
      "[LightGBM] [Warning] lambda_l2 is set=0.045895284821388424, reg_lambda=0.0 will be ignored. Current value: lambda_l2=0.045895284821388424\n",
      "[LightGBM] [Warning] lambda_l1 is set=1.2261627217986516e-05, reg_alpha=0.0 will be ignored. Current value: lambda_l1=1.2261627217986516e-05\n"
     ]
    },
    {
     "name": "stderr",
     "output_type": "stream",
     "text": [
      "\u001b[32m[I 2023-02-01 17:35:49,170]\u001b[0m Trial 43 finished with value: 0.3648252894996675 and parameters: {'lambda_l1': 1.2261627217986516e-05, 'lambda_l2': 0.045895284821388424, 'num_leaves': 73, 'feature_fraction': 0.9154214267264607, 'bagging_fraction': 0.8223336341435291, 'bagging_freq': 3, 'min_child_samples': 5}. Best is trial 29 with value: 0.3663637912864012.\u001b[0m\n"
     ]
    },
    {
     "name": "stdout",
     "output_type": "stream",
     "text": [
      "[LightGBM] [Warning] feature_fraction is set=0.9396099785292227, colsample_bytree=1.0 will be ignored. Current value: feature_fraction=0.9396099785292227\n",
      "[LightGBM] [Warning] bagging_freq is set=4, subsample_freq=0 will be ignored. Current value: bagging_freq=4\n",
      "[LightGBM] [Warning] bagging_fraction is set=0.9054596121954939, subsample=1.0 will be ignored. Current value: bagging_fraction=0.9054596121954939\n",
      "[LightGBM] [Warning] lambda_l2 is set=0.003213587465296169, reg_lambda=0.0 will be ignored. Current value: lambda_l2=0.003213587465296169\n",
      "[LightGBM] [Warning] lambda_l1 is set=6.963165556328227e-05, reg_alpha=0.0 will be ignored. Current value: lambda_l1=6.963165556328227e-05\n"
     ]
    },
    {
     "name": "stderr",
     "output_type": "stream",
     "text": [
      "\u001b[32m[I 2023-02-01 17:35:49,778]\u001b[0m Trial 44 finished with value: 0.35953305523164136 and parameters: {'lambda_l1': 6.963165556328227e-05, 'lambda_l2': 0.003213587465296169, 'num_leaves': 49, 'feature_fraction': 0.9396099785292227, 'bagging_fraction': 0.9054596121954939, 'bagging_freq': 4, 'min_child_samples': 83}. Best is trial 29 with value: 0.3663637912864012.\u001b[0m\n"
     ]
    },
    {
     "name": "stdout",
     "output_type": "stream",
     "text": [
      "[LightGBM] [Warning] feature_fraction is set=0.8629705606537538, colsample_bytree=1.0 will be ignored. Current value: feature_fraction=0.8629705606537538\n",
      "[LightGBM] [Warning] bagging_freq is set=5, subsample_freq=0 will be ignored. Current value: bagging_freq=5\n",
      "[LightGBM] [Warning] bagging_fraction is set=0.9680011794354902, subsample=1.0 will be ignored. Current value: bagging_fraction=0.9680011794354902\n",
      "[LightGBM] [Warning] lambda_l2 is set=0.01641792905667234, reg_lambda=0.0 will be ignored. Current value: lambda_l2=0.01641792905667234\n",
      "[LightGBM] [Warning] lambda_l1 is set=0.00016812487677832084, reg_alpha=0.0 will be ignored. Current value: lambda_l1=0.00016812487677832084\n"
     ]
    },
    {
     "name": "stderr",
     "output_type": "stream",
     "text": [
      "\u001b[32m[I 2023-02-01 17:35:50,474]\u001b[0m Trial 45 finished with value: 0.3611677559358406 and parameters: {'lambda_l1': 0.00016812487677832084, 'lambda_l2': 0.01641792905667234, 'num_leaves': 84, 'feature_fraction': 0.8629705606537538, 'bagging_fraction': 0.9680011794354902, 'bagging_freq': 5, 'min_child_samples': 28}. Best is trial 29 with value: 0.3663637912864012.\u001b[0m\n"
     ]
    },
    {
     "name": "stdout",
     "output_type": "stream",
     "text": [
      "[LightGBM] [Warning] feature_fraction is set=0.9039727296459081, colsample_bytree=1.0 will be ignored. Current value: feature_fraction=0.9039727296459081\n",
      "[LightGBM] [Warning] bagging_freq is set=4, subsample_freq=0 will be ignored. Current value: bagging_freq=4\n",
      "[LightGBM] [Warning] bagging_fraction is set=0.8022172493531617, subsample=1.0 will be ignored. Current value: bagging_fraction=0.8022172493531617\n",
      "[LightGBM] [Warning] lambda_l2 is set=0.23093815057096637, reg_lambda=0.0 will be ignored. Current value: lambda_l2=0.23093815057096637\n",
      "[LightGBM] [Warning] lambda_l1 is set=2.2880225482289288e-05, reg_alpha=0.0 will be ignored. Current value: lambda_l1=2.2880225482289288e-05\n"
     ]
    },
    {
     "name": "stderr",
     "output_type": "stream",
     "text": [
      "\u001b[32m[I 2023-02-01 17:35:51,037]\u001b[0m Trial 46 finished with value: 0.3624782935192521 and parameters: {'lambda_l1': 2.2880225482289288e-05, 'lambda_l2': 0.23093815057096637, 'num_leaves': 65, 'feature_fraction': 0.9039727296459081, 'bagging_fraction': 0.8022172493531617, 'bagging_freq': 4, 'min_child_samples': 12}. Best is trial 29 with value: 0.3663637912864012.\u001b[0m\n"
     ]
    },
    {
     "name": "stdout",
     "output_type": "stream",
     "text": [
      "[LightGBM] [Warning] feature_fraction is set=0.9587146285816348, colsample_bytree=1.0 will be ignored. Current value: feature_fraction=0.9587146285816348\n",
      "[LightGBM] [Warning] bagging_freq is set=5, subsample_freq=0 will be ignored. Current value: bagging_freq=5\n",
      "[LightGBM] [Warning] bagging_fraction is set=0.9115738029898292, subsample=1.0 will be ignored. Current value: bagging_fraction=0.9115738029898292\n",
      "[LightGBM] [Warning] lambda_l2 is set=0.003957685208168416, reg_lambda=0.0 will be ignored. Current value: lambda_l2=0.003957685208168416\n",
      "[LightGBM] [Warning] lambda_l1 is set=1.8690720394830116e-06, reg_alpha=0.0 will be ignored. Current value: lambda_l1=1.8690720394830116e-06\n"
     ]
    },
    {
     "name": "stderr",
     "output_type": "stream",
     "text": [
      "\u001b[32m[I 2023-02-01 17:35:52,074]\u001b[0m Trial 47 finished with value: 0.3565320727922471 and parameters: {'lambda_l1': 1.8690720394830116e-06, 'lambda_l2': 0.003957685208168416, 'num_leaves': 118, 'feature_fraction': 0.9587146285816348, 'bagging_fraction': 0.9115738029898292, 'bagging_freq': 5, 'min_child_samples': 20}. Best is trial 29 with value: 0.3663637912864012.\u001b[0m\n"
     ]
    },
    {
     "name": "stdout",
     "output_type": "stream",
     "text": [
      "[LightGBM] [Warning] feature_fraction is set=0.8495342094984544, colsample_bytree=1.0 will be ignored. Current value: feature_fraction=0.8495342094984544\n",
      "[LightGBM] [Warning] bagging_freq is set=3, subsample_freq=0 will be ignored. Current value: bagging_freq=3\n",
      "[LightGBM] [Warning] bagging_fraction is set=0.868661326549014, subsample=1.0 will be ignored. Current value: bagging_fraction=0.868661326549014\n",
      "[LightGBM] [Warning] lambda_l2 is set=0.0010300537992364962, reg_lambda=0.0 will be ignored. Current value: lambda_l2=0.0010300537992364962\n",
      "[LightGBM] [Warning] lambda_l1 is set=2.0444713063757014e-07, reg_alpha=0.0 will be ignored. Current value: lambda_l1=2.0444713063757014e-07\n"
     ]
    },
    {
     "name": "stderr",
     "output_type": "stream",
     "text": [
      "\u001b[32m[I 2023-02-01 17:35:52,550]\u001b[0m Trial 48 finished with value: 0.3566540270977612 and parameters: {'lambda_l1': 2.0444713063757014e-07, 'lambda_l2': 0.0010300537992364962, 'num_leaves': 12, 'feature_fraction': 0.8495342094984544, 'bagging_fraction': 0.868661326549014, 'bagging_freq': 3, 'min_child_samples': 69}. Best is trial 29 with value: 0.3663637912864012.\u001b[0m\n"
     ]
    },
    {
     "name": "stdout",
     "output_type": "stream",
     "text": [
      "[LightGBM] [Warning] feature_fraction is set=0.971733288914025, colsample_bytree=1.0 will be ignored. Current value: feature_fraction=0.971733288914025\n",
      "[LightGBM] [Warning] bagging_freq is set=4, subsample_freq=0 will be ignored. Current value: bagging_freq=4\n",
      "[LightGBM] [Warning] bagging_fraction is set=0.828083563523719, subsample=1.0 will be ignored. Current value: bagging_fraction=0.828083563523719\n",
      "[LightGBM] [Warning] lambda_l2 is set=0.010564976233569959, reg_lambda=0.0 will be ignored. Current value: lambda_l2=0.010564976233569959\n",
      "[LightGBM] [Warning] lambda_l1 is set=8.03478544350977e-06, reg_alpha=0.0 will be ignored. Current value: lambda_l1=8.03478544350977e-06\n"
     ]
    },
    {
     "name": "stderr",
     "output_type": "stream",
     "text": [
      "\u001b[32m[I 2023-02-01 17:35:53,146]\u001b[0m Trial 49 finished with value: 0.3613208633838908 and parameters: {'lambda_l1': 8.03478544350977e-06, 'lambda_l2': 0.010564976233569959, 'num_leaves': 40, 'feature_fraction': 0.971733288914025, 'bagging_fraction': 0.828083563523719, 'bagging_freq': 4, 'min_child_samples': 24}. Best is trial 29 with value: 0.3663637912864012.\u001b[0m\n"
     ]
    },
    {
     "name": "stdout",
     "output_type": "stream",
     "text": [
      "[LightGBM] [Warning] feature_fraction is set=0.8889120117959836, colsample_bytree=1.0 will be ignored. Current value: feature_fraction=0.8889120117959836\n",
      "[LightGBM] [Warning] bagging_freq is set=3, subsample_freq=0 will be ignored. Current value: bagging_freq=3\n",
      "[LightGBM] [Warning] bagging_fraction is set=0.9730628402684482, subsample=1.0 will be ignored. Current value: bagging_fraction=0.9730628402684482\n",
      "[LightGBM] [Warning] lambda_l2 is set=0.6621294883292109, reg_lambda=0.0 will be ignored. Current value: lambda_l2=0.6621294883292109\n",
      "[LightGBM] [Warning] lambda_l1 is set=4.795077676074697e-06, reg_alpha=0.0 will be ignored. Current value: lambda_l1=4.795077676074697e-06\n"
     ]
    },
    {
     "name": "stderr",
     "output_type": "stream",
     "text": [
      "\u001b[32m[I 2023-02-01 17:35:53,909]\u001b[0m Trial 50 finished with value: 0.36582698900915367 and parameters: {'lambda_l1': 4.795077676074697e-06, 'lambda_l2': 0.6621294883292109, 'num_leaves': 79, 'feature_fraction': 0.8889120117959836, 'bagging_fraction': 0.9730628402684482, 'bagging_freq': 3, 'min_child_samples': 5}. Best is trial 29 with value: 0.3663637912864012.\u001b[0m\n"
     ]
    },
    {
     "name": "stdout",
     "output_type": "stream",
     "text": [
      "[LightGBM] [Warning] feature_fraction is set=0.8811717177488944, colsample_bytree=1.0 will be ignored. Current value: feature_fraction=0.8811717177488944\n",
      "[LightGBM] [Warning] bagging_freq is set=3, subsample_freq=0 will be ignored. Current value: bagging_freq=3\n",
      "[LightGBM] [Warning] bagging_fraction is set=0.9490868145065975, subsample=1.0 will be ignored. Current value: bagging_fraction=0.9490868145065975\n",
      "[LightGBM] [Warning] lambda_l2 is set=0.6351639591408617, reg_lambda=0.0 will be ignored. Current value: lambda_l2=0.6351639591408617\n",
      "[LightGBM] [Warning] lambda_l1 is set=3.793128523559831e-06, reg_alpha=0.0 will be ignored. Current value: lambda_l1=3.793128523559831e-06\n"
     ]
    },
    {
     "name": "stderr",
     "output_type": "stream",
     "text": [
      "\u001b[32m[I 2023-02-01 17:35:54,803]\u001b[0m Trial 51 finished with value: 0.3648615302651905 and parameters: {'lambda_l1': 3.793128523559831e-06, 'lambda_l2': 0.6351639591408617, 'num_leaves': 77, 'feature_fraction': 0.8811717177488944, 'bagging_fraction': 0.9490868145065975, 'bagging_freq': 3, 'min_child_samples': 9}. Best is trial 29 with value: 0.3663637912864012.\u001b[0m\n"
     ]
    },
    {
     "name": "stdout",
     "output_type": "stream",
     "text": [
      "[LightGBM] [Warning] feature_fraction is set=0.9197063434624679, colsample_bytree=1.0 will be ignored. Current value: feature_fraction=0.9197063434624679\n",
      "[LightGBM] [Warning] bagging_freq is set=2, subsample_freq=0 will be ignored. Current value: bagging_freq=2\n",
      "[LightGBM] [Warning] bagging_fraction is set=0.9742385499455963, subsample=1.0 will be ignored. Current value: bagging_fraction=0.9742385499455963\n",
      "[LightGBM] [Warning] lambda_l2 is set=0.05343687534683425, reg_lambda=0.0 will be ignored. Current value: lambda_l2=0.05343687534683425\n",
      "[LightGBM] [Warning] lambda_l1 is set=1.597461216154656e-05, reg_alpha=0.0 will be ignored. Current value: lambda_l1=1.597461216154656e-05\n"
     ]
    },
    {
     "name": "stderr",
     "output_type": "stream",
     "text": [
      "\u001b[32m[I 2023-02-01 17:35:55,516]\u001b[0m Trial 52 finished with value: 0.36385472650198225 and parameters: {'lambda_l1': 1.597461216154656e-05, 'lambda_l2': 0.05343687534683425, 'num_leaves': 53, 'feature_fraction': 0.9197063434624679, 'bagging_fraction': 0.9742385499455963, 'bagging_freq': 2, 'min_child_samples': 5}. Best is trial 29 with value: 0.3663637912864012.\u001b[0m\n"
     ]
    },
    {
     "name": "stdout",
     "output_type": "stream",
     "text": [
      "[LightGBM] [Warning] feature_fraction is set=0.8225302760581251, colsample_bytree=1.0 will be ignored. Current value: feature_fraction=0.8225302760581251\n",
      "[LightGBM] [Warning] bagging_freq is set=3, subsample_freq=0 will be ignored. Current value: bagging_freq=3\n",
      "[LightGBM] [Warning] bagging_fraction is set=0.9178483705614424, subsample=1.0 will be ignored. Current value: bagging_fraction=0.9178483705614424\n",
      "[LightGBM] [Warning] lambda_l2 is set=0.10396252475385982, reg_lambda=0.0 will be ignored. Current value: lambda_l2=0.10396252475385982\n",
      "[LightGBM] [Warning] lambda_l1 is set=3.170683213378009e-05, reg_alpha=0.0 will be ignored. Current value: lambda_l1=3.170683213378009e-05\n"
     ]
    },
    {
     "name": "stderr",
     "output_type": "stream",
     "text": [
      "\u001b[32m[I 2023-02-01 17:35:56,690]\u001b[0m Trial 53 finished with value: 0.3591342536499368 and parameters: {'lambda_l1': 3.170683213378009e-05, 'lambda_l2': 0.10396252475385982, 'num_leaves': 133, 'feature_fraction': 0.8225302760581251, 'bagging_fraction': 0.9178483705614424, 'bagging_freq': 3, 'min_child_samples': 15}. Best is trial 29 with value: 0.3663637912864012.\u001b[0m\n"
     ]
    },
    {
     "name": "stdout",
     "output_type": "stream",
     "text": [
      "[LightGBM] [Warning] feature_fraction is set=0.9331739382097463, colsample_bytree=1.0 will be ignored. Current value: feature_fraction=0.9331739382097463\n",
      "[LightGBM] [Warning] bagging_freq is set=4, subsample_freq=0 will be ignored. Current value: bagging_freq=4\n",
      "[LightGBM] [Warning] bagging_fraction is set=0.8868097291888482, subsample=1.0 will be ignored. Current value: bagging_fraction=0.8868097291888482\n",
      "[LightGBM] [Warning] lambda_l2 is set=0.02519247521827623, reg_lambda=0.0 will be ignored. Current value: lambda_l2=0.02519247521827623\n",
      "[LightGBM] [Warning] lambda_l1 is set=9.968185210861688e-07, reg_alpha=0.0 will be ignored. Current value: lambda_l1=9.968185210861688e-07\n"
     ]
    },
    {
     "name": "stderr",
     "output_type": "stream",
     "text": [
      "\u001b[32m[I 2023-02-01 17:35:57,359]\u001b[0m Trial 54 finished with value: 0.36441231112870776 and parameters: {'lambda_l1': 9.968185210861688e-07, 'lambda_l2': 0.02519247521827623, 'num_leaves': 88, 'feature_fraction': 0.9331739382097463, 'bagging_fraction': 0.8868097291888482, 'bagging_freq': 4, 'min_child_samples': 10}. Best is trial 29 with value: 0.3663637912864012.\u001b[0m\n"
     ]
    },
    {
     "name": "stdout",
     "output_type": "stream",
     "text": [
      "[LightGBM] [Warning] feature_fraction is set=0.8973833539450027, colsample_bytree=1.0 will be ignored. Current value: feature_fraction=0.8973833539450027\n",
      "[LightGBM] [Warning] bagging_freq is set=5, subsample_freq=0 will be ignored. Current value: bagging_freq=5\n",
      "[LightGBM] [Warning] bagging_fraction is set=0.9771594309376623, subsample=1.0 will be ignored. Current value: bagging_fraction=0.9771594309376623\n",
      "[LightGBM] [Warning] lambda_l2 is set=0.5634232803635133, reg_lambda=0.0 will be ignored. Current value: lambda_l2=0.5634232803635133\n",
      "[LightGBM] [Warning] lambda_l1 is set=5.597185810262429e-06, reg_alpha=0.0 will be ignored. Current value: lambda_l1=5.597185810262429e-06\n"
     ]
    },
    {
     "name": "stderr",
     "output_type": "stream",
     "text": [
      "\u001b[32m[I 2023-02-01 17:35:58,351]\u001b[0m Trial 55 finished with value: 0.3599946518185655 and parameters: {'lambda_l1': 5.597185810262429e-06, 'lambda_l2': 0.5634232803635133, 'num_leaves': 109, 'feature_fraction': 0.8973833539450027, 'bagging_fraction': 0.9771594309376623, 'bagging_freq': 5, 'min_child_samples': 15}. Best is trial 29 with value: 0.3663637912864012.\u001b[0m\n"
     ]
    },
    {
     "name": "stdout",
     "output_type": "stream",
     "text": [
      "[LightGBM] [Warning] feature_fraction is set=0.9831370617532339, colsample_bytree=1.0 will be ignored. Current value: feature_fraction=0.9831370617532339\n",
      "[LightGBM] [Warning] bagging_freq is set=3, subsample_freq=0 will be ignored. Current value: bagging_freq=3\n",
      "[LightGBM] [Warning] bagging_fraction is set=0.9400665358517746, subsample=1.0 will be ignored. Current value: bagging_fraction=0.9400665358517746\n",
      "[LightGBM] [Warning] lambda_l2 is set=0.011484994431981952, reg_lambda=0.0 will be ignored. Current value: lambda_l2=0.011484994431981952\n",
      "[LightGBM] [Warning] lambda_l1 is set=3.117741998568617e-07, reg_alpha=0.0 will be ignored. Current value: lambda_l1=3.117741998568617e-07\n"
     ]
    },
    {
     "name": "stderr",
     "output_type": "stream",
     "text": [
      "\u001b[32m[I 2023-02-01 17:35:59,058]\u001b[0m Trial 56 finished with value: 0.3612539239133433 and parameters: {'lambda_l1': 3.117741998568617e-07, 'lambda_l2': 0.011484994431981952, 'num_leaves': 63, 'feature_fraction': 0.9831370617532339, 'bagging_fraction': 0.9400665358517746, 'bagging_freq': 3, 'min_child_samples': 21}. Best is trial 29 with value: 0.3663637912864012.\u001b[0m\n"
     ]
    },
    {
     "name": "stdout",
     "output_type": "stream",
     "text": [
      "[LightGBM] [Warning] feature_fraction is set=0.9492182234403685, colsample_bytree=1.0 will be ignored. Current value: feature_fraction=0.9492182234403685\n",
      "[LightGBM] [Warning] bagging_freq is set=4, subsample_freq=0 will be ignored. Current value: bagging_freq=4\n",
      "[LightGBM] [Warning] bagging_fraction is set=0.919334740796682, subsample=1.0 will be ignored. Current value: bagging_fraction=0.919334740796682\n",
      "[LightGBM] [Warning] lambda_l2 is set=3.671788166681625, reg_lambda=0.0 will be ignored. Current value: lambda_l2=3.671788166681625\n",
      "[LightGBM] [Warning] lambda_l1 is set=1.7883834334680438e-06, reg_alpha=0.0 will be ignored. Current value: lambda_l1=1.7883834334680438e-06\n"
     ]
    },
    {
     "name": "stderr",
     "output_type": "stream",
     "text": [
      "\u001b[32m[I 2023-02-01 17:35:59,600]\u001b[0m Trial 57 finished with value: 0.36297028278497845 and parameters: {'lambda_l1': 1.7883834334680438e-06, 'lambda_l2': 3.671788166681625, 'num_leaves': 41, 'feature_fraction': 0.9492182234403685, 'bagging_fraction': 0.919334740796682, 'bagging_freq': 4, 'min_child_samples': 28}. Best is trial 29 with value: 0.3663637912864012.\u001b[0m\n"
     ]
    },
    {
     "name": "stdout",
     "output_type": "stream",
     "text": [
      "[LightGBM] [Warning] feature_fraction is set=0.8797469003204079, colsample_bytree=1.0 will be ignored. Current value: feature_fraction=0.8797469003204079\n",
      "[LightGBM] [Warning] bagging_freq is set=2, subsample_freq=0 will be ignored. Current value: bagging_freq=2\n",
      "[LightGBM] [Warning] bagging_fraction is set=0.9987220217808239, subsample=1.0 will be ignored. Current value: bagging_fraction=0.9987220217808239\n",
      "[LightGBM] [Warning] lambda_l2 is set=0.11295692160154967, reg_lambda=0.0 will be ignored. Current value: lambda_l2=0.11295692160154967\n",
      "[LightGBM] [Warning] lambda_l1 is set=7.850328850629909e-08, reg_alpha=0.0 will be ignored. Current value: lambda_l1=7.850328850629909e-08\n"
     ]
    },
    {
     "name": "stderr",
     "output_type": "stream",
     "text": [
      "\u001b[32m[I 2023-02-01 17:36:00,331]\u001b[0m Trial 58 finished with value: 0.3655519047915827 and parameters: {'lambda_l1': 7.850328850629909e-08, 'lambda_l2': 0.11295692160154967, 'num_leaves': 89, 'feature_fraction': 0.8797469003204079, 'bagging_fraction': 0.9987220217808239, 'bagging_freq': 2, 'min_child_samples': 8}. Best is trial 29 with value: 0.3663637912864012.\u001b[0m\n"
     ]
    },
    {
     "name": "stdout",
     "output_type": "stream",
     "text": [
      "[LightGBM] [Warning] feature_fraction is set=0.8725767452669552, colsample_bytree=1.0 will be ignored. Current value: feature_fraction=0.8725767452669552\n",
      "[LightGBM] [Warning] bagging_freq is set=1, subsample_freq=0 will be ignored. Current value: bagging_freq=1\n",
      "[LightGBM] [Warning] bagging_fraction is set=0.9589172134249959, subsample=1.0 will be ignored. Current value: bagging_fraction=0.9589172134249959\n",
      "[LightGBM] [Warning] lambda_l2 is set=0.1391059213664334, reg_lambda=0.0 will be ignored. Current value: lambda_l2=0.1391059213664334\n",
      "[LightGBM] [Warning] lambda_l1 is set=2.4818360647338018e-08, reg_alpha=0.0 will be ignored. Current value: lambda_l1=2.4818360647338018e-08\n"
     ]
    },
    {
     "name": "stderr",
     "output_type": "stream",
     "text": [
      "\u001b[32m[I 2023-02-01 17:36:01,170]\u001b[0m Trial 59 finished with value: 0.36588501082013924 and parameters: {'lambda_l1': 2.4818360647338018e-08, 'lambda_l2': 0.1391059213664334, 'num_leaves': 92, 'feature_fraction': 0.8725767452669552, 'bagging_fraction': 0.9589172134249959, 'bagging_freq': 1, 'min_child_samples': 5}. Best is trial 29 with value: 0.3663637912864012.\u001b[0m\n"
     ]
    },
    {
     "name": "stdout",
     "output_type": "stream",
     "text": [
      "[LightGBM] [Warning] feature_fraction is set=0.8149846824597199, colsample_bytree=1.0 will be ignored. Current value: feature_fraction=0.8149846824597199\n",
      "[LightGBM] [Warning] bagging_freq is set=1, subsample_freq=0 will be ignored. Current value: bagging_freq=1\n",
      "[LightGBM] [Warning] bagging_fraction is set=0.9879842943309588, subsample=1.0 will be ignored. Current value: bagging_fraction=0.9879842943309588\n",
      "[LightGBM] [Warning] lambda_l2 is set=0.08534676196251478, reg_lambda=0.0 will be ignored. Current value: lambda_l2=0.08534676196251478\n",
      "[LightGBM] [Warning] lambda_l1 is set=5.990638032380165e-08, reg_alpha=0.0 will be ignored. Current value: lambda_l1=5.990638032380165e-08\n"
     ]
    },
    {
     "name": "stderr",
     "output_type": "stream",
     "text": [
      "\u001b[32m[I 2023-02-01 17:36:01,999]\u001b[0m Trial 60 finished with value: 0.36185685154188063 and parameters: {'lambda_l1': 5.990638032380165e-08, 'lambda_l2': 0.08534676196251478, 'num_leaves': 107, 'feature_fraction': 0.8149846824597199, 'bagging_fraction': 0.9879842943309588, 'bagging_freq': 1, 'min_child_samples': 5}. Best is trial 29 with value: 0.3663637912864012.\u001b[0m\n"
     ]
    },
    {
     "name": "stdout",
     "output_type": "stream",
     "text": [
      "[LightGBM] [Warning] feature_fraction is set=0.8761821394224337, colsample_bytree=1.0 will be ignored. Current value: feature_fraction=0.8761821394224337\n",
      "[LightGBM] [Warning] bagging_freq is set=2, subsample_freq=0 will be ignored. Current value: bagging_freq=2\n",
      "[LightGBM] [Warning] bagging_fraction is set=0.9979442856677119, subsample=1.0 will be ignored. Current value: bagging_fraction=0.9979442856677119\n",
      "[LightGBM] [Warning] lambda_l2 is set=0.19649734435368918, reg_lambda=0.0 will be ignored. Current value: lambda_l2=0.19649734435368918\n",
      "[LightGBM] [Warning] lambda_l1 is set=6.898617484451546e-08, reg_alpha=0.0 will be ignored. Current value: lambda_l1=6.898617484451546e-08\n"
     ]
    },
    {
     "name": "stderr",
     "output_type": "stream",
     "text": [
      "\u001b[32m[I 2023-02-01 17:36:02,735]\u001b[0m Trial 61 finished with value: 0.36365032955754684 and parameters: {'lambda_l1': 6.898617484451546e-08, 'lambda_l2': 0.19649734435368918, 'num_leaves': 94, 'feature_fraction': 0.8761821394224337, 'bagging_fraction': 0.9979442856677119, 'bagging_freq': 2, 'min_child_samples': 8}. Best is trial 29 with value: 0.3663637912864012.\u001b[0m\n"
     ]
    },
    {
     "name": "stdout",
     "output_type": "stream",
     "text": [
      "[LightGBM] [Warning] feature_fraction is set=0.8573028760133834, colsample_bytree=1.0 will be ignored. Current value: feature_fraction=0.8573028760133834\n",
      "[LightGBM] [Warning] bagging_freq is set=1, subsample_freq=0 will be ignored. Current value: bagging_freq=1\n",
      "[LightGBM] [Warning] bagging_fraction is set=0.9432678278893489, subsample=1.0 will be ignored. Current value: bagging_fraction=0.9432678278893489\n",
      "[LightGBM] [Warning] lambda_l2 is set=0.03373424652803195, reg_lambda=0.0 will be ignored. Current value: lambda_l2=0.03373424652803195\n",
      "[LightGBM] [Warning] lambda_l1 is set=1.4290448122755525e-08, reg_alpha=0.0 will be ignored. Current value: lambda_l1=1.4290448122755525e-08\n"
     ]
    },
    {
     "name": "stderr",
     "output_type": "stream",
     "text": [
      "\u001b[32m[I 2023-02-01 17:36:03,264]\u001b[0m Trial 62 finished with value: 0.3627526479590778 and parameters: {'lambda_l1': 1.4290448122755525e-08, 'lambda_l2': 0.03373424652803195, 'num_leaves': 79, 'feature_fraction': 0.8573028760133834, 'bagging_fraction': 0.9432678278893489, 'bagging_freq': 1, 'min_child_samples': 15}. Best is trial 29 with value: 0.3663637912864012.\u001b[0m\n"
     ]
    },
    {
     "name": "stdout",
     "output_type": "stream",
     "text": [
      "[LightGBM] [Warning] feature_fraction is set=0.8408412895998485, colsample_bytree=1.0 will be ignored. Current value: feature_fraction=0.8408412895998485\n",
      "[LightGBM] [Warning] bagging_freq is set=1, subsample_freq=0 will be ignored. Current value: bagging_freq=1\n",
      "[LightGBM] [Warning] bagging_fraction is set=0.9742506762507647, subsample=1.0 will be ignored. Current value: bagging_fraction=0.9742506762507647\n",
      "[LightGBM] [Warning] lambda_l2 is set=0.16117184333245105, reg_lambda=0.0 will be ignored. Current value: lambda_l2=0.16117184333245105\n",
      "[LightGBM] [Warning] lambda_l1 is set=7.48205834084193e-08, reg_alpha=0.0 will be ignored. Current value: lambda_l1=7.48205834084193e-08\n"
     ]
    },
    {
     "name": "stderr",
     "output_type": "stream",
     "text": [
      "\u001b[32m[I 2023-02-01 17:36:03,938]\u001b[0m Trial 63 finished with value: 0.3628032838863352 and parameters: {'lambda_l1': 7.48205834084193e-08, 'lambda_l2': 0.16117184333245105, 'num_leaves': 128, 'feature_fraction': 0.8408412895998485, 'bagging_fraction': 0.9742506762507647, 'bagging_freq': 1, 'min_child_samples': 12}. Best is trial 29 with value: 0.3663637912864012.\u001b[0m\n"
     ]
    },
    {
     "name": "stdout",
     "output_type": "stream",
     "text": [
      "[LightGBM] [Warning] feature_fraction is set=0.9226276638732824, colsample_bytree=1.0 will be ignored. Current value: feature_fraction=0.9226276638732824\n",
      "[LightGBM] [Warning] bagging_freq is set=2, subsample_freq=0 will be ignored. Current value: bagging_freq=2\n",
      "[LightGBM] [Warning] bagging_fraction is set=0.9638386821509323, subsample=1.0 will be ignored. Current value: bagging_fraction=0.9638386821509323\n",
      "[LightGBM] [Warning] lambda_l2 is set=0.48804557295809475, reg_lambda=0.0 will be ignored. Current value: lambda_l2=0.48804557295809475\n",
      "[LightGBM] [Warning] lambda_l1 is set=7.598374761607424e-07, reg_alpha=0.0 will be ignored. Current value: lambda_l1=7.598374761607424e-07\n"
     ]
    },
    {
     "name": "stderr",
     "output_type": "stream",
     "text": [
      "\u001b[32m[I 2023-02-01 17:36:04,619]\u001b[0m Trial 64 finished with value: 0.36403162602926753 and parameters: {'lambda_l1': 7.598374761607424e-07, 'lambda_l2': 0.48804557295809475, 'num_leaves': 73, 'feature_fraction': 0.9226276638732824, 'bagging_fraction': 0.9638386821509323, 'bagging_freq': 2, 'min_child_samples': 19}. Best is trial 29 with value: 0.3663637912864012.\u001b[0m\n"
     ]
    },
    {
     "name": "stdout",
     "output_type": "stream",
     "text": [
      "[LightGBM] [Warning] feature_fraction is set=0.8856752880170642, colsample_bytree=1.0 will be ignored. Current value: feature_fraction=0.8856752880170642\n",
      "[LightGBM] [Warning] bagging_freq is set=2, subsample_freq=0 will be ignored. Current value: bagging_freq=2\n",
      "[LightGBM] [Warning] bagging_fraction is set=0.9995306950619303, subsample=1.0 will be ignored. Current value: bagging_fraction=0.9995306950619303\n",
      "[LightGBM] [Warning] lambda_l2 is set=0.05817419966573687, reg_lambda=0.0 will be ignored. Current value: lambda_l2=0.05817419966573687\n",
      "[LightGBM] [Warning] lambda_l1 is set=4.3441383651052876e-07, reg_alpha=0.0 will be ignored. Current value: lambda_l1=4.3441383651052876e-07\n"
     ]
    },
    {
     "name": "stderr",
     "output_type": "stream",
     "text": [
      "\u001b[32m[I 2023-02-01 17:36:05,268]\u001b[0m Trial 65 finished with value: 0.3631616571044747 and parameters: {'lambda_l1': 4.3441383651052876e-07, 'lambda_l2': 0.05817419966573687, 'num_leaves': 90, 'feature_fraction': 0.8856752880170642, 'bagging_fraction': 0.9995306950619303, 'bagging_freq': 2, 'min_child_samples': 8}. Best is trial 29 with value: 0.3663637912864012.\u001b[0m\n"
     ]
    },
    {
     "name": "stdout",
     "output_type": "stream",
     "text": [
      "[LightGBM] [Warning] feature_fraction is set=0.942751853521834, colsample_bytree=1.0 will be ignored. Current value: feature_fraction=0.942751853521834\n",
      "[LightGBM] [Warning] bagging_freq is set=1, subsample_freq=0 will be ignored. Current value: bagging_freq=1\n",
      "[LightGBM] [Warning] bagging_fraction is set=0.9555344941626569, subsample=1.0 will be ignored. Current value: bagging_fraction=0.9555344941626569\n",
      "[LightGBM] [Warning] lambda_l2 is set=0.005873268536336387, reg_lambda=0.0 will be ignored. Current value: lambda_l2=0.005873268536336387\n",
      "[LightGBM] [Warning] lambda_l1 is set=1.7481017074595221e-07, reg_alpha=0.0 will be ignored. Current value: lambda_l1=1.7481017074595221e-07\n"
     ]
    },
    {
     "name": "stderr",
     "output_type": "stream",
     "text": [
      "\u001b[32m[I 2023-02-01 17:36:06,098]\u001b[0m Trial 66 finished with value: 0.3525450630527931 and parameters: {'lambda_l1': 1.7481017074595221e-07, 'lambda_l2': 0.005873268536336387, 'num_leaves': 198, 'feature_fraction': 0.942751853521834, 'bagging_fraction': 0.9555344941626569, 'bagging_freq': 1, 'min_child_samples': 15}. Best is trial 29 with value: 0.3663637912864012.\u001b[0m\n"
     ]
    },
    {
     "name": "stdout",
     "output_type": "stream",
     "text": [
      "[LightGBM] [Warning] feature_fraction is set=0.8689244740764073, colsample_bytree=1.0 will be ignored. Current value: feature_fraction=0.8689244740764073\n",
      "[LightGBM] [Warning] bagging_freq is set=2, subsample_freq=0 will be ignored. Current value: bagging_freq=2\n",
      "[LightGBM] [Warning] bagging_fraction is set=0.9249129449967975, subsample=1.0 will be ignored. Current value: bagging_fraction=0.9249129449967975\n",
      "[LightGBM] [Warning] lambda_l2 is set=0.03171090588508412, reg_lambda=0.0 will be ignored. Current value: lambda_l2=0.03171090588508412\n",
      "[LightGBM] [Warning] lambda_l1 is set=9.635329163797248e-07, reg_alpha=0.0 will be ignored. Current value: lambda_l1=9.635329163797248e-07\n"
     ]
    },
    {
     "name": "stderr",
     "output_type": "stream",
     "text": [
      "\u001b[32m[I 2023-02-01 17:36:06,914]\u001b[0m Trial 67 finished with value: 0.35947644115502697 and parameters: {'lambda_l1': 9.635329163797248e-07, 'lambda_l2': 0.03171090588508412, 'num_leaves': 103, 'feature_fraction': 0.8689244740764073, 'bagging_fraction': 0.9249129449967975, 'bagging_freq': 2, 'min_child_samples': 23}. Best is trial 29 with value: 0.3663637912864012.\u001b[0m\n"
     ]
    },
    {
     "name": "stdout",
     "output_type": "stream",
     "text": [
      "[LightGBM] [Warning] feature_fraction is set=0.9795876462990004, colsample_bytree=1.0 will be ignored. Current value: feature_fraction=0.9795876462990004\n",
      "[LightGBM] [Warning] bagging_freq is set=3, subsample_freq=0 will be ignored. Current value: bagging_freq=3\n",
      "[LightGBM] [Warning] bagging_fraction is set=0.9359022360481749, subsample=1.0 will be ignored. Current value: bagging_fraction=0.9359022360481749\n",
      "[LightGBM] [Warning] lambda_l2 is set=0.0018131591181780784, reg_lambda=0.0 will be ignored. Current value: lambda_l2=0.0018131591181780784\n",
      "[LightGBM] [Warning] lambda_l1 is set=2.2804947230355452e-08, reg_alpha=0.0 will be ignored. Current value: lambda_l1=2.2804947230355452e-08\n"
     ]
    },
    {
     "name": "stderr",
     "output_type": "stream",
     "text": [
      "\u001b[32m[I 2023-02-01 17:36:07,419]\u001b[0m Trial 68 finished with value: 0.364663159269784 and parameters: {'lambda_l1': 2.2804947230355452e-08, 'lambda_l2': 0.0018131591181780784, 'num_leaves': 50, 'feature_fraction': 0.9795876462990004, 'bagging_fraction': 0.9359022360481749, 'bagging_freq': 3, 'min_child_samples': 11}. Best is trial 29 with value: 0.3663637912864012.\u001b[0m\n"
     ]
    },
    {
     "name": "stdout",
     "output_type": "stream",
     "text": [
      "[LightGBM] [Warning] feature_fraction is set=0.9166285763680828, colsample_bytree=1.0 will be ignored. Current value: feature_fraction=0.9166285763680828\n",
      "[LightGBM] [Warning] bagging_freq is set=1, subsample_freq=0 will be ignored. Current value: bagging_freq=1\n",
      "[LightGBM] [Warning] bagging_fraction is set=0.9592048737717216, subsample=1.0 will be ignored. Current value: bagging_fraction=0.9592048737717216\n",
      "[LightGBM] [Warning] lambda_l2 is set=1.3333990704270686, reg_lambda=0.0 will be ignored. Current value: lambda_l2=1.3333990704270686\n",
      "[LightGBM] [Warning] lambda_l1 is set=1.4450348558957838e-06, reg_alpha=0.0 will be ignored. Current value: lambda_l1=1.4450348558957838e-06\n"
     ]
    },
    {
     "name": "stderr",
     "output_type": "stream",
     "text": [
      "\u001b[32m[I 2023-02-01 17:36:07,834]\u001b[0m Trial 69 finished with value: 0.36233639766095393 and parameters: {'lambda_l1': 1.4450348558957838e-06, 'lambda_l2': 1.3333990704270686, 'num_leaves': 34, 'feature_fraction': 0.9166285763680828, 'bagging_fraction': 0.9592048737717216, 'bagging_freq': 1, 'min_child_samples': 38}. Best is trial 29 with value: 0.3663637912864012.\u001b[0m\n"
     ]
    },
    {
     "name": "stdout",
     "output_type": "stream",
     "text": [
      "[LightGBM] [Warning] feature_fraction is set=0.8085338826014642, colsample_bytree=1.0 will be ignored. Current value: feature_fraction=0.8085338826014642\n",
      "[LightGBM] [Warning] bagging_freq is set=3, subsample_freq=0 will be ignored. Current value: bagging_freq=3\n",
      "[LightGBM] [Warning] bagging_fraction is set=0.8947680386071238, subsample=1.0 will be ignored. Current value: bagging_fraction=0.8947680386071238\n",
      "[LightGBM] [Warning] lambda_l2 is set=0.3430940628106802, reg_lambda=0.0 will be ignored. Current value: lambda_l2=0.3430940628106802\n",
      "[LightGBM] [Warning] lambda_l1 is set=3.2993729585280086e-06, reg_alpha=0.0 will be ignored. Current value: lambda_l1=3.2993729585280086e-06\n"
     ]
    },
    {
     "name": "stderr",
     "output_type": "stream",
     "text": [
      "\u001b[32m[I 2023-02-01 17:36:08,398]\u001b[0m Trial 70 finished with value: 0.3663074253237927 and parameters: {'lambda_l1': 3.2993729585280086e-06, 'lambda_l2': 0.3430940628106802, 'num_leaves': 68, 'feature_fraction': 0.8085338826014642, 'bagging_fraction': 0.8947680386071238, 'bagging_freq': 3, 'min_child_samples': 7}. Best is trial 29 with value: 0.3663637912864012.\u001b[0m\n"
     ]
    },
    {
     "name": "stdout",
     "output_type": "stream",
     "text": [
      "[LightGBM] [Warning] feature_fraction is set=0.8399159446033241, colsample_bytree=1.0 will be ignored. Current value: feature_fraction=0.8399159446033241\n",
      "[LightGBM] [Warning] bagging_freq is set=3, subsample_freq=0 will be ignored. Current value: bagging_freq=3\n",
      "[LightGBM] [Warning] bagging_fraction is set=0.9020936832429078, subsample=1.0 will be ignored. Current value: bagging_fraction=0.9020936832429078\n",
      "[LightGBM] [Warning] lambda_l2 is set=0.12613217784611602, reg_lambda=0.0 will be ignored. Current value: lambda_l2=0.12613217784611602\n",
      "[LightGBM] [Warning] lambda_l1 is set=3.348798828762616e-06, reg_alpha=0.0 will be ignored. Current value: lambda_l1=3.348798828762616e-06\n"
     ]
    },
    {
     "name": "stderr",
     "output_type": "stream",
     "text": [
      "\u001b[32m[I 2023-02-01 17:36:08,969]\u001b[0m Trial 71 finished with value: 0.36556808929816087 and parameters: {'lambda_l1': 3.348798828762616e-06, 'lambda_l2': 0.12613217784611602, 'num_leaves': 72, 'feature_fraction': 0.8399159446033241, 'bagging_fraction': 0.9020936832429078, 'bagging_freq': 3, 'min_child_samples': 5}. Best is trial 29 with value: 0.3663637912864012.\u001b[0m\n"
     ]
    },
    {
     "name": "stdout",
     "output_type": "stream",
     "text": [
      "[LightGBM] [Warning] feature_fraction is set=0.8066885086938699, colsample_bytree=1.0 will be ignored. Current value: feature_fraction=0.8066885086938699\n",
      "[LightGBM] [Warning] bagging_freq is set=3, subsample_freq=0 will be ignored. Current value: bagging_freq=3\n",
      "[LightGBM] [Warning] bagging_fraction is set=0.9010195728162327, subsample=1.0 will be ignored. Current value: bagging_fraction=0.9010195728162327\n",
      "[LightGBM] [Warning] lambda_l2 is set=0.13630819021351984, reg_lambda=0.0 will be ignored. Current value: lambda_l2=0.13630819021351984\n",
      "[LightGBM] [Warning] lambda_l1 is set=1.0989659971181394e-05, reg_alpha=0.0 will be ignored. Current value: lambda_l1=1.0989659971181394e-05\n"
     ]
    },
    {
     "name": "stderr",
     "output_type": "stream",
     "text": [
      "\u001b[32m[I 2023-02-01 17:36:09,565]\u001b[0m Trial 72 finished with value: 0.3657445632807581 and parameters: {'lambda_l1': 1.0989659971181394e-05, 'lambda_l2': 0.13630819021351984, 'num_leaves': 81, 'feature_fraction': 0.8066885086938699, 'bagging_fraction': 0.9010195728162327, 'bagging_freq': 3, 'min_child_samples': 5}. Best is trial 29 with value: 0.3663637912864012.\u001b[0m\n"
     ]
    },
    {
     "name": "stdout",
     "output_type": "stream",
     "text": [
      "[LightGBM] [Warning] feature_fraction is set=0.8139172065707098, colsample_bytree=1.0 will be ignored. Current value: feature_fraction=0.8139172065707098\n",
      "[LightGBM] [Warning] bagging_freq is set=3, subsample_freq=0 will be ignored. Current value: bagging_freq=3\n",
      "[LightGBM] [Warning] bagging_fraction is set=0.9027798210364361, subsample=1.0 will be ignored. Current value: bagging_fraction=0.9027798210364361\n",
      "[LightGBM] [Warning] lambda_l2 is set=0.37199593979904244, reg_lambda=0.0 will be ignored. Current value: lambda_l2=0.37199593979904244\n",
      "[LightGBM] [Warning] lambda_l1 is set=1.2246676283716129e-05, reg_alpha=0.0 will be ignored. Current value: lambda_l1=1.2246676283716129e-05\n"
     ]
    },
    {
     "name": "stderr",
     "output_type": "stream",
     "text": [
      "\u001b[32m[I 2023-02-01 17:36:10,158]\u001b[0m Trial 73 finished with value: 0.3647804509651338 and parameters: {'lambda_l1': 1.2246676283716129e-05, 'lambda_l2': 0.37199593979904244, 'num_leaves': 79, 'feature_fraction': 0.8139172065707098, 'bagging_fraction': 0.9027798210364361, 'bagging_freq': 3, 'min_child_samples': 6}. Best is trial 29 with value: 0.3663637912864012.\u001b[0m\n"
     ]
    },
    {
     "name": "stdout",
     "output_type": "stream",
     "text": [
      "[LightGBM] [Warning] feature_fraction is set=0.8388838673899124, colsample_bytree=1.0 will be ignored. Current value: feature_fraction=0.8388838673899124\n",
      "[LightGBM] [Warning] bagging_freq is set=3, subsample_freq=0 will be ignored. Current value: bagging_freq=3\n",
      "[LightGBM] [Warning] bagging_fraction is set=0.8653360748079632, subsample=1.0 will be ignored. Current value: bagging_fraction=0.8653360748079632\n",
      "[LightGBM] [Warning] lambda_l2 is set=0.22979279307298447, reg_lambda=0.0 will be ignored. Current value: lambda_l2=0.22979279307298447\n",
      "[LightGBM] [Warning] lambda_l1 is set=5.925334885461071e-06, reg_alpha=0.0 will be ignored. Current value: lambda_l1=5.925334885461071e-06\n"
     ]
    },
    {
     "name": "stderr",
     "output_type": "stream",
     "text": [
      "\u001b[32m[I 2023-02-01 17:36:10,715]\u001b[0m Trial 74 finished with value: 0.3644868011303043 and parameters: {'lambda_l1': 5.925334885461071e-06, 'lambda_l2': 0.22979279307298447, 'num_leaves': 69, 'feature_fraction': 0.8388838673899124, 'bagging_fraction': 0.8653360748079632, 'bagging_freq': 3, 'min_child_samples': 5}. Best is trial 29 with value: 0.3663637912864012.\u001b[0m\n"
     ]
    },
    {
     "name": "stdout",
     "output_type": "stream",
     "text": [
      "[LightGBM] [Warning] feature_fraction is set=0.8033434169118938, colsample_bytree=1.0 will be ignored. Current value: feature_fraction=0.8033434169118938\n",
      "[LightGBM] [Warning] bagging_freq is set=3, subsample_freq=0 will be ignored. Current value: bagging_freq=3\n",
      "[LightGBM] [Warning] bagging_fraction is set=0.8481327251686781, subsample=1.0 will be ignored. Current value: bagging_fraction=0.8481327251686781\n",
      "[LightGBM] [Warning] lambda_l2 is set=0.14039097352426824, reg_lambda=0.0 will be ignored. Current value: lambda_l2=0.14039097352426824\n",
      "[LightGBM] [Warning] lambda_l1 is set=1.6099314829220148e-05, reg_alpha=0.0 will be ignored. Current value: lambda_l1=1.6099314829220148e-05\n"
     ]
    },
    {
     "name": "stderr",
     "output_type": "stream",
     "text": [
      "\u001b[32m[I 2023-02-01 17:36:11,360]\u001b[0m Trial 75 finished with value: 0.3634939476092909 and parameters: {'lambda_l1': 1.6099314829220148e-05, 'lambda_l2': 0.14039097352426824, 'num_leaves': 62, 'feature_fraction': 0.8033434169118938, 'bagging_fraction': 0.8481327251686781, 'bagging_freq': 3, 'min_child_samples': 13}. Best is trial 29 with value: 0.3663637912864012.\u001b[0m\n"
     ]
    },
    {
     "name": "stdout",
     "output_type": "stream",
     "text": [
      "[LightGBM] [Warning] feature_fraction is set=0.846248095541231, colsample_bytree=1.0 will be ignored. Current value: feature_fraction=0.846248095541231\n",
      "[LightGBM] [Warning] bagging_freq is set=3, subsample_freq=0 will be ignored. Current value: bagging_freq=3\n",
      "[LightGBM] [Warning] bagging_fraction is set=0.9034407388394319, subsample=1.0 will be ignored. Current value: bagging_fraction=0.9034407388394319\n",
      "[LightGBM] [Warning] lambda_l2 is set=0.061001582797827976, reg_lambda=0.0 will be ignored. Current value: lambda_l2=0.061001582797827976\n",
      "[LightGBM] [Warning] lambda_l1 is set=4.547630045754908e-05, reg_alpha=0.0 will be ignored. Current value: lambda_l1=4.547630045754908e-05\n"
     ]
    },
    {
     "name": "stderr",
     "output_type": "stream",
     "text": [
      "\u001b[32m[I 2023-02-01 17:36:12,048]\u001b[0m Trial 76 finished with value: 0.3639776073051473 and parameters: {'lambda_l1': 4.547630045754908e-05, 'lambda_l2': 0.061001582797827976, 'num_leaves': 48, 'feature_fraction': 0.846248095541231, 'bagging_fraction': 0.9034407388394319, 'bagging_freq': 3, 'min_child_samples': 17}. Best is trial 29 with value: 0.3663637912864012.\u001b[0m\n"
     ]
    },
    {
     "name": "stdout",
     "output_type": "stream",
     "text": [
      "[LightGBM] [Warning] feature_fraction is set=0.825172811461852, colsample_bytree=1.0 will be ignored. Current value: feature_fraction=0.825172811461852\n",
      "[LightGBM] [Warning] bagging_freq is set=4, subsample_freq=0 will be ignored. Current value: bagging_freq=4\n",
      "[LightGBM] [Warning] bagging_fraction is set=0.924753091449614, subsample=1.0 will be ignored. Current value: bagging_fraction=0.924753091449614\n",
      "[LightGBM] [Warning] lambda_l2 is set=0.3116092495424299, reg_lambda=0.0 will be ignored. Current value: lambda_l2=0.3116092495424299\n",
      "[LightGBM] [Warning] lambda_l1 is set=3.1094581620329323e-06, reg_alpha=0.0 will be ignored. Current value: lambda_l1=3.1094581620329323e-06\n"
     ]
    },
    {
     "name": "stderr",
     "output_type": "stream",
     "text": [
      "\u001b[32m[I 2023-02-01 17:36:13,484]\u001b[0m Trial 77 finished with value: 0.3523137969882606 and parameters: {'lambda_l1': 3.1094581620329323e-06, 'lambda_l2': 0.3116092495424299, 'num_leaves': 231, 'feature_fraction': 0.825172811461852, 'bagging_fraction': 0.924753091449614, 'bagging_freq': 4, 'min_child_samples': 8}. Best is trial 29 with value: 0.3663637912864012.\u001b[0m\n"
     ]
    },
    {
     "name": "stdout",
     "output_type": "stream",
     "text": [
      "[LightGBM] [Warning] feature_fraction is set=0.7996784859022931, colsample_bytree=1.0 will be ignored. Current value: feature_fraction=0.7996784859022931\n",
      "[LightGBM] [Warning] bagging_freq is set=3, subsample_freq=0 will be ignored. Current value: bagging_freq=3\n",
      "[LightGBM] [Warning] bagging_fraction is set=0.8895091003703781, subsample=1.0 will be ignored. Current value: bagging_fraction=0.8895091003703781\n",
      "[LightGBM] [Warning] lambda_l2 is set=0.9216157234180602, reg_lambda=0.0 will be ignored. Current value: lambda_l2=0.9216157234180602\n",
      "[LightGBM] [Warning] lambda_l1 is set=1.4112199299047482e-06, reg_alpha=0.0 will be ignored. Current value: lambda_l1=1.4112199299047482e-06\n"
     ]
    },
    {
     "name": "stderr",
     "output_type": "stream",
     "text": [
      "\u001b[32m[I 2023-02-01 17:36:14,139]\u001b[0m Trial 78 finished with value: 0.3610274413098834 and parameters: {'lambda_l1': 1.4112199299047482e-06, 'lambda_l2': 0.9216157234180602, 'num_leaves': 34, 'feature_fraction': 0.7996784859022931, 'bagging_fraction': 0.8895091003703781, 'bagging_freq': 3, 'min_child_samples': 49}. Best is trial 29 with value: 0.3663637912864012.\u001b[0m\n"
     ]
    },
    {
     "name": "stdout",
     "output_type": "stream",
     "text": [
      "[LightGBM] [Warning] feature_fraction is set=0.7669573593227228, colsample_bytree=1.0 will be ignored. Current value: feature_fraction=0.7669573593227228\n",
      "[LightGBM] [Warning] bagging_freq is set=4, subsample_freq=0 will be ignored. Current value: bagging_freq=4\n",
      "[LightGBM] [Warning] bagging_fraction is set=0.8713366979676589, subsample=1.0 will be ignored. Current value: bagging_fraction=0.8713366979676589\n",
      "[LightGBM] [Warning] lambda_l2 is set=1.7574795953528528, reg_lambda=0.0 will be ignored. Current value: lambda_l2=1.7574795953528528\n",
      "[LightGBM] [Warning] lambda_l1 is set=7.955764996656881e-06, reg_alpha=0.0 will be ignored. Current value: lambda_l1=7.955764996656881e-06\n"
     ]
    },
    {
     "name": "stderr",
     "output_type": "stream",
     "text": [
      "\u001b[32m[I 2023-02-01 17:36:15,436]\u001b[0m Trial 79 finished with value: 0.3644176930453421 and parameters: {'lambda_l1': 7.955764996656881e-06, 'lambda_l2': 1.7574795953528528, 'num_leaves': 84, 'feature_fraction': 0.7669573593227228, 'bagging_fraction': 0.8713366979676589, 'bagging_freq': 4, 'min_child_samples': 11}. Best is trial 29 with value: 0.3663637912864012.\u001b[0m\n"
     ]
    },
    {
     "name": "stdout",
     "output_type": "stream",
     "text": [
      "[LightGBM] [Warning] feature_fraction is set=0.8644985192611393, colsample_bytree=1.0 will be ignored. Current value: feature_fraction=0.8644985192611393\n",
      "[LightGBM] [Warning] bagging_freq is set=4, subsample_freq=0 will be ignored. Current value: bagging_freq=4\n",
      "[LightGBM] [Warning] bagging_fraction is set=0.8369097875625668, subsample=1.0 will be ignored. Current value: bagging_fraction=0.8369097875625668\n",
      "[LightGBM] [Warning] lambda_l2 is set=0.48316370249351825, reg_lambda=0.0 will be ignored. Current value: lambda_l2=0.48316370249351825\n",
      "[LightGBM] [Warning] lambda_l1 is set=2.4832532111344498e-05, reg_alpha=0.0 will be ignored. Current value: lambda_l1=2.4832532111344498e-05\n"
     ]
    },
    {
     "name": "stderr",
     "output_type": "stream",
     "text": [
      "\u001b[32m[I 2023-02-01 17:36:16,157]\u001b[0m Trial 80 finished with value: 0.36458525376437867 and parameters: {'lambda_l1': 2.4832532111344498e-05, 'lambda_l2': 0.48316370249351825, 'num_leaves': 56, 'feature_fraction': 0.8644985192611393, 'bagging_fraction': 0.8369097875625668, 'bagging_freq': 4, 'min_child_samples': 5}. Best is trial 29 with value: 0.3663637912864012.\u001b[0m\n"
     ]
    },
    {
     "name": "stdout",
     "output_type": "stream",
     "text": [
      "[LightGBM] [Warning] feature_fraction is set=0.890624031057923, colsample_bytree=1.0 will be ignored. Current value: feature_fraction=0.890624031057923\n",
      "[LightGBM] [Warning] bagging_freq is set=2, subsample_freq=0 will be ignored. Current value: bagging_freq=2\n",
      "[LightGBM] [Warning] bagging_fraction is set=0.9429335025855711, subsample=1.0 will be ignored. Current value: bagging_fraction=0.9429335025855711\n",
      "[LightGBM] [Warning] lambda_l2 is set=0.09114201797368301, reg_lambda=0.0 will be ignored. Current value: lambda_l2=0.09114201797368301\n",
      "[LightGBM] [Warning] lambda_l1 is set=4.767862142673631e-06, reg_alpha=0.0 will be ignored. Current value: lambda_l1=4.767862142673631e-06\n"
     ]
    },
    {
     "name": "stderr",
     "output_type": "stream",
     "text": [
      "\u001b[32m[I 2023-02-01 17:36:17,217]\u001b[0m Trial 81 finished with value: 0.36364200790426227 and parameters: {'lambda_l1': 4.767862142673631e-06, 'lambda_l2': 0.09114201797368301, 'num_leaves': 91, 'feature_fraction': 0.890624031057923, 'bagging_fraction': 0.9429335025855711, 'bagging_freq': 2, 'min_child_samples': 8}. Best is trial 29 with value: 0.3663637912864012.\u001b[0m\n"
     ]
    },
    {
     "name": "stdout",
     "output_type": "stream",
     "text": [
      "[LightGBM] [Warning] feature_fraction is set=0.8345629755011129, colsample_bytree=1.0 will be ignored. Current value: feature_fraction=0.8345629755011129\n",
      "[LightGBM] [Warning] bagging_freq is set=2, subsample_freq=0 will be ignored. Current value: bagging_freq=2\n",
      "[LightGBM] [Warning] bagging_fraction is set=0.9164386058550441, subsample=1.0 will be ignored. Current value: bagging_fraction=0.9164386058550441\n",
      "[LightGBM] [Warning] lambda_l2 is set=0.15327994056302124, reg_lambda=0.0 will be ignored. Current value: lambda_l2=0.15327994056302124\n",
      "[LightGBM] [Warning] lambda_l1 is set=5.048287586030553e-07, reg_alpha=0.0 will be ignored. Current value: lambda_l1=5.048287586030553e-07\n"
     ]
    },
    {
     "name": "stderr",
     "output_type": "stream",
     "text": [
      "\u001b[32m[I 2023-02-01 17:36:17,979]\u001b[0m Trial 82 finished with value: 0.36407863722970246 and parameters: {'lambda_l1': 5.048287586030553e-07, 'lambda_l2': 0.15327994056302124, 'num_leaves': 97, 'feature_fraction': 0.8345629755011129, 'bagging_fraction': 0.9164386058550441, 'bagging_freq': 2, 'min_child_samples': 8}. Best is trial 29 with value: 0.3663637912864012.\u001b[0m\n"
     ]
    },
    {
     "name": "stdout",
     "output_type": "stream",
     "text": [
      "[LightGBM] [Warning] feature_fraction is set=0.8549595596962245, colsample_bytree=1.0 will be ignored. Current value: feature_fraction=0.8549595596962245\n",
      "[LightGBM] [Warning] bagging_freq is set=2, subsample_freq=0 will be ignored. Current value: bagging_freq=2\n",
      "[LightGBM] [Warning] bagging_fraction is set=0.9761449840419862, subsample=1.0 will be ignored. Current value: bagging_fraction=0.9761449840419862\n",
      "[LightGBM] [Warning] lambda_l2 is set=0.2844689562063932, reg_lambda=0.0 will be ignored. Current value: lambda_l2=0.2844689562063932\n",
      "[LightGBM] [Warning] lambda_l1 is set=1.9333855374237637e-06, reg_alpha=0.0 will be ignored. Current value: lambda_l1=1.9333855374237637e-06\n"
     ]
    },
    {
     "name": "stderr",
     "output_type": "stream",
     "text": [
      "\u001b[32m[I 2023-02-01 17:36:18,634]\u001b[0m Trial 83 finished with value: 0.3638992117379486 and parameters: {'lambda_l1': 1.9333855374237637e-06, 'lambda_l2': 0.2844689562063932, 'num_leaves': 67, 'feature_fraction': 0.8549595596962245, 'bagging_fraction': 0.9761449840419862, 'bagging_freq': 2, 'min_child_samples': 14}. Best is trial 29 with value: 0.3663637912864012.\u001b[0m\n"
     ]
    },
    {
     "name": "stdout",
     "output_type": "stream",
     "text": [
      "[LightGBM] [Warning] feature_fraction is set=0.8774294385122818, colsample_bytree=1.0 will be ignored. Current value: feature_fraction=0.8774294385122818\n",
      "[LightGBM] [Warning] bagging_freq is set=3, subsample_freq=0 will be ignored. Current value: bagging_freq=3\n",
      "[LightGBM] [Warning] bagging_fraction is set=0.9325080800498238, subsample=1.0 will be ignored. Current value: bagging_fraction=0.9325080800498238\n",
      "[LightGBM] [Warning] lambda_l2 is set=0.12333409883913797, reg_lambda=0.0 will be ignored. Current value: lambda_l2=0.12333409883913797\n",
      "[LightGBM] [Warning] lambda_l1 is set=2.3478707534839464e-06, reg_alpha=0.0 will be ignored. Current value: lambda_l1=2.3478707534839464e-06\n"
     ]
    },
    {
     "name": "stderr",
     "output_type": "stream",
     "text": [
      "\u001b[32m[I 2023-02-01 17:36:19,380]\u001b[0m Trial 84 finished with value: 0.36430679525949183 and parameters: {'lambda_l1': 2.3478707534839464e-06, 'lambda_l2': 0.12333409883913797, 'num_leaves': 74, 'feature_fraction': 0.8774294385122818, 'bagging_fraction': 0.9325080800498238, 'bagging_freq': 3, 'min_child_samples': 10}. Best is trial 29 with value: 0.3663637912864012.\u001b[0m\n"
     ]
    },
    {
     "name": "stdout",
     "output_type": "stream",
     "text": [
      "[LightGBM] [Warning] feature_fraction is set=0.8957116489526489, colsample_bytree=1.0 will be ignored. Current value: feature_fraction=0.8957116489526489\n",
      "[LightGBM] [Warning] bagging_freq is set=3, subsample_freq=0 will be ignored. Current value: bagging_freq=3\n",
      "[LightGBM] [Warning] bagging_fraction is set=0.8986020241967586, subsample=1.0 will be ignored. Current value: bagging_fraction=0.8986020241967586\n",
      "[LightGBM] [Warning] lambda_l2 is set=0.022592106822477035, reg_lambda=0.0 will be ignored. Current value: lambda_l2=0.022592106822477035\n",
      "[LightGBM] [Warning] lambda_l1 is set=8.285102571922738e-06, reg_alpha=0.0 will be ignored. Current value: lambda_l1=8.285102571922738e-06\n"
     ]
    },
    {
     "name": "stderr",
     "output_type": "stream",
     "text": [
      "\u001b[32m[I 2023-02-01 17:36:20,375]\u001b[0m Trial 85 finished with value: 0.35867586916828675 and parameters: {'lambda_l1': 8.285102571922738e-06, 'lambda_l2': 0.022592106822477035, 'num_leaves': 85, 'feature_fraction': 0.8957116489526489, 'bagging_fraction': 0.8986020241967586, 'bagging_freq': 3, 'min_child_samples': 56}. Best is trial 29 with value: 0.3663637912864012.\u001b[0m\n"
     ]
    },
    {
     "name": "stdout",
     "output_type": "stream",
     "text": [
      "[LightGBM] [Warning] feature_fraction is set=0.9078768721086686, colsample_bytree=1.0 will be ignored. Current value: feature_fraction=0.9078768721086686\n",
      "[LightGBM] [Warning] bagging_freq is set=3, subsample_freq=0 will be ignored. Current value: bagging_freq=3\n",
      "[LightGBM] [Warning] bagging_fraction is set=0.9561965045026726, subsample=1.0 will be ignored. Current value: bagging_fraction=0.9561965045026726\n",
      "[LightGBM] [Warning] lambda_l2 is set=0.059865638008127435, reg_lambda=0.0 will be ignored. Current value: lambda_l2=0.059865638008127435\n",
      "[LightGBM] [Warning] lambda_l1 is set=7.757697448942819e-07, reg_alpha=0.0 will be ignored. Current value: lambda_l1=7.757697448942819e-07\n"
     ]
    },
    {
     "name": "stderr",
     "output_type": "stream",
     "text": [
      "\u001b[32m[I 2023-02-01 17:36:21,168]\u001b[0m Trial 86 finished with value: 0.3638892189734828 and parameters: {'lambda_l1': 7.757697448942819e-07, 'lambda_l2': 0.059865638008127435, 'num_leaves': 63, 'feature_fraction': 0.9078768721086686, 'bagging_fraction': 0.9561965045026726, 'bagging_freq': 3, 'min_child_samples': 7}. Best is trial 29 with value: 0.3663637912864012.\u001b[0m\n"
     ]
    },
    {
     "name": "stdout",
     "output_type": "stream",
     "text": [
      "[LightGBM] [Warning] feature_fraction is set=0.8659107993001292, colsample_bytree=1.0 will be ignored. Current value: feature_fraction=0.8659107993001292\n",
      "[LightGBM] [Warning] bagging_freq is set=2, subsample_freq=0 will be ignored. Current value: bagging_freq=2\n",
      "[LightGBM] [Warning] bagging_fraction is set=0.8572454193702927, subsample=1.0 will be ignored. Current value: bagging_fraction=0.8572454193702927\n",
      "[LightGBM] [Warning] lambda_l2 is set=0.036716425445967385, reg_lambda=0.0 will be ignored. Current value: lambda_l2=0.036716425445967385\n",
      "[LightGBM] [Warning] lambda_l1 is set=3.5487902450439884e-06, reg_alpha=0.0 will be ignored. Current value: lambda_l1=3.5487902450439884e-06\n"
     ]
    },
    {
     "name": "stderr",
     "output_type": "stream",
     "text": [
      "\u001b[32m[I 2023-02-01 17:36:21,943]\u001b[0m Trial 87 finished with value: 0.3639273405451562 and parameters: {'lambda_l1': 3.5487902450439884e-06, 'lambda_l2': 0.036716425445967385, 'num_leaves': 76, 'feature_fraction': 0.8659107993001292, 'bagging_fraction': 0.8572454193702927, 'bagging_freq': 2, 'min_child_samples': 12}. Best is trial 29 with value: 0.3663637912864012.\u001b[0m\n"
     ]
    },
    {
     "name": "stdout",
     "output_type": "stream",
     "text": [
      "[LightGBM] [Warning] feature_fraction is set=0.8300995951535343, colsample_bytree=1.0 will be ignored. Current value: feature_fraction=0.8300995951535343\n",
      "[LightGBM] [Warning] bagging_freq is set=4, subsample_freq=0 will be ignored. Current value: bagging_freq=4\n",
      "[LightGBM] [Warning] bagging_fraction is set=0.9839409152383973, subsample=1.0 will be ignored. Current value: bagging_fraction=0.9839409152383973\n",
      "[LightGBM] [Warning] lambda_l2 is set=0.7940400482214778, reg_lambda=0.0 will be ignored. Current value: lambda_l2=0.7940400482214778\n",
      "[LightGBM] [Warning] lambda_l1 is set=1.3131916512563456e-05, reg_alpha=0.0 will be ignored. Current value: lambda_l1=1.3131916512563456e-05\n"
     ]
    },
    {
     "name": "stderr",
     "output_type": "stream",
     "text": [
      "\u001b[32m[I 2023-02-01 17:36:22,973]\u001b[0m Trial 88 finished with value: 0.36240441301816095 and parameters: {'lambda_l1': 1.3131916512563456e-05, 'lambda_l2': 0.7940400482214778, 'num_leaves': 119, 'feature_fraction': 0.8300995951535343, 'bagging_fraction': 0.9839409152383973, 'bagging_freq': 4, 'min_child_samples': 17}. Best is trial 29 with value: 0.3663637912864012.\u001b[0m\n"
     ]
    },
    {
     "name": "stdout",
     "output_type": "stream",
     "text": [
      "[LightGBM] [Warning] feature_fraction is set=0.8882081121918817, colsample_bytree=1.0 will be ignored. Current value: feature_fraction=0.8882081121918817\n",
      "[LightGBM] [Warning] bagging_freq is set=2, subsample_freq=0 will be ignored. Current value: bagging_freq=2\n",
      "[LightGBM] [Warning] bagging_fraction is set=0.8773415449188338, subsample=1.0 will be ignored. Current value: bagging_fraction=0.8773415449188338\n",
      "[LightGBM] [Warning] lambda_l2 is set=0.31755497572629093, reg_lambda=0.0 will be ignored. Current value: lambda_l2=0.31755497572629093\n",
      "[LightGBM] [Warning] lambda_l1 is set=7.413829793606119e-05, reg_alpha=0.0 will be ignored. Current value: lambda_l1=7.413829793606119e-05\n"
     ]
    },
    {
     "name": "stderr",
     "output_type": "stream",
     "text": [
      "\u001b[32m[I 2023-02-01 17:36:23,549]\u001b[0m Trial 89 finished with value: 0.3652623913023155 and parameters: {'lambda_l1': 7.413829793606119e-05, 'lambda_l2': 0.31755497572629093, 'num_leaves': 45, 'feature_fraction': 0.8882081121918817, 'bagging_fraction': 0.8773415449188338, 'bagging_freq': 2, 'min_child_samples': 7}. Best is trial 29 with value: 0.3663637912864012.\u001b[0m\n"
     ]
    },
    {
     "name": "stdout",
     "output_type": "stream",
     "text": [
      "[LightGBM] [Warning] feature_fraction is set=0.9314612872811975, colsample_bytree=1.0 will be ignored. Current value: feature_fraction=0.9314612872811975\n",
      "[LightGBM] [Warning] bagging_freq is set=5, subsample_freq=0 will be ignored. Current value: bagging_freq=5\n",
      "[LightGBM] [Warning] bagging_fraction is set=0.8943494278271376, subsample=1.0 will be ignored. Current value: bagging_fraction=0.8943494278271376\n",
      "[LightGBM] [Warning] lambda_l2 is set=0.15248926856874992, reg_lambda=0.0 will be ignored. Current value: lambda_l2=0.15248926856874992\n",
      "[LightGBM] [Warning] lambda_l1 is set=2.9262047751129367e-07, reg_alpha=0.0 will be ignored. Current value: lambda_l1=2.9262047751129367e-07\n"
     ]
    },
    {
     "name": "stderr",
     "output_type": "stream",
     "text": [
      "\u001b[32m[I 2023-02-01 17:36:24,259]\u001b[0m Trial 90 finished with value: 0.36531787715793607 and parameters: {'lambda_l1': 2.9262047751129367e-07, 'lambda_l2': 0.15248926856874992, 'num_leaves': 54, 'feature_fraction': 0.9314612872811975, 'bagging_fraction': 0.8943494278271376, 'bagging_freq': 5, 'min_child_samples': 10}. Best is trial 29 with value: 0.3663637912864012.\u001b[0m\n"
     ]
    },
    {
     "name": "stdout",
     "output_type": "stream",
     "text": [
      "[LightGBM] [Warning] feature_fraction is set=0.9132250765776547, colsample_bytree=1.0 will be ignored. Current value: feature_fraction=0.9132250765776547\n",
      "[LightGBM] [Warning] bagging_freq is set=4, subsample_freq=0 will be ignored. Current value: bagging_freq=4\n",
      "[LightGBM] [Warning] bagging_fraction is set=0.8816548278406092, subsample=1.0 will be ignored. Current value: bagging_fraction=0.8816548278406092\n",
      "[LightGBM] [Warning] lambda_l2 is set=0.018377626962556046, reg_lambda=0.0 will be ignored. Current value: lambda_l2=0.018377626962556046\n",
      "[LightGBM] [Warning] lambda_l1 is set=4.344206146043435e-06, reg_alpha=0.0 will be ignored. Current value: lambda_l1=4.344206146043435e-06\n"
     ]
    },
    {
     "name": "stderr",
     "output_type": "stream",
     "text": [
      "\u001b[32m[I 2023-02-01 17:36:24,923]\u001b[0m Trial 91 finished with value: 0.36532271399092886 and parameters: {'lambda_l1': 4.344206146043435e-06, 'lambda_l2': 0.018377626962556046, 'num_leaves': 71, 'feature_fraction': 0.9132250765776547, 'bagging_fraction': 0.8816548278406092, 'bagging_freq': 4, 'min_child_samples': 5}. Best is trial 29 with value: 0.3663637912864012.\u001b[0m\n"
     ]
    },
    {
     "name": "stdout",
     "output_type": "stream",
     "text": [
      "[LightGBM] [Warning] feature_fraction is set=0.9541585015661413, colsample_bytree=1.0 will be ignored. Current value: feature_fraction=0.9541585015661413\n",
      "[LightGBM] [Warning] bagging_freq is set=4, subsample_freq=0 will be ignored. Current value: bagging_freq=4\n",
      "[LightGBM] [Warning] bagging_fraction is set=0.9103202082475172, subsample=1.0 will be ignored. Current value: bagging_fraction=0.9103202082475172\n",
      "[LightGBM] [Warning] lambda_l2 is set=0.08083787996307694, reg_lambda=0.0 will be ignored. Current value: lambda_l2=0.08083787996307694\n",
      "[LightGBM] [Warning] lambda_l1 is set=1.9896278652120316e-05, reg_alpha=0.0 will be ignored. Current value: lambda_l1=1.9896278652120316e-05\n"
     ]
    },
    {
     "name": "stderr",
     "output_type": "stream",
     "text": [
      "\u001b[32m[I 2023-02-01 17:36:25,656]\u001b[0m Trial 92 finished with value: 0.36374505923558387 and parameters: {'lambda_l1': 1.9896278652120316e-05, 'lambda_l2': 0.08083787996307694, 'num_leaves': 83, 'feature_fraction': 0.9541585015661413, 'bagging_fraction': 0.9103202082475172, 'bagging_freq': 4, 'min_child_samples': 12}. Best is trial 29 with value: 0.3663637912864012.\u001b[0m\n"
     ]
    },
    {
     "name": "stdout",
     "output_type": "stream",
     "text": [
      "[LightGBM] [Warning] feature_fraction is set=0.9292385793160908, colsample_bytree=1.0 will be ignored. Current value: feature_fraction=0.9292385793160908\n",
      "[LightGBM] [Warning] bagging_freq is set=4, subsample_freq=0 will be ignored. Current value: bagging_freq=4\n",
      "[LightGBM] [Warning] bagging_fraction is set=0.9506589484780757, subsample=1.0 will be ignored. Current value: bagging_fraction=0.9506589484780757\n",
      "[LightGBM] [Warning] lambda_l2 is set=0.041299209293582405, reg_lambda=0.0 will be ignored. Current value: lambda_l2=0.041299209293582405\n",
      "[LightGBM] [Warning] lambda_l1 is set=1.349387728617616e-06, reg_alpha=0.0 will be ignored. Current value: lambda_l1=1.349387728617616e-06\n"
     ]
    },
    {
     "name": "stderr",
     "output_type": "stream",
     "text": [
      "\u001b[32m[I 2023-02-01 17:36:26,468]\u001b[0m Trial 93 finished with value: 0.3607793075824218 and parameters: {'lambda_l1': 1.349387728617616e-06, 'lambda_l2': 0.041299209293582405, 'num_leaves': 60, 'feature_fraction': 0.9292385793160908, 'bagging_fraction': 0.9506589484780757, 'bagging_freq': 4, 'min_child_samples': 21}. Best is trial 29 with value: 0.3663637912864012.\u001b[0m\n"
     ]
    },
    {
     "name": "stdout",
     "output_type": "stream",
     "text": [
      "[LightGBM] [Warning] feature_fraction is set=0.8776554828198739, colsample_bytree=1.0 will be ignored. Current value: feature_fraction=0.8776554828198739\n",
      "[LightGBM] [Warning] bagging_freq is set=4, subsample_freq=0 will be ignored. Current value: bagging_freq=4\n",
      "[LightGBM] [Warning] bagging_fraction is set=0.8547821504362393, subsample=1.0 will be ignored. Current value: bagging_fraction=0.8547821504362393\n",
      "[LightGBM] [Warning] lambda_l2 is set=0.015167332982067204, reg_lambda=0.0 will be ignored. Current value: lambda_l2=0.015167332982067204\n",
      "[LightGBM] [Warning] lambda_l1 is set=2.695157635421643e-06, reg_alpha=0.0 will be ignored. Current value: lambda_l1=2.695157635421643e-06\n"
     ]
    },
    {
     "name": "stderr",
     "output_type": "stream",
     "text": [
      "\u001b[32m[I 2023-02-01 17:36:27,448]\u001b[0m Trial 94 finished with value: 0.36054897801737373 and parameters: {'lambda_l1': 2.695157635421643e-06, 'lambda_l2': 0.015167332982067204, 'num_leaves': 93, 'feature_fraction': 0.8776554828198739, 'bagging_fraction': 0.8547821504362393, 'bagging_freq': 4, 'min_child_samples': 14}. Best is trial 29 with value: 0.3663637912864012.\u001b[0m\n"
     ]
    },
    {
     "name": "stdout",
     "output_type": "stream",
     "text": [
      "[LightGBM] [Warning] feature_fraction is set=0.8470182298357044, colsample_bytree=1.0 will be ignored. Current value: feature_fraction=0.8470182298357044\n",
      "[LightGBM] [Warning] bagging_freq is set=3, subsample_freq=0 will be ignored. Current value: bagging_freq=3\n",
      "[LightGBM] [Warning] bagging_fraction is set=0.924471042632832, subsample=1.0 will be ignored. Current value: bagging_fraction=0.924471042632832\n",
      "[LightGBM] [Warning] lambda_l2 is set=0.008646434706817056, reg_lambda=0.0 will be ignored. Current value: lambda_l2=0.008646434706817056\n",
      "[LightGBM] [Warning] lambda_l1 is set=9.274431797945255e-06, reg_alpha=0.0 will be ignored. Current value: lambda_l1=9.274431797945255e-06\n"
     ]
    },
    {
     "name": "stderr",
     "output_type": "stream",
     "text": [
      "\u001b[32m[I 2023-02-01 17:36:28,342]\u001b[0m Trial 95 finished with value: 0.36394465047449875 and parameters: {'lambda_l1': 9.274431797945255e-06, 'lambda_l2': 0.008646434706817056, 'num_leaves': 101, 'feature_fraction': 0.8470182298357044, 'bagging_fraction': 0.924471042632832, 'bagging_freq': 3, 'min_child_samples': 9}. Best is trial 29 with value: 0.3663637912864012.\u001b[0m\n"
     ]
    },
    {
     "name": "stdout",
     "output_type": "stream",
     "text": [
      "[LightGBM] [Warning] feature_fraction is set=0.9088780144890292, colsample_bytree=1.0 will be ignored. Current value: feature_fraction=0.9088780144890292\n",
      "[LightGBM] [Warning] bagging_freq is set=3, subsample_freq=0 will be ignored. Current value: bagging_freq=3\n",
      "[LightGBM] [Warning] bagging_fraction is set=0.984028028458456, subsample=1.0 will be ignored. Current value: bagging_fraction=0.984028028458456\n",
      "[LightGBM] [Warning] lambda_l2 is set=0.10795478005573098, reg_lambda=0.0 will be ignored. Current value: lambda_l2=0.10795478005573098\n",
      "[LightGBM] [Warning] lambda_l1 is set=4.015413772037329e-05, reg_alpha=0.0 will be ignored. Current value: lambda_l1=4.015413772037329e-05\n"
     ]
    },
    {
     "name": "stderr",
     "output_type": "stream",
     "text": [
      "\u001b[32m[I 2023-02-01 17:36:29,165]\u001b[0m Trial 96 finished with value: 0.36604935239394754 and parameters: {'lambda_l1': 4.015413772037329e-05, 'lambda_l2': 0.10795478005573098, 'num_leaves': 66, 'feature_fraction': 0.9088780144890292, 'bagging_fraction': 0.984028028458456, 'bagging_freq': 3, 'min_child_samples': 7}. Best is trial 29 with value: 0.3663637912864012.\u001b[0m\n"
     ]
    },
    {
     "name": "stdout",
     "output_type": "stream",
     "text": [
      "[LightGBM] [Warning] feature_fraction is set=0.8973739890694136, colsample_bytree=1.0 will be ignored. Current value: feature_fraction=0.8973739890694136\n",
      "[LightGBM] [Warning] bagging_freq is set=3, subsample_freq=0 will be ignored. Current value: bagging_freq=3\n",
      "[LightGBM] [Warning] bagging_fraction is set=0.9873896175394791, subsample=1.0 will be ignored. Current value: bagging_fraction=0.9873896175394791\n",
      "[LightGBM] [Warning] lambda_l2 is set=0.4174215091674229, reg_lambda=0.0 will be ignored. Current value: lambda_l2=0.4174215091674229\n",
      "[LightGBM] [Warning] lambda_l1 is set=3.415703473842961e-05, reg_alpha=0.0 will be ignored. Current value: lambda_l1=3.415703473842961e-05\n"
     ]
    },
    {
     "name": "stderr",
     "output_type": "stream",
     "text": [
      "\u001b[32m[I 2023-02-01 17:36:30,083]\u001b[0m Trial 97 finished with value: 0.3576480082150536 and parameters: {'lambda_l1': 3.415703473842961e-05, 'lambda_l2': 0.4174215091674229, 'num_leaves': 66, 'feature_fraction': 0.8973739890694136, 'bagging_fraction': 0.9873896175394791, 'bagging_freq': 3, 'min_child_samples': 86}. Best is trial 29 with value: 0.3663637912864012.\u001b[0m\n"
     ]
    },
    {
     "name": "stdout",
     "output_type": "stream",
     "text": [
      "[LightGBM] [Warning] feature_fraction is set=0.8567601342754407, colsample_bytree=1.0 will be ignored. Current value: feature_fraction=0.8567601342754407\n",
      "[LightGBM] [Warning] bagging_freq is set=3, subsample_freq=0 will be ignored. Current value: bagging_freq=3\n",
      "[LightGBM] [Warning] bagging_fraction is set=0.9678156723066101, subsample=1.0 will be ignored. Current value: bagging_fraction=0.9678156723066101\n",
      "[LightGBM] [Warning] lambda_l2 is set=0.10011293204404087, reg_lambda=0.0 will be ignored. Current value: lambda_l2=0.10011293204404087\n",
      "[LightGBM] [Warning] lambda_l1 is set=4.7439860058868224e-05, reg_alpha=0.0 will be ignored. Current value: lambda_l1=4.7439860058868224e-05\n"
     ]
    },
    {
     "name": "stderr",
     "output_type": "stream",
     "text": [
      "\u001b[32m[I 2023-02-01 17:36:30,704]\u001b[0m Trial 98 finished with value: 0.36704216235672615 and parameters: {'lambda_l1': 4.7439860058868224e-05, 'lambda_l2': 0.10011293204404087, 'num_leaves': 77, 'feature_fraction': 0.8567601342754407, 'bagging_fraction': 0.9678156723066101, 'bagging_freq': 3, 'min_child_samples': 7}. Best is trial 98 with value: 0.36704216235672615.\u001b[0m\n"
     ]
    },
    {
     "name": "stdout",
     "output_type": "stream",
     "text": [
      "[LightGBM] [Warning] feature_fraction is set=0.858134884963075, colsample_bytree=1.0 will be ignored. Current value: feature_fraction=0.858134884963075\n",
      "[LightGBM] [Warning] bagging_freq is set=3, subsample_freq=0 will be ignored. Current value: bagging_freq=3\n",
      "[LightGBM] [Warning] bagging_fraction is set=0.9676104320647337, subsample=1.0 will be ignored. Current value: bagging_fraction=0.9676104320647337\n",
      "[LightGBM] [Warning] lambda_l2 is set=0.2136396705531929, reg_lambda=0.0 will be ignored. Current value: lambda_l2=0.2136396705531929\n",
      "[LightGBM] [Warning] lambda_l1 is set=0.00018090292316826976, reg_alpha=0.0 will be ignored. Current value: lambda_l1=0.00018090292316826976\n"
     ]
    },
    {
     "name": "stderr",
     "output_type": "stream",
     "text": [
      "\u001b[32m[I 2023-02-01 17:36:31,263]\u001b[0m Trial 99 finished with value: 0.36568878500961066 and parameters: {'lambda_l1': 0.00018090292316826976, 'lambda_l2': 0.2136396705531929, 'num_leaves': 51, 'feature_fraction': 0.858134884963075, 'bagging_fraction': 0.9676104320647337, 'bagging_freq': 3, 'min_child_samples': 16}. Best is trial 98 with value: 0.36704216235672615.\u001b[0m\n"
     ]
    },
    {
     "name": "stdout",
     "output_type": "stream",
     "text": [
      "FrozenTrial(number=98, state=TrialState.COMPLETE, values=[0.36704216235672615], datetime_start=datetime.datetime(2023, 2, 1, 17, 36, 30, 85627), datetime_complete=datetime.datetime(2023, 2, 1, 17, 36, 30, 704218), params={'lambda_l1': 4.7439860058868224e-05, 'lambda_l2': 0.10011293204404087, 'num_leaves': 77, 'feature_fraction': 0.8567601342754407, 'bagging_fraction': 0.9678156723066101, 'bagging_freq': 3, 'min_child_samples': 7}, user_attrs={}, system_attrs={}, intermediate_values={}, distributions={'lambda_l1': FloatDistribution(high=10.0, log=True, low=1e-08, step=None), 'lambda_l2': FloatDistribution(high=10.0, log=True, low=1e-08, step=None), 'num_leaves': IntDistribution(high=256, log=False, low=2, step=1), 'feature_fraction': FloatDistribution(high=1.0, log=False, low=0.4, step=None), 'bagging_fraction': FloatDistribution(high=1.0, log=False, low=0.4, step=None), 'bagging_freq': IntDistribution(high=7, log=False, low=1, step=1), 'min_child_samples': IntDistribution(high=100, log=False, low=5, step=1)}, trial_id=98, value=None)\n"
     ]
    }
   ],
   "source": [
    "study = optuna.create_study(direction='maximize')\n",
    "study.optimize(objective, n_trials=100)\n",
    "trial = study.best_trial\n",
    "print(trial)"
   ]
  },
  {
   "cell_type": "code",
   "execution_count": 67,
   "id": "08712c18-a18b-4062-84a4-ed429b813fb3",
   "metadata": {},
   "outputs": [
    {
     "name": "stdout",
     "output_type": "stream",
     "text": [
      "[LightGBM] [Warning] bagging_fraction is set=0.9678156723066101, subsample=1.0 will be ignored. Current value: bagging_fraction=0.9678156723066101\n",
      "[LightGBM] [Warning] feature_fraction is set=0.8567601342754407, colsample_bytree=1.0 will be ignored. Current value: feature_fraction=0.8567601342754407\n",
      "[LightGBM] [Warning] bagging_freq is set=3, subsample_freq=0 will be ignored. Current value: bagging_freq=3\n",
      "[LightGBM] [Warning] lambda_l2 is set=0.10011293204404087, reg_lambda=0.0 will be ignored. Current value: lambda_l2=0.10011293204404087\n",
      "[LightGBM] [Warning] lambda_l1 is set=4.7439860058868224e-05, reg_alpha=0.0 will be ignored. Current value: lambda_l1=4.7439860058868224e-05\n"
     ]
    },
    {
     "data": {
      "text/plain": [
       "array([0.32213863, 0.24985922, 0.20202836, ..., 0.21685636, 0.22131903,\n",
       "       0.60354068])"
      ]
     },
     "execution_count": 67,
     "metadata": {},
     "output_type": "execute_result"
    }
   ],
   "source": [
    "params={'lambda_l1': 4.7439860058868224e-05, 'lambda_l2': 0.10011293204404087,\n",
    "        'num_leaves': 77, 'feature_fraction': 0.8567601342754407, \n",
    "        'bagging_fraction': 0.9678156723066101, \n",
    "        'bagging_freq': 3, 'min_child_samples': 7}\n",
    "\n",
    "lgbm_model = LGBMRegressor(**params)\n",
    "\n",
    "lgbm_model.fit(X_train, y_train)\n",
    "\n",
    "lgbm_preds = lgbm_model.predict(X_test)\n",
    "\n",
    "lgbm_preds"
   ]
  },
  {
   "cell_type": "code",
   "execution_count": 68,
   "id": "9361902e-7086-412f-85d1-825c4cc99898",
   "metadata": {},
   "outputs": [
    {
     "data": {
      "text/plain": [
       "(0.6059271964269877, 0.0)"
      ]
     },
     "execution_count": 68,
     "metadata": {},
     "output_type": "execute_result"
    }
   ],
   "source": [
    "stats.pearsonr(y_test.values, lgbm_preds)"
   ]
  },
  {
   "cell_type": "code",
   "execution_count": null,
   "id": "8d9384ef-ccd3-4091-9ea3-fcb97b4af842",
   "metadata": {},
   "outputs": [],
   "source": []
  }
 ],
 "metadata": {
  "kernelspec": {
   "display_name": "Python 3",
   "language": "python",
   "name": "python3"
  },
  "language_info": {
   "codemirror_mode": {
    "name": "ipython",
    "version": 3
   },
   "file_extension": ".py",
   "mimetype": "text/x-python",
   "name": "python",
   "nbconvert_exporter": "python",
   "pygments_lexer": "ipython3",
   "version": "3.8.8"
  }
 },
 "nbformat": 4,
 "nbformat_minor": 5
}
