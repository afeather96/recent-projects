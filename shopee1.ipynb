{
 "cells": [
  {
   "cell_type": "code",
   "execution_count": 1,
   "id": "7b9bf54c-3f29-43a5-8f41-bbf56acb9dd6",
   "metadata": {},
   "outputs": [],
   "source": [
    "import pandas as pd\n",
    "import numpy as np\n",
    "import matplotlib.pyplot as plt\n",
    "import seaborn as sns\n",
    "import os"
   ]
  },
  {
   "cell_type": "code",
   "execution_count": 2,
   "id": "e60fc809-087e-4ccf-946e-58e7e8b977ff",
   "metadata": {},
   "outputs": [
    {
     "data": {
      "text/plain": [
       "['test_images',\n",
       " 'test.csv',\n",
       " 'train.csv',\n",
       " 'train_images',\n",
       " 'sample_submission.csv']"
      ]
     },
     "execution_count": 2,
     "metadata": {},
     "output_type": "execute_result"
    }
   ],
   "source": [
    "os.listdir('/Users/alecclarkfeather/Downloads/shopee/')"
   ]
  },
  {
   "cell_type": "code",
   "execution_count": 3,
   "id": "bd4257a4-18d7-42a3-be26-55e9f938c3d4",
   "metadata": {},
   "outputs": [],
   "source": [
    "data_dir = '/Users/alecclarkfeather/Downloads/shopee/'"
   ]
  },
  {
   "cell_type": "code",
   "execution_count": 4,
   "id": "7f794b5d-edd2-428f-b9ce-c698a168b3c9",
   "metadata": {},
   "outputs": [
    {
     "data": {
      "text/html": [
       "<div>\n",
       "<style scoped>\n",
       "    .dataframe tbody tr th:only-of-type {\n",
       "        vertical-align: middle;\n",
       "    }\n",
       "\n",
       "    .dataframe tbody tr th {\n",
       "        vertical-align: top;\n",
       "    }\n",
       "\n",
       "    .dataframe thead th {\n",
       "        text-align: right;\n",
       "    }\n",
       "</style>\n",
       "<table border=\"1\" class=\"dataframe\">\n",
       "  <thead>\n",
       "    <tr style=\"text-align: right;\">\n",
       "      <th></th>\n",
       "      <th>posting_id</th>\n",
       "      <th>image</th>\n",
       "      <th>image_phash</th>\n",
       "      <th>title</th>\n",
       "      <th>label_group</th>\n",
       "    </tr>\n",
       "  </thead>\n",
       "  <tbody>\n",
       "    <tr>\n",
       "      <th>0</th>\n",
       "      <td>train_129225211</td>\n",
       "      <td>0000a68812bc7e98c42888dfb1c07da0.jpg</td>\n",
       "      <td>94974f937d4c2433</td>\n",
       "      <td>Paper Bag Victoria Secret</td>\n",
       "      <td>249114794</td>\n",
       "    </tr>\n",
       "    <tr>\n",
       "      <th>1</th>\n",
       "      <td>train_3386243561</td>\n",
       "      <td>00039780dfc94d01db8676fe789ecd05.jpg</td>\n",
       "      <td>af3f9460c2838f0f</td>\n",
       "      <td>Double Tape 3M VHB 12 mm x 4,5 m ORIGINAL / DO...</td>\n",
       "      <td>2937985045</td>\n",
       "    </tr>\n",
       "    <tr>\n",
       "      <th>2</th>\n",
       "      <td>train_2288590299</td>\n",
       "      <td>000a190fdd715a2a36faed16e2c65df7.jpg</td>\n",
       "      <td>b94cb00ed3e50f78</td>\n",
       "      <td>Maling TTS Canned Pork Luncheon Meat 397 gr</td>\n",
       "      <td>2395904891</td>\n",
       "    </tr>\n",
       "    <tr>\n",
       "      <th>3</th>\n",
       "      <td>train_2406599165</td>\n",
       "      <td>00117e4fc239b1b641ff08340b429633.jpg</td>\n",
       "      <td>8514fc58eafea283</td>\n",
       "      <td>Daster Batik Lengan pendek - Motif Acak / Camp...</td>\n",
       "      <td>4093212188</td>\n",
       "    </tr>\n",
       "    <tr>\n",
       "      <th>4</th>\n",
       "      <td>train_3369186413</td>\n",
       "      <td>00136d1cf4edede0203f32f05f660588.jpg</td>\n",
       "      <td>a6f319f924ad708c</td>\n",
       "      <td>Nescafe \\xc3\\x89clair Latte 220ml</td>\n",
       "      <td>3648931069</td>\n",
       "    </tr>\n",
       "    <tr>\n",
       "      <th>5</th>\n",
       "      <td>train_2464356923</td>\n",
       "      <td>0013e7355ffc5ff8fb1ccad3e42d92fe.jpg</td>\n",
       "      <td>bbd097a7870f4a50</td>\n",
       "      <td>CELANA WANITA  (BB 45-84 KG)Harem wanita (bisa...</td>\n",
       "      <td>2660605217</td>\n",
       "    </tr>\n",
       "    <tr>\n",
       "      <th>6</th>\n",
       "      <td>train_1802986387</td>\n",
       "      <td>00144a49c56599d45354a1c28104c039.jpg</td>\n",
       "      <td>f815c9bb833ab4c8</td>\n",
       "      <td>Jubah anak size 1-12 thn</td>\n",
       "      <td>1835033137</td>\n",
       "    </tr>\n",
       "    <tr>\n",
       "      <th>7</th>\n",
       "      <td>train_1806152124</td>\n",
       "      <td>0014f61389cbaa687a58e38a97b6383d.jpg</td>\n",
       "      <td>eea7e1c0c04da33d</td>\n",
       "      <td>KULOT PLISKET SALUR /CANDY PLISKET /WISH KULOT...</td>\n",
       "      <td>1565741687</td>\n",
       "    </tr>\n",
       "    <tr>\n",
       "      <th>8</th>\n",
       "      <td>train_86570404</td>\n",
       "      <td>0019a3c6755a194cb2e2c12bfc63972e.jpg</td>\n",
       "      <td>ea9af4f483249972</td>\n",
       "      <td>[LOGU] Tempelan kulkas magnet angka, tempelan ...</td>\n",
       "      <td>2359912463</td>\n",
       "    </tr>\n",
       "    <tr>\n",
       "      <th>9</th>\n",
       "      <td>train_831680791</td>\n",
       "      <td>001be52b2beec40ddc1d2d7fc7a68f08.jpg</td>\n",
       "      <td>e1ce953d1a70618f</td>\n",
       "      <td>BIG SALE SEPATU PANTOFEL KULIT KEREN KERJA KAN...</td>\n",
       "      <td>2630990665</td>\n",
       "    </tr>\n",
       "    <tr>\n",
       "      <th>10</th>\n",
       "      <td>train_1598329973</td>\n",
       "      <td>001d7f5d9a2fac714f4d5f37b3baffb4.jpg</td>\n",
       "      <td>bec8d09693634b4b</td>\n",
       "      <td>Atasan Rajut Wanita LISDIA SWEATER</td>\n",
       "      <td>2462407944</td>\n",
       "    </tr>\n",
       "    <tr>\n",
       "      <th>11</th>\n",
       "      <td>train_2496690777</td>\n",
       "      <td>001e11145b8e9bf5ac51110c0fdd8697.jpg</td>\n",
       "      <td>eab5c295966ac368</td>\n",
       "      <td>PASHMINA KUSUT RAWIS POLOS CRINKLE SHAWL MURAH...</td>\n",
       "      <td>509010932</td>\n",
       "    </tr>\n",
       "    <tr>\n",
       "      <th>12</th>\n",
       "      <td>train_2771755203</td>\n",
       "      <td>001e11145b8e9bf5ac51110c0fdd8697.jpg</td>\n",
       "      <td>eab5c295966ac368</td>\n",
       "      <td>PASHMINA KUSUT RAWIS POLOS CRINKLE SHAWL MURAH...</td>\n",
       "      <td>509010932</td>\n",
       "    </tr>\n",
       "    <tr>\n",
       "      <th>13</th>\n",
       "      <td>train_998568945</td>\n",
       "      <td>001f4c8331d0554d133b10d85b7fafb2.jpg</td>\n",
       "      <td>d8a6082bb93d2db5</td>\n",
       "      <td>Lampu led t5 Speedometer Dashboard Motor Mobil...</td>\n",
       "      <td>4206465630</td>\n",
       "    </tr>\n",
       "    <tr>\n",
       "      <th>14</th>\n",
       "      <td>train_4287573913</td>\n",
       "      <td>001f5580b058c6b8e33132190a757318.jpg</td>\n",
       "      <td>dc85e1750687f932</td>\n",
       "      <td>Charger VIZZ VZ-TC11 / batok charger vizz 1A O...</td>\n",
       "      <td>1932232224</td>\n",
       "    </tr>\n",
       "  </tbody>\n",
       "</table>\n",
       "</div>"
      ],
      "text/plain": [
       "          posting_id                                 image       image_phash  \\\n",
       "0    train_129225211  0000a68812bc7e98c42888dfb1c07da0.jpg  94974f937d4c2433   \n",
       "1   train_3386243561  00039780dfc94d01db8676fe789ecd05.jpg  af3f9460c2838f0f   \n",
       "2   train_2288590299  000a190fdd715a2a36faed16e2c65df7.jpg  b94cb00ed3e50f78   \n",
       "3   train_2406599165  00117e4fc239b1b641ff08340b429633.jpg  8514fc58eafea283   \n",
       "4   train_3369186413  00136d1cf4edede0203f32f05f660588.jpg  a6f319f924ad708c   \n",
       "5   train_2464356923  0013e7355ffc5ff8fb1ccad3e42d92fe.jpg  bbd097a7870f4a50   \n",
       "6   train_1802986387  00144a49c56599d45354a1c28104c039.jpg  f815c9bb833ab4c8   \n",
       "7   train_1806152124  0014f61389cbaa687a58e38a97b6383d.jpg  eea7e1c0c04da33d   \n",
       "8     train_86570404  0019a3c6755a194cb2e2c12bfc63972e.jpg  ea9af4f483249972   \n",
       "9    train_831680791  001be52b2beec40ddc1d2d7fc7a68f08.jpg  e1ce953d1a70618f   \n",
       "10  train_1598329973  001d7f5d9a2fac714f4d5f37b3baffb4.jpg  bec8d09693634b4b   \n",
       "11  train_2496690777  001e11145b8e9bf5ac51110c0fdd8697.jpg  eab5c295966ac368   \n",
       "12  train_2771755203  001e11145b8e9bf5ac51110c0fdd8697.jpg  eab5c295966ac368   \n",
       "13   train_998568945  001f4c8331d0554d133b10d85b7fafb2.jpg  d8a6082bb93d2db5   \n",
       "14  train_4287573913  001f5580b058c6b8e33132190a757318.jpg  dc85e1750687f932   \n",
       "\n",
       "                                                title  label_group  \n",
       "0                           Paper Bag Victoria Secret    249114794  \n",
       "1   Double Tape 3M VHB 12 mm x 4,5 m ORIGINAL / DO...   2937985045  \n",
       "2         Maling TTS Canned Pork Luncheon Meat 397 gr   2395904891  \n",
       "3   Daster Batik Lengan pendek - Motif Acak / Camp...   4093212188  \n",
       "4                   Nescafe \\xc3\\x89clair Latte 220ml   3648931069  \n",
       "5   CELANA WANITA  (BB 45-84 KG)Harem wanita (bisa...   2660605217  \n",
       "6                            Jubah anak size 1-12 thn   1835033137  \n",
       "7   KULOT PLISKET SALUR /CANDY PLISKET /WISH KULOT...   1565741687  \n",
       "8   [LOGU] Tempelan kulkas magnet angka, tempelan ...   2359912463  \n",
       "9   BIG SALE SEPATU PANTOFEL KULIT KEREN KERJA KAN...   2630990665  \n",
       "10                 Atasan Rajut Wanita LISDIA SWEATER   2462407944  \n",
       "11  PASHMINA KUSUT RAWIS POLOS CRINKLE SHAWL MURAH...    509010932  \n",
       "12  PASHMINA KUSUT RAWIS POLOS CRINKLE SHAWL MURAH...    509010932  \n",
       "13  Lampu led t5 Speedometer Dashboard Motor Mobil...   4206465630  \n",
       "14  Charger VIZZ VZ-TC11 / batok charger vizz 1A O...   1932232224  "
      ]
     },
     "execution_count": 4,
     "metadata": {},
     "output_type": "execute_result"
    }
   ],
   "source": [
    "train_df = pd.read_csv(data_dir + 'train.csv')\n",
    "train_df.head(15)"
   ]
  },
  {
   "cell_type": "code",
   "execution_count": 5,
   "id": "e06f41e0-cff2-4ce1-9d20-16d469121816",
   "metadata": {},
   "outputs": [
    {
     "data": {
      "text/plain": [
       "(34250, 5)"
      ]
     },
     "execution_count": 5,
     "metadata": {},
     "output_type": "execute_result"
    }
   ],
   "source": [
    "train_df.shape"
   ]
  },
  {
   "cell_type": "code",
   "execution_count": 6,
   "id": "bd4ffdfb-2ef9-4e41-8cdf-a42745c0e338",
   "metadata": {},
   "outputs": [
    {
     "name": "stdout",
     "output_type": "stream",
     "text": [
      "<class 'pandas.core.frame.DataFrame'>\n",
      "RangeIndex: 34250 entries, 0 to 34249\n",
      "Data columns (total 5 columns):\n",
      " #   Column       Non-Null Count  Dtype \n",
      "---  ------       --------------  ----- \n",
      " 0   posting_id   34250 non-null  object\n",
      " 1   image        34250 non-null  object\n",
      " 2   image_phash  34250 non-null  object\n",
      " 3   title        34250 non-null  object\n",
      " 4   label_group  34250 non-null  int64 \n",
      "dtypes: int64(1), object(4)\n",
      "memory usage: 1.3+ MB\n"
     ]
    }
   ],
   "source": [
    "train_df.info()"
   ]
  },
  {
   "cell_type": "code",
   "execution_count": 7,
   "id": "7043b087-67a9-49d3-9464-a737cf01c746",
   "metadata": {},
   "outputs": [
    {
     "data": {
      "text/html": [
       "<div>\n",
       "<style scoped>\n",
       "    .dataframe tbody tr th:only-of-type {\n",
       "        vertical-align: middle;\n",
       "    }\n",
       "\n",
       "    .dataframe tbody tr th {\n",
       "        vertical-align: top;\n",
       "    }\n",
       "\n",
       "    .dataframe thead th {\n",
       "        text-align: right;\n",
       "    }\n",
       "</style>\n",
       "<table border=\"1\" class=\"dataframe\">\n",
       "  <thead>\n",
       "    <tr style=\"text-align: right;\">\n",
       "      <th></th>\n",
       "      <th>posting_id</th>\n",
       "      <th>image</th>\n",
       "      <th>image_phash</th>\n",
       "      <th>title</th>\n",
       "    </tr>\n",
       "  </thead>\n",
       "  <tbody>\n",
       "    <tr>\n",
       "      <th>0</th>\n",
       "      <td>test_2255846744</td>\n",
       "      <td>0006c8e5462ae52167402bac1c2e916e.jpg</td>\n",
       "      <td>ecc292392dc7687a</td>\n",
       "      <td>Edufuntoys - CHARACTER PHONE ada lampu dan mus...</td>\n",
       "    </tr>\n",
       "    <tr>\n",
       "      <th>1</th>\n",
       "      <td>test_3588702337</td>\n",
       "      <td>0007585c4d0f932859339129f709bfdc.jpg</td>\n",
       "      <td>e9968f60d2699e2c</td>\n",
       "      <td>(Beli 1 Free Spatula) Masker Komedo | Blackhea...</td>\n",
       "    </tr>\n",
       "    <tr>\n",
       "      <th>2</th>\n",
       "      <td>test_4015706929</td>\n",
       "      <td>0008377d3662e83ef44e1881af38b879.jpg</td>\n",
       "      <td>ba81c17e3581cabe</td>\n",
       "      <td>READY Lemonilo Mie instant sehat kuah dan goreng</td>\n",
       "    </tr>\n",
       "  </tbody>\n",
       "</table>\n",
       "</div>"
      ],
      "text/plain": [
       "        posting_id                                 image       image_phash  \\\n",
       "0  test_2255846744  0006c8e5462ae52167402bac1c2e916e.jpg  ecc292392dc7687a   \n",
       "1  test_3588702337  0007585c4d0f932859339129f709bfdc.jpg  e9968f60d2699e2c   \n",
       "2  test_4015706929  0008377d3662e83ef44e1881af38b879.jpg  ba81c17e3581cabe   \n",
       "\n",
       "                                               title  \n",
       "0  Edufuntoys - CHARACTER PHONE ada lampu dan mus...  \n",
       "1  (Beli 1 Free Spatula) Masker Komedo | Blackhea...  \n",
       "2   READY Lemonilo Mie instant sehat kuah dan goreng  "
      ]
     },
     "execution_count": 7,
     "metadata": {},
     "output_type": "execute_result"
    }
   ],
   "source": [
    "test_df = pd.read_csv(data_dir + 'test.csv')\n",
    "test_df.head(15)"
   ]
  },
  {
   "cell_type": "code",
   "execution_count": 8,
   "id": "9d61331f-aded-4a5b-8a4f-ab607bbcc84a",
   "metadata": {},
   "outputs": [
    {
     "data": {
      "text/plain": [
       "34250"
      ]
     },
     "execution_count": 8,
     "metadata": {},
     "output_type": "execute_result"
    }
   ],
   "source": [
    "train_df['posting_id'].nunique()"
   ]
  },
  {
   "cell_type": "code",
   "execution_count": 9,
   "id": "1694256d-356c-480f-a92d-a6143213eaa9",
   "metadata": {},
   "outputs": [
    {
     "data": {
      "text/plain": [
       "32412"
      ]
     },
     "execution_count": 9,
     "metadata": {},
     "output_type": "execute_result"
    }
   ],
   "source": [
    "train_df['image'].nunique()"
   ]
  },
  {
   "cell_type": "code",
   "execution_count": 10,
   "id": "3746159c-8dba-42e2-9ee4-b84d845ca8a7",
   "metadata": {},
   "outputs": [
    {
     "data": {
      "text/plain": [
       "28735"
      ]
     },
     "execution_count": 10,
     "metadata": {},
     "output_type": "execute_result"
    }
   ],
   "source": [
    "train_df['image_phash'].nunique()"
   ]
  },
  {
   "cell_type": "code",
   "execution_count": 11,
   "id": "486bdb24-59b8-4d29-90fa-ef6a10d3a040",
   "metadata": {},
   "outputs": [
    {
     "data": {
      "text/plain": [
       "33117"
      ]
     },
     "execution_count": 11,
     "metadata": {},
     "output_type": "execute_result"
    }
   ],
   "source": [
    "train_df['title'].nunique()"
   ]
  },
  {
   "cell_type": "code",
   "execution_count": 12,
   "id": "e8aa3729-ba1c-4ab1-849f-e103a2f94663",
   "metadata": {},
   "outputs": [
    {
     "data": {
      "text/plain": [
       "11014"
      ]
     },
     "execution_count": 12,
     "metadata": {},
     "output_type": "execute_result"
    }
   ],
   "source": [
    "train_df['label_group'].nunique()"
   ]
  },
  {
   "cell_type": "code",
   "execution_count": 13,
   "id": "b9db0e80-8148-4b46-af15-34d7086dbe2f",
   "metadata": {},
   "outputs": [
    {
     "data": {
      "text/plain": [
       "32412"
      ]
     },
     "execution_count": 13,
     "metadata": {},
     "output_type": "execute_result"
    }
   ],
   "source": [
    "len(os.listdir(data_dir + 'train_images'))"
   ]
  },
  {
   "cell_type": "code",
   "execution_count": 14,
   "id": "a8f42572-c70a-4cfa-aec4-1b43a9e02b4d",
   "metadata": {},
   "outputs": [
    {
     "data": {
      "text/plain": [
       "(32412, 5)"
      ]
     },
     "execution_count": 14,
     "metadata": {},
     "output_type": "execute_result"
    }
   ],
   "source": [
    "train_df_reduced = train_df.drop_duplicates(subset=['image'], ignore_index=True)\n",
    "train_df_reduced.shape"
   ]
  },
  {
   "cell_type": "code",
   "execution_count": 16,
   "id": "6a8a8bf9-1124-4902-a10a-04bae57910cf",
   "metadata": {},
   "outputs": [
    {
     "data": {
      "text/plain": [
       "32412"
      ]
     },
     "execution_count": 16,
     "metadata": {},
     "output_type": "execute_result"
    }
   ],
   "source": [
    "train_df_reduced['posting_id'].nunique()"
   ]
  },
  {
   "cell_type": "code",
   "execution_count": 17,
   "id": "7205f102-9335-43dc-a399-05465b209c37",
   "metadata": {},
   "outputs": [
    {
     "data": {
      "text/plain": [
       "32412"
      ]
     },
     "execution_count": 17,
     "metadata": {},
     "output_type": "execute_result"
    }
   ],
   "source": [
    "train_df_reduced['image'].nunique()"
   ]
  },
  {
   "cell_type": "code",
   "execution_count": 18,
   "id": "4da43c0a-93c9-4196-885f-ef5df78c0a32",
   "metadata": {},
   "outputs": [
    {
     "data": {
      "text/plain": [
       "28735"
      ]
     },
     "execution_count": 18,
     "metadata": {},
     "output_type": "execute_result"
    }
   ],
   "source": [
    "train_df_reduced['image_phash'].nunique()"
   ]
  },
  {
   "cell_type": "code",
   "execution_count": 19,
   "id": "ae740566-904d-49f4-ab7d-ddf410a9f0d1",
   "metadata": {},
   "outputs": [
    {
     "data": {
      "text/plain": [
       "31358"
      ]
     },
     "execution_count": 19,
     "metadata": {},
     "output_type": "execute_result"
    }
   ],
   "source": [
    "train_df_reduced['title'].nunique()"
   ]
  },
  {
   "cell_type": "code",
   "execution_count": 20,
   "id": "afec27a5-4010-48ed-8a37-239c5afc0da0",
   "metadata": {},
   "outputs": [
    {
     "data": {
      "text/plain": [
       "11011"
      ]
     },
     "execution_count": 20,
     "metadata": {},
     "output_type": "execute_result"
    }
   ],
   "source": [
    "train_df_reduced['label_group'].nunique()"
   ]
  },
  {
   "cell_type": "code",
   "execution_count": 21,
   "id": "fc09e591-503c-4a5c-b5c9-b628b83bb203",
   "metadata": {},
   "outputs": [
    {
     "name": "stderr",
     "output_type": "stream",
     "text": [
      "<ipython-input-21-3fbb4aa5b2d0>:1: SettingWithCopyWarning: \n",
      "A value is trying to be set on a copy of a slice from a DataFrame.\n",
      "Try using .loc[row_indexer,col_indexer] = value instead\n",
      "\n",
      "See the caveats in the documentation: https://pandas.pydata.org/pandas-docs/stable/user_guide/indexing.html#returning-a-view-versus-a-copy\n",
      "  train_df_reduced['title_lower'] = train_df_reduced['title'].apply(lambda x: x.lower())\n"
     ]
    },
    {
     "data": {
      "text/html": [
       "<div>\n",
       "<style scoped>\n",
       "    .dataframe tbody tr th:only-of-type {\n",
       "        vertical-align: middle;\n",
       "    }\n",
       "\n",
       "    .dataframe tbody tr th {\n",
       "        vertical-align: top;\n",
       "    }\n",
       "\n",
       "    .dataframe thead th {\n",
       "        text-align: right;\n",
       "    }\n",
       "</style>\n",
       "<table border=\"1\" class=\"dataframe\">\n",
       "  <thead>\n",
       "    <tr style=\"text-align: right;\">\n",
       "      <th></th>\n",
       "      <th>posting_id</th>\n",
       "      <th>image</th>\n",
       "      <th>image_phash</th>\n",
       "      <th>title</th>\n",
       "      <th>label_group</th>\n",
       "      <th>title_lower</th>\n",
       "    </tr>\n",
       "  </thead>\n",
       "  <tbody>\n",
       "    <tr>\n",
       "      <th>0</th>\n",
       "      <td>train_129225211</td>\n",
       "      <td>0000a68812bc7e98c42888dfb1c07da0.jpg</td>\n",
       "      <td>94974f937d4c2433</td>\n",
       "      <td>Paper Bag Victoria Secret</td>\n",
       "      <td>249114794</td>\n",
       "      <td>paper bag victoria secret</td>\n",
       "    </tr>\n",
       "    <tr>\n",
       "      <th>1</th>\n",
       "      <td>train_3386243561</td>\n",
       "      <td>00039780dfc94d01db8676fe789ecd05.jpg</td>\n",
       "      <td>af3f9460c2838f0f</td>\n",
       "      <td>Double Tape 3M VHB 12 mm x 4,5 m ORIGINAL / DO...</td>\n",
       "      <td>2937985045</td>\n",
       "      <td>double tape 3m vhb 12 mm x 4,5 m original / do...</td>\n",
       "    </tr>\n",
       "    <tr>\n",
       "      <th>2</th>\n",
       "      <td>train_2288590299</td>\n",
       "      <td>000a190fdd715a2a36faed16e2c65df7.jpg</td>\n",
       "      <td>b94cb00ed3e50f78</td>\n",
       "      <td>Maling TTS Canned Pork Luncheon Meat 397 gr</td>\n",
       "      <td>2395904891</td>\n",
       "      <td>maling tts canned pork luncheon meat 397 gr</td>\n",
       "    </tr>\n",
       "    <tr>\n",
       "      <th>3</th>\n",
       "      <td>train_2406599165</td>\n",
       "      <td>00117e4fc239b1b641ff08340b429633.jpg</td>\n",
       "      <td>8514fc58eafea283</td>\n",
       "      <td>Daster Batik Lengan pendek - Motif Acak / Camp...</td>\n",
       "      <td>4093212188</td>\n",
       "      <td>daster batik lengan pendek - motif acak / camp...</td>\n",
       "    </tr>\n",
       "    <tr>\n",
       "      <th>4</th>\n",
       "      <td>train_3369186413</td>\n",
       "      <td>00136d1cf4edede0203f32f05f660588.jpg</td>\n",
       "      <td>a6f319f924ad708c</td>\n",
       "      <td>Nescafe \\xc3\\x89clair Latte 220ml</td>\n",
       "      <td>3648931069</td>\n",
       "      <td>nescafe \\xc3\\x89clair latte 220ml</td>\n",
       "    </tr>\n",
       "    <tr>\n",
       "      <th>...</th>\n",
       "      <td>...</td>\n",
       "      <td>...</td>\n",
       "      <td>...</td>\n",
       "      <td>...</td>\n",
       "      <td>...</td>\n",
       "      <td>...</td>\n",
       "    </tr>\n",
       "    <tr>\n",
       "      <th>32407</th>\n",
       "      <td>train_4028265689</td>\n",
       "      <td>fff1c07ceefc2c970a7964cfb81981c5.jpg</td>\n",
       "      <td>e3cd72389f248f21</td>\n",
       "      <td>Masker Bahan Kain Spunbond Non Woven 75 gsm 3 ...</td>\n",
       "      <td>3776555725</td>\n",
       "      <td>masker bahan kain spunbond non woven 75 gsm 3 ...</td>\n",
       "    </tr>\n",
       "    <tr>\n",
       "      <th>32408</th>\n",
       "      <td>train_769054909</td>\n",
       "      <td>fff401691371bdcb382a0d9075dfea6a.jpg</td>\n",
       "      <td>be86851f72e2853c</td>\n",
       "      <td>MamyPoko Pants Royal Soft - S 70 - Popok Celana</td>\n",
       "      <td>2736479533</td>\n",
       "      <td>mamypoko pants royal soft - s 70 - popok celana</td>\n",
       "    </tr>\n",
       "    <tr>\n",
       "      <th>32409</th>\n",
       "      <td>train_614977732</td>\n",
       "      <td>fff421b78fa7284284724baf249f522e.jpg</td>\n",
       "      <td>ad27f0d08c0fcbf0</td>\n",
       "      <td>KHANZAACC Robot RE101S 1.2mm Subwoofer Bass Me...</td>\n",
       "      <td>4101248785</td>\n",
       "      <td>khanzaacc robot re101s 1.2mm subwoofer bass me...</td>\n",
       "    </tr>\n",
       "    <tr>\n",
       "      <th>32410</th>\n",
       "      <td>train_3630949769</td>\n",
       "      <td>fff51b87916dbfb6d0f8faa01bee67b8.jpg</td>\n",
       "      <td>e3b13bd1d896c05c</td>\n",
       "      <td>Kaldu NON MSG HALAL Mama Kamu Ayam Kampung , S...</td>\n",
       "      <td>1663538013</td>\n",
       "      <td>kaldu non msg halal mama kamu ayam kampung , s...</td>\n",
       "    </tr>\n",
       "    <tr>\n",
       "      <th>32411</th>\n",
       "      <td>train_1792180725</td>\n",
       "      <td>ffffa0ab2ae542357671e96254fa7167.jpg</td>\n",
       "      <td>af8bc4b2d2cf9083</td>\n",
       "      <td>FLEX TAPE PELAPIS BOCOR / ISOLASI AJAIB / ANTI...</td>\n",
       "      <td>459464107</td>\n",
       "      <td>flex tape pelapis bocor / isolasi ajaib / anti...</td>\n",
       "    </tr>\n",
       "  </tbody>\n",
       "</table>\n",
       "<p>32412 rows × 6 columns</p>\n",
       "</div>"
      ],
      "text/plain": [
       "             posting_id                                 image  \\\n",
       "0       train_129225211  0000a68812bc7e98c42888dfb1c07da0.jpg   \n",
       "1      train_3386243561  00039780dfc94d01db8676fe789ecd05.jpg   \n",
       "2      train_2288590299  000a190fdd715a2a36faed16e2c65df7.jpg   \n",
       "3      train_2406599165  00117e4fc239b1b641ff08340b429633.jpg   \n",
       "4      train_3369186413  00136d1cf4edede0203f32f05f660588.jpg   \n",
       "...                 ...                                   ...   \n",
       "32407  train_4028265689  fff1c07ceefc2c970a7964cfb81981c5.jpg   \n",
       "32408   train_769054909  fff401691371bdcb382a0d9075dfea6a.jpg   \n",
       "32409   train_614977732  fff421b78fa7284284724baf249f522e.jpg   \n",
       "32410  train_3630949769  fff51b87916dbfb6d0f8faa01bee67b8.jpg   \n",
       "32411  train_1792180725  ffffa0ab2ae542357671e96254fa7167.jpg   \n",
       "\n",
       "            image_phash                                              title  \\\n",
       "0      94974f937d4c2433                          Paper Bag Victoria Secret   \n",
       "1      af3f9460c2838f0f  Double Tape 3M VHB 12 mm x 4,5 m ORIGINAL / DO...   \n",
       "2      b94cb00ed3e50f78        Maling TTS Canned Pork Luncheon Meat 397 gr   \n",
       "3      8514fc58eafea283  Daster Batik Lengan pendek - Motif Acak / Camp...   \n",
       "4      a6f319f924ad708c                  Nescafe \\xc3\\x89clair Latte 220ml   \n",
       "...                 ...                                                ...   \n",
       "32407  e3cd72389f248f21  Masker Bahan Kain Spunbond Non Woven 75 gsm 3 ...   \n",
       "32408  be86851f72e2853c    MamyPoko Pants Royal Soft - S 70 - Popok Celana   \n",
       "32409  ad27f0d08c0fcbf0  KHANZAACC Robot RE101S 1.2mm Subwoofer Bass Me...   \n",
       "32410  e3b13bd1d896c05c  Kaldu NON MSG HALAL Mama Kamu Ayam Kampung , S...   \n",
       "32411  af8bc4b2d2cf9083  FLEX TAPE PELAPIS BOCOR / ISOLASI AJAIB / ANTI...   \n",
       "\n",
       "       label_group                                        title_lower  \n",
       "0        249114794                          paper bag victoria secret  \n",
       "1       2937985045  double tape 3m vhb 12 mm x 4,5 m original / do...  \n",
       "2       2395904891        maling tts canned pork luncheon meat 397 gr  \n",
       "3       4093212188  daster batik lengan pendek - motif acak / camp...  \n",
       "4       3648931069                  nescafe \\xc3\\x89clair latte 220ml  \n",
       "...            ...                                                ...  \n",
       "32407   3776555725  masker bahan kain spunbond non woven 75 gsm 3 ...  \n",
       "32408   2736479533    mamypoko pants royal soft - s 70 - popok celana  \n",
       "32409   4101248785  khanzaacc robot re101s 1.2mm subwoofer bass me...  \n",
       "32410   1663538013  kaldu non msg halal mama kamu ayam kampung , s...  \n",
       "32411    459464107  flex tape pelapis bocor / isolasi ajaib / anti...  \n",
       "\n",
       "[32412 rows x 6 columns]"
      ]
     },
     "execution_count": 21,
     "metadata": {},
     "output_type": "execute_result"
    }
   ],
   "source": [
    "train_df_reduced['title_lower'] = train_df_reduced['title'].apply(lambda x: x.lower())\n",
    "train_df_reduced"
   ]
  },
  {
   "cell_type": "code",
   "execution_count": 22,
   "id": "f599cd50-1ab8-417f-a3f3-eb4a36fe72f2",
   "metadata": {},
   "outputs": [
    {
     "data": {
      "text/plain": [
       "30894"
      ]
     },
     "execution_count": 22,
     "metadata": {},
     "output_type": "execute_result"
    }
   ],
   "source": [
    "train_df_reduced['title_lower'].nunique()"
   ]
  },
  {
   "cell_type": "code",
   "execution_count": 23,
   "id": "db8383d7-8b43-4bb2-94eb-3c26f2350e02",
   "metadata": {},
   "outputs": [
    {
     "name": "stderr",
     "output_type": "stream",
     "text": [
      "<ipython-input-23-e9d385df97a2>:1: SettingWithCopyWarning: \n",
      "A value is trying to be set on a copy of a slice from a DataFrame.\n",
      "Try using .loc[row_indexer,col_indexer] = value instead\n",
      "\n",
      "See the caveats in the documentation: https://pandas.pydata.org/pandas-docs/stable/user_guide/indexing.html#returning-a-view-versus-a-copy\n",
      "  train_df_reduced['title_len'] = train_df_reduced['title_lower'].apply(lambda x: len(x.split()))\n"
     ]
    },
    {
     "data": {
      "text/html": [
       "<div>\n",
       "<style scoped>\n",
       "    .dataframe tbody tr th:only-of-type {\n",
       "        vertical-align: middle;\n",
       "    }\n",
       "\n",
       "    .dataframe tbody tr th {\n",
       "        vertical-align: top;\n",
       "    }\n",
       "\n",
       "    .dataframe thead th {\n",
       "        text-align: right;\n",
       "    }\n",
       "</style>\n",
       "<table border=\"1\" class=\"dataframe\">\n",
       "  <thead>\n",
       "    <tr style=\"text-align: right;\">\n",
       "      <th></th>\n",
       "      <th>posting_id</th>\n",
       "      <th>image</th>\n",
       "      <th>image_phash</th>\n",
       "      <th>title</th>\n",
       "      <th>label_group</th>\n",
       "      <th>title_lower</th>\n",
       "      <th>title_len</th>\n",
       "    </tr>\n",
       "  </thead>\n",
       "  <tbody>\n",
       "    <tr>\n",
       "      <th>0</th>\n",
       "      <td>train_129225211</td>\n",
       "      <td>0000a68812bc7e98c42888dfb1c07da0.jpg</td>\n",
       "      <td>94974f937d4c2433</td>\n",
       "      <td>Paper Bag Victoria Secret</td>\n",
       "      <td>249114794</td>\n",
       "      <td>paper bag victoria secret</td>\n",
       "      <td>4</td>\n",
       "    </tr>\n",
       "    <tr>\n",
       "      <th>1</th>\n",
       "      <td>train_3386243561</td>\n",
       "      <td>00039780dfc94d01db8676fe789ecd05.jpg</td>\n",
       "      <td>af3f9460c2838f0f</td>\n",
       "      <td>Double Tape 3M VHB 12 mm x 4,5 m ORIGINAL / DO...</td>\n",
       "      <td>2937985045</td>\n",
       "      <td>double tape 3m vhb 12 mm x 4,5 m original / do...</td>\n",
       "      <td>14</td>\n",
       "    </tr>\n",
       "    <tr>\n",
       "      <th>2</th>\n",
       "      <td>train_2288590299</td>\n",
       "      <td>000a190fdd715a2a36faed16e2c65df7.jpg</td>\n",
       "      <td>b94cb00ed3e50f78</td>\n",
       "      <td>Maling TTS Canned Pork Luncheon Meat 397 gr</td>\n",
       "      <td>2395904891</td>\n",
       "      <td>maling tts canned pork luncheon meat 397 gr</td>\n",
       "      <td>8</td>\n",
       "    </tr>\n",
       "    <tr>\n",
       "      <th>3</th>\n",
       "      <td>train_2406599165</td>\n",
       "      <td>00117e4fc239b1b641ff08340b429633.jpg</td>\n",
       "      <td>8514fc58eafea283</td>\n",
       "      <td>Daster Batik Lengan pendek - Motif Acak / Camp...</td>\n",
       "      <td>4093212188</td>\n",
       "      <td>daster batik lengan pendek - motif acak / camp...</td>\n",
       "      <td>16</td>\n",
       "    </tr>\n",
       "    <tr>\n",
       "      <th>4</th>\n",
       "      <td>train_3369186413</td>\n",
       "      <td>00136d1cf4edede0203f32f05f660588.jpg</td>\n",
       "      <td>a6f319f924ad708c</td>\n",
       "      <td>Nescafe \\xc3\\x89clair Latte 220ml</td>\n",
       "      <td>3648931069</td>\n",
       "      <td>nescafe \\xc3\\x89clair latte 220ml</td>\n",
       "      <td>4</td>\n",
       "    </tr>\n",
       "    <tr>\n",
       "      <th>...</th>\n",
       "      <td>...</td>\n",
       "      <td>...</td>\n",
       "      <td>...</td>\n",
       "      <td>...</td>\n",
       "      <td>...</td>\n",
       "      <td>...</td>\n",
       "      <td>...</td>\n",
       "    </tr>\n",
       "    <tr>\n",
       "      <th>32407</th>\n",
       "      <td>train_4028265689</td>\n",
       "      <td>fff1c07ceefc2c970a7964cfb81981c5.jpg</td>\n",
       "      <td>e3cd72389f248f21</td>\n",
       "      <td>Masker Bahan Kain Spunbond Non Woven 75 gsm 3 ...</td>\n",
       "      <td>3776555725</td>\n",
       "      <td>masker bahan kain spunbond non woven 75 gsm 3 ...</td>\n",
       "      <td>13</td>\n",
       "    </tr>\n",
       "    <tr>\n",
       "      <th>32408</th>\n",
       "      <td>train_769054909</td>\n",
       "      <td>fff401691371bdcb382a0d9075dfea6a.jpg</td>\n",
       "      <td>be86851f72e2853c</td>\n",
       "      <td>MamyPoko Pants Royal Soft - S 70 - Popok Celana</td>\n",
       "      <td>2736479533</td>\n",
       "      <td>mamypoko pants royal soft - s 70 - popok celana</td>\n",
       "      <td>10</td>\n",
       "    </tr>\n",
       "    <tr>\n",
       "      <th>32409</th>\n",
       "      <td>train_614977732</td>\n",
       "      <td>fff421b78fa7284284724baf249f522e.jpg</td>\n",
       "      <td>ad27f0d08c0fcbf0</td>\n",
       "      <td>KHANZAACC Robot RE101S 1.2mm Subwoofer Bass Me...</td>\n",
       "      <td>4101248785</td>\n",
       "      <td>khanzaacc robot re101s 1.2mm subwoofer bass me...</td>\n",
       "      <td>9</td>\n",
       "    </tr>\n",
       "    <tr>\n",
       "      <th>32410</th>\n",
       "      <td>train_3630949769</td>\n",
       "      <td>fff51b87916dbfb6d0f8faa01bee67b8.jpg</td>\n",
       "      <td>e3b13bd1d896c05c</td>\n",
       "      <td>Kaldu NON MSG HALAL Mama Kamu Ayam Kampung , S...</td>\n",
       "      <td>1663538013</td>\n",
       "      <td>kaldu non msg halal mama kamu ayam kampung , s...</td>\n",
       "      <td>16</td>\n",
       "    </tr>\n",
       "    <tr>\n",
       "      <th>32411</th>\n",
       "      <td>train_1792180725</td>\n",
       "      <td>ffffa0ab2ae542357671e96254fa7167.jpg</td>\n",
       "      <td>af8bc4b2d2cf9083</td>\n",
       "      <td>FLEX TAPE PELAPIS BOCOR / ISOLASI AJAIB / ANTI...</td>\n",
       "      <td>459464107</td>\n",
       "      <td>flex tape pelapis bocor / isolasi ajaib / anti...</td>\n",
       "      <td>10</td>\n",
       "    </tr>\n",
       "  </tbody>\n",
       "</table>\n",
       "<p>32412 rows × 7 columns</p>\n",
       "</div>"
      ],
      "text/plain": [
       "             posting_id                                 image  \\\n",
       "0       train_129225211  0000a68812bc7e98c42888dfb1c07da0.jpg   \n",
       "1      train_3386243561  00039780dfc94d01db8676fe789ecd05.jpg   \n",
       "2      train_2288590299  000a190fdd715a2a36faed16e2c65df7.jpg   \n",
       "3      train_2406599165  00117e4fc239b1b641ff08340b429633.jpg   \n",
       "4      train_3369186413  00136d1cf4edede0203f32f05f660588.jpg   \n",
       "...                 ...                                   ...   \n",
       "32407  train_4028265689  fff1c07ceefc2c970a7964cfb81981c5.jpg   \n",
       "32408   train_769054909  fff401691371bdcb382a0d9075dfea6a.jpg   \n",
       "32409   train_614977732  fff421b78fa7284284724baf249f522e.jpg   \n",
       "32410  train_3630949769  fff51b87916dbfb6d0f8faa01bee67b8.jpg   \n",
       "32411  train_1792180725  ffffa0ab2ae542357671e96254fa7167.jpg   \n",
       "\n",
       "            image_phash                                              title  \\\n",
       "0      94974f937d4c2433                          Paper Bag Victoria Secret   \n",
       "1      af3f9460c2838f0f  Double Tape 3M VHB 12 mm x 4,5 m ORIGINAL / DO...   \n",
       "2      b94cb00ed3e50f78        Maling TTS Canned Pork Luncheon Meat 397 gr   \n",
       "3      8514fc58eafea283  Daster Batik Lengan pendek - Motif Acak / Camp...   \n",
       "4      a6f319f924ad708c                  Nescafe \\xc3\\x89clair Latte 220ml   \n",
       "...                 ...                                                ...   \n",
       "32407  e3cd72389f248f21  Masker Bahan Kain Spunbond Non Woven 75 gsm 3 ...   \n",
       "32408  be86851f72e2853c    MamyPoko Pants Royal Soft - S 70 - Popok Celana   \n",
       "32409  ad27f0d08c0fcbf0  KHANZAACC Robot RE101S 1.2mm Subwoofer Bass Me...   \n",
       "32410  e3b13bd1d896c05c  Kaldu NON MSG HALAL Mama Kamu Ayam Kampung , S...   \n",
       "32411  af8bc4b2d2cf9083  FLEX TAPE PELAPIS BOCOR / ISOLASI AJAIB / ANTI...   \n",
       "\n",
       "       label_group                                        title_lower  \\\n",
       "0        249114794                          paper bag victoria secret   \n",
       "1       2937985045  double tape 3m vhb 12 mm x 4,5 m original / do...   \n",
       "2       2395904891        maling tts canned pork luncheon meat 397 gr   \n",
       "3       4093212188  daster batik lengan pendek - motif acak / camp...   \n",
       "4       3648931069                  nescafe \\xc3\\x89clair latte 220ml   \n",
       "...            ...                                                ...   \n",
       "32407   3776555725  masker bahan kain spunbond non woven 75 gsm 3 ...   \n",
       "32408   2736479533    mamypoko pants royal soft - s 70 - popok celana   \n",
       "32409   4101248785  khanzaacc robot re101s 1.2mm subwoofer bass me...   \n",
       "32410   1663538013  kaldu non msg halal mama kamu ayam kampung , s...   \n",
       "32411    459464107  flex tape pelapis bocor / isolasi ajaib / anti...   \n",
       "\n",
       "       title_len  \n",
       "0              4  \n",
       "1             14  \n",
       "2              8  \n",
       "3             16  \n",
       "4              4  \n",
       "...          ...  \n",
       "32407         13  \n",
       "32408         10  \n",
       "32409          9  \n",
       "32410         16  \n",
       "32411         10  \n",
       "\n",
       "[32412 rows x 7 columns]"
      ]
     },
     "execution_count": 23,
     "metadata": {},
     "output_type": "execute_result"
    }
   ],
   "source": [
    "train_df_reduced['title_len'] = train_df_reduced['title_lower'].apply(lambda x: len(x.split()))\n",
    "train_df_reduced"
   ]
  },
  {
   "cell_type": "code",
   "execution_count": 24,
   "id": "afa64bd9-cf94-4a7b-992f-eb0b9e2d5aea",
   "metadata": {},
   "outputs": [
    {
     "data": {
      "text/plain": [
       "count    32412.000000\n",
       "mean         9.369092\n",
       "std          4.388522\n",
       "min          1.000000\n",
       "25%          6.000000\n",
       "50%          9.000000\n",
       "75%         12.000000\n",
       "max         61.000000\n",
       "Name: title_len, dtype: float64"
      ]
     },
     "execution_count": 24,
     "metadata": {},
     "output_type": "execute_result"
    }
   ],
   "source": [
    "train_df_reduced['title_len'].describe()"
   ]
  },
  {
   "cell_type": "code",
   "execution_count": 25,
   "id": "6a5953c8-8cba-4f5b-b9a5-953e8bab4731",
   "metadata": {},
   "outputs": [],
   "source": [
    "def fix_title(text):\n",
    "    \n",
    "    text = text.replace(\"'\", ' ')\n",
    "    text = text.replace('\"', ' ')\n",
    "    text = text.replace('/', ' ')\n",
    "    text = text.replace('\\\\', ' ')\n",
    "    text = text.replace(';', ' ')\n",
    "    text = text.replace(':', ' ')\n",
    "    text = text.replace('?', '')\n",
    "    text = text.replace('+', ' ')\n",
    "    text = text.replace('[', '')\n",
    "    text = text.replace(']', '')\n",
    "    text = text.replace('{', '')\n",
    "    text = text.replace('}', '')\n",
    "    text = text.replace('>', ' ')\n",
    "    text = text.replace('<', ' ')\n",
    "    text = text.replace('*', ' ')\n",
    "    text = text.replace('(', '')\n",
    "    text = text.replace(')', '')\n",
    "    text = text.replace('|', ' ')\n",
    "    text = text.replace('~', ' ')\n",
    "    text = text.replace('`', ' ')\n",
    "    \n",
    "    return text"
   ]
  },
  {
   "cell_type": "code",
   "execution_count": 26,
   "id": "51736adf-1620-49ce-92a5-9cf387e1f4fb",
   "metadata": {},
   "outputs": [
    {
     "name": "stderr",
     "output_type": "stream",
     "text": [
      "<ipython-input-26-62f400d40e45>:1: SettingWithCopyWarning: \n",
      "A value is trying to be set on a copy of a slice from a DataFrame.\n",
      "Try using .loc[row_indexer,col_indexer] = value instead\n",
      "\n",
      "See the caveats in the documentation: https://pandas.pydata.org/pandas-docs/stable/user_guide/indexing.html#returning-a-view-versus-a-copy\n",
      "  train_df_reduced['title_lower'] = train_df_reduced['title_lower'].apply(fix_title)\n"
     ]
    },
    {
     "data": {
      "text/html": [
       "<div>\n",
       "<style scoped>\n",
       "    .dataframe tbody tr th:only-of-type {\n",
       "        vertical-align: middle;\n",
       "    }\n",
       "\n",
       "    .dataframe tbody tr th {\n",
       "        vertical-align: top;\n",
       "    }\n",
       "\n",
       "    .dataframe thead th {\n",
       "        text-align: right;\n",
       "    }\n",
       "</style>\n",
       "<table border=\"1\" class=\"dataframe\">\n",
       "  <thead>\n",
       "    <tr style=\"text-align: right;\">\n",
       "      <th></th>\n",
       "      <th>posting_id</th>\n",
       "      <th>image</th>\n",
       "      <th>image_phash</th>\n",
       "      <th>title</th>\n",
       "      <th>label_group</th>\n",
       "      <th>title_lower</th>\n",
       "      <th>title_len</th>\n",
       "    </tr>\n",
       "  </thead>\n",
       "  <tbody>\n",
       "    <tr>\n",
       "      <th>0</th>\n",
       "      <td>train_129225211</td>\n",
       "      <td>0000a68812bc7e98c42888dfb1c07da0.jpg</td>\n",
       "      <td>94974f937d4c2433</td>\n",
       "      <td>Paper Bag Victoria Secret</td>\n",
       "      <td>249114794</td>\n",
       "      <td>paper bag victoria secret</td>\n",
       "      <td>4</td>\n",
       "    </tr>\n",
       "    <tr>\n",
       "      <th>1</th>\n",
       "      <td>train_3386243561</td>\n",
       "      <td>00039780dfc94d01db8676fe789ecd05.jpg</td>\n",
       "      <td>af3f9460c2838f0f</td>\n",
       "      <td>Double Tape 3M VHB 12 mm x 4,5 m ORIGINAL / DO...</td>\n",
       "      <td>2937985045</td>\n",
       "      <td>double tape 3m vhb 12 mm x 4,5 m original   do...</td>\n",
       "      <td>14</td>\n",
       "    </tr>\n",
       "    <tr>\n",
       "      <th>2</th>\n",
       "      <td>train_2288590299</td>\n",
       "      <td>000a190fdd715a2a36faed16e2c65df7.jpg</td>\n",
       "      <td>b94cb00ed3e50f78</td>\n",
       "      <td>Maling TTS Canned Pork Luncheon Meat 397 gr</td>\n",
       "      <td>2395904891</td>\n",
       "      <td>maling tts canned pork luncheon meat 397 gr</td>\n",
       "      <td>8</td>\n",
       "    </tr>\n",
       "    <tr>\n",
       "      <th>3</th>\n",
       "      <td>train_2406599165</td>\n",
       "      <td>00117e4fc239b1b641ff08340b429633.jpg</td>\n",
       "      <td>8514fc58eafea283</td>\n",
       "      <td>Daster Batik Lengan pendek - Motif Acak / Camp...</td>\n",
       "      <td>4093212188</td>\n",
       "      <td>daster batik lengan pendek - motif acak   camp...</td>\n",
       "      <td>16</td>\n",
       "    </tr>\n",
       "    <tr>\n",
       "      <th>4</th>\n",
       "      <td>train_3369186413</td>\n",
       "      <td>00136d1cf4edede0203f32f05f660588.jpg</td>\n",
       "      <td>a6f319f924ad708c</td>\n",
       "      <td>Nescafe \\xc3\\x89clair Latte 220ml</td>\n",
       "      <td>3648931069</td>\n",
       "      <td>nescafe  xc3 x89clair latte 220ml</td>\n",
       "      <td>4</td>\n",
       "    </tr>\n",
       "    <tr>\n",
       "      <th>...</th>\n",
       "      <td>...</td>\n",
       "      <td>...</td>\n",
       "      <td>...</td>\n",
       "      <td>...</td>\n",
       "      <td>...</td>\n",
       "      <td>...</td>\n",
       "      <td>...</td>\n",
       "    </tr>\n",
       "    <tr>\n",
       "      <th>32407</th>\n",
       "      <td>train_4028265689</td>\n",
       "      <td>fff1c07ceefc2c970a7964cfb81981c5.jpg</td>\n",
       "      <td>e3cd72389f248f21</td>\n",
       "      <td>Masker Bahan Kain Spunbond Non Woven 75 gsm 3 ...</td>\n",
       "      <td>3776555725</td>\n",
       "      <td>masker bahan kain spunbond non woven 75 gsm 3 ...</td>\n",
       "      <td>13</td>\n",
       "    </tr>\n",
       "    <tr>\n",
       "      <th>32408</th>\n",
       "      <td>train_769054909</td>\n",
       "      <td>fff401691371bdcb382a0d9075dfea6a.jpg</td>\n",
       "      <td>be86851f72e2853c</td>\n",
       "      <td>MamyPoko Pants Royal Soft - S 70 - Popok Celana</td>\n",
       "      <td>2736479533</td>\n",
       "      <td>mamypoko pants royal soft - s 70 - popok celana</td>\n",
       "      <td>10</td>\n",
       "    </tr>\n",
       "    <tr>\n",
       "      <th>32409</th>\n",
       "      <td>train_614977732</td>\n",
       "      <td>fff421b78fa7284284724baf249f522e.jpg</td>\n",
       "      <td>ad27f0d08c0fcbf0</td>\n",
       "      <td>KHANZAACC Robot RE101S 1.2mm Subwoofer Bass Me...</td>\n",
       "      <td>4101248785</td>\n",
       "      <td>khanzaacc robot re101s 1.2mm subwoofer bass me...</td>\n",
       "      <td>9</td>\n",
       "    </tr>\n",
       "    <tr>\n",
       "      <th>32410</th>\n",
       "      <td>train_3630949769</td>\n",
       "      <td>fff51b87916dbfb6d0f8faa01bee67b8.jpg</td>\n",
       "      <td>e3b13bd1d896c05c</td>\n",
       "      <td>Kaldu NON MSG HALAL Mama Kamu Ayam Kampung , S...</td>\n",
       "      <td>1663538013</td>\n",
       "      <td>kaldu non msg halal mama kamu ayam kampung , s...</td>\n",
       "      <td>16</td>\n",
       "    </tr>\n",
       "    <tr>\n",
       "      <th>32411</th>\n",
       "      <td>train_1792180725</td>\n",
       "      <td>ffffa0ab2ae542357671e96254fa7167.jpg</td>\n",
       "      <td>af8bc4b2d2cf9083</td>\n",
       "      <td>FLEX TAPE PELAPIS BOCOR / ISOLASI AJAIB / ANTI...</td>\n",
       "      <td>459464107</td>\n",
       "      <td>flex tape pelapis bocor   isolasi ajaib   anti...</td>\n",
       "      <td>10</td>\n",
       "    </tr>\n",
       "  </tbody>\n",
       "</table>\n",
       "<p>32412 rows × 7 columns</p>\n",
       "</div>"
      ],
      "text/plain": [
       "             posting_id                                 image  \\\n",
       "0       train_129225211  0000a68812bc7e98c42888dfb1c07da0.jpg   \n",
       "1      train_3386243561  00039780dfc94d01db8676fe789ecd05.jpg   \n",
       "2      train_2288590299  000a190fdd715a2a36faed16e2c65df7.jpg   \n",
       "3      train_2406599165  00117e4fc239b1b641ff08340b429633.jpg   \n",
       "4      train_3369186413  00136d1cf4edede0203f32f05f660588.jpg   \n",
       "...                 ...                                   ...   \n",
       "32407  train_4028265689  fff1c07ceefc2c970a7964cfb81981c5.jpg   \n",
       "32408   train_769054909  fff401691371bdcb382a0d9075dfea6a.jpg   \n",
       "32409   train_614977732  fff421b78fa7284284724baf249f522e.jpg   \n",
       "32410  train_3630949769  fff51b87916dbfb6d0f8faa01bee67b8.jpg   \n",
       "32411  train_1792180725  ffffa0ab2ae542357671e96254fa7167.jpg   \n",
       "\n",
       "            image_phash                                              title  \\\n",
       "0      94974f937d4c2433                          Paper Bag Victoria Secret   \n",
       "1      af3f9460c2838f0f  Double Tape 3M VHB 12 mm x 4,5 m ORIGINAL / DO...   \n",
       "2      b94cb00ed3e50f78        Maling TTS Canned Pork Luncheon Meat 397 gr   \n",
       "3      8514fc58eafea283  Daster Batik Lengan pendek - Motif Acak / Camp...   \n",
       "4      a6f319f924ad708c                  Nescafe \\xc3\\x89clair Latte 220ml   \n",
       "...                 ...                                                ...   \n",
       "32407  e3cd72389f248f21  Masker Bahan Kain Spunbond Non Woven 75 gsm 3 ...   \n",
       "32408  be86851f72e2853c    MamyPoko Pants Royal Soft - S 70 - Popok Celana   \n",
       "32409  ad27f0d08c0fcbf0  KHANZAACC Robot RE101S 1.2mm Subwoofer Bass Me...   \n",
       "32410  e3b13bd1d896c05c  Kaldu NON MSG HALAL Mama Kamu Ayam Kampung , S...   \n",
       "32411  af8bc4b2d2cf9083  FLEX TAPE PELAPIS BOCOR / ISOLASI AJAIB / ANTI...   \n",
       "\n",
       "       label_group                                        title_lower  \\\n",
       "0        249114794                          paper bag victoria secret   \n",
       "1       2937985045  double tape 3m vhb 12 mm x 4,5 m original   do...   \n",
       "2       2395904891        maling tts canned pork luncheon meat 397 gr   \n",
       "3       4093212188  daster batik lengan pendek - motif acak   camp...   \n",
       "4       3648931069                  nescafe  xc3 x89clair latte 220ml   \n",
       "...            ...                                                ...   \n",
       "32407   3776555725  masker bahan kain spunbond non woven 75 gsm 3 ...   \n",
       "32408   2736479533    mamypoko pants royal soft - s 70 - popok celana   \n",
       "32409   4101248785  khanzaacc robot re101s 1.2mm subwoofer bass me...   \n",
       "32410   1663538013  kaldu non msg halal mama kamu ayam kampung , s...   \n",
       "32411    459464107  flex tape pelapis bocor   isolasi ajaib   anti...   \n",
       "\n",
       "       title_len  \n",
       "0              4  \n",
       "1             14  \n",
       "2              8  \n",
       "3             16  \n",
       "4              4  \n",
       "...          ...  \n",
       "32407         13  \n",
       "32408         10  \n",
       "32409          9  \n",
       "32410         16  \n",
       "32411         10  \n",
       "\n",
       "[32412 rows x 7 columns]"
      ]
     },
     "execution_count": 26,
     "metadata": {},
     "output_type": "execute_result"
    }
   ],
   "source": [
    "train_df_reduced['title_lower'] = train_df_reduced['title_lower'].apply(fix_title)\n",
    "train_df_reduced"
   ]
  },
  {
   "cell_type": "code",
   "execution_count": 27,
   "id": "8f775f37-e6a4-401e-98d8-41b658e80769",
   "metadata": {},
   "outputs": [
    {
     "data": {
      "text/plain": [
       "30853"
      ]
     },
     "execution_count": 27,
     "metadata": {},
     "output_type": "execute_result"
    }
   ],
   "source": [
    "train_df_reduced['title_lower'].nunique()"
   ]
  },
  {
   "cell_type": "code",
   "execution_count": 28,
   "id": "727ddc4e-389e-4bd4-a8da-825290fbeb66",
   "metadata": {},
   "outputs": [
    {
     "data": {
      "text/html": [
       "<div>\n",
       "<style scoped>\n",
       "    .dataframe tbody tr th:only-of-type {\n",
       "        vertical-align: middle;\n",
       "    }\n",
       "\n",
       "    .dataframe tbody tr th {\n",
       "        vertical-align: top;\n",
       "    }\n",
       "\n",
       "    .dataframe thead th {\n",
       "        text-align: right;\n",
       "    }\n",
       "</style>\n",
       "<table border=\"1\" class=\"dataframe\">\n",
       "  <thead>\n",
       "    <tr style=\"text-align: right;\">\n",
       "      <th></th>\n",
       "      <th>posting_id</th>\n",
       "      <th>image</th>\n",
       "      <th>image_phash</th>\n",
       "      <th>label_group</th>\n",
       "      <th>title_lower</th>\n",
       "    </tr>\n",
       "  </thead>\n",
       "  <tbody>\n",
       "    <tr>\n",
       "      <th>0</th>\n",
       "      <td>train_129225211</td>\n",
       "      <td>0000a68812bc7e98c42888dfb1c07da0.jpg</td>\n",
       "      <td>94974f937d4c2433</td>\n",
       "      <td>249114794</td>\n",
       "      <td>paper bag victoria secret</td>\n",
       "    </tr>\n",
       "    <tr>\n",
       "      <th>1</th>\n",
       "      <td>train_3386243561</td>\n",
       "      <td>00039780dfc94d01db8676fe789ecd05.jpg</td>\n",
       "      <td>af3f9460c2838f0f</td>\n",
       "      <td>2937985045</td>\n",
       "      <td>double tape 3m vhb 12 mm x 4,5 m original   do...</td>\n",
       "    </tr>\n",
       "    <tr>\n",
       "      <th>2</th>\n",
       "      <td>train_2288590299</td>\n",
       "      <td>000a190fdd715a2a36faed16e2c65df7.jpg</td>\n",
       "      <td>b94cb00ed3e50f78</td>\n",
       "      <td>2395904891</td>\n",
       "      <td>maling tts canned pork luncheon meat 397 gr</td>\n",
       "    </tr>\n",
       "    <tr>\n",
       "      <th>3</th>\n",
       "      <td>train_2406599165</td>\n",
       "      <td>00117e4fc239b1b641ff08340b429633.jpg</td>\n",
       "      <td>8514fc58eafea283</td>\n",
       "      <td>4093212188</td>\n",
       "      <td>daster batik lengan pendek - motif acak   camp...</td>\n",
       "    </tr>\n",
       "    <tr>\n",
       "      <th>4</th>\n",
       "      <td>train_3369186413</td>\n",
       "      <td>00136d1cf4edede0203f32f05f660588.jpg</td>\n",
       "      <td>a6f319f924ad708c</td>\n",
       "      <td>3648931069</td>\n",
       "      <td>nescafe  xc3 x89clair latte 220ml</td>\n",
       "    </tr>\n",
       "    <tr>\n",
       "      <th>...</th>\n",
       "      <td>...</td>\n",
       "      <td>...</td>\n",
       "      <td>...</td>\n",
       "      <td>...</td>\n",
       "      <td>...</td>\n",
       "    </tr>\n",
       "    <tr>\n",
       "      <th>32407</th>\n",
       "      <td>train_4028265689</td>\n",
       "      <td>fff1c07ceefc2c970a7964cfb81981c5.jpg</td>\n",
       "      <td>e3cd72389f248f21</td>\n",
       "      <td>3776555725</td>\n",
       "      <td>masker bahan kain spunbond non woven 75 gsm 3 ...</td>\n",
       "    </tr>\n",
       "    <tr>\n",
       "      <th>32408</th>\n",
       "      <td>train_769054909</td>\n",
       "      <td>fff401691371bdcb382a0d9075dfea6a.jpg</td>\n",
       "      <td>be86851f72e2853c</td>\n",
       "      <td>2736479533</td>\n",
       "      <td>mamypoko pants royal soft - s 70 - popok celana</td>\n",
       "    </tr>\n",
       "    <tr>\n",
       "      <th>32409</th>\n",
       "      <td>train_614977732</td>\n",
       "      <td>fff421b78fa7284284724baf249f522e.jpg</td>\n",
       "      <td>ad27f0d08c0fcbf0</td>\n",
       "      <td>4101248785</td>\n",
       "      <td>khanzaacc robot re101s 1.2mm subwoofer bass me...</td>\n",
       "    </tr>\n",
       "    <tr>\n",
       "      <th>32410</th>\n",
       "      <td>train_3630949769</td>\n",
       "      <td>fff51b87916dbfb6d0f8faa01bee67b8.jpg</td>\n",
       "      <td>e3b13bd1d896c05c</td>\n",
       "      <td>1663538013</td>\n",
       "      <td>kaldu non msg halal mama kamu ayam kampung , s...</td>\n",
       "    </tr>\n",
       "    <tr>\n",
       "      <th>32411</th>\n",
       "      <td>train_1792180725</td>\n",
       "      <td>ffffa0ab2ae542357671e96254fa7167.jpg</td>\n",
       "      <td>af8bc4b2d2cf9083</td>\n",
       "      <td>459464107</td>\n",
       "      <td>flex tape pelapis bocor   isolasi ajaib   anti...</td>\n",
       "    </tr>\n",
       "  </tbody>\n",
       "</table>\n",
       "<p>32412 rows × 5 columns</p>\n",
       "</div>"
      ],
      "text/plain": [
       "             posting_id                                 image  \\\n",
       "0       train_129225211  0000a68812bc7e98c42888dfb1c07da0.jpg   \n",
       "1      train_3386243561  00039780dfc94d01db8676fe789ecd05.jpg   \n",
       "2      train_2288590299  000a190fdd715a2a36faed16e2c65df7.jpg   \n",
       "3      train_2406599165  00117e4fc239b1b641ff08340b429633.jpg   \n",
       "4      train_3369186413  00136d1cf4edede0203f32f05f660588.jpg   \n",
       "...                 ...                                   ...   \n",
       "32407  train_4028265689  fff1c07ceefc2c970a7964cfb81981c5.jpg   \n",
       "32408   train_769054909  fff401691371bdcb382a0d9075dfea6a.jpg   \n",
       "32409   train_614977732  fff421b78fa7284284724baf249f522e.jpg   \n",
       "32410  train_3630949769  fff51b87916dbfb6d0f8faa01bee67b8.jpg   \n",
       "32411  train_1792180725  ffffa0ab2ae542357671e96254fa7167.jpg   \n",
       "\n",
       "            image_phash  label_group  \\\n",
       "0      94974f937d4c2433    249114794   \n",
       "1      af3f9460c2838f0f   2937985045   \n",
       "2      b94cb00ed3e50f78   2395904891   \n",
       "3      8514fc58eafea283   4093212188   \n",
       "4      a6f319f924ad708c   3648931069   \n",
       "...                 ...          ...   \n",
       "32407  e3cd72389f248f21   3776555725   \n",
       "32408  be86851f72e2853c   2736479533   \n",
       "32409  ad27f0d08c0fcbf0   4101248785   \n",
       "32410  e3b13bd1d896c05c   1663538013   \n",
       "32411  af8bc4b2d2cf9083    459464107   \n",
       "\n",
       "                                             title_lower  \n",
       "0                              paper bag victoria secret  \n",
       "1      double tape 3m vhb 12 mm x 4,5 m original   do...  \n",
       "2            maling tts canned pork luncheon meat 397 gr  \n",
       "3      daster batik lengan pendek - motif acak   camp...  \n",
       "4                      nescafe  xc3 x89clair latte 220ml  \n",
       "...                                                  ...  \n",
       "32407  masker bahan kain spunbond non woven 75 gsm 3 ...  \n",
       "32408    mamypoko pants royal soft - s 70 - popok celana  \n",
       "32409  khanzaacc robot re101s 1.2mm subwoofer bass me...  \n",
       "32410  kaldu non msg halal mama kamu ayam kampung , s...  \n",
       "32411  flex tape pelapis bocor   isolasi ajaib   anti...  \n",
       "\n",
       "[32412 rows x 5 columns]"
      ]
     },
     "execution_count": 28,
     "metadata": {},
     "output_type": "execute_result"
    }
   ],
   "source": [
    "train_df_reduced = train_df_reduced.drop(columns=['title', 'title_len'], axis=1)\n",
    "train_df_reduced"
   ]
  },
  {
   "cell_type": "code",
   "execution_count": 29,
   "id": "d42e6173-9b03-4da1-a63e-f96959bb7b38",
   "metadata": {},
   "outputs": [],
   "source": [
    "from sentence_transformers import SentenceTransformer"
   ]
  },
  {
   "cell_type": "code",
   "execution_count": 30,
   "id": "61267c33-df53-4a98-b564-66647751ac4e",
   "metadata": {},
   "outputs": [
    {
     "data": {
      "application/vnd.jupyter.widget-view+json": {
       "model_id": "f59914af30a64bd8886847964bbc19d2",
       "version_major": 2,
       "version_minor": 0
      },
      "text/plain": [
       "Downloading:   0%|          | 0.00/1.18k [00:00<?, ?B/s]"
      ]
     },
     "metadata": {},
     "output_type": "display_data"
    },
    {
     "data": {
      "application/vnd.jupyter.widget-view+json": {
       "model_id": "a959c8b29e51473f823b2ab6aabc9c42",
       "version_major": 2,
       "version_minor": 0
      },
      "text/plain": [
       "Downloading:   0%|          | 0.00/190 [00:00<?, ?B/s]"
      ]
     },
     "metadata": {},
     "output_type": "display_data"
    },
    {
     "data": {
      "application/vnd.jupyter.widget-view+json": {
       "model_id": "e2ce7c66683a48879e631c1737d2a1a0",
       "version_major": 2,
       "version_minor": 0
      },
      "text/plain": [
       "Downloading:   0%|          | 0.00/10.6k [00:00<?, ?B/s]"
      ]
     },
     "metadata": {},
     "output_type": "display_data"
    },
    {
     "data": {
      "application/vnd.jupyter.widget-view+json": {
       "model_id": "fb82573f196740b68bea5cefb599ebca",
       "version_major": 2,
       "version_minor": 0
      },
      "text/plain": [
       "Downloading:   0%|          | 0.00/612 [00:00<?, ?B/s]"
      ]
     },
     "metadata": {},
     "output_type": "display_data"
    },
    {
     "data": {
      "application/vnd.jupyter.widget-view+json": {
       "model_id": "67165e7d8aae4104b786550ba1598068",
       "version_major": 2,
       "version_minor": 0
      },
      "text/plain": [
       "Downloading:   0%|          | 0.00/116 [00:00<?, ?B/s]"
      ]
     },
     "metadata": {},
     "output_type": "display_data"
    },
    {
     "data": {
      "application/vnd.jupyter.widget-view+json": {
       "model_id": "2b93044cf09647f4b2f7c47fa866801d",
       "version_major": 2,
       "version_minor": 0
      },
      "text/plain": [
       "Downloading:   0%|          | 0.00/39.3k [00:00<?, ?B/s]"
      ]
     },
     "metadata": {},
     "output_type": "display_data"
    },
    {
     "data": {
      "application/vnd.jupyter.widget-view+json": {
       "model_id": "001d90e762914103941b4d79bb6803b1",
       "version_major": 2,
       "version_minor": 0
      },
      "text/plain": [
       "Downloading:   0%|          | 0.00/90.9M [00:00<?, ?B/s]"
      ]
     },
     "metadata": {},
     "output_type": "display_data"
    },
    {
     "data": {
      "application/vnd.jupyter.widget-view+json": {
       "model_id": "d28280a720e1406f83f1245034898ab2",
       "version_major": 2,
       "version_minor": 0
      },
      "text/plain": [
       "Downloading:   0%|          | 0.00/53.0 [00:00<?, ?B/s]"
      ]
     },
     "metadata": {},
     "output_type": "display_data"
    },
    {
     "data": {
      "application/vnd.jupyter.widget-view+json": {
       "model_id": "5532c98a61144335b3083e933190354e",
       "version_major": 2,
       "version_minor": 0
      },
      "text/plain": [
       "Downloading:   0%|          | 0.00/112 [00:00<?, ?B/s]"
      ]
     },
     "metadata": {},
     "output_type": "display_data"
    },
    {
     "data": {
      "application/vnd.jupyter.widget-view+json": {
       "model_id": "1b6d241395f1471fbd4a89507afa64c6",
       "version_major": 2,
       "version_minor": 0
      },
      "text/plain": [
       "Downloading:   0%|          | 0.00/466k [00:00<?, ?B/s]"
      ]
     },
     "metadata": {},
     "output_type": "display_data"
    },
    {
     "data": {
      "application/vnd.jupyter.widget-view+json": {
       "model_id": "e80937746d2b481eb3cff8f7ea2c16be",
       "version_major": 2,
       "version_minor": 0
      },
      "text/plain": [
       "Downloading:   0%|          | 0.00/350 [00:00<?, ?B/s]"
      ]
     },
     "metadata": {},
     "output_type": "display_data"
    },
    {
     "data": {
      "application/vnd.jupyter.widget-view+json": {
       "model_id": "1dfe6fcfc8ff4324b4b016efd0cf411a",
       "version_major": 2,
       "version_minor": 0
      },
      "text/plain": [
       "Downloading:   0%|          | 0.00/13.2k [00:00<?, ?B/s]"
      ]
     },
     "metadata": {},
     "output_type": "display_data"
    },
    {
     "data": {
      "application/vnd.jupyter.widget-view+json": {
       "model_id": "9c77c1b9dcb2475090921872ee659894",
       "version_major": 2,
       "version_minor": 0
      },
      "text/plain": [
       "Downloading:   0%|          | 0.00/232k [00:00<?, ?B/s]"
      ]
     },
     "metadata": {},
     "output_type": "display_data"
    },
    {
     "data": {
      "application/vnd.jupyter.widget-view+json": {
       "model_id": "1b8030b28fe84cafa139a1bf327d78b9",
       "version_major": 2,
       "version_minor": 0
      },
      "text/plain": [
       "Downloading:   0%|          | 0.00/349 [00:00<?, ?B/s]"
      ]
     },
     "metadata": {},
     "output_type": "display_data"
    }
   ],
   "source": [
    "model = SentenceTransformer('sentence-transformers/all-MiniLM-L6-v2')"
   ]
  },
  {
   "cell_type": "code",
   "execution_count": 31,
   "id": "f3637d65-6835-4f3a-81aa-86e6ba27abde",
   "metadata": {},
   "outputs": [
    {
     "data": {
      "text/html": [
       "<div>\n",
       "<style scoped>\n",
       "    .dataframe tbody tr th:only-of-type {\n",
       "        vertical-align: middle;\n",
       "    }\n",
       "\n",
       "    .dataframe tbody tr th {\n",
       "        vertical-align: top;\n",
       "    }\n",
       "\n",
       "    .dataframe thead th {\n",
       "        text-align: right;\n",
       "    }\n",
       "</style>\n",
       "<table border=\"1\" class=\"dataframe\">\n",
       "  <thead>\n",
       "    <tr style=\"text-align: right;\">\n",
       "      <th></th>\n",
       "      <th>posting_id</th>\n",
       "      <th>image</th>\n",
       "      <th>image_phash</th>\n",
       "      <th>label_group</th>\n",
       "      <th>title_lower</th>\n",
       "      <th>title_embedding</th>\n",
       "    </tr>\n",
       "  </thead>\n",
       "  <tbody>\n",
       "    <tr>\n",
       "      <th>0</th>\n",
       "      <td>train_129225211</td>\n",
       "      <td>0000a68812bc7e98c42888dfb1c07da0.jpg</td>\n",
       "      <td>94974f937d4c2433</td>\n",
       "      <td>249114794</td>\n",
       "      <td>paper bag victoria secret</td>\n",
       "      <td>[-0.09058655, 0.10051114, -0.026854696, 0.0585...</td>\n",
       "    </tr>\n",
       "    <tr>\n",
       "      <th>1</th>\n",
       "      <td>train_3386243561</td>\n",
       "      <td>00039780dfc94d01db8676fe789ecd05.jpg</td>\n",
       "      <td>af3f9460c2838f0f</td>\n",
       "      <td>2937985045</td>\n",
       "      <td>double tape 3m vhb 12 mm x 4,5 m original   do...</td>\n",
       "      <td>[0.036902573, 0.022976758, -0.048324637, -0.07...</td>\n",
       "    </tr>\n",
       "    <tr>\n",
       "      <th>2</th>\n",
       "      <td>train_2288590299</td>\n",
       "      <td>000a190fdd715a2a36faed16e2c65df7.jpg</td>\n",
       "      <td>b94cb00ed3e50f78</td>\n",
       "      <td>2395904891</td>\n",
       "      <td>maling tts canned pork luncheon meat 397 gr</td>\n",
       "      <td>[-0.11816407, 0.08628238, -0.009194563, -0.030...</td>\n",
       "    </tr>\n",
       "    <tr>\n",
       "      <th>3</th>\n",
       "      <td>train_2406599165</td>\n",
       "      <td>00117e4fc239b1b641ff08340b429633.jpg</td>\n",
       "      <td>8514fc58eafea283</td>\n",
       "      <td>4093212188</td>\n",
       "      <td>daster batik lengan pendek - motif acak   camp...</td>\n",
       "      <td>[-0.17398578, 0.10638577, -0.10962987, -0.0500...</td>\n",
       "    </tr>\n",
       "    <tr>\n",
       "      <th>4</th>\n",
       "      <td>train_3369186413</td>\n",
       "      <td>00136d1cf4edede0203f32f05f660588.jpg</td>\n",
       "      <td>a6f319f924ad708c</td>\n",
       "      <td>3648931069</td>\n",
       "      <td>nescafe  xc3 x89clair latte 220ml</td>\n",
       "      <td>[-0.07143933, -0.046127107, -0.09208028, -0.01...</td>\n",
       "    </tr>\n",
       "    <tr>\n",
       "      <th>...</th>\n",
       "      <td>...</td>\n",
       "      <td>...</td>\n",
       "      <td>...</td>\n",
       "      <td>...</td>\n",
       "      <td>...</td>\n",
       "      <td>...</td>\n",
       "    </tr>\n",
       "    <tr>\n",
       "      <th>32407</th>\n",
       "      <td>train_4028265689</td>\n",
       "      <td>fff1c07ceefc2c970a7964cfb81981c5.jpg</td>\n",
       "      <td>e3cd72389f248f21</td>\n",
       "      <td>3776555725</td>\n",
       "      <td>masker bahan kain spunbond non woven 75 gsm 3 ...</td>\n",
       "      <td>[-0.1140227, 0.061673008, -0.0471031, -0.01702...</td>\n",
       "    </tr>\n",
       "    <tr>\n",
       "      <th>32408</th>\n",
       "      <td>train_769054909</td>\n",
       "      <td>fff401691371bdcb382a0d9075dfea6a.jpg</td>\n",
       "      <td>be86851f72e2853c</td>\n",
       "      <td>2736479533</td>\n",
       "      <td>mamypoko pants royal soft - s 70 - popok celana</td>\n",
       "      <td>[-0.115607135, 0.054327995, -0.030604726, 0.02...</td>\n",
       "    </tr>\n",
       "    <tr>\n",
       "      <th>32409</th>\n",
       "      <td>train_614977732</td>\n",
       "      <td>fff421b78fa7284284724baf249f522e.jpg</td>\n",
       "      <td>ad27f0d08c0fcbf0</td>\n",
       "      <td>4101248785</td>\n",
       "      <td>khanzaacc robot re101s 1.2mm subwoofer bass me...</td>\n",
       "      <td>[-0.13305949, -0.0010876396, -0.058274828, 0.0...</td>\n",
       "    </tr>\n",
       "    <tr>\n",
       "      <th>32410</th>\n",
       "      <td>train_3630949769</td>\n",
       "      <td>fff51b87916dbfb6d0f8faa01bee67b8.jpg</td>\n",
       "      <td>e3b13bd1d896c05c</td>\n",
       "      <td>1663538013</td>\n",
       "      <td>kaldu non msg halal mama kamu ayam kampung , s...</td>\n",
       "      <td>[-0.023244496, 0.0318556, -0.037068184, 0.0241...</td>\n",
       "    </tr>\n",
       "    <tr>\n",
       "      <th>32411</th>\n",
       "      <td>train_1792180725</td>\n",
       "      <td>ffffa0ab2ae542357671e96254fa7167.jpg</td>\n",
       "      <td>af8bc4b2d2cf9083</td>\n",
       "      <td>459464107</td>\n",
       "      <td>flex tape pelapis bocor   isolasi ajaib   anti...</td>\n",
       "      <td>[-0.08352681, 0.04325505, -0.07883127, -0.0351...</td>\n",
       "    </tr>\n",
       "  </tbody>\n",
       "</table>\n",
       "<p>32412 rows × 6 columns</p>\n",
       "</div>"
      ],
      "text/plain": [
       "             posting_id                                 image  \\\n",
       "0       train_129225211  0000a68812bc7e98c42888dfb1c07da0.jpg   \n",
       "1      train_3386243561  00039780dfc94d01db8676fe789ecd05.jpg   \n",
       "2      train_2288590299  000a190fdd715a2a36faed16e2c65df7.jpg   \n",
       "3      train_2406599165  00117e4fc239b1b641ff08340b429633.jpg   \n",
       "4      train_3369186413  00136d1cf4edede0203f32f05f660588.jpg   \n",
       "...                 ...                                   ...   \n",
       "32407  train_4028265689  fff1c07ceefc2c970a7964cfb81981c5.jpg   \n",
       "32408   train_769054909  fff401691371bdcb382a0d9075dfea6a.jpg   \n",
       "32409   train_614977732  fff421b78fa7284284724baf249f522e.jpg   \n",
       "32410  train_3630949769  fff51b87916dbfb6d0f8faa01bee67b8.jpg   \n",
       "32411  train_1792180725  ffffa0ab2ae542357671e96254fa7167.jpg   \n",
       "\n",
       "            image_phash  label_group  \\\n",
       "0      94974f937d4c2433    249114794   \n",
       "1      af3f9460c2838f0f   2937985045   \n",
       "2      b94cb00ed3e50f78   2395904891   \n",
       "3      8514fc58eafea283   4093212188   \n",
       "4      a6f319f924ad708c   3648931069   \n",
       "...                 ...          ...   \n",
       "32407  e3cd72389f248f21   3776555725   \n",
       "32408  be86851f72e2853c   2736479533   \n",
       "32409  ad27f0d08c0fcbf0   4101248785   \n",
       "32410  e3b13bd1d896c05c   1663538013   \n",
       "32411  af8bc4b2d2cf9083    459464107   \n",
       "\n",
       "                                             title_lower  \\\n",
       "0                              paper bag victoria secret   \n",
       "1      double tape 3m vhb 12 mm x 4,5 m original   do...   \n",
       "2            maling tts canned pork luncheon meat 397 gr   \n",
       "3      daster batik lengan pendek - motif acak   camp...   \n",
       "4                      nescafe  xc3 x89clair latte 220ml   \n",
       "...                                                  ...   \n",
       "32407  masker bahan kain spunbond non woven 75 gsm 3 ...   \n",
       "32408    mamypoko pants royal soft - s 70 - popok celana   \n",
       "32409  khanzaacc robot re101s 1.2mm subwoofer bass me...   \n",
       "32410  kaldu non msg halal mama kamu ayam kampung , s...   \n",
       "32411  flex tape pelapis bocor   isolasi ajaib   anti...   \n",
       "\n",
       "                                         title_embedding  \n",
       "0      [-0.09058655, 0.10051114, -0.026854696, 0.0585...  \n",
       "1      [0.036902573, 0.022976758, -0.048324637, -0.07...  \n",
       "2      [-0.11816407, 0.08628238, -0.009194563, -0.030...  \n",
       "3      [-0.17398578, 0.10638577, -0.10962987, -0.0500...  \n",
       "4      [-0.07143933, -0.046127107, -0.09208028, -0.01...  \n",
       "...                                                  ...  \n",
       "32407  [-0.1140227, 0.061673008, -0.0471031, -0.01702...  \n",
       "32408  [-0.115607135, 0.054327995, -0.030604726, 0.02...  \n",
       "32409  [-0.13305949, -0.0010876396, -0.058274828, 0.0...  \n",
       "32410  [-0.023244496, 0.0318556, -0.037068184, 0.0241...  \n",
       "32411  [-0.08352681, 0.04325505, -0.07883127, -0.0351...  \n",
       "\n",
       "[32412 rows x 6 columns]"
      ]
     },
     "execution_count": 31,
     "metadata": {},
     "output_type": "execute_result"
    }
   ],
   "source": [
    "train_df_reduced['title_embedding'] = train_df_reduced['title_lower'].apply(lambda x: model.encode(x))\n",
    "\n",
    "train_df_reduced"
   ]
  },
  {
   "cell_type": "code",
   "execution_count": 32,
   "id": "959db9e6-f6e4-413c-ab07-dea79e96e7aa",
   "metadata": {},
   "outputs": [],
   "source": [
    "import torch\n",
    "import torchvision\n",
    "import cv2"
   ]
  },
  {
   "cell_type": "code",
   "execution_count": 33,
   "id": "cbaf85eb-77b3-4567-8882-1ca6957728c4",
   "metadata": {},
   "outputs": [
    {
     "data": {
      "text/plain": [
       "32412"
      ]
     },
     "execution_count": 33,
     "metadata": {},
     "output_type": "execute_result"
    }
   ],
   "source": [
    "train_image_url_list = os.listdir(data_dir + 'train_images')\n",
    "len(train_image_url_list)"
   ]
  },
  {
   "cell_type": "code",
   "execution_count": 34,
   "id": "ae499dce-fbb4-4e76-9c03-435f296da528",
   "metadata": {},
   "outputs": [
    {
     "data": {
      "text/plain": [
       "['2acfffc7636789596041b426cbd345af.jpg',\n",
       " 'a68eb1b5a0c1c326d7b6ef42cfddaf69.jpg',\n",
       " 'effc540299fe3a4b132802f0a9547a4e.jpg',\n",
       " '53bd87d83a50740667ecd736bb067388.jpg',\n",
       " '5799f0087fb40852b8e52738dfe74da9.jpg']"
      ]
     },
     "execution_count": 34,
     "metadata": {},
     "output_type": "execute_result"
    }
   ],
   "source": [
    "train_image_url_list[:5]"
   ]
  },
  {
   "cell_type": "code",
   "execution_count": 36,
   "id": "df017890-a705-4e3e-ad95-8f04e9908e5d",
   "metadata": {},
   "outputs": [
    {
     "data": {
      "image/png": "[encoded data removed]",
      "text/plain": [
       "<Figure size 432x288 with 1 Axes>"
      ]
     },
     "metadata": {
      "needs_background": "light"
     },
     "output_type": "display_data"
    }
   ],
   "source": [
    "img0 = plt.imread(data_dir + 'train_images/' + train_image_url_list[0])\n",
    "\n",
    "plt.imshow(img0)\n",
    "plt.show()"
   ]
  },
  {
   "cell_type": "code",
   "execution_count": 46,
   "id": "ea4fa6fe-b43a-45b6-b279-324ea8a27c32",
   "metadata": {},
   "outputs": [
    {
     "data": {
      "image/png": "[encoded data removed]",
      "text/plain": [
       "<Figure size 432x288 with 1 Axes>"
      ]
     },
     "metadata": {
      "needs_background": "light"
     },
     "output_type": "display_data"
    }
   ],
   "source": [
    "rand_num = np.random.randint(0, len(train_image_url_list))\n",
    "\n",
    "img_rand = plt.imread(data_dir + 'train_images/' + train_image_url_list[rand_num])\n",
    "\n",
    "plt.imshow(img_rand)\n",
    "\n",
    "plt.show()"
   ]
  },
  {
   "cell_type": "code",
   "execution_count": 52,
   "id": "767a1fa4-024d-4694-96cb-aeef92999d8a",
   "metadata": {},
   "outputs": [
    {
     "data": {
      "text/plain": [
       "5000"
      ]
     },
     "execution_count": 52,
     "metadata": {},
     "output_type": "execute_result"
    }
   ],
   "source": [
    "sample_images = np.random.choice(train_image_url_list, 5000, replace=False)\n",
    "len(sample_images)"
   ]
  },
  {
   "cell_type": "code",
   "execution_count": 53,
   "id": "627638b4-f82e-46cb-91fc-ac827a9b7728",
   "metadata": {},
   "outputs": [
    {
     "data": {
      "text/plain": [
       "array(['cec46022c0638ec050ce938ed6a2079b.jpg',\n",
       "       'b22216a4b9c82861f41fc720056ea3fd.jpg',\n",
       "       'eb19c3d635e5b74c6f76d61742460273.jpg', ...,\n",
       "       '5bd39403283c25e6445ccd8a07eb5cef.jpg',\n",
       "       'ca8c7389724494344f9f413bc9ea18c3.jpg',\n",
       "       'e328ca4c7832a81a2003663a4821aba9.jpg'], dtype='<U36')"
      ]
     },
     "execution_count": 53,
     "metadata": {},
     "output_type": "execute_result"
    }
   ],
   "source": [
    "sample_images"
   ]
  },
  {
   "cell_type": "code",
   "execution_count": 54,
   "id": "8483fd15-44a5-46fb-a87e-f96d8ccbcdb8",
   "metadata": {},
   "outputs": [
    {
     "data": {
      "text/plain": [
       "(5000, 6)"
      ]
     },
     "execution_count": 54,
     "metadata": {},
     "output_type": "execute_result"
    }
   ],
   "source": [
    "train_df_sample = train_df_reduced[train_df_reduced['image'].isin(sample_images)]\n",
    "train_df_sample.shape"
   ]
  },
  {
   "cell_type": "code",
   "execution_count": 55,
   "id": "40149ef1-d51b-4725-ba24-30d57405e804",
   "metadata": {},
   "outputs": [
    {
     "data": {
      "text/html": [
       "<div>\n",
       "<style scoped>\n",
       "    .dataframe tbody tr th:only-of-type {\n",
       "        vertical-align: middle;\n",
       "    }\n",
       "\n",
       "    .dataframe tbody tr th {\n",
       "        vertical-align: top;\n",
       "    }\n",
       "\n",
       "    .dataframe thead th {\n",
       "        text-align: right;\n",
       "    }\n",
       "</style>\n",
       "<table border=\"1\" class=\"dataframe\">\n",
       "  <thead>\n",
       "    <tr style=\"text-align: right;\">\n",
       "      <th></th>\n",
       "      <th>posting_id</th>\n",
       "      <th>image</th>\n",
       "      <th>image_phash</th>\n",
       "      <th>label_group</th>\n",
       "      <th>title_lower</th>\n",
       "      <th>title_embedding</th>\n",
       "    </tr>\n",
       "  </thead>\n",
       "  <tbody>\n",
       "    <tr>\n",
       "      <th>0</th>\n",
       "      <td>train_129225211</td>\n",
       "      <td>0000a68812bc7e98c42888dfb1c07da0.jpg</td>\n",
       "      <td>94974f937d4c2433</td>\n",
       "      <td>249114794</td>\n",
       "      <td>paper bag victoria secret</td>\n",
       "      <td>[-0.09058655, 0.10051114, -0.026854696, 0.0585...</td>\n",
       "    </tr>\n",
       "    <tr>\n",
       "      <th>2</th>\n",
       "      <td>train_2288590299</td>\n",
       "      <td>000a190fdd715a2a36faed16e2c65df7.jpg</td>\n",
       "      <td>b94cb00ed3e50f78</td>\n",
       "      <td>2395904891</td>\n",
       "      <td>maling tts canned pork luncheon meat 397 gr</td>\n",
       "      <td>[-0.11816407, 0.08628238, -0.009194563, -0.030...</td>\n",
       "    </tr>\n",
       "    <tr>\n",
       "      <th>17</th>\n",
       "      <td>train_2985955659</td>\n",
       "      <td>002f978c58a44a00aadfca71c3cad2bb.jpg</td>\n",
       "      <td>bf38f0e083d7c710</td>\n",
       "      <td>3415582503</td>\n",
       "      <td>hnkfashion sweater hoodie who printing babyter...</td>\n",
       "      <td>[-0.0991996, 0.078665726, -0.06779641, 0.03670...</td>\n",
       "    </tr>\n",
       "    <tr>\n",
       "      <th>20</th>\n",
       "      <td>train_2238403912</td>\n",
       "      <td>003524b70715bf6bfa00451ca08e66e0.jpg</td>\n",
       "      <td>ba35c44a3fb7c068</td>\n",
       "      <td>531768918</td>\n",
       "      <td>kangaroo teflon   allu fry pan 18 cm - kg652</td>\n",
       "      <td>[-0.011950225, 0.045403335, -0.039399616, 0.01...</td>\n",
       "    </tr>\n",
       "    <tr>\n",
       "      <th>41</th>\n",
       "      <td>train_3350934785</td>\n",
       "      <td>0062ecb6613287fde4d3a6542e2d8bc7.jpg</td>\n",
       "      <td>bacb3ccb6634309c</td>\n",
       "      <td>960169860</td>\n",
       "      <td>kitoderm facial soap acne tea tree oil hijau  ...</td>\n",
       "      <td>[-0.087226845, 0.03220093, 0.05733148, -0.0022...</td>\n",
       "    </tr>\n",
       "    <tr>\n",
       "      <th>...</th>\n",
       "      <td>...</td>\n",
       "      <td>...</td>\n",
       "      <td>...</td>\n",
       "      <td>...</td>\n",
       "      <td>...</td>\n",
       "      <td>...</td>\n",
       "    </tr>\n",
       "    <tr>\n",
       "      <th>32392</th>\n",
       "      <td>train_259196128</td>\n",
       "      <td>ffcd708bcca72f3f9aacd2a50a8827f3.jpg</td>\n",
       "      <td>e7930c6e96635394</td>\n",
       "      <td>606327911</td>\n",
       "      <td>power bank veger ultimate x10 pro 10.000mah le...</td>\n",
       "      <td>[-0.059267107, 0.045955956, -0.087158576, -0.0...</td>\n",
       "    </tr>\n",
       "    <tr>\n",
       "      <th>32402</th>\n",
       "      <td>train_2876777099</td>\n",
       "      <td>ffea625e5d806645008a53f4dcaa7076.jpg</td>\n",
       "      <td>bbb5cc63949841b6</td>\n",
       "      <td>2413419336</td>\n",
       "      <td>active mask onecare 3ply earloop 3pcs</td>\n",
       "      <td>[-0.040425267, -0.07137409, -0.029895315, -0.0...</td>\n",
       "    </tr>\n",
       "    <tr>\n",
       "      <th>32406</th>\n",
       "      <td>train_945815402</td>\n",
       "      <td>fff1222750374ddbed82b17c8bd2766d.jpg</td>\n",
       "      <td>b0cbce308fcdcc64</td>\n",
       "      <td>3091541662</td>\n",
       "      <td>baterai batre battery xiaomi redmi note 3 bm46...</td>\n",
       "      <td>[-0.0902806, 0.04645677, -0.09206538, 0.039255...</td>\n",
       "    </tr>\n",
       "    <tr>\n",
       "      <th>32407</th>\n",
       "      <td>train_4028265689</td>\n",
       "      <td>fff1c07ceefc2c970a7964cfb81981c5.jpg</td>\n",
       "      <td>e3cd72389f248f21</td>\n",
       "      <td>3776555725</td>\n",
       "      <td>masker bahan kain spunbond non woven 75 gsm 3 ...</td>\n",
       "      <td>[-0.1140227, 0.061673008, -0.0471031, -0.01702...</td>\n",
       "    </tr>\n",
       "    <tr>\n",
       "      <th>32410</th>\n",
       "      <td>train_3630949769</td>\n",
       "      <td>fff51b87916dbfb6d0f8faa01bee67b8.jpg</td>\n",
       "      <td>e3b13bd1d896c05c</td>\n",
       "      <td>1663538013</td>\n",
       "      <td>kaldu non msg halal mama kamu ayam kampung , s...</td>\n",
       "      <td>[-0.023244496, 0.0318556, -0.037068184, 0.0241...</td>\n",
       "    </tr>\n",
       "  </tbody>\n",
       "</table>\n",
       "<p>5000 rows × 6 columns</p>\n",
       "</div>"
      ],
      "text/plain": [
       "             posting_id                                 image  \\\n",
       "0       train_129225211  0000a68812bc7e98c42888dfb1c07da0.jpg   \n",
       "2      train_2288590299  000a190fdd715a2a36faed16e2c65df7.jpg   \n",
       "17     train_2985955659  002f978c58a44a00aadfca71c3cad2bb.jpg   \n",
       "20     train_2238403912  003524b70715bf6bfa00451ca08e66e0.jpg   \n",
       "41     train_3350934785  0062ecb6613287fde4d3a6542e2d8bc7.jpg   \n",
       "...                 ...                                   ...   \n",
       "32392   train_259196128  ffcd708bcca72f3f9aacd2a50a8827f3.jpg   \n",
       "32402  train_2876777099  ffea625e5d806645008a53f4dcaa7076.jpg   \n",
       "32406   train_945815402  fff1222750374ddbed82b17c8bd2766d.jpg   \n",
       "32407  train_4028265689  fff1c07ceefc2c970a7964cfb81981c5.jpg   \n",
       "32410  train_3630949769  fff51b87916dbfb6d0f8faa01bee67b8.jpg   \n",
       "\n",
       "            image_phash  label_group  \\\n",
       "0      94974f937d4c2433    249114794   \n",
       "2      b94cb00ed3e50f78   2395904891   \n",
       "17     bf38f0e083d7c710   3415582503   \n",
       "20     ba35c44a3fb7c068    531768918   \n",
       "41     bacb3ccb6634309c    960169860   \n",
       "...                 ...          ...   \n",
       "32392  e7930c6e96635394    606327911   \n",
       "32402  bbb5cc63949841b6   2413419336   \n",
       "32406  b0cbce308fcdcc64   3091541662   \n",
       "32407  e3cd72389f248f21   3776555725   \n",
       "32410  e3b13bd1d896c05c   1663538013   \n",
       "\n",
       "                                             title_lower  \\\n",
       "0                              paper bag victoria secret   \n",
       "2            maling tts canned pork luncheon meat 397 gr   \n",
       "17     hnkfashion sweater hoodie who printing babyter...   \n",
       "20          kangaroo teflon   allu fry pan 18 cm - kg652   \n",
       "41     kitoderm facial soap acne tea tree oil hijau  ...   \n",
       "...                                                  ...   \n",
       "32392  power bank veger ultimate x10 pro 10.000mah le...   \n",
       "32402              active mask onecare 3ply earloop 3pcs   \n",
       "32406  baterai batre battery xiaomi redmi note 3 bm46...   \n",
       "32407  masker bahan kain spunbond non woven 75 gsm 3 ...   \n",
       "32410  kaldu non msg halal mama kamu ayam kampung , s...   \n",
       "\n",
       "                                         title_embedding  \n",
       "0      [-0.09058655, 0.10051114, -0.026854696, 0.0585...  \n",
       "2      [-0.11816407, 0.08628238, -0.009194563, -0.030...  \n",
       "17     [-0.0991996, 0.078665726, -0.06779641, 0.03670...  \n",
       "20     [-0.011950225, 0.045403335, -0.039399616, 0.01...  \n",
       "41     [-0.087226845, 0.03220093, 0.05733148, -0.0022...  \n",
       "...                                                  ...  \n",
       "32392  [-0.059267107, 0.045955956, -0.087158576, -0.0...  \n",
       "32402  [-0.040425267, -0.07137409, -0.029895315, -0.0...  \n",
       "32406  [-0.0902806, 0.04645677, -0.09206538, 0.039255...  \n",
       "32407  [-0.1140227, 0.061673008, -0.0471031, -0.01702...  \n",
       "32410  [-0.023244496, 0.0318556, -0.037068184, 0.0241...  \n",
       "\n",
       "[5000 rows x 6 columns]"
      ]
     },
     "execution_count": 55,
     "metadata": {},
     "output_type": "execute_result"
    }
   ],
   "source": [
    "train_df_sample"
   ]
  },
  {
   "cell_type": "code",
   "execution_count": 56,
   "id": "5050cf9a-1fad-448c-814d-d2199671504b",
   "metadata": {},
   "outputs": [
    {
     "data": {
      "text/plain": [
       "3964"
      ]
     },
     "execution_count": 56,
     "metadata": {},
     "output_type": "execute_result"
    }
   ],
   "source": [
    "train_df_sample['label_group'].nunique()"
   ]
  },
  {
   "cell_type": "code",
   "execution_count": 57,
   "id": "468dca93-8103-4c5a-bff5-b03eb15df217",
   "metadata": {},
   "outputs": [],
   "source": [
    "from PIL import Image"
   ]
  },
  {
   "cell_type": "code",
   "execution_count": 58,
   "id": "bcad6172-fc2c-475e-9c81-69e8040d9903",
   "metadata": {},
   "outputs": [],
   "source": [
    "image_dir = data_dir + 'train_images/'"
   ]
  },
  {
   "cell_type": "code",
   "execution_count": 79,
   "id": "70d0fd00-4d83-48a6-ae96-28b69497bd9e",
   "metadata": {},
   "outputs": [],
   "source": [
    "sample_img = image_dir + sample_images[130]\n",
    "\n",
    "im = Image.open(sample_img)\n",
    "\n",
    "#im.show()"
   ]
  },
  {
   "cell_type": "code",
   "execution_count": 80,
   "id": "93aaf857-ed31-4876-a4b6-b5a4e62caebd",
   "metadata": {},
   "outputs": [
    {
     "data": {
      "text/plain": [
       "(300, 300)"
      ]
     },
     "execution_count": 80,
     "metadata": {},
     "output_type": "execute_result"
    }
   ],
   "source": [
    "im.size"
   ]
  },
  {
   "cell_type": "code",
   "execution_count": 81,
   "id": "e20d9093-4505-4869-872d-88b13ca15d80",
   "metadata": {},
   "outputs": [
    {
     "data": {
      "text/plain": [
       "'JPEG'"
      ]
     },
     "execution_count": 81,
     "metadata": {},
     "output_type": "execute_result"
    }
   ],
   "source": [
    "im.format"
   ]
  },
  {
   "cell_type": "code",
   "execution_count": 82,
   "id": "d230c65e-6aa9-4268-9d5f-4cf0632e6dc3",
   "metadata": {},
   "outputs": [
    {
     "data": {
      "text/plain": [
       "'RGB'"
      ]
     },
     "execution_count": 82,
     "metadata": {},
     "output_type": "execute_result"
    }
   ],
   "source": [
    "im.mode"
   ]
  },
  {
   "cell_type": "code",
   "execution_count": 63,
   "id": "7a84b32c-4355-4d5e-abe5-e3500247a0bd",
   "metadata": {},
   "outputs": [],
   "source": [
    "from pathlib import Path"
   ]
  },
  {
   "cell_type": "code",
   "execution_count": 64,
   "id": "1501ed6c-db41-44b3-805e-32ac822555ce",
   "metadata": {},
   "outputs": [],
   "source": [
    "def show(imgs):\n",
    "    \n",
    "    fig, axs = plt.subplots(ncols=len(imgs), squeeze=False)\n",
    "    \n",
    "    for i, img in enumerate(imgs):\n",
    "        \n",
    "        img = torchvision.transforms.ToPILImage()(img.to('cpu'))\n",
    "        \n",
    "        axs[0, i].imshow(np.asarray(img))\n",
    "        \n",
    "        axs[0, i].set(xticklabels=[], yticklabels=[], xticks=[], yticks=[])\n",
    "    "
   ]
  },
  {
   "cell_type": "code",
   "execution_count": 66,
   "id": "e0a7d38d-7bb5-4434-bc80-e304232960ca",
   "metadata": {},
   "outputs": [
    {
     "data": {
      "image/png": "[encoded data removed]",
      "text/plain": [
       "<Figure size 432x288 with 5 Axes>"
      ]
     },
     "metadata": {},
     "output_type": "display_data"
    }
   ],
   "source": [
    "img_list = [torchvision.io.read_image(str(Path(image_dir) / sample_images[i])) for i in range(5)]\n",
    "\n",
    "show(img_list)"
   ]
  },
  {
   "cell_type": "code",
   "execution_count": 68,
   "id": "2c4049b7-0108-4f54-ad17-46ee8d7c7fb2",
   "metadata": {},
   "outputs": [
    {
     "data": {
      "text/plain": [
       "tensor([[[255, 255, 255,  ..., 254, 254, 254],\n",
       "         [255, 255, 255,  ..., 254, 254, 254],\n",
       "         [239, 241, 241,  ..., 254, 254, 254],\n",
       "         ...,\n",
       "         [255, 255, 255,  ..., 254, 254, 254],\n",
       "         [255, 255, 255,  ..., 254, 254, 254],\n",
       "         [255, 255, 255,  ..., 254, 254, 254]],\n",
       "\n",
       "        [[243, 243, 243,  ...,   0,   0,   0],\n",
       "         [249, 249, 249,  ...,   0,   0,   0],\n",
       "         [255, 255, 255,  ...,   0,   0,   0],\n",
       "         ...,\n",
       "         [255, 255, 255,  ...,   0,   0,   0],\n",
       "         [255, 255, 255,  ...,   0,   0,   0],\n",
       "         [255, 255, 255,  ...,   0,   0,   0]],\n",
       "\n",
       "        [[252, 252, 252,  ...,   0,   0,   0],\n",
       "         [252, 252, 252,  ...,   0,   0,   0],\n",
       "         [254, 254, 254,  ...,   0,   0,   0],\n",
       "         ...,\n",
       "         [255, 255, 255,  ...,   0,   0,   0],\n",
       "         [255, 255, 255,  ...,   0,   0,   0],\n",
       "         [255, 255, 255,  ...,   0,   0,   0]]], dtype=torch.uint8)"
      ]
     },
     "execution_count": 68,
     "metadata": {},
     "output_type": "execute_result"
    }
   ],
   "source": [
    "torchvision.io.read_image(str(Path(image_dir) / sample_images[0]))"
   ]
  },
  {
   "cell_type": "code",
   "execution_count": 142,
   "id": "cea20229-46c1-4404-b18a-05faf9c2d91e",
   "metadata": {},
   "outputs": [],
   "source": [
    "#rescale = lambda x: x / 255.0\n",
    "\n",
    "img_transforms = torchvision.transforms.Compose([\n",
    "    torchvision.transforms.Resize((224, 224)),\n",
    "    torchvision.transforms.ToTensor(),\n",
    "   # torchvision.transforms.Lambda(rescale),\n",
    "    torchvision.transforms.Normalize([0.5, 0.5, 0.5], [0.5, 0.5, 0.5])\n",
    "])"
   ]
  },
  {
   "cell_type": "code",
   "execution_count": 143,
   "id": "195adac5-1dc5-489d-b3dd-cf9a32d8d3c3",
   "metadata": {},
   "outputs": [
    {
     "data": {
      "text/plain": [
       "torch.Size([3, 224, 224])"
      ]
     },
     "execution_count": 143,
     "metadata": {},
     "output_type": "execute_result"
    }
   ],
   "source": [
    "sample_img = image_dir + sample_images[130]\n",
    "\n",
    "im = Image.open(sample_img)\n",
    "\n",
    "test_transforms = img_transforms(im)\n",
    "test_transforms.shape"
   ]
  },
  {
   "cell_type": "code",
   "execution_count": 91,
   "id": "efae1f87-397d-4079-b1c3-e35fc93f5490",
   "metadata": {},
   "outputs": [
    {
     "name": "stderr",
     "output_type": "stream",
     "text": [
      "Clipping input data to the valid range for imshow with RGB data ([0..1] for floats or [0..255] for integers).\n"
     ]
    },
    {
     "data": {
      "image/png": "[encoded data removed]",
      "text/plain": [
       "<Figure size 432x288 with 1 Axes>"
      ]
     },
     "metadata": {
      "needs_background": "light"
     },
     "output_type": "display_data"
    }
   ],
   "source": [
    "plt.imshow(test_transforms.numpy().transpose(1,2,0))\n",
    "plt.show()"
   ]
  },
  {
   "cell_type": "code",
   "execution_count": 103,
   "id": "43fd2573-d905-45f7-bd63-c09d5823ac27",
   "metadata": {},
   "outputs": [],
   "source": [
    "from transformers import ViTFeatureExtractor, ViTModel\n",
    "from transformers import AutoFeatureExtractor, AutoModel\n",
    "from transformers import AutoTokenizer"
   ]
  },
  {
   "cell_type": "code",
   "execution_count": 95,
   "id": "8b176b24-8d77-45ac-8a49-45c6cfdefde8",
   "metadata": {},
   "outputs": [],
   "source": [
    "#train_df_sample.loc[0, 'title_embedding']"
   ]
  },
  {
   "cell_type": "code",
   "execution_count": 101,
   "id": "44a80094-7b0b-4229-89d9-e1cb7629abb8",
   "metadata": {},
   "outputs": [
    {
     "data": {
      "text/plain": [
       "'maling tts canned pork luncheon meat 397 gr'"
      ]
     },
     "execution_count": 101,
     "metadata": {},
     "output_type": "execute_result"
    }
   ],
   "source": [
    "#train_df_sample.iloc[1, -2]"
   ]
  },
  {
   "cell_type": "code",
   "execution_count": 102,
   "id": "d5b0f400-74db-4f88-9ec4-faf37b96d742",
   "metadata": {},
   "outputs": [
    {
     "data": {
      "text/html": [
       "<div>\n",
       "<style scoped>\n",
       "    .dataframe tbody tr th:only-of-type {\n",
       "        vertical-align: middle;\n",
       "    }\n",
       "\n",
       "    .dataframe tbody tr th {\n",
       "        vertical-align: top;\n",
       "    }\n",
       "\n",
       "    .dataframe thead th {\n",
       "        text-align: right;\n",
       "    }\n",
       "</style>\n",
       "<table border=\"1\" class=\"dataframe\">\n",
       "  <thead>\n",
       "    <tr style=\"text-align: right;\">\n",
       "      <th></th>\n",
       "      <th>posting_id</th>\n",
       "      <th>image</th>\n",
       "      <th>image_phash</th>\n",
       "      <th>label_group</th>\n",
       "      <th>title_lower</th>\n",
       "      <th>title_embedding</th>\n",
       "    </tr>\n",
       "  </thead>\n",
       "  <tbody>\n",
       "    <tr>\n",
       "      <th>0</th>\n",
       "      <td>train_129225211</td>\n",
       "      <td>0000a68812bc7e98c42888dfb1c07da0.jpg</td>\n",
       "      <td>94974f937d4c2433</td>\n",
       "      <td>249114794</td>\n",
       "      <td>paper bag victoria secret</td>\n",
       "      <td>[-0.09058655, 0.10051114, -0.026854696, 0.0585...</td>\n",
       "    </tr>\n",
       "    <tr>\n",
       "      <th>2</th>\n",
       "      <td>train_2288590299</td>\n",
       "      <td>000a190fdd715a2a36faed16e2c65df7.jpg</td>\n",
       "      <td>b94cb00ed3e50f78</td>\n",
       "      <td>2395904891</td>\n",
       "      <td>maling tts canned pork luncheon meat 397 gr</td>\n",
       "      <td>[-0.11816407, 0.08628238, -0.009194563, -0.030...</td>\n",
       "    </tr>\n",
       "    <tr>\n",
       "      <th>17</th>\n",
       "      <td>train_2985955659</td>\n",
       "      <td>002f978c58a44a00aadfca71c3cad2bb.jpg</td>\n",
       "      <td>bf38f0e083d7c710</td>\n",
       "      <td>3415582503</td>\n",
       "      <td>hnkfashion sweater hoodie who printing babyter...</td>\n",
       "      <td>[-0.0991996, 0.078665726, -0.06779641, 0.03670...</td>\n",
       "    </tr>\n",
       "    <tr>\n",
       "      <th>20</th>\n",
       "      <td>train_2238403912</td>\n",
       "      <td>003524b70715bf6bfa00451ca08e66e0.jpg</td>\n",
       "      <td>ba35c44a3fb7c068</td>\n",
       "      <td>531768918</td>\n",
       "      <td>kangaroo teflon   allu fry pan 18 cm - kg652</td>\n",
       "      <td>[-0.011950225, 0.045403335, -0.039399616, 0.01...</td>\n",
       "    </tr>\n",
       "    <tr>\n",
       "      <th>41</th>\n",
       "      <td>train_3350934785</td>\n",
       "      <td>0062ecb6613287fde4d3a6542e2d8bc7.jpg</td>\n",
       "      <td>bacb3ccb6634309c</td>\n",
       "      <td>960169860</td>\n",
       "      <td>kitoderm facial soap acne tea tree oil hijau  ...</td>\n",
       "      <td>[-0.087226845, 0.03220093, 0.05733148, -0.0022...</td>\n",
       "    </tr>\n",
       "    <tr>\n",
       "      <th>...</th>\n",
       "      <td>...</td>\n",
       "      <td>...</td>\n",
       "      <td>...</td>\n",
       "      <td>...</td>\n",
       "      <td>...</td>\n",
       "      <td>...</td>\n",
       "    </tr>\n",
       "    <tr>\n",
       "      <th>32392</th>\n",
       "      <td>train_259196128</td>\n",
       "      <td>ffcd708bcca72f3f9aacd2a50a8827f3.jpg</td>\n",
       "      <td>e7930c6e96635394</td>\n",
       "      <td>606327911</td>\n",
       "      <td>power bank veger ultimate x10 pro 10.000mah le...</td>\n",
       "      <td>[-0.059267107, 0.045955956, -0.087158576, -0.0...</td>\n",
       "    </tr>\n",
       "    <tr>\n",
       "      <th>32402</th>\n",
       "      <td>train_2876777099</td>\n",
       "      <td>ffea625e5d806645008a53f4dcaa7076.jpg</td>\n",
       "      <td>bbb5cc63949841b6</td>\n",
       "      <td>2413419336</td>\n",
       "      <td>active mask onecare 3ply earloop 3pcs</td>\n",
       "      <td>[-0.040425267, -0.07137409, -0.029895315, -0.0...</td>\n",
       "    </tr>\n",
       "    <tr>\n",
       "      <th>32406</th>\n",
       "      <td>train_945815402</td>\n",
       "      <td>fff1222750374ddbed82b17c8bd2766d.jpg</td>\n",
       "      <td>b0cbce308fcdcc64</td>\n",
       "      <td>3091541662</td>\n",
       "      <td>baterai batre battery xiaomi redmi note 3 bm46...</td>\n",
       "      <td>[-0.0902806, 0.04645677, -0.09206538, 0.039255...</td>\n",
       "    </tr>\n",
       "    <tr>\n",
       "      <th>32407</th>\n",
       "      <td>train_4028265689</td>\n",
       "      <td>fff1c07ceefc2c970a7964cfb81981c5.jpg</td>\n",
       "      <td>e3cd72389f248f21</td>\n",
       "      <td>3776555725</td>\n",
       "      <td>masker bahan kain spunbond non woven 75 gsm 3 ...</td>\n",
       "      <td>[-0.1140227, 0.061673008, -0.0471031, -0.01702...</td>\n",
       "    </tr>\n",
       "    <tr>\n",
       "      <th>32410</th>\n",
       "      <td>train_3630949769</td>\n",
       "      <td>fff51b87916dbfb6d0f8faa01bee67b8.jpg</td>\n",
       "      <td>e3b13bd1d896c05c</td>\n",
       "      <td>1663538013</td>\n",
       "      <td>kaldu non msg halal mama kamu ayam kampung , s...</td>\n",
       "      <td>[-0.023244496, 0.0318556, -0.037068184, 0.0241...</td>\n",
       "    </tr>\n",
       "  </tbody>\n",
       "</table>\n",
       "<p>5000 rows × 6 columns</p>\n",
       "</div>"
      ],
      "text/plain": [
       "             posting_id                                 image  \\\n",
       "0       train_129225211  0000a68812bc7e98c42888dfb1c07da0.jpg   \n",
       "2      train_2288590299  000a190fdd715a2a36faed16e2c65df7.jpg   \n",
       "17     train_2985955659  002f978c58a44a00aadfca71c3cad2bb.jpg   \n",
       "20     train_2238403912  003524b70715bf6bfa00451ca08e66e0.jpg   \n",
       "41     train_3350934785  0062ecb6613287fde4d3a6542e2d8bc7.jpg   \n",
       "...                 ...                                   ...   \n",
       "32392   train_259196128  ffcd708bcca72f3f9aacd2a50a8827f3.jpg   \n",
       "32402  train_2876777099  ffea625e5d806645008a53f4dcaa7076.jpg   \n",
       "32406   train_945815402  fff1222750374ddbed82b17c8bd2766d.jpg   \n",
       "32407  train_4028265689  fff1c07ceefc2c970a7964cfb81981c5.jpg   \n",
       "32410  train_3630949769  fff51b87916dbfb6d0f8faa01bee67b8.jpg   \n",
       "\n",
       "            image_phash  label_group  \\\n",
       "0      94974f937d4c2433    249114794   \n",
       "2      b94cb00ed3e50f78   2395904891   \n",
       "17     bf38f0e083d7c710   3415582503   \n",
       "20     ba35c44a3fb7c068    531768918   \n",
       "41     bacb3ccb6634309c    960169860   \n",
       "...                 ...          ...   \n",
       "32392  e7930c6e96635394    606327911   \n",
       "32402  bbb5cc63949841b6   2413419336   \n",
       "32406  b0cbce308fcdcc64   3091541662   \n",
       "32407  e3cd72389f248f21   3776555725   \n",
       "32410  e3b13bd1d896c05c   1663538013   \n",
       "\n",
       "                                             title_lower  \\\n",
       "0                              paper bag victoria secret   \n",
       "2            maling tts canned pork luncheon meat 397 gr   \n",
       "17     hnkfashion sweater hoodie who printing babyter...   \n",
       "20          kangaroo teflon   allu fry pan 18 cm - kg652   \n",
       "41     kitoderm facial soap acne tea tree oil hijau  ...   \n",
       "...                                                  ...   \n",
       "32392  power bank veger ultimate x10 pro 10.000mah le...   \n",
       "32402              active mask onecare 3ply earloop 3pcs   \n",
       "32406  baterai batre battery xiaomi redmi note 3 bm46...   \n",
       "32407  masker bahan kain spunbond non woven 75 gsm 3 ...   \n",
       "32410  kaldu non msg halal mama kamu ayam kampung , s...   \n",
       "\n",
       "                                         title_embedding  \n",
       "0      [-0.09058655, 0.10051114, -0.026854696, 0.0585...  \n",
       "2      [-0.11816407, 0.08628238, -0.009194563, -0.030...  \n",
       "17     [-0.0991996, 0.078665726, -0.06779641, 0.03670...  \n",
       "20     [-0.011950225, 0.045403335, -0.039399616, 0.01...  \n",
       "41     [-0.087226845, 0.03220093, 0.05733148, -0.0022...  \n",
       "...                                                  ...  \n",
       "32392  [-0.059267107, 0.045955956, -0.087158576, -0.0...  \n",
       "32402  [-0.040425267, -0.07137409, -0.029895315, -0.0...  \n",
       "32406  [-0.0902806, 0.04645677, -0.09206538, 0.039255...  \n",
       "32407  [-0.1140227, 0.061673008, -0.0471031, -0.01702...  \n",
       "32410  [-0.023244496, 0.0318556, -0.037068184, 0.0241...  \n",
       "\n",
       "[5000 rows x 6 columns]"
      ]
     },
     "execution_count": 102,
     "metadata": {},
     "output_type": "execute_result"
    }
   ],
   "source": [
    "train_df_sample"
   ]
  },
  {
   "cell_type": "code",
   "execution_count": 104,
   "id": "801c1b9c-592b-4ff5-906d-fd6c90ee31ce",
   "metadata": {},
   "outputs": [
    {
     "data": {
      "application/vnd.jupyter.widget-view+json": {
       "model_id": "7f96e2a9c40449dcacbcebd343ed3784",
       "version_major": 2,
       "version_minor": 0
      },
      "text/plain": [
       "Downloading tokenizer_config.json:   0%|          | 0.00/350 [00:00<?, ?B/s]"
      ]
     },
     "metadata": {},
     "output_type": "display_data"
    },
    {
     "data": {
      "application/vnd.jupyter.widget-view+json": {
       "model_id": "77c13eed37a746f389a9ab0b662afb81",
       "version_major": 2,
       "version_minor": 0
      },
      "text/plain": [
       "Downloading vocab.txt:   0%|          | 0.00/226k [00:00<?, ?B/s]"
      ]
     },
     "metadata": {},
     "output_type": "display_data"
    },
    {
     "data": {
      "application/vnd.jupyter.widget-view+json": {
       "model_id": "2e3dd914634947dd947b0ce53f5c7d9c",
       "version_major": 2,
       "version_minor": 0
      },
      "text/plain": [
       "Downloading tokenizer.json:   0%|          | 0.00/455k [00:00<?, ?B/s]"
      ]
     },
     "metadata": {},
     "output_type": "display_data"
    },
    {
     "data": {
      "application/vnd.jupyter.widget-view+json": {
       "model_id": "f718a94af1c3424692e33c15b4b1c6fe",
       "version_major": 2,
       "version_minor": 0
      },
      "text/plain": [
       "Downloading special_tokens_map.json:   0%|          | 0.00/112 [00:00<?, ?B/s]"
      ]
     },
     "metadata": {},
     "output_type": "display_data"
    },
    {
     "data": {
      "application/vnd.jupyter.widget-view+json": {
       "model_id": "868182a0b2364c1ea5d4c76b84e03640",
       "version_major": 2,
       "version_minor": 0
      },
      "text/plain": [
       "Downloading config.json:   0%|          | 0.00/612 [00:00<?, ?B/s]"
      ]
     },
     "metadata": {},
     "output_type": "display_data"
    },
    {
     "data": {
      "application/vnd.jupyter.widget-view+json": {
       "model_id": "e81515d5fe4e4e5e965609f82f2abb91",
       "version_major": 2,
       "version_minor": 0
      },
      "text/plain": [
       "Downloading pytorch_model.bin:   0%|          | 0.00/86.7M [00:00<?, ?B/s]"
      ]
     },
     "metadata": {},
     "output_type": "display_data"
    },
    {
     "data": {
      "application/vnd.jupyter.widget-view+json": {
       "model_id": "160e91eaf1d049d9a2320669039fc1e9",
       "version_major": 2,
       "version_minor": 0
      },
      "text/plain": [
       "Downloading preprocessor_config.json:   0%|          | 0.00/228 [00:00<?, ?B/s]"
      ]
     },
     "metadata": {},
     "output_type": "display_data"
    },
    {
     "data": {
      "application/vnd.jupyter.widget-view+json": {
       "model_id": "1bdea616f20b4651bf4d077b53710d9e",
       "version_major": 2,
       "version_minor": 0
      },
      "text/plain": [
       "Downloading config.json:   0%|          | 0.00/756 [00:00<?, ?B/s]"
      ]
     },
     "metadata": {},
     "output_type": "display_data"
    },
    {
     "data": {
      "application/vnd.jupyter.widget-view+json": {
       "model_id": "6b5efd8d24034de2bc3c33070eb3e83b",
       "version_major": 2,
       "version_minor": 0
      },
      "text/plain": [
       "Downloading pytorch_model.bin:   0%|          | 0.00/327M [00:00<?, ?B/s]"
      ]
     },
     "metadata": {},
     "output_type": "display_data"
    },
    {
     "name": "stderr",
     "output_type": "stream",
     "text": [
      "Some weights of the model checkpoint at nateraw/vit-base-beans were not used when initializing ViTModel: ['classifier.bias', 'classifier.weight']\n",
      "- This IS expected if you are initializing ViTModel from the checkpoint of a model trained on another task or with another architecture (e.g. initializing a BertForSequenceClassification model from a BertForPreTraining model).\n",
      "- This IS NOT expected if you are initializing ViTModel from the checkpoint of a model that you expect to be exactly identical (initializing a BertForSequenceClassification model from a BertForSequenceClassification model).\n",
      "Some weights of ViTModel were not initialized from the model checkpoint at nateraw/vit-base-beans and are newly initialized: ['vit.pooler.dense.weight', 'vit.pooler.dense.bias']\n",
      "You should probably TRAIN this model on a down-stream task to be able to use it for predictions and inference.\n"
     ]
    }
   ],
   "source": [
    "tokenizer = AutoTokenizer.from_pretrained('sentence-transformers/all-MiniLM-L6-v2')\n",
    "text_model = AutoModel.from_pretrained('sentence-transformers/all-MiniLM-L6-v2')\n",
    "\n",
    "model_ckpt = \"nateraw/vit-base-beans\"\n",
    "extractor = AutoFeatureExtractor.from_pretrained(model_ckpt)\n",
    "vision_model = AutoModel.from_pretrained(model_ckpt)"
   ]
  },
  {
   "cell_type": "code",
   "execution_count": 194,
   "id": "ddd55b38-d8c8-4739-ac7b-3f946abc0884",
   "metadata": {},
   "outputs": [],
   "source": [
    "def mean_pooling(model_output, attention_mask):\n",
    "    \n",
    "    token_embeddings = model_output[0]\n",
    "    input_mask_expanded = attention_mask.unsqueeze(-1).expand(token_embeddings.size()).float()\n",
    "    return torch.sum(token_embeddings * input_mask_expanded, 1) / torch.clamp(input_mask_expanded.sum(1), min=1e-9)\n"
   ]
  },
  {
   "cell_type": "code",
   "execution_count": 233,
   "id": "e176bdad-4817-48da-a125-0949e5ad2cce",
   "metadata": {},
   "outputs": [],
   "source": [
    "class ImageSimilarityModel(torch.nn.Module):\n",
    "    \n",
    "    def __init__(self):\n",
    "        \n",
    "        super(ImageSimilarityModel, self).__init__()\n",
    "        \n",
    "        self.text_l1 = text_model\n",
    "        self.vision_l1 = vision_model\n",
    "        \n",
    "        self.linear1 = torch.nn.Linear(2304, 256)\n",
    "        self.drop1 = torch.nn.Dropout(0.3)\n",
    "        self.linear2 = torch.nn.Linear(256, 64)\n",
    "        self.drop2 = torch.nn.Dropout(0.3)\n",
    "        self.linear3 = torch.nn.Linear(64, 1)\n",
    "        \n",
    "        #self.relu = torch.nn.functional.relu()\n",
    "        #self.sig = torch.nn.functional.sigmoid()\n",
    "        \n",
    "    def forward(self, img1, img2, title1, title2):\n",
    "        \n",
    "        text_embedding1 = self.text_l1(**title1)\n",
    "        text_embedding2 = self.text_l1(**title2)\n",
    "        \n",
    "        text_embedding1 = mean_pooling(text_embedding1, title1['attention_mask'])\n",
    "        text_embedding2 = mean_pooling(text_embedding2, title2['attention_mask'])\n",
    "        \n",
    "        #print(text_embedding1)\n",
    "        #print(text_embedding1.shape)\n",
    "        #print(text_embedding2.shape)\n",
    "        \n",
    "        text_embedding1 = torch.nn.functional.normalize(text_embedding1, p=2, dim=1)\n",
    "        text_embedding2 = torch.nn.functional.normalize(text_embedding2, p=2, dim=1)\n",
    "        \n",
    "        img_embedding1 = self.vision_l1(img1).last_hidden_state[:, 0]\n",
    "        img_embedding2 = self.vision_l1(img2).last_hidden_state[:, 0]\n",
    "        \n",
    "        #print(img_embedding1.shape)\n",
    "        #print(img_embedding2.shape)\n",
    "        \n",
    "        #print(text_embedding1)\n",
    "        #print(text_embedding1.shape)\n",
    "        \n",
    "        #print(text_embedding2)\n",
    "        #print(text_embedding2.shape)\n",
    "        \n",
    "        #text_similarity = torch.nn.functional.cosine_similarity(text_embedding1, text_embedding2)\n",
    "        #img_similarity = torch.nn.functional.cosine_similarity(img_embedding1.last_hidden_state[:, 0],\n",
    "                                                              #img_embedding2.last_hidden_state[:, 0])\n",
    "        \n",
    "        #print(text_similarity)\n",
    "        #print(img_similarity)\n",
    "        \n",
    "        \n",
    "        combined = torch.cat((text_embedding1, text_embedding2, img_embedding1, img_embedding2), dim=1)\n",
    "        \n",
    "        #print(combined.shape)\n",
    "        \n",
    "        x = self.linear1(combined)\n",
    "        x = torch.nn.functional.relu(x)\n",
    "        x = self.drop1(x)\n",
    "        x = self.linear2(x)\n",
    "        x = torch.nn.functional.relu(x)\n",
    "        x = self.drop2(x)\n",
    "        x = self.linear3(x)\n",
    "        \n",
    "        return torch.nn.functional.sigmoid(x)\n",
    "        \n",
    "        \n",
    "        "
   ]
  },
  {
   "cell_type": "code",
   "execution_count": 234,
   "id": "ef0b1044-737d-4b78-9144-844cd92cc537",
   "metadata": {},
   "outputs": [],
   "source": [
    "sim_model = ImageSimilarityModel()"
   ]
  },
  {
   "cell_type": "code",
   "execution_count": 207,
   "id": "add08c0d-1b4c-4c61-ac3e-6bc31ba02053",
   "metadata": {},
   "outputs": [],
   "source": [
    "example_title1 = train_df_sample.iloc[6, 4]\n",
    "example_title2 = train_df_sample.iloc[7, 4]\n",
    "\n",
    "example_image1 = train_df_sample.iloc[6, 1]\n",
    "example_image2 = train_df_sample.iloc[7, 1]\n",
    "\n",
    "label1 = train_df_sample.iloc[6, 3]\n",
    "label2 = train_df_sample.iloc[7, 3]\n",
    "\n",
    "overall_label = 0\n",
    "\n",
    "img1_index = list(sample_images).index(example_image1)\n",
    "img2_index = list(sample_images).index(example_image2)\n",
    "\n",
    "img1_path = image_dir + sample_images[img1_index]\n",
    "img2_path = image_dir + sample_images[img2_index]\n",
    "\n",
    "img1_actual = Image.open(img1_path)\n",
    "img2_actual = Image.open(img2_path)\n",
    "    \n",
    "img1_transformed = img_transforms(img1_actual)\n",
    "img2_transformed = img_transforms(img2_actual)\n",
    "    \n",
    "title1_tokens = tokenizer(example_title1, padding=True, truncation=True, return_tensors='pt')\n",
    "title2_tokens = tokenizer(example_title2, padding=True, truncation=True, return_tensors='pt')"
   ]
  },
  {
   "cell_type": "code",
   "execution_count": 125,
   "id": "7d17b87b-00c9-43c0-9d13-56a2390a6d04",
   "metadata": {},
   "outputs": [],
   "source": [
    "#title1_tokens"
   ]
  },
  {
   "cell_type": "code",
   "execution_count": 124,
   "id": "0385fab4-57e1-4ac3-88b4-24ebfcc19f98",
   "metadata": {},
   "outputs": [],
   "source": [
    "#img1_transformed"
   ]
  },
  {
   "cell_type": "code",
   "execution_count": 235,
   "id": "1d88a0bb-58ab-4d40-8c6d-6fa77297ba82",
   "metadata": {},
   "outputs": [
    {
     "data": {
      "text/plain": [
       "tensor([[0.5368]])"
      ]
     },
     "execution_count": 235,
     "metadata": {},
     "output_type": "execute_result"
    }
   ],
   "source": [
    "with torch.no_grad():\n",
    "    \n",
    "    outputs = sim_model(img1_transformed.unsqueeze(0), img2_transformed.unsqueeze(0),\n",
    "                        title1_tokens, title2_tokens)\n",
    "    \n",
    "outputs"
   ]
  },
  {
   "cell_type": "code",
   "execution_count": 119,
   "id": "2567aaeb-1791-4767-bcde-4b278cc20eed",
   "metadata": {},
   "outputs": [],
   "source": [
    "#sample_img = image_dir + sample_images[130]\n",
    "\n",
    "#im = Image.open(sample_img)\n",
    "\n",
    "#test_transforms = img_transforms(im)"
   ]
  },
  {
   "cell_type": "code",
   "execution_count": 171,
   "id": "87b1a1bc-1111-496e-9d9f-d1744b8db0a1",
   "metadata": {},
   "outputs": [],
   "source": [
    "multi_labels = train_df_sample.groupby('label_group')['label_group'].count()\n",
    "repeat_pics = multi_labels[multi_labels >= 2]\n",
    "repeat_pics_list = list(repeat_pics.index)\n",
    "#repeat_pics_list"
   ]
  },
  {
   "cell_type": "code",
   "execution_count": 185,
   "id": "1b80eee8-aed9-4515-808d-70448b99e5b6",
   "metadata": {},
   "outputs": [
    {
     "data": {
      "text/html": [
       "<div>\n",
       "<style scoped>\n",
       "    .dataframe tbody tr th:only-of-type {\n",
       "        vertical-align: middle;\n",
       "    }\n",
       "\n",
       "    .dataframe tbody tr th {\n",
       "        vertical-align: top;\n",
       "    }\n",
       "\n",
       "    .dataframe thead th {\n",
       "        text-align: right;\n",
       "    }\n",
       "</style>\n",
       "<table border=\"1\" class=\"dataframe\">\n",
       "  <thead>\n",
       "    <tr style=\"text-align: right;\">\n",
       "      <th></th>\n",
       "      <th>posting_id</th>\n",
       "      <th>image</th>\n",
       "      <th>image_phash</th>\n",
       "      <th>label_group</th>\n",
       "      <th>title_lower</th>\n",
       "      <th>title_embedding</th>\n",
       "    </tr>\n",
       "  </thead>\n",
       "  <tbody>\n",
       "    <tr>\n",
       "      <th>1446</th>\n",
       "      <td>train_1027257343</td>\n",
       "      <td>0bc26fbca1efb42039bfcb96d1212e30.jpg</td>\n",
       "      <td>911e2ee19e1ce17a</td>\n",
       "      <td>1406531816</td>\n",
       "      <td>fanbo all in one deep cleansing balm   pembers...</td>\n",
       "      <td>[-0.006852064, -0.022621632, -0.046443015, -0....</td>\n",
       "    </tr>\n",
       "    <tr>\n",
       "      <th>4837</th>\n",
       "      <td>train_3314587877</td>\n",
       "      <td>269a284334dffcb59133a7a323d0fce3.jpg</td>\n",
       "      <td>99e51e881e63631f</td>\n",
       "      <td>1406531816</td>\n",
       "      <td>fanbo all in one deep cleansing balm</td>\n",
       "      <td>[-0.020315375, -0.043077227, -0.03530509, -0.0...</td>\n",
       "    </tr>\n",
       "  </tbody>\n",
       "</table>\n",
       "</div>"
      ],
      "text/plain": [
       "            posting_id                                 image  \\\n",
       "1446  train_1027257343  0bc26fbca1efb42039bfcb96d1212e30.jpg   \n",
       "4837  train_3314587877  269a284334dffcb59133a7a323d0fce3.jpg   \n",
       "\n",
       "           image_phash  label_group  \\\n",
       "1446  911e2ee19e1ce17a   1406531816   \n",
       "4837  99e51e881e63631f   1406531816   \n",
       "\n",
       "                                            title_lower  \\\n",
       "1446  fanbo all in one deep cleansing balm   pembers...   \n",
       "4837               fanbo all in one deep cleansing balm   \n",
       "\n",
       "                                        title_embedding  \n",
       "1446  [-0.006852064, -0.022621632, -0.046443015, -0....  \n",
       "4837  [-0.020315375, -0.043077227, -0.03530509, -0.0...  "
      ]
     },
     "execution_count": 185,
     "metadata": {},
     "output_type": "execute_result"
    }
   ],
   "source": [
    "train_df_sample[train_df_sample['label_group']==np.random.choice(repeat_pics_list, 1)[0]][:2]"
   ]
  },
  {
   "cell_type": "code",
   "execution_count": 182,
   "id": "2faa5710-397d-497e-a50b-acce139766f8",
   "metadata": {},
   "outputs": [
    {
     "data": {
      "text/plain": [
       "0.7231159574470692"
      ]
     },
     "execution_count": 182,
     "metadata": {},
     "output_type": "execute_result"
    }
   ],
   "source": [
    "np.random.rand()"
   ]
  },
  {
   "cell_type": "code",
   "execution_count": 116,
   "id": "69e2ee0e-549d-4d11-9825-1feaad8f019f",
   "metadata": {},
   "outputs": [
    {
     "data": {
      "text/plain": [
       "2"
      ]
     },
     "execution_count": 116,
     "metadata": {},
     "output_type": "execute_result"
    }
   ],
   "source": [
    "list(sample_images).index('eb19c3d635e5b74c6f76d61742460273.jpg')"
   ]
  },
  {
   "cell_type": "code",
   "execution_count": 236,
   "id": "ce0e9db0-bea9-4a04-9c51-e20021e36bbf",
   "metadata": {},
   "outputs": [],
   "source": [
    "optimizer = torch.optim.Adam(sim_model.parameters(), lr=5e-5)\n",
    "loss_fn = torch.nn.BCELoss()"
   ]
  },
  {
   "cell_type": "code",
   "execution_count": 240,
   "id": "66c6dc35-e8b7-4d1f-904e-2637187e0ff3",
   "metadata": {},
   "outputs": [
    {
     "name": "stdout",
     "output_type": "stream",
     "text": [
      "0 0.5435024499893188 0 815806391 2898703824\n",
      "1 0.5323111414909363 1 640299521 640299521\n",
      "2 0.55643630027771 0 4028354782 3202957389\n",
      "3 0.5369040369987488 0 1367471899 1378711753\n",
      "4 0.5379210114479065 0 3954884272 2120410174\n",
      "5 0.5344134569168091 0 3789648095 3439500642\n",
      "6 0.5355778336524963 0 1827547982 1511162790\n",
      "7 0.528976559638977 1 2543427432 2543427432\n",
      "8 0.5387954115867615 1 298037873 298037873\n",
      "9 0.5346872210502625 0 3578753118 1497898739\n",
      "10 0.5282679200172424 1 2660419430 2660419430\n",
      "11 0.5257015824317932 0 2525132749 3580844349\n",
      "12 0.5353115797042847 0 1555312860 1905943612\n",
      "13 0.5413799285888672 0 2544564577 936100605\n",
      "14 0.5363917946815491 0 2192745501 15630034\n",
      "15 0.5365979075431824 0 986496525 2090149305\n",
      "16 0.524909496307373 0 4289823221 3097022762\n",
      "17 0.525521993637085 0 3633092118 1012631413\n",
      "18 0.5267822742462158 0 4152958882 149633309\n",
      "19 0.5319461822509766 0 1212903834 3474941323\n",
      "20 0.5287296175956726 0 729994958 2323840511\n",
      "21 0.5256727337837219 0 3032262567 1518626050\n",
      "22 0.5217816233634949 0 2961827586 1835501581\n",
      "23 0.5225085616111755 0 3779562915 3326267479\n",
      "24 0.5283761024475098 0 937262368 4028373146\n",
      "25 0.5304176807403564 0 13645363 3083543407\n",
      "26 0.5200393795967102 0 4261155676 554012954\n",
      "27 0.5293376445770264 0 1587735125 21545740\n",
      "28 0.5191951394081116 0 2992055559 2699079224\n",
      "29 0.5156230330467224 1 3847500015 3847500015\n",
      "30 0.5204275250434875 0 3207013859 696596987\n",
      "31 0.5249230861663818 0 4223722330 1218216866\n",
      "32 0.516216516494751 0 1348106113 4186791151\n",
      "33 0.5139690637588501 0 2867962563 2567385907\n",
      "34 0.5194481611251831 0 2114719150 3057352007\n",
      "35 0.5291777849197388 0 3073207032 2256121048\n",
      "36 0.5087413787841797 0 3745444660 2799906108\n",
      "37 0.5057400465011597 1 2221409971 2221409971\n",
      "38 0.5049713253974915 0 777596345 143743326\n",
      "39 0.5116437673568726 0 3962524495 2972030501\n",
      "40 0.5089991688728333 0 3921125158 2994349529\n",
      "41 0.5016148090362549 0 1143378251 143743326\n",
      "42 0.510266125202179 0 3703361996 578575602\n",
      "43 0.5071943998336792 0 585091951 1231738981\n",
      "44 0.502476692199707 0 4103124262 3926100920\n",
      "45 0.5093069672584534 0 2693722838 1127243882\n",
      "46 0.5016968250274658 0 1261987196 1119944481\n",
      "47 0.5046794414520264 0 261674001 3741723479\n",
      "48 0.5114561319351196 1 1121466002 1121466002\n",
      "49 0.503009021282196 0 3643991847 2868616103\n",
      "50 0.47986453771591187 0 750789077 2879276286\n",
      "51 0.4653637707233429 1 2910074820 2910074820\n",
      "52 0.4767027497291565 0 507522945 595051080\n",
      "53 0.48837223649024963 0 905135120 410893307\n",
      "54 0.4883827269077301 1 159715868 159715868\n",
      "55 0.481948584318161 0 3650553881 3216433143\n",
      "56 0.4934978187084198 1 4038613836 4038613836\n",
      "57 0.4747219681739807 1 2969128006 2969128006\n",
      "58 0.48113399744033813 0 2410340130 156307992\n",
      "59 0.4870827794075012 0 1339781222 55231703\n",
      "60 0.49244630336761475 0 2660419430 1570588813\n",
      "61 0.47736862301826477 0 149633309 1779671211\n",
      "62 0.4816313087940216 1 1395626534 1395626534\n",
      "63 0.4974533021450043 0 3721902094 3593012186\n",
      "64 0.45201733708381653 1 3813608589 3813608589\n",
      "65 0.4772152602672577 0 4199048818 3312160391\n"
     ]
    },
    {
     "ename": "KeyboardInterrupt",
     "evalue": "",
     "output_type": "error",
     "traceback": [
      "\u001b[0;31m---------------------------------------------------------------------------\u001b[0m",
      "\u001b[0;31mKeyboardInterrupt\u001b[0m                         Traceback (most recent call last)",
      "\u001b[0;32m<ipython-input-240-f35a69ddfadc>\u001b[0m in \u001b[0;36m<module>\u001b[0;34m\u001b[0m\n\u001b[1;32m     87\u001b[0m         \u001b[0mtitle2_tokens\u001b[0m \u001b[0;34m=\u001b[0m \u001b[0mtokenizer\u001b[0m\u001b[0;34m(\u001b[0m\u001b[0mtitle2\u001b[0m\u001b[0;34m,\u001b[0m \u001b[0mpadding\u001b[0m\u001b[0;34m=\u001b[0m\u001b[0;32mTrue\u001b[0m\u001b[0;34m,\u001b[0m \u001b[0mtruncation\u001b[0m\u001b[0;34m=\u001b[0m\u001b[0;32mTrue\u001b[0m\u001b[0;34m,\u001b[0m \u001b[0mreturn_tensors\u001b[0m\u001b[0;34m=\u001b[0m\u001b[0;34m'pt'\u001b[0m\u001b[0;34m)\u001b[0m\u001b[0;34m\u001b[0m\u001b[0;34m\u001b[0m\u001b[0m\n\u001b[1;32m     88\u001b[0m \u001b[0;34m\u001b[0m\u001b[0m\n\u001b[0;32m---> 89\u001b[0;31m         \u001b[0moutput\u001b[0m \u001b[0;34m=\u001b[0m \u001b[0msim_model\u001b[0m\u001b[0;34m(\u001b[0m\u001b[0mimg1_transformed\u001b[0m\u001b[0;34m,\u001b[0m \u001b[0mimg2_transformed\u001b[0m\u001b[0;34m,\u001b[0m \u001b[0mtitle1_tokens\u001b[0m\u001b[0;34m,\u001b[0m \u001b[0mtitle2_tokens\u001b[0m\u001b[0;34m)\u001b[0m\u001b[0;34m\u001b[0m\u001b[0;34m\u001b[0m\u001b[0m\n\u001b[0m\u001b[1;32m     90\u001b[0m \u001b[0;34m\u001b[0m\u001b[0m\n\u001b[1;32m     91\u001b[0m         \u001b[0moptimizer\u001b[0m\u001b[0;34m.\u001b[0m\u001b[0mzero_grad\u001b[0m\u001b[0;34m(\u001b[0m\u001b[0;34m)\u001b[0m\u001b[0;34m\u001b[0m\u001b[0;34m\u001b[0m\u001b[0m\n",
      "\u001b[0;32m~/opt/anaconda3/lib/python3.8/site-packages/torch/nn/modules/module.py\u001b[0m in \u001b[0;36m_call_impl\u001b[0;34m(self, *input, **kwargs)\u001b[0m\n\u001b[1;32m   1128\u001b[0m         if not (self._backward_hooks or self._forward_hooks or self._forward_pre_hooks or _global_backward_hooks\n\u001b[1;32m   1129\u001b[0m                 or _global_forward_hooks or _global_forward_pre_hooks):\n\u001b[0;32m-> 1130\u001b[0;31m             \u001b[0;32mreturn\u001b[0m \u001b[0mforward_call\u001b[0m\u001b[0;34m(\u001b[0m\u001b[0;34m*\u001b[0m\u001b[0minput\u001b[0m\u001b[0;34m,\u001b[0m \u001b[0;34m**\u001b[0m\u001b[0mkwargs\u001b[0m\u001b[0;34m)\u001b[0m\u001b[0;34m\u001b[0m\u001b[0;34m\u001b[0m\u001b[0m\n\u001b[0m\u001b[1;32m   1131\u001b[0m         \u001b[0;31m# Do not call functions when jit is used\u001b[0m\u001b[0;34m\u001b[0m\u001b[0;34m\u001b[0m\u001b[0;34m\u001b[0m\u001b[0m\n\u001b[1;32m   1132\u001b[0m         \u001b[0mfull_backward_hooks\u001b[0m\u001b[0;34m,\u001b[0m \u001b[0mnon_full_backward_hooks\u001b[0m \u001b[0;34m=\u001b[0m \u001b[0;34m[\u001b[0m\u001b[0;34m]\u001b[0m\u001b[0;34m,\u001b[0m \u001b[0;34m[\u001b[0m\u001b[0;34m]\u001b[0m\u001b[0;34m\u001b[0m\u001b[0;34m\u001b[0m\u001b[0m\n",
      "\u001b[0;32m<ipython-input-233-f4fd36529cb1>\u001b[0m in \u001b[0;36mforward\u001b[0;34m(self, img1, img2, title1, title2)\u001b[0m\n\u001b[1;32m     32\u001b[0m         \u001b[0mtext_embedding2\u001b[0m \u001b[0;34m=\u001b[0m \u001b[0mtorch\u001b[0m\u001b[0;34m.\u001b[0m\u001b[0mnn\u001b[0m\u001b[0;34m.\u001b[0m\u001b[0mfunctional\u001b[0m\u001b[0;34m.\u001b[0m\u001b[0mnormalize\u001b[0m\u001b[0;34m(\u001b[0m\u001b[0mtext_embedding2\u001b[0m\u001b[0;34m,\u001b[0m \u001b[0mp\u001b[0m\u001b[0;34m=\u001b[0m\u001b[0;36m2\u001b[0m\u001b[0;34m,\u001b[0m \u001b[0mdim\u001b[0m\u001b[0;34m=\u001b[0m\u001b[0;36m1\u001b[0m\u001b[0;34m)\u001b[0m\u001b[0;34m\u001b[0m\u001b[0;34m\u001b[0m\u001b[0m\n\u001b[1;32m     33\u001b[0m \u001b[0;34m\u001b[0m\u001b[0m\n\u001b[0;32m---> 34\u001b[0;31m         \u001b[0mimg_embedding1\u001b[0m \u001b[0;34m=\u001b[0m \u001b[0mself\u001b[0m\u001b[0;34m.\u001b[0m\u001b[0mvision_l1\u001b[0m\u001b[0;34m(\u001b[0m\u001b[0mimg1\u001b[0m\u001b[0;34m)\u001b[0m\u001b[0;34m.\u001b[0m\u001b[0mlast_hidden_state\u001b[0m\u001b[0;34m[\u001b[0m\u001b[0;34m:\u001b[0m\u001b[0;34m,\u001b[0m \u001b[0;36m0\u001b[0m\u001b[0;34m]\u001b[0m\u001b[0;34m\u001b[0m\u001b[0;34m\u001b[0m\u001b[0m\n\u001b[0m\u001b[1;32m     35\u001b[0m         \u001b[0mimg_embedding2\u001b[0m \u001b[0;34m=\u001b[0m \u001b[0mself\u001b[0m\u001b[0;34m.\u001b[0m\u001b[0mvision_l1\u001b[0m\u001b[0;34m(\u001b[0m\u001b[0mimg2\u001b[0m\u001b[0;34m)\u001b[0m\u001b[0;34m.\u001b[0m\u001b[0mlast_hidden_state\u001b[0m\u001b[0;34m[\u001b[0m\u001b[0;34m:\u001b[0m\u001b[0;34m,\u001b[0m \u001b[0;36m0\u001b[0m\u001b[0;34m]\u001b[0m\u001b[0;34m\u001b[0m\u001b[0;34m\u001b[0m\u001b[0m\n\u001b[1;32m     36\u001b[0m \u001b[0;34m\u001b[0m\u001b[0m\n",
      "\u001b[0;32m~/opt/anaconda3/lib/python3.8/site-packages/torch/nn/modules/module.py\u001b[0m in \u001b[0;36m_call_impl\u001b[0;34m(self, *input, **kwargs)\u001b[0m\n\u001b[1;32m   1128\u001b[0m         if not (self._backward_hooks or self._forward_hooks or self._forward_pre_hooks or _global_backward_hooks\n\u001b[1;32m   1129\u001b[0m                 or _global_forward_hooks or _global_forward_pre_hooks):\n\u001b[0;32m-> 1130\u001b[0;31m             \u001b[0;32mreturn\u001b[0m \u001b[0mforward_call\u001b[0m\u001b[0;34m(\u001b[0m\u001b[0;34m*\u001b[0m\u001b[0minput\u001b[0m\u001b[0;34m,\u001b[0m \u001b[0;34m**\u001b[0m\u001b[0mkwargs\u001b[0m\u001b[0;34m)\u001b[0m\u001b[0;34m\u001b[0m\u001b[0;34m\u001b[0m\u001b[0m\n\u001b[0m\u001b[1;32m   1131\u001b[0m         \u001b[0;31m# Do not call functions when jit is used\u001b[0m\u001b[0;34m\u001b[0m\u001b[0;34m\u001b[0m\u001b[0;34m\u001b[0m\u001b[0m\n\u001b[1;32m   1132\u001b[0m         \u001b[0mfull_backward_hooks\u001b[0m\u001b[0;34m,\u001b[0m \u001b[0mnon_full_backward_hooks\u001b[0m \u001b[0;34m=\u001b[0m \u001b[0;34m[\u001b[0m\u001b[0;34m]\u001b[0m\u001b[0;34m,\u001b[0m \u001b[0;34m[\u001b[0m\u001b[0;34m]\u001b[0m\u001b[0;34m\u001b[0m\u001b[0;34m\u001b[0m\u001b[0m\n",
      "\u001b[0;32m~/opt/anaconda3/lib/python3.8/site-packages/transformers/models/vit/modeling_vit.py\u001b[0m in \u001b[0;36mforward\u001b[0;34m(self, pixel_values, bool_masked_pos, head_mask, output_attentions, output_hidden_states, interpolate_pos_encoding, return_dict)\u001b[0m\n\u001b[1;32m    559\u001b[0m         )\n\u001b[1;32m    560\u001b[0m \u001b[0;34m\u001b[0m\u001b[0m\n\u001b[0;32m--> 561\u001b[0;31m         encoder_outputs = self.encoder(\n\u001b[0m\u001b[1;32m    562\u001b[0m             \u001b[0membedding_output\u001b[0m\u001b[0;34m,\u001b[0m\u001b[0;34m\u001b[0m\u001b[0;34m\u001b[0m\u001b[0m\n\u001b[1;32m    563\u001b[0m             \u001b[0mhead_mask\u001b[0m\u001b[0;34m=\u001b[0m\u001b[0mhead_mask\u001b[0m\u001b[0;34m,\u001b[0m\u001b[0;34m\u001b[0m\u001b[0;34m\u001b[0m\u001b[0m\n",
      "\u001b[0;32m~/opt/anaconda3/lib/python3.8/site-packages/torch/nn/modules/module.py\u001b[0m in \u001b[0;36m_call_impl\u001b[0;34m(self, *input, **kwargs)\u001b[0m\n\u001b[1;32m   1128\u001b[0m         if not (self._backward_hooks or self._forward_hooks or self._forward_pre_hooks or _global_backward_hooks\n\u001b[1;32m   1129\u001b[0m                 or _global_forward_hooks or _global_forward_pre_hooks):\n\u001b[0;32m-> 1130\u001b[0;31m             \u001b[0;32mreturn\u001b[0m \u001b[0mforward_call\u001b[0m\u001b[0;34m(\u001b[0m\u001b[0;34m*\u001b[0m\u001b[0minput\u001b[0m\u001b[0;34m,\u001b[0m \u001b[0;34m**\u001b[0m\u001b[0mkwargs\u001b[0m\u001b[0;34m)\u001b[0m\u001b[0;34m\u001b[0m\u001b[0;34m\u001b[0m\u001b[0m\n\u001b[0m\u001b[1;32m   1131\u001b[0m         \u001b[0;31m# Do not call functions when jit is used\u001b[0m\u001b[0;34m\u001b[0m\u001b[0;34m\u001b[0m\u001b[0;34m\u001b[0m\u001b[0m\n\u001b[1;32m   1132\u001b[0m         \u001b[0mfull_backward_hooks\u001b[0m\u001b[0;34m,\u001b[0m \u001b[0mnon_full_backward_hooks\u001b[0m \u001b[0;34m=\u001b[0m \u001b[0;34m[\u001b[0m\u001b[0;34m]\u001b[0m\u001b[0;34m,\u001b[0m \u001b[0;34m[\u001b[0m\u001b[0;34m]\u001b[0m\u001b[0;34m\u001b[0m\u001b[0;34m\u001b[0m\u001b[0m\n",
      "\u001b[0;32m~/opt/anaconda3/lib/python3.8/site-packages/transformers/models/vit/modeling_vit.py\u001b[0m in \u001b[0;36mforward\u001b[0;34m(self, hidden_states, head_mask, output_attentions, output_hidden_states, return_dict)\u001b[0m\n\u001b[1;32m    408\u001b[0m                 )\n\u001b[1;32m    409\u001b[0m             \u001b[0;32melse\u001b[0m\u001b[0;34m:\u001b[0m\u001b[0;34m\u001b[0m\u001b[0;34m\u001b[0m\u001b[0m\n\u001b[0;32m--> 410\u001b[0;31m                 \u001b[0mlayer_outputs\u001b[0m \u001b[0;34m=\u001b[0m \u001b[0mlayer_module\u001b[0m\u001b[0;34m(\u001b[0m\u001b[0mhidden_states\u001b[0m\u001b[0;34m,\u001b[0m \u001b[0mlayer_head_mask\u001b[0m\u001b[0;34m,\u001b[0m \u001b[0moutput_attentions\u001b[0m\u001b[0;34m)\u001b[0m\u001b[0;34m\u001b[0m\u001b[0;34m\u001b[0m\u001b[0m\n\u001b[0m\u001b[1;32m    411\u001b[0m \u001b[0;34m\u001b[0m\u001b[0m\n\u001b[1;32m    412\u001b[0m             \u001b[0mhidden_states\u001b[0m \u001b[0;34m=\u001b[0m \u001b[0mlayer_outputs\u001b[0m\u001b[0;34m[\u001b[0m\u001b[0;36m0\u001b[0m\u001b[0;34m]\u001b[0m\u001b[0;34m\u001b[0m\u001b[0;34m\u001b[0m\u001b[0m\n",
      "\u001b[0;32m~/opt/anaconda3/lib/python3.8/site-packages/torch/nn/modules/module.py\u001b[0m in \u001b[0;36m_call_impl\u001b[0;34m(self, *input, **kwargs)\u001b[0m\n\u001b[1;32m   1128\u001b[0m         if not (self._backward_hooks or self._forward_hooks or self._forward_pre_hooks or _global_backward_hooks\n\u001b[1;32m   1129\u001b[0m                 or _global_forward_hooks or _global_forward_pre_hooks):\n\u001b[0;32m-> 1130\u001b[0;31m             \u001b[0;32mreturn\u001b[0m \u001b[0mforward_call\u001b[0m\u001b[0;34m(\u001b[0m\u001b[0;34m*\u001b[0m\u001b[0minput\u001b[0m\u001b[0;34m,\u001b[0m \u001b[0;34m**\u001b[0m\u001b[0mkwargs\u001b[0m\u001b[0;34m)\u001b[0m\u001b[0;34m\u001b[0m\u001b[0;34m\u001b[0m\u001b[0m\n\u001b[0m\u001b[1;32m   1131\u001b[0m         \u001b[0;31m# Do not call functions when jit is used\u001b[0m\u001b[0;34m\u001b[0m\u001b[0;34m\u001b[0m\u001b[0;34m\u001b[0m\u001b[0m\n\u001b[1;32m   1132\u001b[0m         \u001b[0mfull_backward_hooks\u001b[0m\u001b[0;34m,\u001b[0m \u001b[0mnon_full_backward_hooks\u001b[0m \u001b[0;34m=\u001b[0m \u001b[0;34m[\u001b[0m\u001b[0;34m]\u001b[0m\u001b[0;34m,\u001b[0m \u001b[0;34m[\u001b[0m\u001b[0;34m]\u001b[0m\u001b[0;34m\u001b[0m\u001b[0;34m\u001b[0m\u001b[0m\n",
      "\u001b[0;32m~/opt/anaconda3/lib/python3.8/site-packages/transformers/models/vit/modeling_vit.py\u001b[0m in \u001b[0;36mforward\u001b[0;34m(self, hidden_states, head_mask, output_attentions)\u001b[0m\n\u001b[1;32m    347\u001b[0m         \u001b[0moutput_attentions\u001b[0m\u001b[0;34m:\u001b[0m \u001b[0mbool\u001b[0m \u001b[0;34m=\u001b[0m \u001b[0;32mFalse\u001b[0m\u001b[0;34m,\u001b[0m\u001b[0;34m\u001b[0m\u001b[0;34m\u001b[0m\u001b[0m\n\u001b[1;32m    348\u001b[0m     ) -> Union[Tuple[torch.Tensor, torch.Tensor], Tuple[torch.Tensor]]:\n\u001b[0;32m--> 349\u001b[0;31m         self_attention_outputs = self.attention(\n\u001b[0m\u001b[1;32m    350\u001b[0m             \u001b[0mself\u001b[0m\u001b[0;34m.\u001b[0m\u001b[0mlayernorm_before\u001b[0m\u001b[0;34m(\u001b[0m\u001b[0mhidden_states\u001b[0m\u001b[0;34m)\u001b[0m\u001b[0;34m,\u001b[0m  \u001b[0;31m# in ViT, layernorm is applied before self-attention\u001b[0m\u001b[0;34m\u001b[0m\u001b[0;34m\u001b[0m\u001b[0m\n\u001b[1;32m    351\u001b[0m             \u001b[0mhead_mask\u001b[0m\u001b[0;34m,\u001b[0m\u001b[0;34m\u001b[0m\u001b[0;34m\u001b[0m\u001b[0m\n",
      "\u001b[0;32m~/opt/anaconda3/lib/python3.8/site-packages/torch/nn/modules/module.py\u001b[0m in \u001b[0;36m_call_impl\u001b[0;34m(self, *input, **kwargs)\u001b[0m\n\u001b[1;32m   1128\u001b[0m         if not (self._backward_hooks or self._forward_hooks or self._forward_pre_hooks or _global_backward_hooks\n\u001b[1;32m   1129\u001b[0m                 or _global_forward_hooks or _global_forward_pre_hooks):\n\u001b[0;32m-> 1130\u001b[0;31m             \u001b[0;32mreturn\u001b[0m \u001b[0mforward_call\u001b[0m\u001b[0;34m(\u001b[0m\u001b[0;34m*\u001b[0m\u001b[0minput\u001b[0m\u001b[0;34m,\u001b[0m \u001b[0;34m**\u001b[0m\u001b[0mkwargs\u001b[0m\u001b[0;34m)\u001b[0m\u001b[0;34m\u001b[0m\u001b[0;34m\u001b[0m\u001b[0m\n\u001b[0m\u001b[1;32m   1131\u001b[0m         \u001b[0;31m# Do not call functions when jit is used\u001b[0m\u001b[0;34m\u001b[0m\u001b[0;34m\u001b[0m\u001b[0;34m\u001b[0m\u001b[0m\n\u001b[1;32m   1132\u001b[0m         \u001b[0mfull_backward_hooks\u001b[0m\u001b[0;34m,\u001b[0m \u001b[0mnon_full_backward_hooks\u001b[0m \u001b[0;34m=\u001b[0m \u001b[0;34m[\u001b[0m\u001b[0;34m]\u001b[0m\u001b[0;34m,\u001b[0m \u001b[0;34m[\u001b[0m\u001b[0;34m]\u001b[0m\u001b[0;34m\u001b[0m\u001b[0;34m\u001b[0m\u001b[0m\n",
      "\u001b[0;32m~/opt/anaconda3/lib/python3.8/site-packages/transformers/models/vit/modeling_vit.py\u001b[0m in \u001b[0;36mforward\u001b[0;34m(self, hidden_states, head_mask, output_attentions)\u001b[0m\n\u001b[1;32m    288\u001b[0m         \u001b[0moutput_attentions\u001b[0m\u001b[0;34m:\u001b[0m \u001b[0mbool\u001b[0m \u001b[0;34m=\u001b[0m \u001b[0;32mFalse\u001b[0m\u001b[0;34m,\u001b[0m\u001b[0;34m\u001b[0m\u001b[0;34m\u001b[0m\u001b[0m\n\u001b[1;32m    289\u001b[0m     ) -> Union[Tuple[torch.Tensor, torch.Tensor], Tuple[torch.Tensor]]:\n\u001b[0;32m--> 290\u001b[0;31m         \u001b[0mself_outputs\u001b[0m \u001b[0;34m=\u001b[0m \u001b[0mself\u001b[0m\u001b[0;34m.\u001b[0m\u001b[0mattention\u001b[0m\u001b[0;34m(\u001b[0m\u001b[0mhidden_states\u001b[0m\u001b[0;34m,\u001b[0m \u001b[0mhead_mask\u001b[0m\u001b[0;34m,\u001b[0m \u001b[0moutput_attentions\u001b[0m\u001b[0;34m)\u001b[0m\u001b[0;34m\u001b[0m\u001b[0;34m\u001b[0m\u001b[0m\n\u001b[0m\u001b[1;32m    291\u001b[0m \u001b[0;34m\u001b[0m\u001b[0m\n\u001b[1;32m    292\u001b[0m         \u001b[0mattention_output\u001b[0m \u001b[0;34m=\u001b[0m \u001b[0mself\u001b[0m\u001b[0;34m.\u001b[0m\u001b[0moutput\u001b[0m\u001b[0;34m(\u001b[0m\u001b[0mself_outputs\u001b[0m\u001b[0;34m[\u001b[0m\u001b[0;36m0\u001b[0m\u001b[0;34m]\u001b[0m\u001b[0;34m,\u001b[0m \u001b[0mhidden_states\u001b[0m\u001b[0;34m)\u001b[0m\u001b[0;34m\u001b[0m\u001b[0;34m\u001b[0m\u001b[0m\n",
      "\u001b[0;32m~/opt/anaconda3/lib/python3.8/site-packages/torch/nn/modules/module.py\u001b[0m in \u001b[0;36m_call_impl\u001b[0;34m(self, *input, **kwargs)\u001b[0m\n\u001b[1;32m   1128\u001b[0m         if not (self._backward_hooks or self._forward_hooks or self._forward_pre_hooks or _global_backward_hooks\n\u001b[1;32m   1129\u001b[0m                 or _global_forward_hooks or _global_forward_pre_hooks):\n\u001b[0;32m-> 1130\u001b[0;31m             \u001b[0;32mreturn\u001b[0m \u001b[0mforward_call\u001b[0m\u001b[0;34m(\u001b[0m\u001b[0;34m*\u001b[0m\u001b[0minput\u001b[0m\u001b[0;34m,\u001b[0m \u001b[0;34m**\u001b[0m\u001b[0mkwargs\u001b[0m\u001b[0;34m)\u001b[0m\u001b[0;34m\u001b[0m\u001b[0;34m\u001b[0m\u001b[0m\n\u001b[0m\u001b[1;32m   1131\u001b[0m         \u001b[0;31m# Do not call functions when jit is used\u001b[0m\u001b[0;34m\u001b[0m\u001b[0;34m\u001b[0m\u001b[0;34m\u001b[0m\u001b[0m\n\u001b[1;32m   1132\u001b[0m         \u001b[0mfull_backward_hooks\u001b[0m\u001b[0;34m,\u001b[0m \u001b[0mnon_full_backward_hooks\u001b[0m \u001b[0;34m=\u001b[0m \u001b[0;34m[\u001b[0m\u001b[0;34m]\u001b[0m\u001b[0;34m,\u001b[0m \u001b[0;34m[\u001b[0m\u001b[0;34m]\u001b[0m\u001b[0;34m\u001b[0m\u001b[0;34m\u001b[0m\u001b[0m\n",
      "\u001b[0;32m~/opt/anaconda3/lib/python3.8/site-packages/transformers/models/vit/modeling_vit.py\u001b[0m in \u001b[0;36mforward\u001b[0;34m(self, hidden_states, head_mask, output_attentions)\u001b[0m\n\u001b[1;32m    205\u001b[0m         \u001b[0mself\u001b[0m\u001b[0;34m,\u001b[0m \u001b[0mhidden_states\u001b[0m\u001b[0;34m,\u001b[0m \u001b[0mhead_mask\u001b[0m\u001b[0;34m:\u001b[0m \u001b[0mOptional\u001b[0m\u001b[0;34m[\u001b[0m\u001b[0mtorch\u001b[0m\u001b[0;34m.\u001b[0m\u001b[0mTensor\u001b[0m\u001b[0;34m]\u001b[0m \u001b[0;34m=\u001b[0m \u001b[0;32mNone\u001b[0m\u001b[0;34m,\u001b[0m \u001b[0moutput_attentions\u001b[0m\u001b[0;34m:\u001b[0m \u001b[0mbool\u001b[0m \u001b[0;34m=\u001b[0m \u001b[0;32mFalse\u001b[0m\u001b[0;34m\u001b[0m\u001b[0;34m\u001b[0m\u001b[0m\n\u001b[1;32m    206\u001b[0m     ) -> Union[Tuple[torch.Tensor, torch.Tensor], Tuple[torch.Tensor]]:\n\u001b[0;32m--> 207\u001b[0;31m         \u001b[0mmixed_query_layer\u001b[0m \u001b[0;34m=\u001b[0m \u001b[0mself\u001b[0m\u001b[0;34m.\u001b[0m\u001b[0mquery\u001b[0m\u001b[0;34m(\u001b[0m\u001b[0mhidden_states\u001b[0m\u001b[0;34m)\u001b[0m\u001b[0;34m\u001b[0m\u001b[0;34m\u001b[0m\u001b[0m\n\u001b[0m\u001b[1;32m    208\u001b[0m \u001b[0;34m\u001b[0m\u001b[0m\n\u001b[1;32m    209\u001b[0m         \u001b[0mkey_layer\u001b[0m \u001b[0;34m=\u001b[0m \u001b[0mself\u001b[0m\u001b[0;34m.\u001b[0m\u001b[0mtranspose_for_scores\u001b[0m\u001b[0;34m(\u001b[0m\u001b[0mself\u001b[0m\u001b[0;34m.\u001b[0m\u001b[0mkey\u001b[0m\u001b[0;34m(\u001b[0m\u001b[0mhidden_states\u001b[0m\u001b[0;34m)\u001b[0m\u001b[0;34m)\u001b[0m\u001b[0;34m\u001b[0m\u001b[0;34m\u001b[0m\u001b[0m\n",
      "\u001b[0;32m~/opt/anaconda3/lib/python3.8/site-packages/torch/nn/modules/module.py\u001b[0m in \u001b[0;36m_call_impl\u001b[0;34m(self, *input, **kwargs)\u001b[0m\n\u001b[1;32m   1128\u001b[0m         if not (self._backward_hooks or self._forward_hooks or self._forward_pre_hooks or _global_backward_hooks\n\u001b[1;32m   1129\u001b[0m                 or _global_forward_hooks or _global_forward_pre_hooks):\n\u001b[0;32m-> 1130\u001b[0;31m             \u001b[0;32mreturn\u001b[0m \u001b[0mforward_call\u001b[0m\u001b[0;34m(\u001b[0m\u001b[0;34m*\u001b[0m\u001b[0minput\u001b[0m\u001b[0;34m,\u001b[0m \u001b[0;34m**\u001b[0m\u001b[0mkwargs\u001b[0m\u001b[0;34m)\u001b[0m\u001b[0;34m\u001b[0m\u001b[0;34m\u001b[0m\u001b[0m\n\u001b[0m\u001b[1;32m   1131\u001b[0m         \u001b[0;31m# Do not call functions when jit is used\u001b[0m\u001b[0;34m\u001b[0m\u001b[0;34m\u001b[0m\u001b[0;34m\u001b[0m\u001b[0m\n\u001b[1;32m   1132\u001b[0m         \u001b[0mfull_backward_hooks\u001b[0m\u001b[0;34m,\u001b[0m \u001b[0mnon_full_backward_hooks\u001b[0m \u001b[0;34m=\u001b[0m \u001b[0;34m[\u001b[0m\u001b[0;34m]\u001b[0m\u001b[0;34m,\u001b[0m \u001b[0;34m[\u001b[0m\u001b[0;34m]\u001b[0m\u001b[0;34m\u001b[0m\u001b[0;34m\u001b[0m\u001b[0m\n",
      "\u001b[0;32m~/opt/anaconda3/lib/python3.8/site-packages/torch/nn/modules/linear.py\u001b[0m in \u001b[0;36mforward\u001b[0;34m(self, input)\u001b[0m\n\u001b[1;32m    112\u001b[0m \u001b[0;34m\u001b[0m\u001b[0m\n\u001b[1;32m    113\u001b[0m     \u001b[0;32mdef\u001b[0m \u001b[0mforward\u001b[0m\u001b[0;34m(\u001b[0m\u001b[0mself\u001b[0m\u001b[0;34m,\u001b[0m \u001b[0minput\u001b[0m\u001b[0;34m:\u001b[0m \u001b[0mTensor\u001b[0m\u001b[0;34m)\u001b[0m \u001b[0;34m->\u001b[0m \u001b[0mTensor\u001b[0m\u001b[0;34m:\u001b[0m\u001b[0;34m\u001b[0m\u001b[0;34m\u001b[0m\u001b[0m\n\u001b[0;32m--> 114\u001b[0;31m         \u001b[0;32mreturn\u001b[0m \u001b[0mF\u001b[0m\u001b[0;34m.\u001b[0m\u001b[0mlinear\u001b[0m\u001b[0;34m(\u001b[0m\u001b[0minput\u001b[0m\u001b[0;34m,\u001b[0m \u001b[0mself\u001b[0m\u001b[0;34m.\u001b[0m\u001b[0mweight\u001b[0m\u001b[0;34m,\u001b[0m \u001b[0mself\u001b[0m\u001b[0;34m.\u001b[0m\u001b[0mbias\u001b[0m\u001b[0;34m)\u001b[0m\u001b[0;34m\u001b[0m\u001b[0;34m\u001b[0m\u001b[0m\n\u001b[0m\u001b[1;32m    115\u001b[0m \u001b[0;34m\u001b[0m\u001b[0m\n\u001b[1;32m    116\u001b[0m     \u001b[0;32mdef\u001b[0m \u001b[0mextra_repr\u001b[0m\u001b[0;34m(\u001b[0m\u001b[0mself\u001b[0m\u001b[0;34m)\u001b[0m \u001b[0;34m->\u001b[0m \u001b[0mstr\u001b[0m\u001b[0;34m:\u001b[0m\u001b[0;34m\u001b[0m\u001b[0;34m\u001b[0m\u001b[0m\n",
      "\u001b[0;31mKeyboardInterrupt\u001b[0m: "
     ]
    }
   ],
   "source": [
    "for i in range(500):\n",
    "    \n",
    "    prob = np.random.rand()\n",
    "    \n",
    "    if prob < 0.75:\n",
    "    \n",
    "        samp = train_df_sample.sample(n=2, replace=True)\n",
    "    \n",
    "        image1 = samp.iloc[0, 1]\n",
    "        image2 = samp.iloc[1, 1]\n",
    "    \n",
    "        title1 = samp.iloc[0, 4]\n",
    "        title2 = samp.iloc[1, 4]\n",
    "    \n",
    "        label1 = samp.iloc[0, 3]\n",
    "        label2 = samp.iloc[1, 3]\n",
    "    \n",
    "        if int(label1) == int(label2):\n",
    "        \n",
    "            overall_label = 1\n",
    "        \n",
    "        else:\n",
    "        \n",
    "            overall_label = 0\n",
    "        \n",
    "        img1_index = list(sample_images).index(image1)\n",
    "        img2_index = list(sample_images).index(image2)\n",
    "    \n",
    "        img1_path = image_dir + sample_images[img1_index]\n",
    "        img2_path = image_dir + sample_images[img2_index]\n",
    "    \n",
    "        img1_actual = Image.open(img1_path)\n",
    "        img2_actual = Image.open(img2_path)\n",
    "    \n",
    "        img1_transformed = img_transforms(img1_actual)\n",
    "        img2_transformed = img_transforms(img2_actual)\n",
    "    \n",
    "        img1_transformed = img1_transformed.unsqueeze(0)\n",
    "        img2_transformed = img2_transformed.unsqueeze(0)\n",
    "    \n",
    "        title1_tokens = tokenizer(title1, padding=True, truncation=True, return_tensors='pt')\n",
    "        title2_tokens = tokenizer(title2, padding=True, truncation=True, return_tensors='pt')\n",
    "    \n",
    "        output = sim_model(img1_transformed, img2_transformed, title1_tokens, title2_tokens)\n",
    "    \n",
    "        optimizer.zero_grad()\n",
    "    \n",
    "        loss = loss_fn(output, torch.tensor([[overall_label]], dtype=torch.float))\n",
    "    \n",
    "        loss.backward()\n",
    "    \n",
    "        optimizer.step()\n",
    "    \n",
    "        print(i, output.item(), overall_label, label1, label2)\n",
    "        \n",
    "    else:\n",
    "        \n",
    "        samp = train_df_sample[train_df_sample['label_group']==np.random.choice(repeat_pics_list, 1)[0]][:2]\n",
    "        \n",
    "        image1 = samp.iloc[0, 1]\n",
    "        image2 = samp.iloc[1, 1]\n",
    "    \n",
    "        title1 = samp.iloc[0, 4]\n",
    "        title2 = samp.iloc[1, 4]\n",
    "    \n",
    "        label1 = samp.iloc[0, 3]\n",
    "        label2 = samp.iloc[1, 3]\n",
    "    \n",
    "        overall_label = 1\n",
    "        \n",
    "        img1_index = list(sample_images).index(image1)\n",
    "        img2_index = list(sample_images).index(image2)\n",
    "    \n",
    "        img1_path = image_dir + sample_images[img1_index]\n",
    "        img2_path = image_dir + sample_images[img2_index]\n",
    "    \n",
    "        img1_actual = Image.open(img1_path)\n",
    "        img2_actual = Image.open(img2_path)\n",
    "    \n",
    "        img1_transformed = img_transforms(img1_actual)\n",
    "        img2_transformed = img_transforms(img2_actual)\n",
    "    \n",
    "        img1_transformed = img1_transformed.unsqueeze(0)\n",
    "        img2_transformed = img2_transformed.unsqueeze(0)\n",
    "    \n",
    "        title1_tokens = tokenizer(title1, padding=True, truncation=True, return_tensors='pt')\n",
    "        title2_tokens = tokenizer(title2, padding=True, truncation=True, return_tensors='pt')\n",
    "    \n",
    "        output = sim_model(img1_transformed, img2_transformed, title1_tokens, title2_tokens)\n",
    "    \n",
    "        optimizer.zero_grad()\n",
    "    \n",
    "        loss = loss_fn(output, torch.tensor([[overall_label]], dtype=torch.float))\n",
    "    \n",
    "        loss.backward()\n",
    "    \n",
    "        optimizer.step()\n",
    "    \n",
    "        print(i, output.item(), overall_label, label1, label2)\n",
    "    \n",
    "    \n",
    "    "
   ]
  },
  {
   "cell_type": "code",
   "execution_count": null,
   "id": "fbfd4fac-374a-4df2-9fab-0701092de481",
   "metadata": {},
   "outputs": [],
   "source": []
  }
 ],
 "metadata": {
  "kernelspec": {
   "display_name": "Python 3",
   "language": "python",
   "name": "python3"
  },
  "language_info": {
   "codemirror_mode": {
    "name": "ipython",
    "version": 3
   },
   "file_extension": ".py",
   "mimetype": "text/x-python",
   "name": "python",
   "nbconvert_exporter": "python",
   "pygments_lexer": "ipython3",
   "version": "3.8.8"
  }
 },
 "nbformat": 4,
 "nbformat_minor": 5
}
